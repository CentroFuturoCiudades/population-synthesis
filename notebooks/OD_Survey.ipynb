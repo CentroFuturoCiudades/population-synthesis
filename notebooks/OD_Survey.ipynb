{
 "cells": [
  {
   "cell_type": "code",
   "execution_count": 2,
   "id": "3be73bb5-ef75-4736-80b5-3f07884b191f",
   "metadata": {
    "tags": []
   },
   "outputs": [],
   "source": [
    "%load_ext autoreload\n",
    "%autoreload 2\n",
    "\n",
    "import numpy as np\n",
    "import pandas as pd\n",
    "import geopandas as gpd\n",
    "from pathlib import Path\n",
    "import matplotlib.pyplot as plt\n",
    "\n",
    "pd.options.display.max_rows = 500\n",
    "pd.options.display.max_columns = 200\n",
    "\n",
    "import sys\n",
    "sys.path.append('../src/')\n",
    "\n",
    "idxs = pd.IndexSlice"
   ]
  },
  {
   "cell_type": "code",
   "execution_count": 3,
   "id": "2c4f1abf-6deb-436b-b647-946367d0433d",
   "metadata": {},
   "outputs": [],
   "source": [
    "taz = gpd.read_file('../data/TAZ/Zonas.shp').drop(columns='ESTADO')"
   ]
  },
  {
   "cell_type": "code",
   "execution_count": 4,
   "id": "c7bbb49c-c4b4-4149-9835-c3987d6621ef",
   "metadata": {},
   "outputs": [],
   "source": [
    "from od import (\n",
    "    load_od, plot_trips, insert_trip, fix_od_chains, check_od_chains,\n",
    "    check_overlap, get_purpose_tmat, index_next_trip, index_prev_trip,\n",
    "    fix_home_loc, build_people_table, build_household_table, build_trips\n",
    ")"
   ]
  },
  {
   "cell_type": "code",
   "execution_count": 481,
   "id": "42c0be5d-f399-4efb-8958-1ffb7872d46b",
   "metadata": {},
   "outputs": [
    {
     "name": "stdout",
     "output_type": "stream",
     "text": [
      "88.39450686641698% of households have been ajusted.\n",
      "0.7790262172284644 of households are missing members above 6 years of age.\n",
      "CPU times: user 18.7 s, sys: 512 ms, total: 19.2 s\n",
      "Wall time: 19.3 s\n"
     ]
    }
   ],
   "source": [
    "%%time\n",
    "od_df = load_od('../data/OD_Survey/pimus_final.csv')\n",
    "\n",
    "trips, legs_wide = build_trips(od_df)\n",
    "people = build_people_table(od_df, trips)\n",
    "households = build_household_table(od_df, people)\n",
    "\n",
    "trips['ntrip'] = np.nan\n",
    "trips.loc[trips.Motivo=='estudios', 'ntrip'] = trips.loc[trips.Motivo=='estudios'].groupby(['HOGAR', 'HABITANTE']).Motivo.transform('rank', method='first')\n",
    "trips.loc[trips.Motivo=='trabajo', 'ntrip'] = trips.loc[trips.Motivo=='trabajo'].groupby(['HOGAR', 'HABITANTE']).Motivo.transform('rank', method='first')"
   ]
  },
  {
   "cell_type": "code",
   "execution_count": 482,
   "id": "882ef3f0-eb58-4568-a138-fe1306f42af3",
   "metadata": {},
   "outputs": [],
   "source": [
    "from od import personas_as_od, viviendas_as_od\n",
    "\n",
    "personas = personas_as_od(Path('../data/cuestionario_ampliado/Censo2020_CA_nl_csv/Personas19.CSV'))\n",
    "viviendas = viviendas_as_od(Path('../data/cuestionario_ampliado/Censo2020_CA_nl_csv/Viviendas19.CSV'), personas, households)"
   ]
  },
  {
   "cell_type": "code",
   "execution_count": 484,
   "id": "d2dd244c-a50b-4944-be00-426199d33dec",
   "metadata": {},
   "outputs": [],
   "source": [
    "households_models = (\n",
    "    pd.DataFrame(index=households.index)\n",
    "    .assign(\n",
    "        HouseholdId=range(len(households)),\n",
    "        HouseholdZone=households.TAZ,\n",
    "        ExpansionFactor=trips.groupby('HOGAR').FACTOR.mean().reindex(households.index).fillna(1),\n",
    "        NumberOfPersons=households.NUMPERS,\n",
    "        DwellingType=households.CLAVIVP.map({'SinNumInt': 1, 'ConNumInt': 2}),\n",
    "        Vehicles=households.NumberOfVehicles.astype(int),  # Auto+Pickup+Moto\n",
    "        IncomeClass=households.NSE.map({'E': 1, 'D': 2, 'D+': 3, 'C-': 4, 'C': 4, 'C+': 5, 'A/B': 6, np.nan: 7})\n",
    "    )\n",
    ")"
   ]
  },
  {
   "cell_type": "code",
   "execution_count": 485,
   "id": "42950011-6e7a-4f96-9b23-8e476610ee72",
   "metadata": {},
   "outputs": [],
   "source": [
    "people_models = (\n",
    "    pd.DataFrame(index=people.index)\n",
    "    .assign(\n",
    "        HouseholdId=households_models.HouseholdId.reindex(people.index, level=0),\n",
    "        PersonNumber=people.index.get_level_values(1),\n",
    "        Age=people.Edad,\n",
    "        Sex=people.SEXO,\n",
    "        License=(people.Edad >= 18).map({True: 'Y', False: 'N'}),\n",
    "        TransitPass='N',\n",
    "        EmploymentStatus=people.CONACT.map(\n",
    "            {\n",
    "                'Trabajó': 'F', \n",
    "                'No trabaja': 'O', \n",
    "                'Se dedica a los quehaceres del hogar': 'O', \n",
    "                'Es pensionada(o) o jubilada(o)': 'O'\n",
    "            }\n",
    "        ).mask(people.informal==1, 'P'),\n",
    "        Occupation=people.ACTIVIDADES_C.map(\n",
    "            {\n",
    "                'Blanco por pase': 'O',\n",
    "                'servicios': 'P',\n",
    "                'industria manufacturera': 'M',\n",
    "                'comercio': 'S',\n",
    "                'construcción': 'M',\n",
    "                'otro': 'G',\n",
    "                'transporte y comunicaciones': 'G',\n",
    "                'gobierno': 'G',\n",
    "                'agricultura y ganadería': 'G',\n",
    "                'minería': 'G',\n",
    "            }\n",
    "        ).fillna('G'),\n",
    "        FreeParking='O',\n",
    "        StudentStatus=people.ASISTEN.map({'No': 'O', 'Sí': 'S'}),\n",
    "        EmploymentZone=people.TAZ_TRAB.replace('Blanco por pase', 0).fillna(0).astype(int),\n",
    "        SchoolZone=people.TAZ_ASI.replace('Blanco por pase', 0).fillna(0).astype(int),\n",
    "        ExpansionFactor=households_models.ExpansionFactor.reindex(people.index, level=0)\n",
    "    )\n",
    ")"
   ]
  },
  {
   "cell_type": "code",
   "execution_count": 486,
   "id": "bc7d5646-b898-40e3-ae01-f8948e33acec",
   "metadata": {},
   "outputs": [
    {
     "name": "stdout",
     "output_type": "stream",
     "text": [
      "<class 'pandas.core.frame.DataFrame'>\n",
      "MultiIndex: 91256 entries, ('000002-14', 1, 1) to ('M9766-6', 5, 2)\n",
      "Data columns (total 9 columns):\n",
      " #   Column              Non-Null Count  Dtype \n",
      "---  ------              --------------  ----- \n",
      " 0   HouseholdId         91256 non-null  int64 \n",
      " 1   PersonNumber        91256 non-null  int64 \n",
      " 2   TripNumber          91256 non-null  int64 \n",
      " 3   StartTime           91256 non-null  int64 \n",
      " 4   Mode                91256 non-null  object\n",
      " 5   PuposeOrigin        91256 non-null  object\n",
      " 6   ZoneOrigin          91256 non-null  int64 \n",
      " 7   PurposeDestination  91256 non-null  object\n",
      " 8   ZoneDestination     91256 non-null  int64 \n",
      "dtypes: int64(6), object(3)\n",
      "memory usage: 9.3+ MB\n"
     ]
    }
   ],
   "source": [
    "purp_dest = trips.Motivo.map(\n",
    "    {\n",
    "        'regreso a casa': 'H',\n",
    "        'trabajo': 'W',\n",
    "        'estudios': 'S',\n",
    "        'compras': 'M',\n",
    "        'acompañar / recoger': 'F',\n",
    "        'recreación': 'E',\n",
    "        'otro': 'O',\n",
    "        'salud': 'O'\n",
    "    }\n",
    ")\n",
    "\n",
    "purp_orig = pd.Series('', index=purp_dest.index)\n",
    "purp_orig.loc[idxs[:, :, 1]] = trips.loc[idxs[:, :, 1], 'Origen'].map({'Hogar': 'H', 'Otro': 'O'})\n",
    "pidx = index_prev_trip(purp_dest.loc[idxs[:, :, 2:]].index)\n",
    "purp_orig.loc[idxs[:, :, 2:]] = purp_dest.loc[pidx].values\n",
    "\n",
    "purp_dest = purp_dest.mask((trips.ntrip > 1) & (purp_dest == 'W'), 'R')\n",
    "purp_dest = purp_dest.mask((trips.ntrip > 1) & (purp_dest == 'S'), 'C')\n",
    "\n",
    "trips_models = (\n",
    "    pd.DataFrame(index=trips.index)\n",
    "    .assign(\n",
    "        HouseholdId=households_models.HouseholdId.reindex(trips.index, level=0),\n",
    "        PersonNumber=people_models.PersonNumber.reindex(trips.index),\n",
    "        TripNumber=trips.index.get_level_values(2),\n",
    "        StartTime=(trips.fecha_inicio.dt.hour*100 + trips.fecha_inicio.dt.minute).astype(int),\n",
    "        Mode=trips['Modo Agrupado'].map({\n",
    "            'a pie (caminando)': 'W',\n",
    "            'automóvil (conductor)': 'D',\n",
    "            'tpub': 'B',\n",
    "            'automóvil (pasajero)': 'P',\n",
    "            'transporte de personal': 'O',\n",
    "            'taxi': 'T',\n",
    "            'transporte escolar': 'S',\n",
    "            'uber, cabify , didi o similar': 'U',\n",
    "            'modos combinados con tpub': 'B',\n",
    "            'bicicleta': 'C',\n",
    "            'motocicleta': 'M',\n",
    "            'otro': 'O',\n",
    "            'modos combinados sin tpub': '9',\n",
    "            'motocicleta (conductor)': 'M',\n",
    "            'transporte público': 'B',\n",
    "            'patineta': 'O'\n",
    "        }),\n",
    "        PuposeOrigin=purp_orig,\n",
    "        ZoneOrigin=trips.ZonaOri.astype(int),\n",
    "        PurposeDestination=purp_dest,\n",
    "        ZoneDestination=trips.ZonaDest.astype(int)\n",
    "    )\n",
    ")\n",
    "trips_models.info()"
   ]
  },
  {
   "cell_type": "code",
   "execution_count": 487,
   "id": "933a828b-2724-42ef-acd9-4c7b36946dc3",
   "metadata": {},
   "outputs": [],
   "source": [
    "households_models.to_csv('../output/od_households.csv', index=False)\n",
    "people_models.to_csv('../output/od_people.csv', index=False)\n",
    "trips_models.to_csv('../output/od_trips.csv', index=False)"
   ]
  },
  {
   "cell_type": "markdown",
   "id": "af0e9b68-ff36-4104-ac79-1943eff47039",
   "metadata": {},
   "source": [
    "### Informal/Formal Model"
   ]
  },
  {
   "cell_type": "code",
   "execution_count": 483,
   "id": "7d784b68-f6d3-4c9e-8633-63bff6a755d4",
   "metadata": {},
   "outputs": [],
   "source": [
    "# Import enoe data base to train\n",
    "enoe = pd.read_csv('../data/ENOE/enoe_clean.csv', index_col=0)\n",
    "y = enoe['informal']\n",
    "X = enoe.drop(columns='informal').pipe(\n",
    "    lambda df: df.assign(\n",
    "        sector=df.sector.str.lower(),\n",
    "        escolaridad=df.escolaridad.map({\n",
    "            'Primaria o Secundaria': 'Básica',\n",
    "            'Carrera técnica o preparatoria': 'MediaSup',\n",
    "            'Sin Instrucción': 'Sin Educación',\n",
    "            'Licenciatura': 'Licenciatura',\n",
    "            'Postgrado': 'Postgrado'\n",
    "        })\n",
    "    )\n",
    ")\n",
    "\n",
    "# Model\n",
    "# Train the winning model from before\n",
    "# We are adjusting hyperparameters again\n",
    "sys.path.append('../../informal_jobs/')\n",
    "from models_grids import models_LR, models_RF, models_GB, models_SVC, models_KNN\n",
    "\n",
    "models = models_LR | models_RF | models_GB | models_SVC | models_KNN\n",
    "model = models['GB_ed_num']['model']\n",
    "model.set_params(\n",
    "    classifier__learning_rate=0.1,\n",
    "    classifier__max_leaf_nodes=5,\n",
    "    preprocessor__od_encoder__unknown_value=None,\n",
    "    preprocessor__od_encoder__handle_unknown='error',\n",
    ")\n",
    "model.fit(X, y);\n",
    "\n",
    "# Process cleaned OD survey into expected model shape\n",
    "od_model = (\n",
    "    people.query(\"CONACT=='Trabajó'\")[['SEXO', 'SITTRA', 'Edad', 'ACTIVIDADES_C', 'EDUC2', 'MUN']].copy()\n",
    "    .pipe(\n",
    "        lambda df: df.assign(\n",
    "            genero=df.SEXO.map({'M': 'H', 'F': 'F'}),\n",
    "            ocupacion=df.SITTRA.map(\n",
    "                {\n",
    "                    'empleada(o) u obrera(o)': 'trabajador',\n",
    "                    'trabajador(a) por cuenta propia': 'independiente',\n",
    "                    'patrón(a) o empleador(a)': 'otro',\n",
    "                }\n",
    "            ).fillna('otro'),\n",
    "            edad_num=df.Edad,\n",
    "            sector=df.ACTIVIDADES_C.fillna('otro'),\n",
    "            escolaridad=df.EDUC2.fillna('Básica'),\n",
    "            municipio=df.MUN.str.lower().replace(\n",
    "                [\n",
    "                    'cadereyta jiménez', 'abasolo', 'el carmen',\n",
    "                    'general escobedo', 'ciénega de flores', \n",
    "                    'garcía', 'general zuazua', 'juárez',\n",
    "                    'pesquería', 'salinas victoria',\n",
    "                    'san nicolás de los garza', 'santa catarina',\n",
    "                    'san pedro garza garcía',\n",
    "                ],\n",
    "                [\n",
    "                    'cadereyta', 'otro', 'carmen', 'escobedo', \n",
    "                    'flores', 'garcia', 'zuazua', 'juarez', 'otro', \n",
    "                    'salinas', 'san_nicolas', 'santa_catarina',\n",
    "                    'san_pedro'\n",
    "                ]\n",
    "            )\n",
    "        )\n",
    "    )\n",
    "    .drop(columns=['SEXO', 'SITTRA', 'Edad', 'ACTIVIDADES_C', 'EDUC2', 'MUN'])\n",
    ")\n",
    "\n",
    "# Predict formal/informal labels\n",
    "od_model['informal'] = model.predict(od_model)\n",
    "\n",
    "people['informal'] = od_model['informal'].reindex(people.index).fillna('Blanco por pase')"
   ]
  },
  {
   "cell_type": "markdown",
   "id": "a4482ebf-2536-4e74-81a6-8eeb9e6afd76",
   "metadata": {
    "jp-MarkdownHeadingCollapsed": true
   },
   "source": [
    "### Trip origin destination purpose"
   ]
  },
  {
   "cell_type": "code",
   "execution_count": null,
   "id": "5fceef89-6b65-4475-894c-d84855d928e8",
   "metadata": {},
   "outputs": [],
   "source": [
    "# Check overlaping trips\n",
    "# This are trips that begin before the last one ends\n",
    "overlaping_trips = check_overlap(trips)\n",
    "overlaping_trips.shape"
   ]
  },
  {
   "cell_type": "code",
   "execution_count": null,
   "id": "7b8b651d-b2ce-4cd1-8800-39a13d37a5a8",
   "metadata": {},
   "outputs": [],
   "source": [
    "# Check Zona chains\n",
    "def check_taz_chains(trips):\n",
    "    # Check in prev destination is current origin\n",
    "    # current orgin starts at trips > 2\n",
    "    idxs = pd.IndexSlice\n",
    "    cur_idx = trips.loc[idxs[:, :, 2:]].index\n",
    "    prev_idx = pd.MultiIndex.from_arrays([\n",
    "        cur_idx.get_level_values(0),\n",
    "        cur_idx.get_level_values(1),\n",
    "        cur_idx.get_level_values(2) - 1\n",
    "    ])\n",
    "\n",
    "    no_chain = (\n",
    "        trips.loc[cur_idx].ZonaOri != trips.loc[prev_idx].ZonaDest.values\n",
    "    ).pipe(lambda s: s[s]).index.droplevel(2).unique()\n",
    "\n",
    "    return no_chain\n",
    "\n",
    "print(check_taz_chains(trips).shape)"
   ]
  },
  {
   "cell_type": "code",
   "execution_count": null,
   "id": "da15d2c0-f705-4094-b910-25275e2ec653",
   "metadata": {},
   "outputs": [],
   "source": [
    "# Not all inhabitants are numerated sequentially\n",
    "\n",
    "not_first_one = []\n",
    "not_sequential = []\n",
    "for i, (idx, df) in enumerate(od_df.groupby(['HOGAR'])):\n",
    "    hogar = idx[0]\n",
    "    habitantes = df.index.get_level_values(1).unique()\n",
    "\n",
    "    if habitantes.min() != 1:\n",
    "        not_first_one.append(hogar)\n",
    "    if np.sum(np.diff(habitantes) != 1) > 0:\n",
    "        not_sequential.append(hogar)\n",
    "\n",
    "print(len(not_first_one))\n",
    "print(len(not_sequential))"
   ]
  },
  {
   "cell_type": "code",
   "execution_count": null,
   "id": "8426a157-079f-4b42-9f83-77e85b8ee97e",
   "metadata": {},
   "outputs": [],
   "source": [
    "# Not all trips are numerated sequentially\n",
    "\n",
    "zero_redundant = []\n",
    "not_sequential = []\n",
    "for i, (idx, df) in enumerate(od_df.groupby(['HOGAR', 'HABITANTE'])):\n",
    "    hogar = idx[0]\n",
    "    habitante = idx[1]\n",
    "    viajes = df.index.get_level_values(2)\n",
    "\n",
    "    assert viajes.nunique() == len(viajes), idx\n",
    "    if viajes.min() == 0:\n",
    "        if len(viajes) == 1:\n",
    "            # This inhabitant does not travel\n",
    "            continue\n",
    "        else:\n",
    "            zero_redundant.append((*idx, 0))\n",
    "            # df = df.drop(index=(*idx, 0))\n",
    "            viajes = viajes.drop(0)\n",
    "\n",
    "    if (viajes.min() != 1) or (viajes.max() != len(viajes)) or (viajes.nunique() != len(viajes)):\n",
    "            not_sequential.append(idx)\n",
    "print(len(zero_redundant))\n",
    "print(len(not_sequential))"
   ]
  },
  {
   "cell_type": "markdown",
   "id": "4b024506-a226-4cb8-946d-046275337db0",
   "metadata": {
    "jp-MarkdownHeadingCollapsed": true
   },
   "source": [
    "### Legs table"
   ]
  },
  {
   "cell_type": "code",
   "execution_count": null,
   "id": "14a0e723-da32-4052-bf51-d8bba34234cc",
   "metadata": {},
   "outputs": [],
   "source": [
    "from od import build_legs\n",
    "legs1, legs2, legs3, legs4, legs5, legs6 = build_legs(legs_wide)\n",
    "legs1['agrupado'] = trips.loc[legs1.index, 'Modo Agrupado']"
   ]
  },
  {
   "cell_type": "code",
   "execution_count": null,
   "id": "af7a7d25-195f-4fa7-a61a-8bea73372ba4",
   "metadata": {},
   "outputs": [],
   "source": [
    "legs = build_legs(legs_wide)"
   ]
  },
  {
   "cell_type": "code",
   "execution_count": null,
   "id": "2234eb18-94c8-402f-a295-419425aad414",
   "metadata": {},
   "outputs": [],
   "source": [
    "pd.crosstab(legs1.Transp, legs1.TipoTransp, dropna=False)"
   ]
  },
  {
   "cell_type": "code",
   "execution_count": null,
   "id": "2fe5e0ab-a742-40db-af53-20a8e3d1a8c9",
   "metadata": {},
   "outputs": [],
   "source": [
    "pd.crosstab(legs1.query(\"TipoTransp == 'particular' & agrupado == 'modos combinados con tpub'\").Transp, legs1.query(\"TipoTransp == 'particular'  & agrupado == 'modos combinados con tpub'\").TpoAbordo)"
   ]
  },
  {
   "cell_type": "code",
   "execution_count": null,
   "id": "70ed3ee5-7cd8-4767-ad98-170366db09bc",
   "metadata": {},
   "outputs": [],
   "source": [
    "cond = (\n",
    "    (legs1.Transp == 'a pie (caminando)')\n",
    "    & (legs1.TipoTransp == 'particular')\n",
    "   # & (legs1.TpoAbordo > 0)\n",
    ")"
   ]
  },
  {
   "cell_type": "code",
   "execution_count": null,
   "id": "9750bc31-a3ce-4b4c-af5b-f8b4559fa8d5",
   "metadata": {},
   "outputs": [],
   "source": [
    "viv_df.loc[legs1.loc[cond].index.get_level_values(0)]"
   ]
  },
  {
   "cell_type": "code",
   "execution_count": null,
   "id": "5c60208d-400c-49d2-b37f-d7c688589b90",
   "metadata": {},
   "outputs": [],
   "source": [
    "legs1.loc[cond]"
   ]
  },
  {
   "cell_type": "code",
   "execution_count": null,
   "id": "ecc5c75c-b28c-434c-9757-a2ede78ee16a",
   "metadata": {},
   "outputs": [],
   "source": [
    "legs2.loc[legs1.loc[cond].index].query('TipoTransp != \"público\"')"
   ]
  },
  {
   "cell_type": "code",
   "execution_count": null,
   "id": "62d40715-89f7-4d51-ad97-8b411793b6d0",
   "metadata": {},
   "outputs": [],
   "source": [
    "legs3.loc[legs2.loc[legs1.loc[cond].index].query('TipoTransp != \"público\"').index]"
   ]
  },
  {
   "cell_type": "code",
   "execution_count": null,
   "id": "284b91db-ab65-432c-8436-f8f09cbcc395",
   "metadata": {},
   "outputs": [],
   "source": [
    "legs4.loc['60971_4']"
   ]
  },
  {
   "cell_type": "code",
   "execution_count": null,
   "id": "32f87b6e-fba9-45d4-9e6e-797301c5fff3",
   "metadata": {},
   "outputs": [],
   "source": [
    "legs1.loc[legs2.query(\"Transp == 'transporte público'\").index]"
   ]
  },
  {
   "cell_type": "code",
   "execution_count": null,
   "id": "607cac3a-6b90-4917-b13d-e07d92cb025d",
   "metadata": {},
   "outputs": [],
   "source": [
    "legs3.query(\"Transp.notnull() & TipoTransp.isna()\")"
   ]
  },
  {
   "cell_type": "code",
   "execution_count": null,
   "id": "a360aab4-27c6-42c2-915f-8286a42ae101",
   "metadata": {},
   "outputs": [],
   "source": [
    "def check_leg(r):\n",
    "    if r.Tpo_Caminata == 0:\n",
    "        assert r.TpoAbordo > 0\n",
    "    if r.TpoAbordo == 0:\n",
    "        assert r.Tpo_Caminata > 0\n",
    "    #assert r.Tpo_Caminata == 0 or r.TpoAbordo == 0, r.name"
   ]
  },
  {
   "cell_type": "code",
   "execution_count": null,
   "id": "734475cc-b2dc-489d-baf5-0f511bdf93c2",
   "metadata": {},
   "outputs": [],
   "source": []
  },
  {
   "cell_type": "code",
   "execution_count": null,
   "id": "689445e3-03a8-4123-8461-e1d032cc4d59",
   "metadata": {},
   "outputs": [],
   "source": []
  },
  {
   "cell_type": "code",
   "execution_count": null,
   "id": "6cb7be09-c46f-4bb3-bdee-f10258e44d8a",
   "metadata": {},
   "outputs": [],
   "source": [
    "def combine_transp(a):\n",
    "    ss = '-'.join(s for s in sorted(a))\n",
    "    if 'TPUB' in ss and '-' in ss:\n",
    "        ss = 'TPUB+'\n",
    "    #elif '-' in ss:\n",
    "    #    ss = 'comb'\n",
    "    return ss"
   ]
  },
  {
   "cell_type": "code",
   "execution_count": null,
   "id": "a0a44c6f-5025-452e-af80-8d11feaf8793",
   "metadata": {},
   "outputs": [],
   "source": [
    "idx = legs.groupby(['HOGAR', 'HABITANTE', 'VIAJE']).Transp.unique().apply(combine_transp).pipe(lambda s: s[s=='caminando']).index"
   ]
  },
  {
   "cell_type": "code",
   "execution_count": null,
   "id": "5ec2f22d-3e7a-441f-94fa-9bff276a8a2d",
   "metadata": {},
   "outputs": [],
   "source": [
    "legs.TipoTransp.value_counts()"
   ]
  },
  {
   "cell_type": "code",
   "execution_count": null,
   "id": "783668d5-26d1-4a5b-9d51-df1059383d1b",
   "metadata": {},
   "outputs": [],
   "source": []
  },
  {
   "cell_type": "code",
   "execution_count": null,
   "id": "78b0ad8e-c7c4-4cc3-a5ff-7e1a59b13a71",
   "metadata": {},
   "outputs": [],
   "source": [
    "legs.TipoTransp.str.strip().str.lower().value_counts()"
   ]
  },
  {
   "cell_type": "code",
   "execution_count": null,
   "id": "17db59cc-2b21-4aa2-8a66-dde02ddbd02d",
   "metadata": {},
   "outputs": [],
   "source": [
    "legs.reset_index(level=3).loc[(trips.loc[idx, 'Modo Agrupado'] == 'TPUB').pipe(lambda s: s[s]).index]"
   ]
  },
  {
   "cell_type": "code",
   "execution_count": null,
   "id": "c75018b8-2cd1-4cf8-8401-c7486fafe5d3",
   "metadata": {},
   "outputs": [],
   "source": [
    "pd.crosstab(\n",
    "    legs.groupby(['HOGAR', 'HABITANTE', 'VIAJE']).Transp.unique().apply(combine_transp),\n",
    "    trips['Modo Agrupado'].replace(\n",
    "        ['Automóvil (Conductor)', 'Automóvil (pasajero)'], ['Auto', 'Auto']\n",
    "    )\n",
    ")"
   ]
  },
  {
   "cell_type": "code",
   "execution_count": null,
   "id": "d8b7c4a2-8b15-48aa-b74c-25c249132a55",
   "metadata": {},
   "outputs": [],
   "source": [
    "legs.loc[idxs[:,:,:,1], 'Transp']"
   ]
  },
  {
   "cell_type": "code",
   "execution_count": null,
   "id": "f30d9ca8-b51c-476d-8076-dc1cc08bfd23",
   "metadata": {},
   "outputs": [],
   "source": [
    "pd.crosstab(legs.loc[idxs[:,:,:,1], 'Transp'].droplevel(3), trips['Modo Agrupado'])"
   ]
  },
  {
   "cell_type": "code",
   "execution_count": null,
   "id": "4cd9354a-a17c-4850-b4a1-0b94b8c415b4",
   "metadata": {},
   "outputs": [],
   "source": [
    "np.sort(tramo_df.Transp_O.dropna().replace(\n",
    "    {\n",
    "        0.0: '0',\n",
    "        'Ambulancias': 'Otro',\n",
    "        'Auto del vecino': 'Automóvil (pasajero)',\n",
    "        'Auto particular acompañando a la familia': 'Automóvil (pasajero)',\n",
    "        'Autobus': 'Autobus',\n",
    "        'Automóvil de la empresa': 'Automóvil (conductor)',\n",
    "        'Automóvil del papá acompaño de compras a la familia': 'Automóvil (pasajero)',\n",
    "        'Caballo': 'Otro',\n",
    "        'Camineta': 'Automóvil (conductor)',\n",
    "        'Camioneta': 'Automóvil (conductor)',\n",
    "        'Camioneta (conductor)': 'Automóvil (conductor)',\n",
    "        'Camioneta (pasajero)': 'Automóvil (pasajero)',\n",
    "        'Camioneta del trabajo': 'Automóvil (conductor)',\n",
    "        'Camión': 'Camión Urbano',\n",
    "        'Camión conductor': 'Autobus (chofer)',\n",
    "        'Camión de carga': 'Otro',\n",
    "        'Camión de la Empresa': 'Transporte de personal',\n",
    "        'Camión de redilas': 'Transporte de personal',\n",
    "        'Camión descarga': 'Otro',\n",
    "        'Carrito acondicionado para sus traslados': 'Otro',\n",
    "        'Carrito de tres llantas que le acondicionaron para sus traslados ya que parte de su cuerpo está inmóvil': 'Otro',\n",
    "        'Carro': 'Automóvil (conductor)',\n",
    "        'Carro Colectivo': 'Automóvil (pasajero)',\n",
    "        'Carro colectivo': 'Automóvil (pasajero)',\n",
    "        'Carro conductor Didi': 'Taxi App (chofer)',\n",
    "        'Chofer de taxi': 'Taxi Sitio (chofer)',\n",
    "        'Chofer de transporte de personal': 'Transporte de personal (chofer)',\n",
    "        'Chofer del transporte de personal': 'Transporte de personal (chofer)',\n",
    "        'Chófer de Uber': 'Taxi App (chofer)',\n",
    "        'Chófer de camión de personal': 'Transporte de personal (chofer)',\n",
    "        'Chófer de casa donde presta el servicio la baja hace 15 min de traslado para dejarla en parada de camión': 'Automóvil (pasajero)',\n",
    "        'Conductor De transported De personal': 'Transporte de personal (chofer)',\n",
    "        'Chófer de transporte escolar': 'Transporte escolar (chofer)',\n",
    "        'Condujo taxi': 'Taxi Sitio(chofer)',\n",
    "        'Conductor Uber': 'Taxi App (chofer)',\n",
    "        'Conductor de camion': 'Autobus (chofer)',\n",
    "        'Es chófer del camión de personal': 'Transporte de personal (chofer)',\n",
    "        'Conductor de camion de personal': 'Transporte de personal (chofer)',\n",
    "        'Es taxista': 'Taxi Sitio (chofer)',\n",
    "        'Intervia': 'Intervia',\n",
    "        'La lleva su abuelito en coche propio': 'Automóvil (pasajero)',\n",
    "        'La lleva su abuelo en vehículos propio': 'Automóvil (pasajero)',\n",
    "        'La recoge su abuelito en coche propio': 'Automóvil (pasajero)',\n",
    "        'Linea 2 del Metro': 'Metro',\n",
    "        'Le dan rai': 'Automóvil (pasajero)',\n",
    "        'Lo dejan de regreso': 'Automóvil (pasajero)',\n",
    "        'Los llevan en una camioneta': 'Transporte de personal',\n",
    "        'Combi': \n",
    "    }\n",
    "#    [0.0, 'Silla de rueda', 'silla de ruedas', 'Auto particular acompañando a la familia', 'Automóvil del papá acompaño de compras a la familia', 'Automóvil de la empresa', 'Auto del vecino', 'Camineta', 'Camioneta del trabajo'],\n",
    "#    ['0', 'Silla de ruedas', 'Silla de ruedas', 'Automóvil (pasajero)', 'Automóvil (pasajero)', 'Automóvil (conductor)', 'Automóvil (pasajero)', 'Camioneta (conductor)', 'Camioneta (conductor)']\n",
    ").unique())"
   ]
  },
  {
   "cell_type": "code",
   "execution_count": null,
   "id": "8d7bfe35-43ed-416a-8dd9-90d3184b4513",
   "metadata": {},
   "outputs": [],
   "source": [
    "np.sort(tramo_df.Transp_O.dropna().replace(\n",
    "    [0.0, 'Silla de rueda', 'silla de ruedas', 'Auto particular acompañando a la familia', 'Automóvil del papá acompaño de compras a la familia', 'Automóvil de la empresa', 'Auto del vecino', 'Camineta', 'Camioneta del trabajo'],\n",
    "    ['0', 'Silla de ruedas', 'Silla de ruedas', 'Automóvil (pasajero)', 'Automóvil (pasajero)', 'Automóvil (conductor)', 'Automóvil (pasajero)', 'Camioneta (conductor)', 'Camioneta (conductor)']\n",
    ").unique())"
   ]
  },
  {
   "cell_type": "markdown",
   "id": "87e0db42-7d4a-4b1b-9eae-70be9fc13de7",
   "metadata": {
    "jp-MarkdownHeadingCollapsed": true
   },
   "source": [
    "### People table"
   ]
  },
  {
   "cell_type": "code",
   "execution_count": 2026,
   "id": "83466943-518b-443c-aec8-33a36dd85518",
   "metadata": {},
   "outputs": [
    {
     "data": {
      "text/plain": [
       "{'CLAVIVP', 'FACTOR', 'HORTRA', 'MUN_ASI', 'MUN_TRAB'}"
      ]
     },
     "execution_count": 2026,
     "metadata": {},
     "output_type": "execute_result"
    }
   ],
   "source": [
    "set(personas.columns) - set(people.columns)"
   ]
  },
  {
   "cell_type": "code",
   "execution_count": 1454,
   "id": "aeb76e53-7caf-4f70-bf41-d2fd4a2d5698",
   "metadata": {},
   "outputs": [
    {
     "data": {
      "text/plain": [
       "HOGAR      HABITANTE  VIAJE\n",
       "000002-14  1          1        7.416667\n",
       "                      2             NaN\n",
       "000002-2   1          1        3.000000\n",
       "                      2        1.500000\n",
       "                      3        6.500000\n",
       "                                 ...   \n",
       "M9766-6    3          2             NaN\n",
       "           4          1        9.000000\n",
       "                      2             NaN\n",
       "           5          1        9.000000\n",
       "                      2             NaN\n",
       "Name: stay_duration_h, Length: 91256, dtype: float64"
      ]
     },
     "execution_count": 1454,
     "metadata": {},
     "output_type": "execute_result"
    }
   ],
   "source": [
    "### HORTRA\n",
    "trips.stay_duration_h"
   ]
  },
  {
   "cell_type": "code",
   "execution_count": 1467,
   "id": "14be04f2-101d-4c00-acab-b30698628b20",
   "metadata": {},
   "outputs": [
    {
     "data": {
      "text/plain": [
       "<Axes: >"
      ]
     },
     "execution_count": 1467,
     "metadata": {},
     "output_type": "execute_result"
    },
    {
     "data": {
      "image/png": "[encoded data removed]",
      "text/plain": [
       "<Figure size 640x480 with 1 Axes>"
      ]
     },
     "metadata": {},
     "output_type": "display_data"
    }
   ],
   "source": [
    "personas.query(\"HORTRA != 'Blanco por pase'\").HORTRA.hist(bins=100)"
   ]
  },
  {
   "cell_type": "code",
   "execution_count": 1470,
   "id": "a1ed0087-bb34-463e-aab4-2360a361da18",
   "metadata": {},
   "outputs": [
    {
     "data": {
      "text/plain": [
       "6254"
      ]
     },
     "execution_count": 1470,
     "metadata": {},
     "output_type": "execute_result"
    }
   ],
   "source": [
    "(personas.query(\"HORTRA != 'Blanco por pase'\").HORTRA <= 8).sum()"
   ]
  },
  {
   "cell_type": "code",
   "execution_count": 1472,
   "id": "94b334dc-e200-4d91-8892-e09bc53e31e1",
   "metadata": {},
   "outputs": [
    {
     "data": {
      "text/plain": [
       "8086"
      ]
     },
     "execution_count": 1472,
     "metadata": {},
     "output_type": "execute_result"
    }
   ],
   "source": [
    "((personas.query(\"HORTRA != 'Blanco por pase'\").HORTRA > 8) & (personas.query(\"HORTRA != 'Blanco por pase'\").HORTRA <= 20)).sum()"
   ]
  },
  {
   "cell_type": "code",
   "execution_count": 1474,
   "id": "ccefe55f-9b33-459e-9172-e33529f65565",
   "metadata": {},
   "outputs": [
    {
     "data": {
      "text/plain": [
       "12986"
      ]
     },
     "execution_count": 1474,
     "metadata": {},
     "output_type": "execute_result"
    }
   ],
   "source": [
    "((personas.query(\"HORTRA != 'Blanco por pase'\").HORTRA > 20) & (personas.query(\"HORTRA != 'Blanco por pase'\").HORTRA < 40)).sum()"
   ]
  },
  {
   "cell_type": "code",
   "execution_count": 1485,
   "id": "18b19a4b-4971-4006-aec7-a3b64417a6c1",
   "metadata": {},
   "outputs": [
    {
     "data": {
      "text/plain": [
       "HORTRA\n",
       "[35.0, 48.0)    86245\n",
       "[48.0, inf)     26344\n",
       "[15.0, 35.0)    13785\n",
       "[0.0, 15.0)      9546\n",
       "NaN               337\n",
       "Name: count, dtype: int64"
      ]
     },
     "execution_count": 1485,
     "metadata": {},
     "output_type": "execute_result"
    }
   ],
   "source": [
    "pd.cut(\n",
    "    personas.query(\"HORTRA != 'Blanco por pase'\").HORTRA.astype(float),\n",
    "    [0, 15, 35, 48.0001, np.inf],\n",
    "    right=False\n",
    ").value_counts(dropna=False)"
   ]
  },
  {
   "cell_type": "code",
   "execution_count": 1495,
   "id": "40316ee3-b77f-4073-8dac-7a00567acd43",
   "metadata": {},
   "outputs": [
    {
     "data": {
      "text/plain": [
       "[0.0, 15.0)     0\n",
       "[15.0, 35.0)    0\n",
       "[35.0, 48.1)    0\n",
       "[48.1, inf)     1\n",
       "Name: count, dtype: int64"
      ]
     },
     "execution_count": 1495,
     "metadata": {},
     "output_type": "execute_result"
    }
   ],
   "source": [
    "pd.cut(\n",
    "    [48.1],\n",
    "    [0, 15, 35, 48.1, np.inf],\n",
    "    right=False\n",
    ").value_counts(dropna=False)"
   ]
  },
  {
   "cell_type": "code",
   "execution_count": 1520,
   "id": "745e741e-bfd1-457e-852f-f842eefa7ea7",
   "metadata": {},
   "outputs": [
    {
     "data": {
      "text/plain": [
       "stay_duration_h\n",
       " 10.0    4246\n",
       " 8.0     4090\n",
       " 9.0     3552\n",
       " 11.0    1614\n",
       " 12.0    1476\n",
       " 7.0     1141\n",
       " 6.0      990\n",
       " 5.0      585\n",
       " 0.0      490\n",
       " 4.0      417\n",
       " 13.0     394\n",
       " 2.0      192\n",
       " 3.0      181\n",
       " 14.0     177\n",
       " 1.0       82\n",
       "-16.0      75\n",
       "-12.0      64\n",
       " 15.0      57\n",
       "-15.0      49\n",
       " 16.0      43\n",
       "-14.0      42\n",
       "-13.0      23\n",
       "-17.0      20\n",
       "-11.0      18\n",
       " 17.0      13\n",
       "-10.0      12\n",
       "-2.0       11\n",
       "-3.0        6\n",
       "-1.0        6\n",
       "-18.0       5\n",
       "-5.0        5\n",
       "-8.0        4\n",
       " 18.0       4\n",
       "-7.0        4\n",
       "-4.0        4\n",
       "-19.0       3\n",
       "-9.0        3\n",
       " 19.0       1\n",
       "Name: count, dtype: int64"
      ]
     },
     "execution_count": 1520,
     "metadata": {},
     "output_type": "execute_result"
    }
   ],
   "source": [
    "np.round(trips.query(\"Motivo == 'trabajo'\").groupby(['HOGAR', 'HABITANTE']).stay_duration_h.sum()).value_counts()"
   ]
  },
  {
   "cell_type": "markdown",
   "id": "f2c1f3e8-53a9-40b3-b002-bfc6092f7640",
   "metadata": {},
   "source": [
    "## Imputation\n",
    "\n",
    "Modeling options:\n",
    "- Two independent model\n",
    "- Sequential models\n",
    "- Single model on joint categories\n",
    "- Multioutput model\n",
    "\n",
    "Independent, sequential and single joint model candidates:\n",
    "- RF\n",
    "- GBT\n",
    "- DT\n",
    "\n",
    "Multioutput model candidates, should output a joint probability distribution:\n",
    "- RF (marginals)\n",
    "- NN\n",
    "- DT\n",
    "- Py-boost\n",
    "\n",
    "Outputs the joint distribution directly:\n",
    "- BN\n",
    "\n",
    "Should check if RF and NN can output a joint probability distributions, or if output are two marginal distributions.\n",
    "\n",
    "Can the FACTORS from population synthesis be used for something?\n",
    "Should imputation used them for weights?\n",
    "If so, should each model be estimated by track? By municipality?\n",
    "The original weights are valid at the municipality level.\n",
    "Census can be reweighted by track.\n",
    "\n",
    "It makes sense that the joint distribution of variables depends on the specific census track.\n",
    "The fitted weights, thus, can inform of this change, so should be probably used."
   ]
  },
  {
   "cell_type": "code",
   "execution_count": null,
   "id": "c8fc22a9-482f-4746-8abe-3d1704274187",
   "metadata": {},
   "outputs": [],
   "source": []
  }
 ],
 "metadata": {
  "kernelspec": {
   "display_name": "Python 3 (ipykernel)",
   "language": "python",
   "name": "python3"
  },
  "language_info": {
   "codemirror_mode": {
    "name": "ipython",
    "version": 3
   },
   "file_extension": ".py",
   "mimetype": "text/x-python",
   "name": "python",
   "nbconvert_exporter": "python",
   "pygments_lexer": "ipython3",
   "version": "3.11.7"
  }
 },
 "nbformat": 4,
 "nbformat_minor": 5
}
