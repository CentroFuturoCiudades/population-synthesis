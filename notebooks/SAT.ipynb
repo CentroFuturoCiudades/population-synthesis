{
 "cells": [
  {
   "cell_type": "code",
   "execution_count": 1,
   "id": "60f60fd0-439a-46d2-902f-13bf99eac465",
   "metadata": {
    "tags": []
   },
   "outputs": [],
   "source": [
    "%load_ext autoreload\n",
    "%autoreload 2\n",
    "\n",
    "import numpy as np\n",
    "import pandas as pd\n",
    "import scipy\n",
    "import geopandas as gpd\n",
    "import xarray as xr\n",
    "import sparse\n",
    "from itertools import product, combinations\n",
    "from pathlib import Path\n",
    "from pprint import pprint\n",
    "import matplotlib.pyplot as plt\n",
    "import matplotlib\n",
    "from collections import defaultdict\n",
    "\n",
    "pd.options.display.max_rows = 500\n",
    "#pd.options.display.max_columns = 4000\n",
    "\n",
    "import sys\n",
    "sys.path.append('../src/')\n",
    "\n",
    "from extended_survey import process_people_df, process_places_df, categorize_p, categorize_v\n",
    "from census import process_census\n",
    "from constraints import get_ind_const, get_viv_const\n",
    "\n",
    "survey_dir = Path('../data/cuestionario_ampliado/Censo2020_CA_nl_csv/')\n",
    "personas_path = Path('../data/cuestionario_ampliado/Censo2020_CA_nl_csv/Personas19.CSV')\n",
    "viviendas_path = Path('../data/cuestionario_ampliado/Censo2020_CA_nl_csv/Viviendas19.CSV')\n",
    "census_iter_path = Path('../data/census_loc/ITER_19CSV20.csv')\n",
    "census_resageburb_path = Path('../data/census_ageb_manz/RESAGEBURB_19CSV20.csv')\n",
    "output_path = Path('../output/')"
   ]
  },
  {
   "cell_type": "code",
   "execution_count": 4,
   "id": "f6e4d1d6-2e88-4850-828a-65a1034c1e89",
   "metadata": {
    "tags": []
   },
   "outputs": [
    {
     "name": "stdout",
     "output_type": "stream",
     "text": [
      "0.95276327279856\n",
      "0.9579107969282409\n"
     ]
    }
   ],
   "source": [
    "personas = process_people_df(personas_path)\n",
    "viviendas = process_places_df(viviendas_path)\n",
    "\n",
    "pcat = personas[[\n",
    "    'ID_PERSONA', 'ID_VIV', 'FACTOR', 'MUN',\n",
    "    'SEXO', 'EDAD',\n",
    "    # 'ENT_PAIS_NAC',\n",
    "    # 'AFRODES',\n",
    "    'DHSERSAL1', 'DHSERSAL2', 'RELIGION',\n",
    "    # 'DIS_VER', 'DIS_OIR', 'DIS_CAMINAR', 'DIS',\n",
    "    # 'DIS_RECORDAR', 'DIS_BANARSE', 'DIS_HABLAR', 'DIS_MENTAL',\n",
    "    # 'HLENGUA',\n",
    "    # 'HESPANOL',  # Global seed zero problem \n",
    "    'ASISTEN', 'NIVACAD', 'ESCOLARI', 'ALFABET',\n",
    "    # 'ENT_PAIS_RES_5A',\n",
    "    'SITUA_CONYUGAL', 'CONACT',\n",
    "    'INGTRMEN', 'HORTRA'\n",
    "]].copy()\n",
    "vcat = viviendas.copy()\n",
    "\n",
    "# Look for viviendas with NA\n",
    "na_vivs_v = vcat.ID_VIV[vcat.isna().T.sum() > 0].to_list()\n",
    "na_vivs_p = pcat.ID_VIV[pcat.isna().T.sum() > 0].to_list()\n",
    "na_vivs = set(na_vivs_v + na_vivs_p)\n",
    "\n",
    "# Drop NA before categorizing\n",
    "pcat = pcat[~pcat.ID_VIV.isin(na_vivs)].reset_index(drop=True)\n",
    "vcat = vcat[~vcat.ID_VIV.isin(na_vivs)].reset_index(drop=True)\n",
    "\n",
    "pcat = categorize_p(pcat)\n",
    "vcat = categorize_v(vcat)\n",
    "\n",
    "# Dopr NA again after discretizing\n",
    "na_vivs = pcat.ID_VIV[pcat.isna().T.sum() > 0].to_list()\n",
    "pcat = pcat[~pcat.ID_VIV.isin(na_vivs)].reset_index(drop=True)\n",
    "vcat = vcat[~vcat.ID_VIV.isin(na_vivs)].reset_index(drop=True)\n",
    "\n",
    "assert pcat.isna().sum().sum() == 0\n",
    "assert vcat.isna().sum().sum() == 0\n",
    "\n",
    "# Leave only constrained columns\n",
    "pcat = pcat[[\n",
    "    'ID_PERSONA', 'ID_VIV', 'FACTOR',\n",
    "    'MUN',\n",
    "    'SEXO', 'EDAD',\n",
    "    # 'ENT_PAIS_NAC',\n",
    "    # 'AFRODES',\n",
    "    #'RELIGION',\n",
    "    # 'DIS_VER', 'DIS_OIR', 'DIS_CAMINAR',\n",
    "    # 'DIS_RECORDAR', 'DIS_BANARSE', 'DIS_HABLAR', 'DIS_MENTAL',\n",
    "    # 'DIS_CON', 'DIS_LIMI',\n",
    "    # 'HLENGUA',\n",
    "    # 'HESPANOL',\n",
    "    'ASISTEN',  'EDUC',\n",
    "    # 'ALFABET',\n",
    "    # 'ENT_PAIS_RES_5A',\n",
    "    'SITUA_CONYUGAL',\n",
    "    'CONACT',\n",
    "    # 'DHSERSAL_IMSS', 'DHSERSAL_ISSSTE', 'DHSERSAL_ISSSTE_E', 'DHSERSAL_P_D_M',\n",
    "    # 'DHSERSAL_Popular_NGenración_SBienestar',\n",
    "    # 'DHSERSAL_IMSS_Prospera/Bienestar',\n",
    "    'DHSERSAL_Privado', 'DHSERSAL_Otro',\n",
    "    'DHSERSAL_No afiliado', 'DHSERSAL_PUB', 'DHSERSAL_AFIL',\n",
    "]]\n",
    "\n",
    "vcat = vcat[[\n",
    "    'ID_VIV', 'FACTOR', 'MUN', 'NUMPERS',\n",
    "    'CLAVIVP',\n",
    "    # 'PISOS',\n",
    "    'CUADORM', 'TOTCUART',\n",
    "    # 'ELECTRICIDAD', 'AGUA_ENTUBADA',\n",
    "    # 'ABA_AGUA_ENTU',\n",
    "    # 'TINACO', 'CISTERNA',\n",
    "    # 'SERSAN',\n",
    "    # 'CONAGUA',\n",
    "    # 'DRENAJE',\n",
    "    'REFRIGERADOR', 'LAVADORA', 'HORNO',\n",
    "    'AUTOPROP', 'MOTOCICLETA', 'BICICLETA', 'RADIO', 'TELEVISOR',\n",
    "    'COMPUTADORA', 'TELEFONO', 'CELULAR', 'INTERNET', 'SERV_TV_PAGA',\n",
    "    'SERV_PEL_PAGA', 'CON_VJUEGOS',\n",
    "    'JEFE_SEXO'\n",
    "]]\n",
    "\n",
    "print(pcat.shape[0]/personas.shape[0])\n",
    "print(vcat.shape[0]/viviendas.shape[0])"
   ]
  },
  {
   "cell_type": "code",
   "execution_count": 5,
   "id": "4fb6788e-3269-4b3a-bedd-9fba275ffe63",
   "metadata": {
    "tags": []
   },
   "outputs": [],
   "source": [
    "constraints_ind = get_ind_const()\n",
    "constraints_viv = get_viv_const()"
   ]
  },
  {
   "cell_type": "code",
   "execution_count": 6,
   "id": "42850ecb-0ccf-4c33-a818-89617913db6b",
   "metadata": {
    "tags": []
   },
   "outputs": [],
   "source": [
    "(\n",
    "    df_mun, df_loc,\n",
    "    df_agebs, df_agebs_min, df_agebs_max\n",
    ") = process_census(census_iter_path, census_resageburb_path)"
   ]
  },
  {
   "cell_type": "code",
   "execution_count": 166,
   "id": "56548fe4-f343-4ff4-a730-2ea6e0a14b6b",
   "metadata": {
    "tags": []
   },
   "outputs": [
    {
     "data": {
      "text/html": [
       "<div>\n",
       "<style scoped>\n",
       "    .dataframe tbody tr th:only-of-type {\n",
       "        vertical-align: middle;\n",
       "    }\n",
       "\n",
       "    .dataframe tbody tr th {\n",
       "        vertical-align: top;\n",
       "    }\n",
       "\n",
       "    .dataframe thead th {\n",
       "        text-align: right;\n",
       "    }\n",
       "</style>\n",
       "<table border=\"1\" class=\"dataframe\">\n",
       "  <thead>\n",
       "    <tr style=\"text-align: right;\">\n",
       "      <th></th>\n",
       "      <th></th>\n",
       "      <th>POBTOT</th>\n",
       "      <th>POBFEM</th>\n",
       "      <th>POBMAS</th>\n",
       "      <th>P_0A2</th>\n",
       "      <th>P_0A2_F</th>\n",
       "      <th>P_0A2_M</th>\n",
       "      <th>P_3YMAS</th>\n",
       "      <th>P_3YMAS_F</th>\n",
       "      <th>P_3YMAS_M</th>\n",
       "      <th>P_5YMAS</th>\n",
       "      <th>...</th>\n",
       "      <th>PNOCUPA_M</th>\n",
       "      <th>PNOCUPA_F</th>\n",
       "      <th>P8YM_AN</th>\n",
       "      <th>P8YM_AN_M</th>\n",
       "      <th>P8YM_AN_F</th>\n",
       "      <th>P6A14NOA</th>\n",
       "      <th>P6A14NOAF</th>\n",
       "      <th>P6A14NOAM</th>\n",
       "      <th>POBCOL</th>\n",
       "      <th>TOTCOL</th>\n",
       "    </tr>\n",
       "    <tr>\n",
       "      <th>MUN</th>\n",
       "      <th>LOC</th>\n",
       "      <th></th>\n",
       "      <th></th>\n",
       "      <th></th>\n",
       "      <th></th>\n",
       "      <th></th>\n",
       "      <th></th>\n",
       "      <th></th>\n",
       "      <th></th>\n",
       "      <th></th>\n",
       "      <th></th>\n",
       "      <th></th>\n",
       "      <th></th>\n",
       "      <th></th>\n",
       "      <th></th>\n",
       "      <th></th>\n",
       "      <th></th>\n",
       "      <th></th>\n",
       "      <th></th>\n",
       "      <th></th>\n",
       "      <th></th>\n",
       "      <th></th>\n",
       "    </tr>\n",
       "  </thead>\n",
       "  <tbody>\n",
       "    <tr>\n",
       "      <th rowspan=\"5\" valign=\"top\">1</th>\n",
       "      <th>1</th>\n",
       "      <td>1992</td>\n",
       "      <td>1032.0</td>\n",
       "      <td>960.0</td>\n",
       "      <td>108.0</td>\n",
       "      <td>54.0</td>\n",
       "      <td>54.0</td>\n",
       "      <td>1882.0</td>\n",
       "      <td>977.0</td>\n",
       "      <td>905.0</td>\n",
       "      <td>1814.0</td>\n",
       "      <td>...</td>\n",
       "      <td>264.0</td>\n",
       "      <td>613.0</td>\n",
       "      <td>36.0</td>\n",
       "      <td>16.0</td>\n",
       "      <td>20.0</td>\n",
       "      <td>27.0</td>\n",
       "      <td>18.0</td>\n",
       "      <td>9.0</td>\n",
       "      <td>0.0</td>\n",
       "      <td>0.0</td>\n",
       "    </tr>\n",
       "    <tr>\n",
       "      <th>8</th>\n",
       "      <td>7</td>\n",
       "      <td>NaN</td>\n",
       "      <td>NaN</td>\n",
       "      <td>NaN</td>\n",
       "      <td>NaN</td>\n",
       "      <td>NaN</td>\n",
       "      <td>NaN</td>\n",
       "      <td>NaN</td>\n",
       "      <td>NaN</td>\n",
       "      <td>NaN</td>\n",
       "      <td>...</td>\n",
       "      <td>NaN</td>\n",
       "      <td>NaN</td>\n",
       "      <td>NaN</td>\n",
       "      <td>NaN</td>\n",
       "      <td>NaN</td>\n",
       "      <td>NaN</td>\n",
       "      <td>NaN</td>\n",
       "      <td>NaN</td>\n",
       "      <td>NaN</td>\n",
       "      <td>NaN</td>\n",
       "    </tr>\n",
       "    <tr>\n",
       "      <th>11</th>\n",
       "      <td>3</td>\n",
       "      <td>NaN</td>\n",
       "      <td>NaN</td>\n",
       "      <td>NaN</td>\n",
       "      <td>NaN</td>\n",
       "      <td>NaN</td>\n",
       "      <td>NaN</td>\n",
       "      <td>NaN</td>\n",
       "      <td>NaN</td>\n",
       "      <td>NaN</td>\n",
       "      <td>...</td>\n",
       "      <td>NaN</td>\n",
       "      <td>NaN</td>\n",
       "      <td>NaN</td>\n",
       "      <td>NaN</td>\n",
       "      <td>NaN</td>\n",
       "      <td>NaN</td>\n",
       "      <td>NaN</td>\n",
       "      <td>NaN</td>\n",
       "      <td>NaN</td>\n",
       "      <td>NaN</td>\n",
       "    </tr>\n",
       "    <tr>\n",
       "      <th>12</th>\n",
       "      <td>3</td>\n",
       "      <td>NaN</td>\n",
       "      <td>NaN</td>\n",
       "      <td>NaN</td>\n",
       "      <td>NaN</td>\n",
       "      <td>NaN</td>\n",
       "      <td>NaN</td>\n",
       "      <td>NaN</td>\n",
       "      <td>NaN</td>\n",
       "      <td>NaN</td>\n",
       "      <td>...</td>\n",
       "      <td>NaN</td>\n",
       "      <td>NaN</td>\n",
       "      <td>NaN</td>\n",
       "      <td>NaN</td>\n",
       "      <td>NaN</td>\n",
       "      <td>NaN</td>\n",
       "      <td>NaN</td>\n",
       "      <td>NaN</td>\n",
       "      <td>NaN</td>\n",
       "      <td>NaN</td>\n",
       "    </tr>\n",
       "    <tr>\n",
       "      <th>15</th>\n",
       "      <td>2</td>\n",
       "      <td>NaN</td>\n",
       "      <td>NaN</td>\n",
       "      <td>NaN</td>\n",
       "      <td>NaN</td>\n",
       "      <td>NaN</td>\n",
       "      <td>NaN</td>\n",
       "      <td>NaN</td>\n",
       "      <td>NaN</td>\n",
       "      <td>NaN</td>\n",
       "      <td>...</td>\n",
       "      <td>NaN</td>\n",
       "      <td>NaN</td>\n",
       "      <td>NaN</td>\n",
       "      <td>NaN</td>\n",
       "      <td>NaN</td>\n",
       "      <td>NaN</td>\n",
       "      <td>NaN</td>\n",
       "      <td>NaN</td>\n",
       "      <td>NaN</td>\n",
       "      <td>NaN</td>\n",
       "    </tr>\n",
       "    <tr>\n",
       "      <th>...</th>\n",
       "      <th>...</th>\n",
       "      <td>...</td>\n",
       "      <td>...</td>\n",
       "      <td>...</td>\n",
       "      <td>...</td>\n",
       "      <td>...</td>\n",
       "      <td>...</td>\n",
       "      <td>...</td>\n",
       "      <td>...</td>\n",
       "      <td>...</td>\n",
       "      <td>...</td>\n",
       "      <td>...</td>\n",
       "      <td>...</td>\n",
       "      <td>...</td>\n",
       "      <td>...</td>\n",
       "      <td>...</td>\n",
       "      <td>...</td>\n",
       "      <td>...</td>\n",
       "      <td>...</td>\n",
       "      <td>...</td>\n",
       "      <td>...</td>\n",
       "      <td>...</td>\n",
       "    </tr>\n",
       "    <tr>\n",
       "      <th rowspan=\"5\" valign=\"top\">51</th>\n",
       "      <th>161</th>\n",
       "      <td>3</td>\n",
       "      <td>NaN</td>\n",
       "      <td>NaN</td>\n",
       "      <td>NaN</td>\n",
       "      <td>NaN</td>\n",
       "      <td>NaN</td>\n",
       "      <td>NaN</td>\n",
       "      <td>NaN</td>\n",
       "      <td>NaN</td>\n",
       "      <td>NaN</td>\n",
       "      <td>...</td>\n",
       "      <td>NaN</td>\n",
       "      <td>NaN</td>\n",
       "      <td>NaN</td>\n",
       "      <td>NaN</td>\n",
       "      <td>NaN</td>\n",
       "      <td>NaN</td>\n",
       "      <td>NaN</td>\n",
       "      <td>NaN</td>\n",
       "      <td>NaN</td>\n",
       "      <td>NaN</td>\n",
       "    </tr>\n",
       "    <tr>\n",
       "      <th>163</th>\n",
       "      <td>1</td>\n",
       "      <td>NaN</td>\n",
       "      <td>NaN</td>\n",
       "      <td>NaN</td>\n",
       "      <td>NaN</td>\n",
       "      <td>NaN</td>\n",
       "      <td>NaN</td>\n",
       "      <td>NaN</td>\n",
       "      <td>NaN</td>\n",
       "      <td>NaN</td>\n",
       "      <td>...</td>\n",
       "      <td>NaN</td>\n",
       "      <td>NaN</td>\n",
       "      <td>NaN</td>\n",
       "      <td>NaN</td>\n",
       "      <td>NaN</td>\n",
       "      <td>NaN</td>\n",
       "      <td>NaN</td>\n",
       "      <td>NaN</td>\n",
       "      <td>NaN</td>\n",
       "      <td>NaN</td>\n",
       "    </tr>\n",
       "    <tr>\n",
       "      <th>175</th>\n",
       "      <td>6</td>\n",
       "      <td>NaN</td>\n",
       "      <td>NaN</td>\n",
       "      <td>NaN</td>\n",
       "      <td>NaN</td>\n",
       "      <td>NaN</td>\n",
       "      <td>NaN</td>\n",
       "      <td>NaN</td>\n",
       "      <td>NaN</td>\n",
       "      <td>NaN</td>\n",
       "      <td>...</td>\n",
       "      <td>NaN</td>\n",
       "      <td>NaN</td>\n",
       "      <td>NaN</td>\n",
       "      <td>NaN</td>\n",
       "      <td>NaN</td>\n",
       "      <td>NaN</td>\n",
       "      <td>NaN</td>\n",
       "      <td>NaN</td>\n",
       "      <td>NaN</td>\n",
       "      <td>NaN</td>\n",
       "    </tr>\n",
       "    <tr>\n",
       "      <th>185</th>\n",
       "      <td>2</td>\n",
       "      <td>NaN</td>\n",
       "      <td>NaN</td>\n",
       "      <td>NaN</td>\n",
       "      <td>NaN</td>\n",
       "      <td>NaN</td>\n",
       "      <td>NaN</td>\n",
       "      <td>NaN</td>\n",
       "      <td>NaN</td>\n",
       "      <td>NaN</td>\n",
       "      <td>...</td>\n",
       "      <td>NaN</td>\n",
       "      <td>NaN</td>\n",
       "      <td>NaN</td>\n",
       "      <td>NaN</td>\n",
       "      <td>NaN</td>\n",
       "      <td>NaN</td>\n",
       "      <td>NaN</td>\n",
       "      <td>NaN</td>\n",
       "      <td>NaN</td>\n",
       "      <td>NaN</td>\n",
       "    </tr>\n",
       "    <tr>\n",
       "      <th>196</th>\n",
       "      <td>6</td>\n",
       "      <td>NaN</td>\n",
       "      <td>NaN</td>\n",
       "      <td>NaN</td>\n",
       "      <td>NaN</td>\n",
       "      <td>NaN</td>\n",
       "      <td>NaN</td>\n",
       "      <td>NaN</td>\n",
       "      <td>NaN</td>\n",
       "      <td>NaN</td>\n",
       "      <td>...</td>\n",
       "      <td>NaN</td>\n",
       "      <td>NaN</td>\n",
       "      <td>NaN</td>\n",
       "      <td>NaN</td>\n",
       "      <td>NaN</td>\n",
       "      <td>NaN</td>\n",
       "      <td>NaN</td>\n",
       "      <td>NaN</td>\n",
       "      <td>NaN</td>\n",
       "      <td>NaN</td>\n",
       "    </tr>\n",
       "  </tbody>\n",
       "</table>\n",
       "<p>4822 rows × 230 columns</p>\n",
       "</div>"
      ],
      "text/plain": [
       "         POBTOT  POBFEM  POBMAS  P_0A2  P_0A2_F  P_0A2_M  P_3YMAS  P_3YMAS_F  \\\n",
       "MUN LOC                                                                        \n",
       "1   1      1992  1032.0   960.0  108.0     54.0     54.0   1882.0      977.0   \n",
       "    8         7     NaN     NaN    NaN      NaN      NaN      NaN        NaN   \n",
       "    11        3     NaN     NaN    NaN      NaN      NaN      NaN        NaN   \n",
       "    12        3     NaN     NaN    NaN      NaN      NaN      NaN        NaN   \n",
       "    15        2     NaN     NaN    NaN      NaN      NaN      NaN        NaN   \n",
       "...         ...     ...     ...    ...      ...      ...      ...        ...   \n",
       "51  161       3     NaN     NaN    NaN      NaN      NaN      NaN        NaN   \n",
       "    163       1     NaN     NaN    NaN      NaN      NaN      NaN        NaN   \n",
       "    175       6     NaN     NaN    NaN      NaN      NaN      NaN        NaN   \n",
       "    185       2     NaN     NaN    NaN      NaN      NaN      NaN        NaN   \n",
       "    196       6     NaN     NaN    NaN      NaN      NaN      NaN        NaN   \n",
       "\n",
       "         P_3YMAS_M  P_5YMAS  ...  PNOCUPA_M  PNOCUPA_F  P8YM_AN  P8YM_AN_M  \\\n",
       "MUN LOC                      ...                                             \n",
       "1   1        905.0   1814.0  ...      264.0      613.0     36.0       16.0   \n",
       "    8          NaN      NaN  ...        NaN        NaN      NaN        NaN   \n",
       "    11         NaN      NaN  ...        NaN        NaN      NaN        NaN   \n",
       "    12         NaN      NaN  ...        NaN        NaN      NaN        NaN   \n",
       "    15         NaN      NaN  ...        NaN        NaN      NaN        NaN   \n",
       "...            ...      ...  ...        ...        ...      ...        ...   \n",
       "51  161        NaN      NaN  ...        NaN        NaN      NaN        NaN   \n",
       "    163        NaN      NaN  ...        NaN        NaN      NaN        NaN   \n",
       "    175        NaN      NaN  ...        NaN        NaN      NaN        NaN   \n",
       "    185        NaN      NaN  ...        NaN        NaN      NaN        NaN   \n",
       "    196        NaN      NaN  ...        NaN        NaN      NaN        NaN   \n",
       "\n",
       "         P8YM_AN_F  P6A14NOA  P6A14NOAF  P6A14NOAM  POBCOL  TOTCOL  \n",
       "MUN LOC                                                             \n",
       "1   1         20.0      27.0       18.0        9.0     0.0     0.0  \n",
       "    8          NaN       NaN        NaN        NaN     NaN     NaN  \n",
       "    11         NaN       NaN        NaN        NaN     NaN     NaN  \n",
       "    12         NaN       NaN        NaN        NaN     NaN     NaN  \n",
       "    15         NaN       NaN        NaN        NaN     NaN     NaN  \n",
       "...            ...       ...        ...        ...     ...     ...  \n",
       "51  161        NaN       NaN        NaN        NaN     NaN     NaN  \n",
       "    163        NaN       NaN        NaN        NaN     NaN     NaN  \n",
       "    175        NaN       NaN        NaN        NaN     NaN     NaN  \n",
       "    185        NaN       NaN        NaN        NaN     NaN     NaN  \n",
       "    196        NaN       NaN        NaN        NaN     NaN     NaN  \n",
       "\n",
       "[4822 rows x 230 columns]"
      ]
     },
     "execution_count": 166,
     "metadata": {},
     "output_type": "execute_result"
    }
   ],
   "source": [
    "df_loc"
   ]
  },
  {
   "cell_type": "code",
   "execution_count": 7,
   "id": "0dd7b8a5-32d3-4ad7-b300-8a677d6efb5b",
   "metadata": {
    "tags": []
   },
   "outputs": [],
   "source": [
    "# Build matrices"
   ]
  },
  {
   "cell_type": "code",
   "execution_count": 8,
   "id": "62348bc3-f680-405c-95f8-3ba9ecb84146",
   "metadata": {
    "tags": []
   },
   "outputs": [],
   "source": [
    "from setup_lin_system import make_init_system, get_W"
   ]
  },
  {
   "cell_type": "code",
   "execution_count": 9,
   "id": "0a1969f0-0868-4a72-9883-31fc0b8bb585",
   "metadata": {
    "tags": []
   },
   "outputs": [],
   "source": [
    "X, I, J, L, W, Up, Uh, U, C, Y = make_init_system(pcat, vcat, constraints_ind, constraints_viv, df_mun)"
   ]
  },
  {
   "cell_type": "code",
   "execution_count": 10,
   "id": "b4914ec3-3581-4d7b-8275-d72f53e9cff3",
   "metadata": {
    "tags": []
   },
   "outputs": [
    {
     "data": {
      "text/plain": [
       "0.10308545561676379"
      ]
     },
     "execution_count": 10,
     "metadata": {},
     "output_type": "execute_result"
    }
   ],
   "source": [
    "X.shape[0]/pcat.shape[0]"
   ]
  },
  {
   "cell_type": "code",
   "execution_count": 11,
   "id": "8e973567-a38e-4444-8871-7149ab0b2b8b",
   "metadata": {
    "tags": []
   },
   "outputs": [
    {
     "data": {
      "text/plain": [
       "(51, 63)"
      ]
     },
     "execution_count": 11,
     "metadata": {},
     "output_type": "execute_result"
    }
   ],
   "source": [
    "C.shape"
   ]
  },
  {
   "cell_type": "code",
   "execution_count": 9,
   "id": "ac2fc138-cf42-472f-8db2-028e2718f915",
   "metadata": {
    "tags": []
   },
   "outputs": [
    {
     "data": {
      "text/plain": [
       "set()"
      ]
     },
     "execution_count": 9,
     "metadata": {},
     "output_type": "execute_result"
    }
   ],
   "source": [
    "mun_list = X.MUN.unique()\n",
    "const_zeroprob_list = []\n",
    "for mun in mun_list:\n",
    "    mun_mask = Y.MUN == mun\n",
    "    U_mun = U.loc[:, mun_mask]\n",
    "    const_zeroprob_list.extend(U_mun.index[U_mun.T.sum() == 0].to_list())\n",
    "set(const_zeroprob_list)"
   ]
  },
  {
   "cell_type": "code",
   "execution_count": 12,
   "id": "5b7d8e0e-efa1-4778-9d1f-6fbd3544185a",
   "metadata": {},
   "outputs": [],
   "source": [
    "from ortools.sat.python import cp_model"
   ]
  },
  {
   "cell_type": "code",
   "execution_count": 107,
   "id": "f212f9a1-831e-430f-ac62-addee81d1b22",
   "metadata": {
    "tags": []
   },
   "outputs": [
    {
     "name": "stdout",
     "output_type": "stream",
     "text": [
      "satisfaction model '': (model_fingerprint: 0xa72100e55f990362)\n",
      "#Variables: 38'352\n",
      "  - 14'382 Booleans in [0,1]\n",
      "  - 4'794 in [0,2]\n",
      "  - 4'794 in [0,3]\n",
      "  - 4'794 in [0,5]\n",
      "  - 4'794 in [0,329082]\n",
      "  - 4'794 in [0,329095]\n",
      "#kLinearN: 5'011 (#terms: 583'371)\n",
      "Solution found.\n"
     ]
    }
   ],
   "source": [
    "mun = 'Monterrey'\n",
    "N_mun = int(df_mun.loc[mun, 'TVIVHAB'])\n",
    "C_mun = C.loc[mun].astype(int).to_dict()\n",
    "\n",
    "Y_mun = Y.index[Y[mun] > 0]\n",
    "U_mun = U.loc[:, Y_mun]\n",
    "\n",
    "model = cp_model.CpModel()\n",
    "\n",
    "y_mun = {}\n",
    "for var_id in Y_mun:\n",
    "    y_mun[var_id] = model.NewIntVar(0, N_mun, f'{var_id}')\n",
    "\n",
    "# Add constraints\n",
    "for c_name, c_val in C_mun.items():\n",
    "    coefficients = U_mun.loc[c_name][U_mun.loc[c_name] > 0]\n",
    "    expressions = [y_mun[vid] for vid in coefficients.index]\n",
    "    # if c_name == 'TVIVHAB': continue\n",
    "    if c_name in ['POBTOT', 'TVIVHAB']:\n",
    "        model.Add(cp_model.LinearExpr.WeightedSum(expressions, coefficients.values) == c_val)\n",
    "    else:\n",
    "        model.Add(cp_model.LinearExpr.WeightedSum(expressions, coefficients.values) >= c_val)\n",
    "\n",
    "# Extract localities for mun\n",
    "mun_dict = {mun: i+1 for i, mun in enumerate(df_mun.index)}\n",
    "\n",
    "C_locs = df_loc.loc[mun_dict[mun], C.columns]\n",
    "y_loc = {}\n",
    "for i, loc in enumerate(C_locs.index):\n",
    "    #if i != 12: continue\n",
    "    C_loc = C_locs.loc[loc].fillna(0).astype(int).to_dict()\n",
    "    N_loc = C_loc['TVIVHAB']\n",
    "    assert N_loc > 0\n",
    "    \n",
    "    y_loc[loc] = {}\n",
    "    for var_id in Y_mun:\n",
    "        y_loc[loc][var_id] = model.NewIntVar(0, N_loc, f'{loc}_{var_id}')\n",
    "        \n",
    "    for c_name, c_val in C_loc.items():\n",
    "        coefficients = U_mun.loc[c_name][U_mun.loc[c_name] > 0]\n",
    "        expressions = [y_loc[loc][vid] for vid in coefficients.index]\n",
    "        # if c_name == 'TVIVHAB': continue\n",
    "        if c_name in ['TVIVHAB', 'POBTOT']:\n",
    "             model.Add(cp_model.LinearExpr.WeightedSum(expressions, coefficients.values) == c_val)\n",
    "        elif c_val > 0:\n",
    "            model.Add(cp_model.LinearExpr.WeightedSum(expressions, coefficients.values) >= int(0.95*c_val))\n",
    "            \n",
    "# Hierarchical constraints\n",
    "for var_id, var_mun in y_mun.items():\n",
    "    var_locs = []\n",
    "    for loc_dict in y_loc.values():\n",
    "        var_locs.append(loc_dict[var_id])\n",
    "    model.Add(sum(var_locs) == var_mun)\n",
    "            \n",
    "print(model.ModelStats())\n",
    "\n",
    "solver = cp_model.CpSolver()\n",
    "status = solver.Solve(model)\n",
    "if status == cp_model.OPTIMAL or status == cp_model.FEASIBLE:\n",
    "    print('Solution found.')\n",
    "else:\n",
    "    print(\"No solution found.\")"
   ]
  },
  {
   "cell_type": "code",
   "execution_count": 108,
   "id": "9799bf3d-7a67-450c-a5a6-49cfb981a863",
   "metadata": {
    "tags": []
   },
   "outputs": [],
   "source": [
    "ysol = {}\n",
    "for vid, yvar in y_mun.items():\n",
    "    ysol[vid] = solver.Value(yvar)"
   ]
  },
  {
   "cell_type": "code",
   "execution_count": 109,
   "id": "175c1a9f-83f8-44b7-9b3f-958c8b670b13",
   "metadata": {
    "tags": []
   },
   "outputs": [
    {
     "data": {
      "text/plain": [
       "156696.0"
      ]
     },
     "execution_count": 109,
     "metadata": {},
     "output_type": "execute_result"
    }
   ],
   "source": [
    "np.abs(U_mun @ pd.Series(ysol) - C.loc[mun]).sum()"
   ]
  },
  {
   "cell_type": "code",
   "execution_count": 112,
   "id": "c3e45a12-702c-46ee-805c-45ee5383a1b7",
   "metadata": {
    "tags": []
   },
   "outputs": [
    {
     "data": {
      "text/plain": [
       "0.002176072748621686"
      ]
     },
     "execution_count": 112,
     "metadata": {},
     "output_type": "execute_result"
    }
   ],
   "source": [
    "np.mean(np.abs(U_mun @ pd.Series(ysol) - C.loc[mun]))/C.loc[mun].POBTOT"
   ]
  },
  {
   "cell_type": "code",
   "execution_count": 105,
   "id": "24f9eb99-5436-47d0-a424-0e84230a19a6",
   "metadata": {
    "tags": []
   },
   "outputs": [
    {
     "data": {
      "text/plain": [
       "1471593.0"
      ]
     },
     "execution_count": 105,
     "metadata": {},
     "output_type": "execute_result"
    }
   ],
   "source": [
    "np.abs(U_mun @ Y.loc[Y_mun, mun] - C.loc[mun]).sum()"
   ]
  },
  {
   "cell_type": "code",
   "execution_count": 106,
   "id": "14d76271-4d4b-48a7-86a4-22bd73dced63",
   "metadata": {
    "tags": []
   },
   "outputs": [
    {
     "data": {
      "text/plain": [
       "443863.98689009657"
      ]
     },
     "execution_count": 106,
     "metadata": {},
     "output_type": "execute_result"
    }
   ],
   "source": [
    "np.abs(U_mun @ Y.loc[Y_mun, mun]*C.loc[mun].TVIVHAB/Y.loc[Y_mun, mun].sum()- C.loc[mun]).sum()"
   ]
  },
  {
   "cell_type": "code",
   "execution_count": 133,
   "id": "42b78d19-451d-4c9e-b0a3-864b13cebe6d",
   "metadata": {
    "tags": []
   },
   "outputs": [
    {
     "data": {
      "text/plain": [
       "dict_keys([1, 36, 41, 42, 46, 52, 53])"
      ]
     },
     "execution_count": 133,
     "metadata": {},
     "output_type": "execute_result"
    }
   ],
   "source": [
    "y_loc.keys()"
   ]
  },
  {
   "cell_type": "code",
   "execution_count": 142,
   "id": "91b1a7bc-0269-43e6-80ad-f703223ad138",
   "metadata": {
    "tags": []
   },
   "outputs": [],
   "source": [
    "df_agebs_mun = df_agebs_min.loc[mun_dict[mun]].reset_index()\n",
    "\n",
    "y_agebs = {}\n",
    "for loc, loc_dict in y_loc.items():\n",
    "    if loc not in df_agebs_mun.LOC.unique(): continue\n",
    "    y_agebs[loc] = {}\n",
    "    df_agebs_loc = df_agebs_min.loc[mun_dict[mun], loc].reset_index()\n",
    "    for ageb in df_agebs_loc.AGEB:\n",
    "        y_agebs[loc][ageb] = {}\n",
    "        for varid in loc_dict:\n",
    "            y_agebs[loc][ageb][varid] = model.NewIntVar(0, N_loc, f'{ageb}_{loc}_{var_id}')"
   ]
  },
  {
   "cell_type": "code",
   "execution_count": 143,
   "id": "666c66d0-2391-43da-b695-cb19e2c07ef9",
   "metadata": {
    "tags": []
   },
   "outputs": [
    {
     "name": "stdout",
     "output_type": "stream",
     "text": [
      "satisfaction model '': (model_fingerprint: 0xc3394c452fce0818)\n",
      "#Variables: 2'329'884\n",
      "  - 2'305'914 Booleans in [0,1]\n",
      "  - 4'794 in [0,2]\n",
      "  - 4'794 in [0,3]\n",
      "  - 4'794 in [0,5]\n",
      "  - 4'794 in [0,329082]\n",
      "  - 4'794 in [0,329095]\n",
      "#kLinearN: 5'011 (#terms: 583'371)\n"
     ]
    }
   ],
   "source": [
    "print(model.ModelStats())"
   ]
  },
  {
   "cell_type": "code",
   "execution_count": 403,
   "id": "bb6147d6-a7d1-4328-aaa6-d22f292c2936",
   "metadata": {
    "tags": []
   },
   "outputs": [
    {
     "data": {
      "text/plain": [
       "44119"
      ]
     },
     "execution_count": 403,
     "metadata": {},
     "output_type": "execute_result"
    }
   ],
   "source": [
    "U.T.duplicated().sum()"
   ]
  }
 ],
 "metadata": {
  "kernelspec": {
   "display_name": "Python 3 (ipykernel)",
   "language": "python",
   "name": "python3"
  },
  "language_info": {
   "codemirror_mode": {
    "name": "ipython",
    "version": 3
   },
   "file_extension": ".py",
   "mimetype": "text/x-python",
   "name": "python",
   "nbconvert_exporter": "python",
   "pygments_lexer": "ipython3",
   "version": "3.11.0"
  }
 },
 "nbformat": 4,
 "nbformat_minor": 5
}
