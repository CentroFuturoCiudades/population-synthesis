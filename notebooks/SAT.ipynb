{
 "cells": [
  {
   "cell_type": "code",
   "execution_count": 12,
   "id": "63711a88-bd04-4f85-b3f2-ee48fa581464",
   "metadata": {
    "tags": []
   },
   "outputs": [
    {
     "name": "stdout",
     "output_type": "stream",
     "text": [
      "We keep 95.276327279856% and 95.79107969282408 of the people and household datasets respectively.\n"
     ]
    }
   ],
   "source": [
    "# Define data paths\n",
    "personas_path = Path('../data/cuestionario_ampliado/Censo2020_CA_nl_csv/Personas19.CSV')\n",
    "viviendas_path = Path('../data/cuestionario_ampliado/Censo2020_CA_nl_csv/Viviendas19.CSV')\n",
    "\n",
    "# Load survey data\n",
    "personas = process_people_df(personas_path)\n",
    "viviendas = process_places_df(viviendas_path)\n",
    "\n",
    "# Select subset of categorical columns to control for\n",
    "# Seleting them before dropping nan from survey\n",
    "# Alternative is to impute NAN (e.g. use missforest)\n",
    "pcat = personas[[\n",
    "    'ID_PERSONA', 'ID_VIV', 'FACTOR', 'MUN',\n",
    "    'SEXO', 'EDAD',\n",
    "    # 'ENT_PAIS_NAC',\n",
    "    # 'AFRODES',\n",
    "    'DHSERSAL1', 'DHSERSAL2', 'RELIGION',\n",
    "    # 'DIS_VER', 'DIS_OIR', 'DIS_CAMINAR', 'DIS',\n",
    "    # 'DIS_RECORDAR', 'DIS_BANARSE', 'DIS_HABLAR', 'DIS_MENTAL',\n",
    "    # 'HLENGUA',\n",
    "    # 'HESPANOL',  # Global seed zero problem \n",
    "    'ASISTEN', 'NIVACAD', 'ESCOLARI', 'ALFABET',\n",
    "    # 'ENT_PAIS_RES_5A',\n",
    "    'SITUA_CONYUGAL', 'CONACT',\n",
    "    'INGTRMEN', 'HORTRA'\n",
    "]].copy()\n",
    "vcat = viviendas.copy()\n",
    "\n",
    "# Drop NA values on both surveys\n",
    "\n",
    "# Look for viviendas with NA values in people and household constraints\n",
    "na_vivs_v = vcat.ID_VIV[vcat.isna().T.sum() > 0].to_list()\n",
    "na_vivs_p = pcat.ID_VIV[pcat.isna().T.sum() > 0].to_list()\n",
    "na_vivs = set(na_vivs_v + na_vivs_p)\n",
    "\n",
    "# Drop NA before categorizing\n",
    "pcat = pcat[~pcat.ID_VIV.isin(na_vivs)].reset_index(drop=True)\n",
    "vcat = vcat[~vcat.ID_VIV.isin(na_vivs)].reset_index(drop=True)\n",
    "\n",
    "# Categorize columns\n",
    "pcat = categorize_p(pcat)\n",
    "vcat = categorize_v(vcat)\n",
    "\n",
    "assert pcat.isna().sum().sum() == 0\n",
    "assert vcat.isna().sum().sum() == 0\n",
    "\n",
    "# Leave only categorized columns\n",
    "pcat = pcat.drop(columns=[\n",
    "    'DHSERSAL1', 'DHSERSAL2',\n",
    "    'NIVACAD', 'ESCOLARI',\n",
    "    'INGTRMEN', 'HORTRA',\n",
    "    'DHSERSAL_IMSS', 'DHSERSAL_ISSSTE', 'DHSERSAL_ISSSTE_E',\n",
    "    'DHSERSAL_P_D_M', 'DHSERSAL_Popular_NGenración_SBienestar',\n",
    "    'DHSERSAL_IMSS_Prospera/Bienestar'\n",
    "])\n",
    "\n",
    "vcat = vcat[[\n",
    "    'ID_VIV', 'FACTOR', 'MUN', 'NUMPERS',\n",
    "    'CLAVIVP',\n",
    "    'AUTOPROP', 'MOTOCICLETA', 'BICICLETA',\n",
    "    # 'PISOS',\n",
    "    'CUADORM', 'TOTCUART',\n",
    "    # 'ELECTRICIDAD', 'AGUA_ENTUBADA',\n",
    "    # 'ABA_AGUA_ENTU',\n",
    "    # 'TINACO', 'CISTERNA',\n",
    "    # 'SERSAN',\n",
    "    # 'CONAGUA',\n",
    "    # 'DRENAJE',\n",
    "    'REFRIGERADOR', 'LAVADORA', 'HORNO',\n",
    "    'RADIO', 'TELEVISOR',\n",
    "    'COMPUTADORA', 'TELEFONO', 'CELULAR', 'INTERNET', 'SERV_TV_PAGA',\n",
    "    'SERV_PEL_PAGA', 'CON_VJUEGOS',\n",
    "    'JEFE_SEXO'\n",
    "]]\n",
    "\n",
    "print(f'We keep {pcat.shape[0]/personas.shape[0]*100}% and {vcat.shape[0]/viviendas.shape[0]*100} of the people and household datasets respectively.')"
   ]
  },
  {
   "cell_type": "code",
   "execution_count": 13,
   "id": "7d09783f-574b-4c37-96a4-f90266cb6e2c",
   "metadata": {
    "tags": []
   },
   "outputs": [
    {
     "data": {
      "text/html": [
       "<div>\n",
       "<style scoped>\n",
       "    .dataframe tbody tr th:only-of-type {\n",
       "        vertical-align: middle;\n",
       "    }\n",
       "\n",
       "    .dataframe tbody tr th {\n",
       "        vertical-align: top;\n",
       "    }\n",
       "\n",
       "    .dataframe thead th {\n",
       "        text-align: right;\n",
       "    }\n",
       "</style>\n",
       "<table border=\"1\" class=\"dataframe\">\n",
       "  <thead>\n",
       "    <tr style=\"text-align: right;\">\n",
       "      <th></th>\n",
       "      <th>ID_PERSONA</th>\n",
       "      <th>ID_VIV</th>\n",
       "      <th>FACTOR</th>\n",
       "      <th>MUN</th>\n",
       "      <th>SEXO</th>\n",
       "      <th>EDAD</th>\n",
       "      <th>RELIGION</th>\n",
       "      <th>ASISTEN</th>\n",
       "      <th>ALFABET</th>\n",
       "      <th>SITUA_CONYUGAL</th>\n",
       "      <th>CONACT</th>\n",
       "      <th>DHSERSAL_Privado</th>\n",
       "      <th>DHSERSAL_Otro</th>\n",
       "      <th>DHSERSAL_No afiliado</th>\n",
       "      <th>DHSERSAL_PUB</th>\n",
       "      <th>DHSERSAL_AFIL</th>\n",
       "      <th>EDUC</th>\n",
       "    </tr>\n",
       "  </thead>\n",
       "  <tbody>\n",
       "    <tr>\n",
       "      <th>0</th>\n",
       "      <td>19001000000100001</td>\n",
       "      <td>190010000001</td>\n",
       "      <td>1</td>\n",
       "      <td>Abasolo</td>\n",
       "      <td>F</td>\n",
       "      <td>8-11</td>\n",
       "      <td>Católica</td>\n",
       "      <td>Sí</td>\n",
       "      <td>Sí</td>\n",
       "      <td>Blanco por pase</td>\n",
       "      <td>Blanco por pase</td>\n",
       "      <td>0</td>\n",
       "      <td>0</td>\n",
       "      <td>0</td>\n",
       "      <td>1</td>\n",
       "      <td>1</td>\n",
       "      <td>Primaria_incom</td>\n",
       "    </tr>\n",
       "    <tr>\n",
       "      <th>1</th>\n",
       "      <td>19001000000100002</td>\n",
       "      <td>190010000001</td>\n",
       "      <td>1</td>\n",
       "      <td>Abasolo</td>\n",
       "      <td>M</td>\n",
       "      <td>25-49</td>\n",
       "      <td>Católica</td>\n",
       "      <td>No</td>\n",
       "      <td>Sí</td>\n",
       "      <td>casado</td>\n",
       "      <td>Trabaja</td>\n",
       "      <td>0</td>\n",
       "      <td>0</td>\n",
       "      <td>0</td>\n",
       "      <td>1</td>\n",
       "      <td>1</td>\n",
       "      <td>Secundaria_com</td>\n",
       "    </tr>\n",
       "    <tr>\n",
       "      <th>2</th>\n",
       "      <td>19001000000100003</td>\n",
       "      <td>190010000001</td>\n",
       "      <td>1</td>\n",
       "      <td>Abasolo</td>\n",
       "      <td>M</td>\n",
       "      <td>0-2</td>\n",
       "      <td>Católica</td>\n",
       "      <td>Blanco por pase</td>\n",
       "      <td>Blanco por pase</td>\n",
       "      <td>Blanco por pase</td>\n",
       "      <td>Blanco por pase</td>\n",
       "      <td>0</td>\n",
       "      <td>0</td>\n",
       "      <td>0</td>\n",
       "      <td>1</td>\n",
       "      <td>1</td>\n",
       "      <td>Blanco por pase</td>\n",
       "    </tr>\n",
       "    <tr>\n",
       "      <th>3</th>\n",
       "      <td>19001000000100004</td>\n",
       "      <td>190010000001</td>\n",
       "      <td>1</td>\n",
       "      <td>Abasolo</td>\n",
       "      <td>F</td>\n",
       "      <td>6-7</td>\n",
       "      <td>Católica</td>\n",
       "      <td>No</td>\n",
       "      <td>No</td>\n",
       "      <td>Blanco por pase</td>\n",
       "      <td>Blanco por pase</td>\n",
       "      <td>0</td>\n",
       "      <td>0</td>\n",
       "      <td>0</td>\n",
       "      <td>1</td>\n",
       "      <td>1</td>\n",
       "      <td>Sin Educación</td>\n",
       "    </tr>\n",
       "    <tr>\n",
       "      <th>4</th>\n",
       "      <td>19001000000100005</td>\n",
       "      <td>190010000001</td>\n",
       "      <td>1</td>\n",
       "      <td>Abasolo</td>\n",
       "      <td>F</td>\n",
       "      <td>25-49</td>\n",
       "      <td>Católica</td>\n",
       "      <td>No</td>\n",
       "      <td>Sí</td>\n",
       "      <td>casado</td>\n",
       "      <td>No trabaja</td>\n",
       "      <td>0</td>\n",
       "      <td>0</td>\n",
       "      <td>0</td>\n",
       "      <td>1</td>\n",
       "      <td>1</td>\n",
       "      <td>Posbásica</td>\n",
       "    </tr>\n",
       "    <tr>\n",
       "      <th>...</th>\n",
       "      <td>...</td>\n",
       "      <td>...</td>\n",
       "      <td>...</td>\n",
       "      <td>...</td>\n",
       "      <td>...</td>\n",
       "      <td>...</td>\n",
       "      <td>...</td>\n",
       "      <td>...</td>\n",
       "      <td>...</td>\n",
       "      <td>...</td>\n",
       "      <td>...</td>\n",
       "      <td>...</td>\n",
       "      <td>...</td>\n",
       "      <td>...</td>\n",
       "      <td>...</td>\n",
       "      <td>...</td>\n",
       "      <td>...</td>\n",
       "    </tr>\n",
       "    <tr>\n",
       "      <th>320758</th>\n",
       "      <td>19051000088400002</td>\n",
       "      <td>190510000884</td>\n",
       "      <td>2</td>\n",
       "      <td>Villaldama</td>\n",
       "      <td>M</td>\n",
       "      <td>12-14</td>\n",
       "      <td>Católica</td>\n",
       "      <td>Sí</td>\n",
       "      <td>Sí</td>\n",
       "      <td>soltero</td>\n",
       "      <td>No trabaja</td>\n",
       "      <td>0</td>\n",
       "      <td>0</td>\n",
       "      <td>0</td>\n",
       "      <td>1</td>\n",
       "      <td>1</td>\n",
       "      <td>Secundaria_incom</td>\n",
       "    </tr>\n",
       "    <tr>\n",
       "      <th>320759</th>\n",
       "      <td>19051000088400003</td>\n",
       "      <td>190510000884</td>\n",
       "      <td>2</td>\n",
       "      <td>Villaldama</td>\n",
       "      <td>F</td>\n",
       "      <td>12-14</td>\n",
       "      <td>Católica</td>\n",
       "      <td>Sí</td>\n",
       "      <td>Sí</td>\n",
       "      <td>soltero</td>\n",
       "      <td>No trabaja</td>\n",
       "      <td>0</td>\n",
       "      <td>0</td>\n",
       "      <td>0</td>\n",
       "      <td>1</td>\n",
       "      <td>1</td>\n",
       "      <td>Secundaria_incom</td>\n",
       "    </tr>\n",
       "    <tr>\n",
       "      <th>320760</th>\n",
       "      <td>19051000088400004</td>\n",
       "      <td>190510000884</td>\n",
       "      <td>2</td>\n",
       "      <td>Villaldama</td>\n",
       "      <td>M</td>\n",
       "      <td>15-17</td>\n",
       "      <td>Católica</td>\n",
       "      <td>Sí</td>\n",
       "      <td>Sí</td>\n",
       "      <td>soltero</td>\n",
       "      <td>No trabaja</td>\n",
       "      <td>0</td>\n",
       "      <td>0</td>\n",
       "      <td>0</td>\n",
       "      <td>1</td>\n",
       "      <td>1</td>\n",
       "      <td>Posbásica</td>\n",
       "    </tr>\n",
       "    <tr>\n",
       "      <th>320761</th>\n",
       "      <td>19051000088400005</td>\n",
       "      <td>190510000884</td>\n",
       "      <td>2</td>\n",
       "      <td>Villaldama</td>\n",
       "      <td>F</td>\n",
       "      <td>25-49</td>\n",
       "      <td>Católica</td>\n",
       "      <td>No</td>\n",
       "      <td>Sí</td>\n",
       "      <td>casado</td>\n",
       "      <td>No trabaja</td>\n",
       "      <td>0</td>\n",
       "      <td>0</td>\n",
       "      <td>0</td>\n",
       "      <td>1</td>\n",
       "      <td>1</td>\n",
       "      <td>Secundaria_com</td>\n",
       "    </tr>\n",
       "    <tr>\n",
       "      <th>320762</th>\n",
       "      <td>19051000088400006</td>\n",
       "      <td>190510000884</td>\n",
       "      <td>2</td>\n",
       "      <td>Villaldama</td>\n",
       "      <td>M</td>\n",
       "      <td>65-130</td>\n",
       "      <td>Católica</td>\n",
       "      <td>No</td>\n",
       "      <td>Sí</td>\n",
       "      <td>casado</td>\n",
       "      <td>Trabaja</td>\n",
       "      <td>0</td>\n",
       "      <td>0</td>\n",
       "      <td>0</td>\n",
       "      <td>1</td>\n",
       "      <td>1</td>\n",
       "      <td>Posbásica</td>\n",
       "    </tr>\n",
       "  </tbody>\n",
       "</table>\n",
       "<p>320763 rows × 17 columns</p>\n",
       "</div>"
      ],
      "text/plain": [
       "               ID_PERSONA        ID_VIV  FACTOR         MUN SEXO    EDAD  \\\n",
       "0       19001000000100001  190010000001       1     Abasolo    F    8-11   \n",
       "1       19001000000100002  190010000001       1     Abasolo    M   25-49   \n",
       "2       19001000000100003  190010000001       1     Abasolo    M     0-2   \n",
       "3       19001000000100004  190010000001       1     Abasolo    F     6-7   \n",
       "4       19001000000100005  190010000001       1     Abasolo    F   25-49   \n",
       "...                   ...           ...     ...         ...  ...     ...   \n",
       "320758  19051000088400002  190510000884       2  Villaldama    M   12-14   \n",
       "320759  19051000088400003  190510000884       2  Villaldama    F   12-14   \n",
       "320760  19051000088400004  190510000884       2  Villaldama    M   15-17   \n",
       "320761  19051000088400005  190510000884       2  Villaldama    F   25-49   \n",
       "320762  19051000088400006  190510000884       2  Villaldama    M  65-130   \n",
       "\n",
       "        RELIGION          ASISTEN          ALFABET   SITUA_CONYUGAL  \\\n",
       "0       Católica               Sí               Sí  Blanco por pase   \n",
       "1       Católica               No               Sí           casado   \n",
       "2       Católica  Blanco por pase  Blanco por pase  Blanco por pase   \n",
       "3       Católica               No               No  Blanco por pase   \n",
       "4       Católica               No               Sí           casado   \n",
       "...          ...              ...              ...              ...   \n",
       "320758  Católica               Sí               Sí          soltero   \n",
       "320759  Católica               Sí               Sí          soltero   \n",
       "320760  Católica               Sí               Sí          soltero   \n",
       "320761  Católica               No               Sí           casado   \n",
       "320762  Católica               No               Sí           casado   \n",
       "\n",
       "                 CONACT DHSERSAL_Privado DHSERSAL_Otro DHSERSAL_No afiliado  \\\n",
       "0       Blanco por pase                0             0                    0   \n",
       "1               Trabaja                0             0                    0   \n",
       "2       Blanco por pase                0             0                    0   \n",
       "3       Blanco por pase                0             0                    0   \n",
       "4            No trabaja                0             0                    0   \n",
       "...                 ...              ...           ...                  ...   \n",
       "320758       No trabaja                0             0                    0   \n",
       "320759       No trabaja                0             0                    0   \n",
       "320760       No trabaja                0             0                    0   \n",
       "320761       No trabaja                0             0                    0   \n",
       "320762          Trabaja                0             0                    0   \n",
       "\n",
       "       DHSERSAL_PUB DHSERSAL_AFIL              EDUC  \n",
       "0                 1             1    Primaria_incom  \n",
       "1                 1             1    Secundaria_com  \n",
       "2                 1             1   Blanco por pase  \n",
       "3                 1             1     Sin Educación  \n",
       "4                 1             1         Posbásica  \n",
       "...             ...           ...               ...  \n",
       "320758            1             1  Secundaria_incom  \n",
       "320759            1             1  Secundaria_incom  \n",
       "320760            1             1         Posbásica  \n",
       "320761            1             1    Secundaria_com  \n",
       "320762            1             1         Posbásica  \n",
       "\n",
       "[320763 rows x 17 columns]"
      ]
     },
     "execution_count": 13,
     "metadata": {},
     "output_type": "execute_result"
    }
   ],
   "source": [
    "pcat"
   ]
  },
  {
   "cell_type": "code",
   "execution_count": 14,
   "id": "373c1445-3d27-49f4-950f-7831f2917587",
   "metadata": {
    "tags": []
   },
   "outputs": [
    {
     "data": {
      "text/html": [
       "<div>\n",
       "<style scoped>\n",
       "    .dataframe tbody tr th:only-of-type {\n",
       "        vertical-align: middle;\n",
       "    }\n",
       "\n",
       "    .dataframe tbody tr th {\n",
       "        vertical-align: top;\n",
       "    }\n",
       "\n",
       "    .dataframe thead th {\n",
       "        text-align: right;\n",
       "    }\n",
       "</style>\n",
       "<table border=\"1\" class=\"dataframe\">\n",
       "  <thead>\n",
       "    <tr style=\"text-align: right;\">\n",
       "      <th></th>\n",
       "      <th>ID_VIV</th>\n",
       "      <th>FACTOR</th>\n",
       "      <th>MUN</th>\n",
       "      <th>NUMPERS</th>\n",
       "      <th>CLAVIVP</th>\n",
       "      <th>AUTOPROP</th>\n",
       "      <th>MOTOCICLETA</th>\n",
       "      <th>BICICLETA</th>\n",
       "      <th>CUADORM</th>\n",
       "      <th>TOTCUART</th>\n",
       "      <th>...</th>\n",
       "      <th>RADIO</th>\n",
       "      <th>TELEVISOR</th>\n",
       "      <th>COMPUTADORA</th>\n",
       "      <th>TELEFONO</th>\n",
       "      <th>CELULAR</th>\n",
       "      <th>INTERNET</th>\n",
       "      <th>SERV_TV_PAGA</th>\n",
       "      <th>SERV_PEL_PAGA</th>\n",
       "      <th>CON_VJUEGOS</th>\n",
       "      <th>JEFE_SEXO</th>\n",
       "    </tr>\n",
       "  </thead>\n",
       "  <tbody>\n",
       "    <tr>\n",
       "      <th>0</th>\n",
       "      <td>190010000001</td>\n",
       "      <td>1</td>\n",
       "      <td>Abasolo</td>\n",
       "      <td>5</td>\n",
       "      <td>Vivienda</td>\n",
       "      <td>No</td>\n",
       "      <td>No</td>\n",
       "      <td>No</td>\n",
       "      <td>1</td>\n",
       "      <td>2</td>\n",
       "      <td>...</td>\n",
       "      <td>Sí</td>\n",
       "      <td>Sí</td>\n",
       "      <td>Sí</td>\n",
       "      <td>No</td>\n",
       "      <td>Sí</td>\n",
       "      <td>No</td>\n",
       "      <td>Sí</td>\n",
       "      <td>No</td>\n",
       "      <td>Sí</td>\n",
       "      <td>F</td>\n",
       "    </tr>\n",
       "    <tr>\n",
       "      <th>1</th>\n",
       "      <td>190010000002</td>\n",
       "      <td>1</td>\n",
       "      <td>Abasolo</td>\n",
       "      <td>3</td>\n",
       "      <td>Vivienda</td>\n",
       "      <td>No</td>\n",
       "      <td>No</td>\n",
       "      <td>No</td>\n",
       "      <td>1</td>\n",
       "      <td>2</td>\n",
       "      <td>...</td>\n",
       "      <td>Sí</td>\n",
       "      <td>Sí</td>\n",
       "      <td>No</td>\n",
       "      <td>No</td>\n",
       "      <td>Sí</td>\n",
       "      <td>No</td>\n",
       "      <td>Sí</td>\n",
       "      <td>No</td>\n",
       "      <td>No</td>\n",
       "      <td>M</td>\n",
       "    </tr>\n",
       "    <tr>\n",
       "      <th>2</th>\n",
       "      <td>190010000003</td>\n",
       "      <td>1</td>\n",
       "      <td>Abasolo</td>\n",
       "      <td>3</td>\n",
       "      <td>Vivienda</td>\n",
       "      <td>No</td>\n",
       "      <td>No</td>\n",
       "      <td>No</td>\n",
       "      <td>1</td>\n",
       "      <td>3+</td>\n",
       "      <td>...</td>\n",
       "      <td>Sí</td>\n",
       "      <td>Sí</td>\n",
       "      <td>No</td>\n",
       "      <td>No</td>\n",
       "      <td>Sí</td>\n",
       "      <td>No</td>\n",
       "      <td>Sí</td>\n",
       "      <td>No</td>\n",
       "      <td>No</td>\n",
       "      <td>M</td>\n",
       "    </tr>\n",
       "    <tr>\n",
       "      <th>3</th>\n",
       "      <td>190010000004</td>\n",
       "      <td>1</td>\n",
       "      <td>Abasolo</td>\n",
       "      <td>3</td>\n",
       "      <td>Vivienda</td>\n",
       "      <td>No</td>\n",
       "      <td>No</td>\n",
       "      <td>Sí</td>\n",
       "      <td>1</td>\n",
       "      <td>2</td>\n",
       "      <td>...</td>\n",
       "      <td>Sí</td>\n",
       "      <td>Sí</td>\n",
       "      <td>No</td>\n",
       "      <td>No</td>\n",
       "      <td>Sí</td>\n",
       "      <td>No</td>\n",
       "      <td>Sí</td>\n",
       "      <td>No</td>\n",
       "      <td>No</td>\n",
       "      <td>M</td>\n",
       "    </tr>\n",
       "    <tr>\n",
       "      <th>4</th>\n",
       "      <td>190010000005</td>\n",
       "      <td>1</td>\n",
       "      <td>Abasolo</td>\n",
       "      <td>5</td>\n",
       "      <td>Vivienda</td>\n",
       "      <td>Sí</td>\n",
       "      <td>No</td>\n",
       "      <td>No</td>\n",
       "      <td>2+</td>\n",
       "      <td>3+</td>\n",
       "      <td>...</td>\n",
       "      <td>Sí</td>\n",
       "      <td>Sí</td>\n",
       "      <td>Sí</td>\n",
       "      <td>No</td>\n",
       "      <td>Sí</td>\n",
       "      <td>Sí</td>\n",
       "      <td>No</td>\n",
       "      <td>Sí</td>\n",
       "      <td>Sí</td>\n",
       "      <td>M</td>\n",
       "    </tr>\n",
       "    <tr>\n",
       "      <th>...</th>\n",
       "      <td>...</td>\n",
       "      <td>...</td>\n",
       "      <td>...</td>\n",
       "      <td>...</td>\n",
       "      <td>...</td>\n",
       "      <td>...</td>\n",
       "      <td>...</td>\n",
       "      <td>...</td>\n",
       "      <td>...</td>\n",
       "      <td>...</td>\n",
       "      <td>...</td>\n",
       "      <td>...</td>\n",
       "      <td>...</td>\n",
       "      <td>...</td>\n",
       "      <td>...</td>\n",
       "      <td>...</td>\n",
       "      <td>...</td>\n",
       "      <td>...</td>\n",
       "      <td>...</td>\n",
       "      <td>...</td>\n",
       "      <td>...</td>\n",
       "    </tr>\n",
       "    <tr>\n",
       "      <th>94172</th>\n",
       "      <td>190510000880</td>\n",
       "      <td>1</td>\n",
       "      <td>Villaldama</td>\n",
       "      <td>1</td>\n",
       "      <td>Vivienda</td>\n",
       "      <td>No</td>\n",
       "      <td>No</td>\n",
       "      <td>Sí</td>\n",
       "      <td>1</td>\n",
       "      <td>3+</td>\n",
       "      <td>...</td>\n",
       "      <td>No</td>\n",
       "      <td>Sí</td>\n",
       "      <td>No</td>\n",
       "      <td>No</td>\n",
       "      <td>Sí</td>\n",
       "      <td>No</td>\n",
       "      <td>No</td>\n",
       "      <td>No</td>\n",
       "      <td>No</td>\n",
       "      <td>M</td>\n",
       "    </tr>\n",
       "    <tr>\n",
       "      <th>94173</th>\n",
       "      <td>190510000881</td>\n",
       "      <td>2</td>\n",
       "      <td>Villaldama</td>\n",
       "      <td>1</td>\n",
       "      <td>Vivienda</td>\n",
       "      <td>No</td>\n",
       "      <td>No</td>\n",
       "      <td>No</td>\n",
       "      <td>1</td>\n",
       "      <td>3+</td>\n",
       "      <td>...</td>\n",
       "      <td>No</td>\n",
       "      <td>No</td>\n",
       "      <td>No</td>\n",
       "      <td>No</td>\n",
       "      <td>No</td>\n",
       "      <td>No</td>\n",
       "      <td>No</td>\n",
       "      <td>No</td>\n",
       "      <td>No</td>\n",
       "      <td>M</td>\n",
       "    </tr>\n",
       "    <tr>\n",
       "      <th>94174</th>\n",
       "      <td>190510000882</td>\n",
       "      <td>2</td>\n",
       "      <td>Villaldama</td>\n",
       "      <td>2</td>\n",
       "      <td>Vivienda</td>\n",
       "      <td>Sí</td>\n",
       "      <td>Sí</td>\n",
       "      <td>No</td>\n",
       "      <td>1</td>\n",
       "      <td>2</td>\n",
       "      <td>...</td>\n",
       "      <td>No</td>\n",
       "      <td>No</td>\n",
       "      <td>No</td>\n",
       "      <td>No</td>\n",
       "      <td>No</td>\n",
       "      <td>No</td>\n",
       "      <td>No</td>\n",
       "      <td>No</td>\n",
       "      <td>No</td>\n",
       "      <td>M</td>\n",
       "    </tr>\n",
       "    <tr>\n",
       "      <th>94175</th>\n",
       "      <td>190510000883</td>\n",
       "      <td>1</td>\n",
       "      <td>Villaldama</td>\n",
       "      <td>6</td>\n",
       "      <td>Vivienda</td>\n",
       "      <td>Sí</td>\n",
       "      <td>No</td>\n",
       "      <td>No</td>\n",
       "      <td>2+</td>\n",
       "      <td>3+</td>\n",
       "      <td>...</td>\n",
       "      <td>No</td>\n",
       "      <td>No</td>\n",
       "      <td>No</td>\n",
       "      <td>No</td>\n",
       "      <td>No</td>\n",
       "      <td>No</td>\n",
       "      <td>No</td>\n",
       "      <td>No</td>\n",
       "      <td>No</td>\n",
       "      <td>M</td>\n",
       "    </tr>\n",
       "    <tr>\n",
       "      <th>94176</th>\n",
       "      <td>190510000884</td>\n",
       "      <td>2</td>\n",
       "      <td>Villaldama</td>\n",
       "      <td>6</td>\n",
       "      <td>Vivienda</td>\n",
       "      <td>Sí</td>\n",
       "      <td>Sí</td>\n",
       "      <td>Sí</td>\n",
       "      <td>2+</td>\n",
       "      <td>3+</td>\n",
       "      <td>...</td>\n",
       "      <td>Sí</td>\n",
       "      <td>Sí</td>\n",
       "      <td>No</td>\n",
       "      <td>No</td>\n",
       "      <td>Sí</td>\n",
       "      <td>No</td>\n",
       "      <td>Sí</td>\n",
       "      <td>No</td>\n",
       "      <td>Sí</td>\n",
       "      <td>M</td>\n",
       "    </tr>\n",
       "  </tbody>\n",
       "</table>\n",
       "<p>94177 rows × 23 columns</p>\n",
       "</div>"
      ],
      "text/plain": [
       "             ID_VIV  FACTOR         MUN NUMPERS   CLAVIVP AUTOPROP  \\\n",
       "0      190010000001       1     Abasolo       5  Vivienda       No   \n",
       "1      190010000002       1     Abasolo       3  Vivienda       No   \n",
       "2      190010000003       1     Abasolo       3  Vivienda       No   \n",
       "3      190010000004       1     Abasolo       3  Vivienda       No   \n",
       "4      190010000005       1     Abasolo       5  Vivienda       Sí   \n",
       "...             ...     ...         ...     ...       ...      ...   \n",
       "94172  190510000880       1  Villaldama       1  Vivienda       No   \n",
       "94173  190510000881       2  Villaldama       1  Vivienda       No   \n",
       "94174  190510000882       2  Villaldama       2  Vivienda       Sí   \n",
       "94175  190510000883       1  Villaldama       6  Vivienda       Sí   \n",
       "94176  190510000884       2  Villaldama       6  Vivienda       Sí   \n",
       "\n",
       "      MOTOCICLETA BICICLETA CUADORM TOTCUART  ... RADIO TELEVISOR COMPUTADORA  \\\n",
       "0              No        No       1        2  ...    Sí        Sí          Sí   \n",
       "1              No        No       1        2  ...    Sí        Sí          No   \n",
       "2              No        No       1       3+  ...    Sí        Sí          No   \n",
       "3              No        Sí       1        2  ...    Sí        Sí          No   \n",
       "4              No        No      2+       3+  ...    Sí        Sí          Sí   \n",
       "...           ...       ...     ...      ...  ...   ...       ...         ...   \n",
       "94172          No        Sí       1       3+  ...    No        Sí          No   \n",
       "94173          No        No       1       3+  ...    No        No          No   \n",
       "94174          Sí        No       1        2  ...    No        No          No   \n",
       "94175          No        No      2+       3+  ...    No        No          No   \n",
       "94176          Sí        Sí      2+       3+  ...    Sí        Sí          No   \n",
       "\n",
       "      TELEFONO CELULAR INTERNET SERV_TV_PAGA SERV_PEL_PAGA CON_VJUEGOS  \\\n",
       "0           No      Sí       No           Sí            No          Sí   \n",
       "1           No      Sí       No           Sí            No          No   \n",
       "2           No      Sí       No           Sí            No          No   \n",
       "3           No      Sí       No           Sí            No          No   \n",
       "4           No      Sí       Sí           No            Sí          Sí   \n",
       "...        ...     ...      ...          ...           ...         ...   \n",
       "94172       No      Sí       No           No            No          No   \n",
       "94173       No      No       No           No            No          No   \n",
       "94174       No      No       No           No            No          No   \n",
       "94175       No      No       No           No            No          No   \n",
       "94176       No      Sí       No           Sí            No          Sí   \n",
       "\n",
       "      JEFE_SEXO  \n",
       "0             F  \n",
       "1             M  \n",
       "2             M  \n",
       "3             M  \n",
       "4             M  \n",
       "...         ...  \n",
       "94172         M  \n",
       "94173         M  \n",
       "94174         M  \n",
       "94175         M  \n",
       "94176         M  \n",
       "\n",
       "[94177 rows x 23 columns]"
      ]
     },
     "execution_count": 14,
     "metadata": {},
     "output_type": "execute_result"
    }
   ],
   "source": [
    "vcat"
   ]
  },
  {
   "cell_type": "code",
   "execution_count": null,
   "id": "51056eb5-a89b-4584-b813-92c9c4786ee7",
   "metadata": {},
   "outputs": [],
   "source": []
  },
  {
   "cell_type": "code",
   "execution_count": null,
   "id": "5488ebaf-2a00-4045-80ea-62a2d66b7cb5",
   "metadata": {},
   "outputs": [],
   "source": []
  },
  {
   "cell_type": "code",
   "execution_count": null,
   "id": "8fe9448c-7981-4572-81aa-aa7484e3f698",
   "metadata": {},
   "outputs": [],
   "source": []
  },
  {
   "cell_type": "code",
   "execution_count": null,
   "id": "a29bfa84-c2db-4ce8-b3fc-0b5685335d0a",
   "metadata": {},
   "outputs": [],
   "source": []
  },
  {
   "cell_type": "code",
   "execution_count": null,
   "id": "21acb53e-5287-40e7-b4bf-446d8b295f83",
   "metadata": {},
   "outputs": [],
   "source": []
  },
  {
   "cell_type": "code",
   "execution_count": null,
   "id": "4fdfbb99-8966-4405-b288-43cdfb13d442",
   "metadata": {},
   "outputs": [],
   "source": []
  },
  {
   "cell_type": "code",
   "execution_count": null,
   "id": "2c942ebc-2e81-4e2a-9404-58cc51aa5215",
   "metadata": {},
   "outputs": [],
   "source": []
  },
  {
   "cell_type": "code",
   "execution_count": 2,
   "id": "60f60fd0-439a-46d2-902f-13bf99eac465",
   "metadata": {
    "tags": []
   },
   "outputs": [],
   "source": [
    "%load_ext autoreload\n",
    "%autoreload 2\n",
    "\n",
    "import numpy as np\n",
    "import pandas as pd\n",
    "import scipy\n",
    "import geopandas as gpd\n",
    "import xarray as xr\n",
    "import sparse\n",
    "from itertools import product, combinations\n",
    "from pathlib import Path\n",
    "from pprint import pprint\n",
    "import matplotlib.pyplot as plt\n",
    "import matplotlib\n",
    "from collections import defaultdict\n",
    "\n",
    "pd.options.display.max_rows = 500\n",
    "#pd.options.display.max_columns = 4000\n",
    "\n",
    "import sys\n",
    "sys.path.append('../src/')\n",
    "\n",
    "from extended_survey import process_people_df, process_places_df, categorize_p, categorize_v\n",
    "from census import process_census\n",
    "from constraints import get_ind_const, get_viv_const\n",
    "\n",
    "survey_dir = Path('../data/cuestionario_ampliado/Censo2020_CA_nl_csv/')\n",
    "personas_path = Path('../data/cuestionario_ampliado/Censo2020_CA_nl_csv/Personas19.CSV')\n",
    "viviendas_path = Path('../data/cuestionario_ampliado/Censo2020_CA_nl_csv/Viviendas19.CSV')\n",
    "census_iter_path = Path('../data/census_loc/ITER_19CSV20.csv')\n",
    "census_resageburb_path = Path('../data/census_ageb_manz/RESAGEBURB_19CSV20.csv')\n",
    "output_path = Path('../output/')"
   ]
  },
  {
   "cell_type": "code",
   "execution_count": 3,
   "id": "f6e4d1d6-2e88-4850-828a-65a1034c1e89",
   "metadata": {
    "tags": []
   },
   "outputs": [
    {
     "name": "stdout",
     "output_type": "stream",
     "text": [
      "0.95276327279856\n",
      "0.9579107969282409\n"
     ]
    }
   ],
   "source": [
    "personas = process_people_df(personas_path)\n",
    "viviendas = process_places_df(viviendas_path)\n",
    "\n",
    "pcat = personas[[\n",
    "    'ID_PERSONA', 'ID_VIV', 'FACTOR', 'MUN',\n",
    "    'SEXO', 'EDAD',\n",
    "    # 'ENT_PAIS_NAC',\n",
    "    # 'AFRODES',\n",
    "    'DHSERSAL1', 'DHSERSAL2', 'RELIGION',\n",
    "    # 'DIS_VER', 'DIS_OIR', 'DIS_CAMINAR', 'DIS',\n",
    "    # 'DIS_RECORDAR', 'DIS_BANARSE', 'DIS_HABLAR', 'DIS_MENTAL',\n",
    "    # 'HLENGUA',\n",
    "    # 'HESPANOL',  # Global seed zero problem \n",
    "    'ASISTEN', 'NIVACAD', 'ESCOLARI', 'ALFABET',\n",
    "    # 'ENT_PAIS_RES_5A',\n",
    "    'SITUA_CONYUGAL', 'CONACT',\n",
    "    'INGTRMEN', 'HORTRA'\n",
    "]].copy()\n",
    "vcat = viviendas.copy()\n",
    "\n",
    "# Look for viviendas with NA\n",
    "na_vivs_v = vcat.ID_VIV[vcat.isna().T.sum() > 0].to_list()\n",
    "na_vivs_p = pcat.ID_VIV[pcat.isna().T.sum() > 0].to_list()\n",
    "na_vivs = set(na_vivs_v + na_vivs_p)\n",
    "\n",
    "# Drop NA before categorizing\n",
    "pcat = pcat[~pcat.ID_VIV.isin(na_vivs)].reset_index(drop=True)\n",
    "vcat = vcat[~vcat.ID_VIV.isin(na_vivs)].reset_index(drop=True)\n",
    "\n",
    "pcat = categorize_p(pcat)\n",
    "vcat = categorize_v(vcat)\n",
    "\n",
    "# Dopr NA again after discretizing\n",
    "na_vivs = pcat.ID_VIV[pcat.isna().T.sum() > 0].to_list()\n",
    "pcat = pcat[~pcat.ID_VIV.isin(na_vivs)].reset_index(drop=True)\n",
    "vcat = vcat[~vcat.ID_VIV.isin(na_vivs)].reset_index(drop=True)\n",
    "\n",
    "assert pcat.isna().sum().sum() == 0\n",
    "assert vcat.isna().sum().sum() == 0\n",
    "\n",
    "# Leave only constrained columns\n",
    "pcat = pcat[[\n",
    "    'ID_PERSONA', 'ID_VIV', 'FACTOR',\n",
    "    'MUN',\n",
    "    'SEXO', 'EDAD',\n",
    "    # 'ENT_PAIS_NAC',\n",
    "    # 'AFRODES',\n",
    "    #'RELIGION',\n",
    "    # 'DIS_VER', 'DIS_OIR', 'DIS_CAMINAR',\n",
    "    # 'DIS_RECORDAR', 'DIS_BANARSE', 'DIS_HABLAR', 'DIS_MENTAL',\n",
    "    # 'DIS_CON', 'DIS_LIMI',\n",
    "    # 'HLENGUA',\n",
    "    # 'HESPANOL',\n",
    "    'ASISTEN',  'EDUC',\n",
    "    # 'ALFABET',\n",
    "    # 'ENT_PAIS_RES_5A',\n",
    "    'SITUA_CONYUGAL',\n",
    "    'CONACT',\n",
    "    # 'DHSERSAL_IMSS', 'DHSERSAL_ISSSTE', 'DHSERSAL_ISSSTE_E', 'DHSERSAL_P_D_M',\n",
    "    # 'DHSERSAL_Popular_NGenración_SBienestar',\n",
    "    # 'DHSERSAL_IMSS_Prospera/Bienestar',\n",
    "    'DHSERSAL_Privado', 'DHSERSAL_Otro',\n",
    "    'DHSERSAL_No afiliado', 'DHSERSAL_PUB', 'DHSERSAL_AFIL',\n",
    "]]\n",
    "\n",
    "vcat = vcat[[\n",
    "    'ID_VIV', 'FACTOR', 'MUN', 'NUMPERS',\n",
    "    'CLAVIVP',\n",
    "    # 'PISOS',\n",
    "    'CUADORM', 'TOTCUART',\n",
    "    # 'ELECTRICIDAD', 'AGUA_ENTUBADA',\n",
    "    # 'ABA_AGUA_ENTU',\n",
    "    # 'TINACO', 'CISTERNA',\n",
    "    # 'SERSAN',\n",
    "    # 'CONAGUA',\n",
    "    # 'DRENAJE',\n",
    "    'REFRIGERADOR', 'LAVADORA', 'HORNO',\n",
    "    'AUTOPROP', 'MOTOCICLETA', 'BICICLETA', 'RADIO', 'TELEVISOR',\n",
    "    'COMPUTADORA', 'TELEFONO', 'CELULAR', 'INTERNET', 'SERV_TV_PAGA',\n",
    "    'SERV_PEL_PAGA', 'CON_VJUEGOS',\n",
    "    'JEFE_SEXO'\n",
    "]]\n",
    "\n",
    "print(pcat.shape[0]/personas.shape[0])\n",
    "print(vcat.shape[0]/viviendas.shape[0])"
   ]
  },
  {
   "cell_type": "code",
   "execution_count": 4,
   "id": "4fb6788e-3269-4b3a-bedd-9fba275ffe63",
   "metadata": {
    "tags": []
   },
   "outputs": [],
   "source": [
    "constraints_ind = get_ind_const()\n",
    "constraints_viv = get_viv_const()"
   ]
  },
  {
   "cell_type": "code",
   "execution_count": 5,
   "id": "42850ecb-0ccf-4c33-a818-89617913db6b",
   "metadata": {
    "tags": []
   },
   "outputs": [],
   "source": [
    "(\n",
    "    df_mun, df_loc,\n",
    "    df_agebs, df_agebs_min, df_agebs_max\n",
    ") = process_census(census_iter_path, census_resageburb_path)"
   ]
  },
  {
   "cell_type": "code",
   "execution_count": 5,
   "id": "0dd7b8a5-32d3-4ad7-b300-8a677d6efb5b",
   "metadata": {
    "tags": []
   },
   "outputs": [],
   "source": [
    "# Build matrices"
   ]
  },
  {
   "cell_type": "code",
   "execution_count": 6,
   "id": "62348bc3-f680-405c-95f8-3ba9ecb84146",
   "metadata": {
    "tags": []
   },
   "outputs": [],
   "source": [
    "from setup_lin_system import make_init_system, get_W"
   ]
  },
  {
   "cell_type": "code",
   "execution_count": 6,
   "id": "0a1969f0-0868-4a72-9883-31fc0b8bb585",
   "metadata": {
    "tags": []
   },
   "outputs": [
    {
     "ename": "NameError",
     "evalue": "name 'make_init_system' is not defined",
     "output_type": "error",
     "traceback": [
      "\u001b[0;31m---------------------------------------------------------------------------\u001b[0m",
      "\u001b[0;31mNameError\u001b[0m                                 Traceback (most recent call last)",
      "Cell \u001b[0;32mIn[6], line 1\u001b[0m\n\u001b[0;32m----> 1\u001b[0m X, I, J, L, W, Up, Uh, U, C, Y \u001b[38;5;241m=\u001b[39m \u001b[43mmake_init_system\u001b[49m(pcat, vcat, constraints_ind, constraints_viv, df_mun)\n",
      "\u001b[0;31mNameError\u001b[0m: name 'make_init_system' is not defined"
     ]
    }
   ],
   "source": [
    "X, I, J, L, W, Up, Uh, U, C, Y = make_init_system(pcat, vcat, constraints_ind, constraints_viv, df_mun)"
   ]
  },
  {
   "cell_type": "code",
   "execution_count": 8,
   "id": "a3d73740-c54a-4f04-a247-a5f71518734b",
   "metadata": {
    "tags": []
   },
   "outputs": [],
   "source": [
    "U.columns.name = 'ID_VIV'"
   ]
  },
  {
   "cell_type": "code",
   "execution_count": 9,
   "id": "b4914ec3-3581-4d7b-8275-d72f53e9cff3",
   "metadata": {
    "tags": []
   },
   "outputs": [
    {
     "data": {
      "text/plain": [
       "0.10308545561676379"
      ]
     },
     "execution_count": 9,
     "metadata": {},
     "output_type": "execute_result"
    }
   ],
   "source": [
    "X.shape[0]/pcat.shape[0]"
   ]
  },
  {
   "cell_type": "code",
   "execution_count": 10,
   "id": "8e973567-a38e-4444-8871-7149ab0b2b8b",
   "metadata": {
    "tags": []
   },
   "outputs": [
    {
     "data": {
      "text/plain": [
       "(51, 63)"
      ]
     },
     "execution_count": 10,
     "metadata": {},
     "output_type": "execute_result"
    }
   ],
   "source": [
    "C.shape"
   ]
  },
  {
   "cell_type": "code",
   "execution_count": 11,
   "id": "ac2fc138-cf42-472f-8db2-028e2718f915",
   "metadata": {
    "tags": []
   },
   "outputs": [
    {
     "data": {
      "text/plain": [
       "set()"
      ]
     },
     "execution_count": 11,
     "metadata": {},
     "output_type": "execute_result"
    }
   ],
   "source": [
    "mun_list = X.MUN.unique()\n",
    "const_zeroprob_list = []\n",
    "for mun in mun_list:\n",
    "    mun_mask = Y.MUN == mun\n",
    "    U_mun = U.loc[:, mun_mask]\n",
    "    const_zeroprob_list.extend(U_mun.index[U_mun.T.sum() == 0].to_list())\n",
    "set(const_zeroprob_list)"
   ]
  },
  {
   "cell_type": "code",
   "execution_count": 12,
   "id": "0b0471f4-4c1c-4787-a3fc-632cfcd8e5e9",
   "metadata": {
    "tags": []
   },
   "outputs": [
    {
     "name": "stdout",
     "output_type": "stream",
     "text": [
      "94177 orignal households compress into 72991 distinct prototypes.\n"
     ]
    }
   ],
   "source": [
    "# Reduce the number of variables by identifying equivalent households\n",
    "# These are equivalent from the perspective of the solver, since they\n",
    "# contribute equally to the constraints.\n",
    "# Other attributes may differ, but can be recovered in post-processing and\n",
    "# assigned accordingly to the sample proportions.\n",
    "gcols = U.index.to_list()\n",
    "H = U.T.copy()\n",
    "H = H.join(Y)\n",
    "H = H.reset_index().groupby(\n",
    "    gcols + ['MUN'], observed=True\n",
    ").agg(\n",
    "    {'ID_VIV': list} | {c: 'sum' for c in Y.columns.drop('MUN')}\n",
    ").reset_index().sort_values('MUN').reset_index()\n",
    "Uh = H[gcols].T\n",
    "Yh = H[Y.columns]\n",
    "h_to_y = H.ID_VIV\n",
    "#Yh = h_to_y.index\n",
    "print(f'{U.shape[1]} orignal households compress into {Uh.shape[1]} distinct prototypes.')"
   ]
  },
  {
   "cell_type": "code",
   "execution_count": 13,
   "id": "5b7d8e0e-efa1-4778-9d1f-6fbd3544185a",
   "metadata": {},
   "outputs": [],
   "source": [
    "from ortools.sat.python import cp_model"
   ]
  },
  {
   "cell_type": "code",
   "execution_count": 14,
   "id": "de1117ec-42b5-49a4-bf44-8bf1f49c27ba",
   "metadata": {
    "tags": []
   },
   "outputs": [],
   "source": [
    "def create_vars(model, Y, min_val, max_val, prefix=''):\n",
    "    y = {}\n",
    "    for var_id in Y:\n",
    "        y[var_id] = model.NewIntVar(min_val, max_val, f'{prefix}{var_id}')\n",
    "    return y"
   ]
  },
  {
   "cell_type": "code",
   "execution_count": 15,
   "id": "5f5158b5-ec34-4a99-a5dc-0de0ec0e94db",
   "metadata": {
    "tags": []
   },
   "outputs": [],
   "source": [
    "def create_const(model, C_dict, U, y, relax_factor=1):\n",
    "    for c_name, c_val in C_dict.items():\n",
    "        coefficients = U.loc[c_name][U.loc[c_name] > 0]\n",
    "        expressions = [y[vid] for vid in coefficients.index]\n",
    "        if c_name in ['POBTOT', 'TVIVHAB']:\n",
    "            model.Add(cp_model.LinearExpr.WeightedSum(expressions, coefficients.values) == c_val)\n",
    "        else:\n",
    "            model.Add(cp_model.LinearExpr.WeightedSum(expressions, coefficients.values) >= relax_factor*c_val)"
   ]
  },
  {
   "cell_type": "code",
   "execution_count": 16,
   "id": "8e5e3611-11de-45e1-a64d-a9441c86bcb6",
   "metadata": {
    "tags": []
   },
   "outputs": [],
   "source": [
    "def solve_sat_all(mun, df_mun, C, Yh, Uh, taz_path='taz_census.gpkg'):\n",
    "    \n",
    "    taz_gdf = gpd.read_file(taz_path, layer=mun)\n",
    "    print(f'{mun} has {taz_gdf.shape[0]} taz')\n",
    "    \n",
    "    # Total number of households\n",
    "    N_mun = int(df_mun.loc[mun, 'TVIVHAB'])\n",
    "\n",
    "    # Load the constraints as a dictionary\n",
    "    C_mun = C.loc[mun].astype(int).to_dict()\n",
    "    C_taz_all = taz_gdf.set_index('ZONA')[C_mun.keys()].fillna(0).astype(int)\n",
    "\n",
    "    # Get the sample households ids and the contraint weight matrix\n",
    "    Y_mun = Yh.loc[Yh[mun] > 0, mun]\n",
    "    U_mun = Uh.loc[:, Y_mun.index]\n",
    "    assert U_mun.T.duplicated().sum() == 0\n",
    "    \n",
    "    model = cp_model.CpModel()\n",
    "    \n",
    "    # Create municipality level variables\n",
    "    y_mun = create_vars(model, Y_mun.index, 1, N_mun)\n",
    "    \n",
    "    # Add municipality level constraints\n",
    "    create_const(model, C_mun, U_mun, y_mun)\n",
    "    \n",
    "    # Load TAZ into model\n",
    "    y_taz = {}\n",
    "    for taz, C_taz in C_taz_all.iterrows():\n",
    "        C_taz = C_taz.to_dict()\n",
    "        N_taz = C_taz['TVIVHAB']\n",
    "        if N_taz == 0:\n",
    "            print(f'Ignoring empty taz {taz}.')\n",
    "            continue\n",
    "        assert N_taz > 0\n",
    "    \n",
    "        # Add variables and constraints for specific taz\n",
    "        y_taz[taz] = create_vars(model, Y_mun.index, 0, N_taz, f'{taz}_')\n",
    "        create_const(model, C_taz, U_mun, y_taz[taz], relax_factor=1)\n",
    "        \n",
    "    # Create taz to mun hierarchichal constraints\n",
    "    for var_id, var_mun in y_mun.items():\n",
    "        var_tazs = []\n",
    "        for taz_dict in y_taz.values():\n",
    "            var_tazs.append(taz_dict[var_id])\n",
    "        model.Add(sum(var_tazs) == var_mun)\n",
    "    \n",
    "    # print(model.ModelStats())\n",
    "\n",
    "    solver = cp_model.CpSolver()\n",
    "\n",
    "    status = solver.Solve(model)\n",
    "    if status == cp_model.OPTIMAL or status == cp_model.FEASIBLE:\n",
    "        print('Solution found.')\n",
    "    else:\n",
    "        print(\"No solution found.\")\n",
    "        \n",
    "    return solver"
   ]
  },
  {
   "cell_type": "code",
   "execution_count": 38,
   "id": "17a09969-9437-429e-b243-a235022bcc3e",
   "metadata": {
    "tags": []
   },
   "outputs": [],
   "source": [
    "def solve_sat_single(mun, df_mun, C, Yh, Uh, taz_path='taz_census.gpkg'):\n",
    "    \n",
    "    taz_gdf = gpd.read_file(taz_path, layer=mun)\n",
    "    print(f'{mun} has {taz_gdf.shape[0]} taz')\n",
    "    \n",
    "    # Total number of households\n",
    "    N_mun = int(df_mun.loc[mun, 'TVIVHAB'])\n",
    "\n",
    "    # Load the constraints as a dictionary\n",
    "    C_mun = C.loc[mun].astype(int).to_dict()\n",
    "    C_taz_all = taz_gdf.set_index('ZONA')[C_mun.keys()].fillna(0).astype(int)\n",
    "\n",
    "    # Get the sample households ids and the contraint weight matrix\n",
    "    Y_mun = Yh.loc[Yh[mun] > 0, mun]\n",
    "    U_mun = Uh.loc[:, Y_mun.index]\n",
    "    assert U_mun.T.duplicated().sum() == 0\n",
    "    \n",
    "    # Load TAZ into model\n",
    "    for taz, C_taz in C_taz_all.iterrows():\n",
    "        if taz == -10: continue\n",
    "\n",
    "        C_taz = C_taz.to_dict()\n",
    "        N_taz = C_taz['TVIVHAB']\n",
    "        if N_taz == 0:\n",
    "            print(f'Ignoring empty taz {taz}.')\n",
    "            continue\n",
    "        assert N_taz > 0\n",
    "\n",
    "        model = cp_model.CpModel()\n",
    "             \n",
    "        # Add variables and constraints for specific taz\n",
    "        y_taz = create_vars(model, Y_mun.index, 0, N_taz, '')\n",
    "        create_const(model, C_taz, U_mun, y_taz, relax_factor=1)\n",
    "        \n",
    "        solver = cp_model.CpSolver()\n",
    "        \n",
    "        return solver, model, y_taz, Y_mun, C_taz, C_mun\n",
    "        \n",
    "        solution_printer = VarArraySolutionPrinter()\n",
    "        # Enumerate all solutions.\n",
    "        solver.parameters.enumerate_all_solutions = True\n",
    "        # Solve.\n",
    "        status = solver.Solve(model, solution_printer)\n",
    "        # status = solver.Solve(model)\n",
    "\n",
    "        if status == cp_model.OPTIMAL or status == cp_model.FEASIBLE:\n",
    "            print(f'Solution found for {taz}.')\n",
    "        else:\n",
    "            print(f\"No solution found for {taz}.\")\n",
    "            \n",
    "        return y_taz, solver, U_mun, C_taz, solution_printer"
   ]
  },
  {
   "cell_type": "code",
   "execution_count": 92,
   "id": "5effb75d-5a5d-4c58-9370-8fa7cbdba29e",
   "metadata": {
    "tags": []
   },
   "outputs": [
    {
     "name": "stdout",
     "output_type": "stream",
     "text": [
      "Monterrey has 89 taz\n"
     ]
    }
   ],
   "source": [
    "solver, model, y_taz, Y_mun, C_taz, C_mun = solve_sat_single('Monterrey', df_mun, C, Yh, Uh)"
   ]
  },
  {
   "cell_type": "code",
   "execution_count": 30,
   "id": "52c0a6f4-8437-4be2-81ce-c32415033b56",
   "metadata": {
    "tags": []
   },
   "outputs": [
    {
     "name": "stdout",
     "output_type": "stream",
     "text": [
      "satisfaction model '': (model_fingerprint: 0xdaa44dfbb84a649d)\n",
      "#Variables: 3'296\n",
      "  - 3'296 in [0,2406]\n",
      "#kLinearN: 63 (#terms: 99'996)\n"
     ]
    }
   ],
   "source": [
    "print(model.ModelStats())"
   ]
  },
  {
   "cell_type": "code",
   "execution_count": 67,
   "id": "57745709-3879-44cf-9b4d-e78869ad2939",
   "metadata": {
    "tags": []
   },
   "outputs": [
    {
     "name": "stdout",
     "output_type": "stream",
     "text": [
      "satisfaction model '': (model_fingerprint: 0x821976279636e877)\n",
      "#Variables: 6'592\n",
      "  - 3'296 in [0,2406]\n",
      "  - 3'296 in [0,726944028]\n",
      "#kLinMax: 3'296 (#expressions: 6'592)\n",
      "#kLinearN: 63 (#terms: 99'996)\n"
     ]
    }
   ],
   "source": [
    "print(model.ModelStats())"
   ]
  },
  {
   "cell_type": "code",
   "execution_count": 32,
   "id": "b6224b06-bd6d-4df8-a84f-5e02311fa7a7",
   "metadata": {
    "tags": []
   },
   "outputs": [
    {
     "data": {
      "text/plain": [
       "3296"
      ]
     },
     "execution_count": 32,
     "metadata": {},
     "output_type": "execute_result"
    }
   ],
   "source": [
    "len(y_taz)"
   ]
  },
  {
   "cell_type": "code",
   "execution_count": 40,
   "id": "d0d07581-0e95-4e1a-ba98-68a86f07618f",
   "metadata": {
    "tags": []
   },
   "outputs": [
    {
     "data": {
      "text/plain": [
       "302138"
      ]
     },
     "execution_count": 40,
     "metadata": {},
     "output_type": "execute_result"
    }
   ],
   "source": [
    "Y_mun.sum()"
   ]
  },
  {
   "cell_type": "code",
   "execution_count": 42,
   "id": "708f9f80-9158-4c47-bdaf-763b07228056",
   "metadata": {
    "tags": []
   },
   "outputs": [
    {
     "data": {
      "text/plain": [
       "2406"
      ]
     },
     "execution_count": 42,
     "metadata": {},
     "output_type": "execute_result"
    }
   ],
   "source": [
    "C_taz['TVIVHAB']"
   ]
  },
  {
   "cell_type": "code",
   "execution_count": 45,
   "id": "53bea06a-bf0a-465f-905c-7412bb798707",
   "metadata": {
    "tags": []
   },
   "outputs": [
    {
     "data": {
      "text/plain": [
       "329095"
      ]
     },
     "execution_count": 45,
     "metadata": {},
     "output_type": "execute_result"
    }
   ],
   "source": [
    "C_mun['TVIVHAB']"
   ]
  },
  {
   "cell_type": "code",
   "execution_count": 49,
   "id": "a434744d-a0ae-4e21-89e0-cb56680d258b",
   "metadata": {
    "tags": []
   },
   "outputs": [
    {
     "data": {
      "text/plain": [
       "303156"
      ]
     },
     "execution_count": 49,
     "metadata": {},
     "output_type": "execute_result"
    }
   ],
   "source": [
    "round(302138/2406)*2406"
   ]
  },
  {
   "cell_type": "code",
   "execution_count": 51,
   "id": "8084fde7-5d80-4440-95ae-d00a78417315",
   "metadata": {
    "tags": []
   },
   "outputs": [],
   "source": [
    "Ns = Y_mun.sum() # Total H in survey\n",
    "Nt = C_taz['TVIVHAB']  # Total H in TAZ"
   ]
  },
  {
   "cell_type": "code",
   "execution_count": 54,
   "id": "143166c2-2045-453a-a9d8-25434f25ca0f",
   "metadata": {
    "tags": []
   },
   "outputs": [
    {
     "data": {
      "text/plain": [
       "125.57689110556942"
      ]
     },
     "execution_count": 54,
     "metadata": {},
     "output_type": "execute_result"
    }
   ],
   "source": [
    "Ns/Nt"
   ]
  },
  {
   "cell_type": "code",
   "execution_count": 65,
   "id": "36c6152f-fff4-43d4-bffb-fdcf1fde5804",
   "metadata": {
    "tags": []
   },
   "outputs": [
    {
     "data": {
      "text/plain": [
       "53257     65\n",
       "53258     78\n",
       "53259    132\n",
       "53260    125\n",
       "53261     60\n",
       "        ... \n",
       "56548     56\n",
       "56549     64\n",
       "56550     60\n",
       "56551     62\n",
       "56552     56\n",
       "Name: Monterrey, Length: 3296, dtype: int64"
      ]
     },
     "execution_count": 65,
     "metadata": {},
     "output_type": "execute_result"
    }
   ],
   "source": [
    "Y_mun"
   ]
  },
  {
   "cell_type": "code",
   "execution_count": 62,
   "id": "3db9081c-78a6-4db8-be83-133ba65cccb3",
   "metadata": {
    "tags": []
   },
   "outputs": [
    {
     "data": {
      "text/plain": [
       "53257(0..2406)"
      ]
     },
     "execution_count": 62,
     "metadata": {},
     "output_type": "execute_result"
    }
   ],
   "source": [
    "y_taz[53257]"
   ]
  },
  {
   "cell_type": "code",
   "execution_count": 93,
   "id": "b68a6104-c2f6-428a-bf57-9173ad948297",
   "metadata": {
    "tags": []
   },
   "outputs": [],
   "source": [
    "# Create abs val intermediate variables\n",
    "abs_vars = {}\n",
    "max_abs = Ns*Nt\n",
    "for var_id, var_taz in y_taz.items():\n",
    "    abs_vars[var_id] = model.NewIntVar(0, max_abs, f'abs_{var_id}')\n",
    "    model.AddAbsEquality(abs_vars[var_id], Ns*y_taz[var_id] - Nt*Y_mun.loc[var_id])"
   ]
  },
  {
   "cell_type": "code",
   "execution_count": 78,
   "id": "290bfe63-f044-43fa-b425-9f39ee9d48fa",
   "metadata": {
    "tags": []
   },
   "outputs": [],
   "source": [
    "# Create abs val intermediate variables\n",
    "abs_vars = {}\n",
    "factor = round(Ns/Nt)\n",
    "max_abs = Ns\n",
    "for var_id, var_taz in y_taz.items():\n",
    "    abs_vars[var_id] = model.NewIntVar(0, max_abs, f'abs_{var_id}')\n",
    "    model.AddAbsEquality(abs_vars[var_id], factor*y_taz[var_id] - Y_mun.loc[var_id])"
   ]
  },
  {
   "cell_type": "code",
   "execution_count": 94,
   "id": "105c40d5-c2bf-4988-9020-2b03daed9864",
   "metadata": {
    "tags": []
   },
   "outputs": [],
   "source": [
    "# Create objective function\n",
    "model.Minimize(sum(abs_vars.values()))"
   ]
  },
  {
   "cell_type": "code",
   "execution_count": 100,
   "id": "c30db922-678c-44b9-a0e9-c58e8ffb3f02",
   "metadata": {
    "tags": []
   },
   "outputs": [],
   "source": [
    "solver.parameters.relative_gap_limit = 0.01"
   ]
  },
  {
   "cell_type": "code",
   "execution_count": null,
   "id": "73fb34de-a47a-4a76-8dcb-70d087cb5be3",
   "metadata": {
    "tags": []
   },
   "outputs": [],
   "source": [
    "%%time\n",
    "status = solver.Solve(model)\n",
    "if status == cp_model.OPTIMAL or status == cp_model.FEASIBLE:\n",
    "    print(f'Solution found.')\n",
    "else:\n",
    "    print(f\"No solution found.\")"
   ]
  },
  {
   "cell_type": "code",
   "execution_count": 97,
   "id": "092c08cd-0570-4924-baca-1465f5888f83",
   "metadata": {
    "tags": []
   },
   "outputs": [
    {
     "data": {
      "text/plain": [
       "451669418.0"
      ]
     },
     "execution_count": 97,
     "metadata": {},
     "output_type": "execute_result"
    }
   ],
   "source": [
    "solver.BestObjectiveBound()"
   ]
  },
  {
   "cell_type": "code",
   "execution_count": 99,
   "id": "e7fe29ef-1ed8-45e6-930b-300f40b405aa",
   "metadata": {
    "tags": []
   },
   "outputs": [
    {
     "data": {
      "text/plain": [
       "197469.7123857024"
      ]
     },
     "execution_count": 99,
     "metadata": {},
     "output_type": "execute_result"
    }
   ],
   "source": [
    "solver.ObjectiveValue()"
   ]
  },
  {
   "cell_type": "code",
   "execution_count": 90,
   "id": "8e276b3e-2bdf-4e5f-86ea-e8c7e0457a25",
   "metadata": {
    "tags": []
   },
   "outputs": [
    {
     "data": {
      "text/plain": [
       "3296"
      ]
     },
     "execution_count": 90,
     "metadata": {},
     "output_type": "execute_result"
    }
   ],
   "source": [
    "len(y_taz)"
   ]
  },
  {
   "cell_type": "code",
   "execution_count": 91,
   "id": "9506a3f6-5f48-4e11-b2b0-f2ab77745aa3",
   "metadata": {
    "tags": []
   },
   "outputs": [
    {
     "data": {
      "text/plain": [
       "59.71480582524272"
      ]
     },
     "execution_count": 91,
     "metadata": {},
     "output_type": "execute_result"
    }
   ],
   "source": [
    "196820/3296"
   ]
  },
  {
   "cell_type": "code",
   "execution_count": 22,
   "id": "c77d05be-40bf-434e-8ebe-fd9ddf8ca365",
   "metadata": {
    "tags": []
   },
   "outputs": [],
   "source": [
    "class VarArraySolutionPrinter(cp_model.CpSolverSolutionCallback):\n",
    "    \"\"\"Print intermediate solutions.\"\"\"\n",
    "\n",
    "    def __init__(self):\n",
    "        cp_model.CpSolverSolutionCallback.__init__(self)\n",
    "        # self.__variables = variables\n",
    "        self.__solution_count = 0\n",
    "\n",
    "    def on_solution_callback(self):\n",
    "        self.__solution_count += 1\n",
    "        #for v in self.__variables:\n",
    "        #    print(f\"{v}={self.Value(v)}\", end=\" \")\n",
    "        #print()\n",
    "\n",
    "    def solution_count(self):\n",
    "        return self.__solution_count"
   ]
  },
  {
   "cell_type": "code",
   "execution_count": 248,
   "id": "8485b01a-98cf-44c2-8d53-63a5551405cb",
   "metadata": {
    "tags": []
   },
   "outputs": [
    {
     "name": "stdout",
     "output_type": "stream",
     "text": [
      "Monterrey has 89 taz\n",
      "Solution found for 1.\n",
      "CPU times: user 18min 16s, sys: 10.2 s, total: 18min 26s\n",
      "Wall time: 18min 26s\n"
     ]
    },
    {
     "data": {
      "text/plain": [
       "1409"
      ]
     },
     "execution_count": 248,
     "metadata": {},
     "output_type": "execute_result"
    }
   ],
   "source": [
    "%%time\n",
    "y_taz, solver, U_mun, C_taz, printer = solve_sat_single('Monterrey', df_mun, C, Yh, Uh)\n",
    "printer.solution_count()"
   ]
  },
  {
   "cell_type": "code",
   "execution_count": 249,
   "id": "bd9c4f6c-b459-40af-bef0-145596659c84",
   "metadata": {
    "tags": []
   },
   "outputs": [],
   "source": [
    "y_sol = solver.Values(pd.Series(y_taz))"
   ]
  },
  {
   "cell_type": "code",
   "execution_count": 250,
   "id": "9ea21095-9325-43ad-8e4d-4ddc1da549a0",
   "metadata": {
    "tags": []
   },
   "outputs": [
    {
     "data": {
      "text/plain": [
       "array([2406, 1316, 1090,  395,  846, 6154, 2987, 3167,  215,  168,   47,\n",
       "       5939, 3120, 2819, 5873, 3103, 2770, 5420, 2749, 2671, 5336, 2711,\n",
       "       2625, 4684, 2660, 2024,  110,   61,   49,  409,  310,   99,  472,\n",
       "        347,  125,   84,   38,   46,  652,   51,  601,  962,  273,  689,\n",
       "       1011,  465,  546,   66,   13,  577,  230,   27,   41,  437,  275,\n",
       "        733, 3260, 3632, 1482, 2150, 1788, 1189,  599])"
      ]
     },
     "execution_count": 250,
     "metadata": {},
     "output_type": "execute_result"
    }
   ],
   "source": [
    "U_mun.values @ y_sol.values"
   ]
  },
  {
   "cell_type": "code",
   "execution_count": 213,
   "id": "2e9cdad6-9ee1-40b7-a56d-766e97a015c6",
   "metadata": {
    "tags": []
   },
   "outputs": [],
   "source": [
    "viv_ids = []\n",
    "for l in h_to_y[y_sol[y_sol > 0].index].values:\n",
    "    viv_ids.extend(l)"
   ]
  },
  {
   "cell_type": "code",
   "execution_count": 214,
   "id": "bd3aa313-cff8-40ea-aa2f-abe3e747b434",
   "metadata": {
    "tags": []
   },
   "outputs": [],
   "source": [
    "vivtemp = viviendas.set_index('ID_VIV').loc[viv_ids]"
   ]
  },
  {
   "cell_type": "code",
   "execution_count": 215,
   "id": "41b2ecd3-c369-4e0a-8858-b97f8101370e",
   "metadata": {
    "tags": []
   },
   "outputs": [
    {
     "data": {
      "text/html": [
       "<div>\n",
       "<style scoped>\n",
       "    .dataframe tbody tr th:only-of-type {\n",
       "        vertical-align: middle;\n",
       "    }\n",
       "\n",
       "    .dataframe tbody tr th {\n",
       "        vertical-align: top;\n",
       "    }\n",
       "\n",
       "    .dataframe thead th {\n",
       "        text-align: right;\n",
       "    }\n",
       "</style>\n",
       "<table border=\"1\" class=\"dataframe\">\n",
       "  <thead>\n",
       "    <tr style=\"text-align: right;\">\n",
       "      <th>AUTOPROP</th>\n",
       "      <th>Sí</th>\n",
       "      <th>No</th>\n",
       "    </tr>\n",
       "    <tr>\n",
       "      <th>MOTOCICLETA</th>\n",
       "      <th></th>\n",
       "      <th></th>\n",
       "    </tr>\n",
       "  </thead>\n",
       "  <tbody>\n",
       "    <tr>\n",
       "      <th>Sí</th>\n",
       "      <td>1</td>\n",
       "      <td>1</td>\n",
       "    </tr>\n",
       "    <tr>\n",
       "      <th>No</th>\n",
       "      <td>14</td>\n",
       "      <td>12</td>\n",
       "    </tr>\n",
       "  </tbody>\n",
       "</table>\n",
       "</div>"
      ],
      "text/plain": [
       "AUTOPROP     Sí  No\n",
       "MOTOCICLETA        \n",
       "Sí            1   1\n",
       "No           14  12"
      ]
     },
     "execution_count": 215,
     "metadata": {},
     "output_type": "execute_result"
    }
   ],
   "source": [
    "pd.crosstab(vivtemp.MOTOCICLETA, vivtemp.AUTOPROP)"
   ]
  },
  {
   "cell_type": "code",
   "execution_count": 232,
   "id": "c9c599ee-43eb-40e4-b4de-d5e2289dc58e",
   "metadata": {
    "tags": []
   },
   "outputs": [
    {
     "data": {
      "text/plain": [
       "ID_VIV\n",
       "190390000001    0.541501\n",
       "190390000002    0.541501\n",
       "190390000003    0.541501\n",
       "190390000004    0.541501\n",
       "190390000005    0.541501\n",
       "                  ...   \n",
       "190390005155    0.015926\n",
       "190390005156    0.015926\n",
       "190390005157    0.015926\n",
       "190390005158    0.015926\n",
       "190390005159    0.015926\n",
       "Name: Monterrey, Length: 4794, dtype: float64"
      ]
     },
     "execution_count": 232,
     "metadata": {},
     "output_type": "execute_result"
    }
   ],
   "source": [
    "(Y['Monterrey'] * 2406 / Y['Monterrey'].sum())[Y['Monterrey'] > 0]"
   ]
  },
  {
   "cell_type": "code",
   "execution_count": 180,
   "id": "24f0e64c-6373-4bb5-acad-4209b093c10b",
   "metadata": {
    "tags": []
   },
   "outputs": [
    {
     "data": {
      "text/plain": [
       "53257    0\n",
       "53258    0\n",
       "53259    0\n",
       "53260    0\n",
       "53261    0\n",
       "        ..\n",
       "56548    0\n",
       "56549    0\n",
       "56550    0\n",
       "56551    0\n",
       "56552    0\n",
       "Length: 3296, dtype: int64"
      ]
     },
     "execution_count": 180,
     "metadata": {},
     "output_type": "execute_result"
    }
   ],
   "source": [
    "solver.Values(pd.Series(y_taz))"
   ]
  },
  {
   "cell_type": "code",
   "execution_count": null,
   "id": "af4ce262-9ff8-4ac2-8246-e53af67fe2b3",
   "metadata": {},
   "outputs": [],
   "source": []
  }
 ],
 "metadata": {
  "kernelspec": {
   "display_name": "Python 3 (ipykernel)",
   "language": "python",
   "name": "python3"
  },
  "language_info": {
   "codemirror_mode": {
    "name": "ipython",
    "version": 3
   },
   "file_extension": ".py",
   "mimetype": "text/x-python",
   "name": "python",
   "nbconvert_exporter": "python",
   "pygments_lexer": "ipython3",
   "version": "3.11.0"
  }
 },
 "nbformat": 4,
 "nbformat_minor": 5
}
