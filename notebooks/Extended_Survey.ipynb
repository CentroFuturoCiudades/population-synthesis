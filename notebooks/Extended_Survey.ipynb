{
 "cells": [
  {
   "cell_type": "markdown",
   "id": "e706a3f3-2a2c-45d2-a82e-b12a68f17aa9",
   "metadata": {},
   "source": [
    "# Processing of census extended survey data\n",
    "\n",
    "**Objective:** Load survey data into a categorical data frame with expliciy categories per columns. Categories must match census contraints."
   ]
  },
  {
   "cell_type": "markdown",
   "id": "b50f647f-1177-4349-9511-be6aa1d8941f",
   "metadata": {},
   "source": [
    "Extended survey data is provided in two tables, one with people data and one with household data.\n",
    "Each person in the people table has a household ID that identifies people belonging to the same household.\n",
    "\n",
    "The census extended survey is representative at municipality level, and si provided with expanded weights that match municipality population that live in particular dwellings. It excludes population in collective dwellings and homeless people, which are included in census statistics.\n",
    "\n",
    "Valid categories for each variable are provided in `survey_categories.json` as a map from the original codes to the categorie actual value.\n",
    "\n",
    "The special variables `ID_PERSONA`, `ID_VIV`, and `FACTOR` hold the person id, the household id, and the original survey weight respectively.\n",
    "\n",
    "The numerical variable `NUMPER`holds the person id within the household, is otherwise not needed.\n",
    "\n",
    "The numerical variables `EDAD` holds age with a maximum of 130 years, 999 encodes missing values.\n",
    "\n",
    "All other variables are categorical, and are encoded as such with the categories part of the data type with codes corresponding to the original ones. TODO"
   ]
  },
  {
   "cell_type": "code",
   "execution_count": 73,
   "id": "268ee6c9-069e-49bd-aa4d-5d282782cdc7",
   "metadata": {},
   "outputs": [],
   "source": [
    "import yaml\n",
    "from pathlib import Path\n",
    "from yaml import CLoader"
   ]
  },
  {
   "cell_type": "code",
   "execution_count": 1,
   "id": "94673964-ba68-4d11-96bb-ed69d50669b7",
   "metadata": {},
   "outputs": [],
   "source": [
    "import sys\n",
    "sys.path.append('../src/')"
   ]
  },
  {
   "cell_type": "code",
   "execution_count": 11,
   "id": "d1aa0017-398e-4cdc-9af2-450b319aa0cd",
   "metadata": {},
   "outputs": [],
   "source": [
    "from categories import load_mun_defs, defs"
   ]
  },
  {
   "cell_type": "code",
   "execution_count": 83,
   "id": "b0fc8ab4-83b5-47ed-8736-b76d862344fb",
   "metadata": {},
   "outputs": [
    {
     "data": {
      "text/plain": [
       "{1: 'Sí', 3: 'No', 9: 'No especificado', (0, 0): 'a'}"
      ]
     },
     "execution_count": 83,
     "metadata": {},
     "output_type": "execute_result"
    }
   ],
   "source": [
    "with open(\"../src/survey_categories.yaml\", 'r') as file:\n",
    "    categories = yaml.full_load(file)\n",
    "categories[\"ASISTEN\"]"
   ]
  },
  {
   "cell_type": "markdown",
   "id": "ceee4734-6bbf-45d3-9d31-86ebd776ae60",
   "metadata": {},
   "source": [
    "## Original version, with data validation."
   ]
  },
  {
   "cell_type": "code",
   "execution_count": 36,
   "id": "d082d1c7-7a58-46c4-bd86-183517af0197",
   "metadata": {},
   "outputs": [],
   "source": [
    "import pandas as pd"
   ]
  },
  {
   "cell_type": "code",
   "execution_count": 59,
   "id": "82f7079c-afbc-487f-81d1-cb8c262c743c",
   "metadata": {},
   "outputs": [
    {
     "data": {
      "text/plain": [
       "MUN\n",
       "1      2937\n",
       "2      3321\n",
       "3      1392\n",
       "4      4942\n",
       "5      4435\n",
       "6     18513\n",
       "7      4587\n",
       "8      3630\n",
       "9      6422\n",
       "10    15473\n",
       "11     3185\n",
       "12     9167\n",
       "13     3083\n",
       "14     6438\n",
       "15     1344\n",
       "16     3228\n",
       "17     6569\n",
       "18    19134\n",
       "19     4847\n",
       "20     2715\n",
       "21    16130\n",
       "22     4398\n",
       "23     1794\n",
       "24     3537\n",
       "25     9890\n",
       "26    17045\n",
       "27     1921\n",
       "28     1382\n",
       "29     3395\n",
       "30     3269\n",
       "31    26018\n",
       "32     3073\n",
       "33     7483\n",
       "34     2654\n",
       "35     1401\n",
       "36     4288\n",
       "37     3413\n",
       "38     5193\n",
       "39    18153\n",
       "40      895\n",
       "41     7317\n",
       "42     3061\n",
       "43     2352\n",
       "44     5014\n",
       "45     6019\n",
       "46    17772\n",
       "47     4703\n",
       "48    21105\n",
       "49     4661\n",
       "50     1546\n",
       "51     2422\n",
       "Name: count, dtype: int64"
      ]
     },
     "execution_count": 59,
     "metadata": {},
     "output_type": "execute_result"
    }
   ],
   "source": [
    "pd.read_csv('../data/cuestionario_ampliado/Censo2020_CA_nl_csv/Personas19.CSV').MUN.value_counts(dropna=False).sort_index()"
   ]
  },
  {
   "cell_type": "code",
   "execution_count": 23,
   "id": "23722860-57a2-4994-8a76-969101556984",
   "metadata": {},
   "outputs": [],
   "source": [
    "from extended_survey import process_people_df, process_places_df, categorize_p, categorize_v\n",
    "\n",
    "# Define data paths\n",
    "personas_path = Path('../data/cuestionario_ampliado/Censo2020_CA_nl_csv/Personas19.CSV')\n",
    "viviendas_path = Path('../data/cuestionario_ampliado/Censo2020_CA_nl_csv/Viviendas19.CSV')\n",
    "\n",
    "# Load survey data\n",
    "personas = process_people_df(personas_path)\n",
    "viviendas = process_places_df(viviendas_path)"
   ]
  },
  {
   "cell_type": "code",
   "execution_count": 32,
   "id": "f144de0c-f5d4-4081-b250-820a782336f7",
   "metadata": {},
   "outputs": [
    {
     "data": {
      "text/plain": [
       "PARENTESCO\n",
       "Hija(o)                                        127303\n",
       "Jefa(e)                                         98315\n",
       "Esposa(o)                                       68228\n",
       "Nieta(o)                                        19521\n",
       "Nuera o yerno                                    6059\n",
       "Hermana(o)                                       3730\n",
       "Sobrina(o)                                       2498\n",
       "Madre o padre                                    2345\n",
       "Sin parentesco                                   1603\n",
       "Cuñada(o)                                        1480\n",
       "Suegra(o)                                        1225\n",
       "Otros familiares                                 1172\n",
       "Hijastra(o)                                       998\n",
       "Bisnieta(o) o tataranieta(o)                      527\n",
       "Prima(o)                                          517\n",
       "Trabajador(a) doméstico(a)                        334\n",
       "Tía(o)                                            250\n",
       "NaN                                                95\n",
       "Abuela(o)                                          88\n",
       "Concuña(o)                                         77\n",
       "Esposa(o) de nieto(a)                              75\n",
       "Madrastra o padrastro                              45\n",
       "Concubina(o) o unión libre                         42\n",
       "Sobrina(o) nieta(o)                                29\n",
       "Ahijada(o)                                         19\n",
       "Nietastra(o)                                       17\n",
       "Hija(o) de trabajador(a) doméstico(a)              17\n",
       "Hija(o) adoptiva(o)                                16\n",
       "Huésped                                            16\n",
       "Consuegra(o)                                        9\n",
       "Comadre o compadre                                  8\n",
       "Madrina o padrino                                   2\n",
       "Tutelada(o)                                         1\n",
       "Bisabuela(o) o tatarabuela(o)                       1\n",
       "Esposa(o) de trabajador(a) doméstico(a)             1\n",
       "Hermanastra(o)                                      1\n",
       "Media(o) hermana(o)                                 1\n",
       "Hija(o) de crianza                                  1\n",
       "Amante o querida(o)                                 0\n",
       "Tutor(a)                                            0\n",
       "Otro pariente de trabajador(a) doméstico(a)         0\n",
       "Name: count, dtype: int64"
      ]
     },
     "execution_count": 32,
     "metadata": {},
     "output_type": "execute_result"
    }
   ],
   "source": [
    "personas.PARENTESCO.value_counts(dropna=False)"
   ]
  },
  {
   "cell_type": "markdown",
   "id": "c2feeadc-508d-415f-bf97-8ea2cd395ecc",
   "metadata": {},
   "source": [
    "## Categorized version that matches census constraints"
   ]
  },
  {
   "cell_type": "code",
   "execution_count": null,
   "id": "9e6a7303-056f-49f1-a794-27c49b593032",
   "metadata": {},
   "outputs": [],
   "source": []
  },
  {
   "cell_type": "markdown",
   "id": "b97dbd59-bd23-43e2-a4ef-383bdddd4b69",
   "metadata": {},
   "source": [
    "## Aditional simplifications to key categories"
   ]
  },
  {
   "cell_type": "code",
   "execution_count": null,
   "id": "1cb8969e-a8f8-41d0-b8ec-77f58b47b8ce",
   "metadata": {},
   "outputs": [],
   "source": []
  }
 ],
 "metadata": {
  "kernelspec": {
   "display_name": "Python 3 (ipykernel)",
   "language": "python",
   "name": "python3"
  },
  "language_info": {
   "codemirror_mode": {
    "name": "ipython",
    "version": 3
   },
   "file_extension": ".py",
   "mimetype": "text/x-python",
   "name": "python",
   "nbconvert_exporter": "python",
   "pygments_lexer": "ipython3",
   "version": "3.11.10"
  }
 },
 "nbformat": 4,
 "nbformat_minor": 5
}
