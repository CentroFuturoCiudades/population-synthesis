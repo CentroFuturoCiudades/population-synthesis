{
 "cells": [
  {
   "cell_type": "code",
   "execution_count": 1,
   "id": "04a3961e-a5e7-42a1-9b08-301efd798e90",
   "metadata": {
    "tags": []
   },
   "outputs": [],
   "source": [
    "%load_ext autoreload\n",
    "%autoreload 2\n",
    "\n",
    "import numpy as np\n",
    "import pandas as pd\n",
    "import xarray as xr\n",
    "import sparse\n",
    "from itertools import product, combinations\n",
    "from pathlib import Path\n",
    "from pprint import pprint\n",
    "import matplotlib.pyplot as plt\n",
    "import matplotlib\n",
    "\n",
    "pd.options.display.max_rows = 500\n",
    "#pd.options.display.max_columns = 4000\n",
    "\n",
    "import sys\n",
    "sys.path.append('../src/')\n",
    "\n",
    "# import categories as cats\n",
    "# import constraints"
   ]
  },
  {
   "cell_type": "code",
   "execution_count": 2,
   "id": "a4af8413-b622-46a4-9d6b-6657d80ed325",
   "metadata": {
    "tags": []
   },
   "outputs": [],
   "source": [
    "from extended_survey import process_people_df\n",
    "from census import process_census\n",
    "from constraints import get_ind_const\n",
    "\n",
    "from setup_lin_system import setup_ls\n",
    "\n",
    "from ipf import check_solvable"
   ]
  },
  {
   "cell_type": "code",
   "execution_count": 3,
   "id": "39849994-a6c7-419b-95e6-b02af379bfca",
   "metadata": {
    "tags": []
   },
   "outputs": [],
   "source": [
    "constraints_ind = get_ind_const()"
   ]
  },
  {
   "cell_type": "code",
   "execution_count": 4,
   "id": "03657b4a-7bc4-44c7-95e2-0b3ad9c74ea1",
   "metadata": {
    "tags": []
   },
   "outputs": [],
   "source": [
    "survey_dir = Path('../data/cuestionario_ampliado/Censo2020_CA_nl_csv/')\n",
    "personas_path = Path('../data/cuestionario_ampliado/Censo2020_CA_nl_csv/Personas19.CSV')\n",
    "census_iter_path = Path('../data/census_loc/ITER_19CSV20.csv')\n",
    "census_resageburb_path = Path('../data/census_ageb_manz/RESAGEBURB_19CSV20.csv')"
   ]
  },
  {
   "cell_type": "code",
   "execution_count": 5,
   "id": "18a14b50-d24c-48e9-ac94-1e43a8e3aa85",
   "metadata": {
    "tags": []
   },
   "outputs": [
    {
     "name": "stdout",
     "output_type": "stream",
     "text": [
      "CPU times: user 9.29 s, sys: 436 ms, total: 9.73 s\n",
      "Wall time: 9.73 s\n"
     ]
    }
   ],
   "source": [
    "%%time\n",
    "personas_cat = process_people_df(personas_path)"
   ]
  },
  {
   "cell_type": "code",
   "execution_count": 6,
   "id": "a3da50ee-f528-4908-b940-90c0fd97f6f1",
   "metadata": {
    "tags": []
   },
   "outputs": [
    {
     "name": "stdout",
     "output_type": "stream",
     "text": [
      "CPU times: user 10.7 s, sys: 1.2 s, total: 11.9 s\n",
      "Wall time: 11.9 s\n"
     ]
    }
   ],
   "source": [
    "%%time\n",
    "(\n",
    "    df_mun, df_mun_min, df_mun_max,\n",
    "    df_loc, df_loc_min, df_loc_max,\n",
    "    df_agebs, df_agebs_min, df_agebs_max\n",
    ") = process_census(census_iter_path, census_resageburb_path)"
   ]
  },
  {
   "cell_type": "code",
   "execution_count": 293,
   "id": "436d2390-8537-449e-98c0-96e781c564e4",
   "metadata": {
    "tags": []
   },
   "outputs": [
    {
     "name": "stderr",
     "output_type": "stream",
     "text": [
      "0it [00:00, ?it/s]"
     ]
    },
    {
     "name": "stdout",
     "output_type": "stream",
     "text": [
      "Abasolo\n",
      "Filling ...\n"
     ]
    },
    {
     "name": "stderr",
     "output_type": "stream",
     "text": [
      "1it [00:09,  9.11s/it]"
     ]
    },
    {
     "name": "stdout",
     "output_type": "stream",
     "text": [
      "Done.\n",
      "Agualeguas\n"
     ]
    },
    {
     "name": "stderr",
     "output_type": "stream",
     "text": [
      "2it [00:13,  6.16s/it]"
     ]
    },
    {
     "name": "stdout",
     "output_type": "stream",
     "text": [
      "Los Aldamas\n",
      "Filling ...\n"
     ]
    },
    {
     "name": "stderr",
     "output_type": "stream",
     "text": [
      "3it [00:21,  6.94s/it]"
     ]
    },
    {
     "name": "stdout",
     "output_type": "stream",
     "text": [
      "Done.\n",
      "Allende\n",
      "Filling ...\n"
     ]
    },
    {
     "name": "stderr",
     "output_type": "stream",
     "text": [
      "4it [00:31,  8.17s/it]"
     ]
    },
    {
     "name": "stdout",
     "output_type": "stream",
     "text": [
      "Done.\n",
      "Anáhuac\n"
     ]
    },
    {
     "name": "stderr",
     "output_type": "stream",
     "text": [
      "5it [00:35,  6.74s/it]"
     ]
    },
    {
     "name": "stdout",
     "output_type": "stream",
     "text": [
      "Apodaca\n",
      "Filling ...\n"
     ]
    },
    {
     "name": "stderr",
     "output_type": "stream",
     "text": [
      "6it [00:48,  8.86s/it]"
     ]
    },
    {
     "name": "stdout",
     "output_type": "stream",
     "text": [
      "Done.\n",
      "Aramberri\n",
      "Filling ...\n"
     ]
    },
    {
     "name": "stderr",
     "output_type": "stream",
     "text": [
      "7it [00:57,  8.97s/it]"
     ]
    },
    {
     "name": "stdout",
     "output_type": "stream",
     "text": [
      "Done.\n",
      "Bustamante\n",
      "Filling ...\n"
     ]
    },
    {
     "name": "stderr",
     "output_type": "stream",
     "text": [
      "8it [01:05,  8.76s/it]"
     ]
    },
    {
     "name": "stdout",
     "output_type": "stream",
     "text": [
      "Done.\n",
      "Cadereyta Jiménez\n",
      "Filling ...\n"
     ]
    },
    {
     "name": "stderr",
     "output_type": "stream",
     "text": [
      "9it [01:17,  9.70s/it]"
     ]
    },
    {
     "name": "stdout",
     "output_type": "stream",
     "text": [
      "Done.\n",
      "El Carmen\n"
     ]
    },
    {
     "name": "stderr",
     "output_type": "stream",
     "text": [
      "10it [01:22,  8.23s/it]"
     ]
    },
    {
     "name": "stdout",
     "output_type": "stream",
     "text": [
      "Cerralvo\n",
      "Filling ...\n"
     ]
    },
    {
     "name": "stderr",
     "output_type": "stream",
     "text": [
      "11it [01:32,  8.78s/it]"
     ]
    },
    {
     "name": "stdout",
     "output_type": "stream",
     "text": [
      "Done.\n",
      "Ciénega de Flores\n",
      "Filling ...\n"
     ]
    },
    {
     "name": "stderr",
     "output_type": "stream",
     "text": [
      "12it [01:42,  9.00s/it]"
     ]
    },
    {
     "name": "stdout",
     "output_type": "stream",
     "text": [
      "Done.\n",
      "China\n",
      "Filling ...\n"
     ]
    },
    {
     "name": "stderr",
     "output_type": "stream",
     "text": [
      "13it [01:51,  9.27s/it]"
     ]
    },
    {
     "name": "stdout",
     "output_type": "stream",
     "text": [
      "Done.\n",
      "Doctor Arroyo\n",
      "Filling ...\n"
     ]
    },
    {
     "name": "stderr",
     "output_type": "stream",
     "text": [
      "14it [02:01,  9.30s/it]"
     ]
    },
    {
     "name": "stdout",
     "output_type": "stream",
     "text": [
      "Done.\n",
      "Doctor Coss\n",
      "Filling ...\n"
     ]
    },
    {
     "name": "stderr",
     "output_type": "stream",
     "text": [
      "15it [02:09,  8.86s/it]"
     ]
    },
    {
     "name": "stdout",
     "output_type": "stream",
     "text": [
      "Done.\n",
      "Doctor González\n"
     ]
    },
    {
     "name": "stderr",
     "output_type": "stream",
     "text": [
      "16it [02:13,  7.42s/it]"
     ]
    },
    {
     "name": "stdout",
     "output_type": "stream",
     "text": [
      "Galeana\n",
      "Filling ...\n"
     ]
    },
    {
     "name": "stderr",
     "output_type": "stream",
     "text": [
      "17it [02:24,  8.46s/it]"
     ]
    },
    {
     "name": "stdout",
     "output_type": "stream",
     "text": [
      "Done.\n",
      "García\n",
      "Filling ...\n"
     ]
    },
    {
     "name": "stderr",
     "output_type": "stream",
     "text": [
      "18it [02:35,  9.33s/it]"
     ]
    },
    {
     "name": "stdout",
     "output_type": "stream",
     "text": [
      "Done.\n",
      "San Pedro Garza García\n",
      "Filling ...\n"
     ]
    },
    {
     "name": "stderr",
     "output_type": "stream",
     "text": [
      "19it [02:45,  9.49s/it]"
     ]
    },
    {
     "name": "stdout",
     "output_type": "stream",
     "text": [
      "Done.\n",
      "General Bravo\n",
      "Filling ...\n"
     ]
    },
    {
     "name": "stderr",
     "output_type": "stream",
     "text": [
      "20it [02:53,  9.15s/it]"
     ]
    },
    {
     "name": "stdout",
     "output_type": "stream",
     "text": [
      "Done.\n",
      "General Escobedo\n",
      "Filling ...\n"
     ]
    },
    {
     "name": "stderr",
     "output_type": "stream",
     "text": [
      "21it [03:05, 10.08s/it]"
     ]
    },
    {
     "name": "stdout",
     "output_type": "stream",
     "text": [
      "Done.\n",
      "General Terán\n",
      "Filling ...\n"
     ]
    },
    {
     "name": "stderr",
     "output_type": "stream",
     "text": [
      "22it [03:14,  9.55s/it]"
     ]
    },
    {
     "name": "stdout",
     "output_type": "stream",
     "text": [
      "Done.\n",
      "General Treviño\n"
     ]
    },
    {
     "name": "stderr",
     "output_type": "stream",
     "text": [
      "23it [03:18,  7.85s/it]"
     ]
    },
    {
     "name": "stdout",
     "output_type": "stream",
     "text": [
      "General Zaragoza\n",
      "Filling ...\n"
     ]
    },
    {
     "name": "stderr",
     "output_type": "stream",
     "text": [
      "24it [03:26,  8.12s/it]"
     ]
    },
    {
     "name": "stdout",
     "output_type": "stream",
     "text": [
      "Done.\n",
      "General Zuazua\n",
      "Filling ...\n"
     ]
    },
    {
     "name": "stderr",
     "output_type": "stream",
     "text": [
      "25it [03:37,  8.97s/it]"
     ]
    },
    {
     "name": "stdout",
     "output_type": "stream",
     "text": [
      "Done.\n",
      "Guadalupe\n",
      "Filling ...\n"
     ]
    },
    {
     "name": "stderr",
     "output_type": "stream",
     "text": [
      "26it [03:48,  9.60s/it]"
     ]
    },
    {
     "name": "stdout",
     "output_type": "stream",
     "text": [
      "Done.\n",
      "Los Herreras\n",
      "Filling ...\n"
     ]
    },
    {
     "name": "stderr",
     "output_type": "stream",
     "text": [
      "27it [03:56,  9.14s/it]"
     ]
    },
    {
     "name": "stdout",
     "output_type": "stream",
     "text": [
      "Done.\n",
      "Higueras\n",
      "Filling ...\n"
     ]
    },
    {
     "name": "stderr",
     "output_type": "stream",
     "text": [
      "28it [04:04,  8.76s/it]"
     ]
    },
    {
     "name": "stdout",
     "output_type": "stream",
     "text": [
      "Done.\n",
      "Hualahuises\n",
      "Filling ...\n"
     ]
    },
    {
     "name": "stderr",
     "output_type": "stream",
     "text": [
      "29it [04:13,  8.62s/it]"
     ]
    },
    {
     "name": "stdout",
     "output_type": "stream",
     "text": [
      "Done.\n",
      "Iturbide\n"
     ]
    },
    {
     "name": "stderr",
     "output_type": "stream",
     "text": [
      "30it [04:17,  7.24s/it]"
     ]
    },
    {
     "name": "stdout",
     "output_type": "stream",
     "text": [
      "Juárez\n",
      "Filling ...\n"
     ]
    },
    {
     "name": "stderr",
     "output_type": "stream",
     "text": [
      "31it [04:31,  9.34s/it]"
     ]
    },
    {
     "name": "stdout",
     "output_type": "stream",
     "text": [
      "Done.\n",
      "Lampazos de Naranjo\n",
      "Filling ...\n"
     ]
    },
    {
     "name": "stderr",
     "output_type": "stream",
     "text": [
      "32it [04:39,  8.99s/it]"
     ]
    },
    {
     "name": "stdout",
     "output_type": "stream",
     "text": [
      "Done.\n",
      "Linares\n",
      "Filling ...\n"
     ]
    },
    {
     "name": "stderr",
     "output_type": "stream",
     "text": [
      "33it [04:52, 10.23s/it]"
     ]
    },
    {
     "name": "stdout",
     "output_type": "stream",
     "text": [
      "Done.\n",
      "Marín\n",
      "Filling ...\n"
     ]
    },
    {
     "name": "stderr",
     "output_type": "stream",
     "text": [
      "34it [05:01,  9.83s/it]"
     ]
    },
    {
     "name": "stdout",
     "output_type": "stream",
     "text": [
      "Done.\n",
      "Melchor Ocampo\n"
     ]
    },
    {
     "name": "stderr",
     "output_type": "stream",
     "text": [
      "35it [05:05,  8.06s/it]"
     ]
    },
    {
     "name": "stdout",
     "output_type": "stream",
     "text": [
      "Mier y Noriega\n",
      "Filling ...\n"
     ]
    },
    {
     "name": "stderr",
     "output_type": "stream",
     "text": [
      "36it [05:13,  8.11s/it]"
     ]
    },
    {
     "name": "stdout",
     "output_type": "stream",
     "text": [
      "Done.\n",
      "Mina\n",
      "Filling ...\n"
     ]
    },
    {
     "name": "stderr",
     "output_type": "stream",
     "text": [
      "37it [05:22,  8.21s/it]"
     ]
    },
    {
     "name": "stdout",
     "output_type": "stream",
     "text": [
      "Done.\n",
      "Montemorelos\n",
      "Filling ...\n"
     ]
    },
    {
     "name": "stderr",
     "output_type": "stream",
     "text": [
      "38it [05:32,  8.83s/it]"
     ]
    },
    {
     "name": "stdout",
     "output_type": "stream",
     "text": [
      "Done.\n",
      "Monterrey\n",
      "Filling ...\n"
     ]
    },
    {
     "name": "stderr",
     "output_type": "stream",
     "text": [
      "39it [05:45, 10.00s/it]"
     ]
    },
    {
     "name": "stdout",
     "output_type": "stream",
     "text": [
      "Done.\n",
      "Parás\n",
      "Filling ...\n"
     ]
    },
    {
     "name": "stderr",
     "output_type": "stream",
     "text": [
      "40it [05:52,  9.32s/it]"
     ]
    },
    {
     "name": "stdout",
     "output_type": "stream",
     "text": [
      "Done.\n",
      "Pesquería\n",
      "Filling ...\n"
     ]
    },
    {
     "name": "stderr",
     "output_type": "stream",
     "text": [
      "41it [06:03,  9.66s/it]"
     ]
    },
    {
     "name": "stdout",
     "output_type": "stream",
     "text": [
      "Done.\n",
      "Los Ramones\n",
      "Filling ...\n"
     ]
    },
    {
     "name": "stderr",
     "output_type": "stream",
     "text": [
      "42it [06:11,  9.31s/it]"
     ]
    },
    {
     "name": "stdout",
     "output_type": "stream",
     "text": [
      "Done.\n",
      "Rayones\n"
     ]
    },
    {
     "name": "stderr",
     "output_type": "stream",
     "text": [
      "43it [06:15,  7.71s/it]"
     ]
    },
    {
     "name": "stdout",
     "output_type": "stream",
     "text": [
      "Sabinas Hidalgo\n",
      "Filling ...\n"
     ]
    },
    {
     "name": "stderr",
     "output_type": "stream",
     "text": [
      "44it [06:24,  8.06s/it]"
     ]
    },
    {
     "name": "stdout",
     "output_type": "stream",
     "text": [
      "Done.\n",
      "Salinas Victoria\n",
      "Filling ...\n"
     ]
    },
    {
     "name": "stderr",
     "output_type": "stream",
     "text": [
      "45it [06:34,  8.47s/it]"
     ]
    },
    {
     "name": "stdout",
     "output_type": "stream",
     "text": [
      "Done.\n",
      "San Nicolás de los Garza\n",
      "Filling ...\n"
     ]
    },
    {
     "name": "stderr",
     "output_type": "stream",
     "text": [
      "46it [06:46,  9.70s/it]"
     ]
    },
    {
     "name": "stdout",
     "output_type": "stream",
     "text": [
      "Done.\n",
      "Hidalgo\n",
      "Filling ...\n"
     ]
    },
    {
     "name": "stderr",
     "output_type": "stream",
     "text": [
      "47it [06:55,  9.38s/it]"
     ]
    },
    {
     "name": "stdout",
     "output_type": "stream",
     "text": [
      "Done.\n",
      "Santa Catarina\n",
      "Filling ...\n"
     ]
    },
    {
     "name": "stderr",
     "output_type": "stream",
     "text": [
      "48it [07:06, 10.00s/it]"
     ]
    },
    {
     "name": "stdout",
     "output_type": "stream",
     "text": [
      "Done.\n",
      "Santiago\n",
      "Filling ...\n"
     ]
    },
    {
     "name": "stderr",
     "output_type": "stream",
     "text": [
      "49it [07:16,  9.80s/it]"
     ]
    },
    {
     "name": "stdout",
     "output_type": "stream",
     "text": [
      "Done.\n",
      "Vallecillo\n",
      "Filling ...\n"
     ]
    },
    {
     "name": "stderr",
     "output_type": "stream",
     "text": [
      "50it [07:24,  9.23s/it]"
     ]
    },
    {
     "name": "stdout",
     "output_type": "stream",
     "text": [
      "Done.\n",
      "Villaldama\n",
      "Filling ...\n"
     ]
    },
    {
     "name": "stderr",
     "output_type": "stream",
     "text": [
      "51it [07:32,  8.86s/it]"
     ]
    },
    {
     "name": "stdout",
     "output_type": "stream",
     "text": [
      "Done.\n"
     ]
    },
    {
     "name": "stderr",
     "output_type": "stream",
     "text": [
      "\n"
     ]
    }
   ],
   "source": [
    "XWC_dict = setup_ls(personas_cat, df_mun, constraints_ind)"
   ]
  },
  {
   "cell_type": "code",
   "execution_count": 617,
   "id": "a73fcb97-303e-4788-bc8c-13819eb1730b",
   "metadata": {
    "tags": []
   },
   "outputs": [
    {
     "data": {
      "text/plain": [
       "['Cerralvo',\n",
       " 'Ciénega de Flores',\n",
       " 'China',\n",
       " 'Guadalupe',\n",
       " 'Juárez',\n",
       " 'Linares',\n",
       " 'Marín',\n",
       " 'Pesquería',\n",
       " 'Sabinas Hidalgo',\n",
       " 'Salinas Victoria']"
      ]
     },
     "execution_count": 617,
     "metadata": {},
     "output_type": "execute_result"
    }
   ],
   "source": [
    "conf_muns = []\n",
    "for mun, XWC in XWC_dict.items():\n",
    "    X = XWC['X']\n",
    "    W = XWC['W']\n",
    "    C = XWC['C']\n",
    "    if not check_solvable(W.values, C.values):\n",
    "        conf_muns.append(mun)\n",
    "conf_muns"
   ]
  },
  {
   "cell_type": "markdown",
   "id": "4d5e5460-d6aa-4ca7-a3d6-80b0a27b734c",
   "metadata": {
    "tags": []
   },
   "source": [
    "## Find hidden zero-cells with non-zero constraints/Complete the set of marginals"
   ]
  },
  {
   "cell_type": "code",
   "execution_count": 6,
   "id": "07bc61d9-d53e-4cac-94d4-d76624507980",
   "metadata": {
    "tags": []
   },
   "outputs": [],
   "source": [
    "def get_tables(constraints):\n",
    "    tables = {}\n",
    "    \n",
    "    # Iterate over constraints obtaining list of contingency tables\n",
    "    for cname, cdict in constraints.items():\n",
    "        if cname == 'POBTOT': continue\n",
    "        columns = tuple(sorted(list((cdict.keys()))))\n",
    "        if 'DIS' in columns: continue\n",
    "        if columns not in tables:\n",
    "            tables[columns] = [cname]\n",
    "        else:\n",
    "            tables[columns].append(cname)\n",
    "        \n",
    "    return tables\n",
    "\n",
    "tables = get_tables(constraints_ind)"
   ]
  },
  {
   "cell_type": "code",
   "execution_count": 69,
   "id": "70da7b77-54e4-4868-9d87-d6d69f4e6bf7",
   "metadata": {
    "tags": []
   },
   "outputs": [
    {
     "data": {
      "image/png": "[encoded data removed]",
      "text/plain": [
       "<Figure size 1000x25 with 1 Axes>"
      ]
     },
     "metadata": {},
     "output_type": "display_data"
    }
   ],
   "source": [
    "def draw_table_1way(tabkey, table, constraints, df):\n",
    "    colname = tabkey[0]\n",
    "    columns = {c: [] for c in df[colname].cat.categories}\n",
    "    \n",
    "    for const in table:\n",
    "        for cval in constraints[const][colname]:\n",
    "            columns[cval].append(const)\n",
    "            \n",
    "    celltext = [[' '.join(x) for x in columns.values()]]\n",
    "    collabels = list(columns.keys())\n",
    "    \n",
    "\n",
    "    fig, ax = plt.subplots(figsize=(2*len(columns), 0.05*len(columns)))     \n",
    "    ax.set_axis_off() \n",
    "    ptable = plt.table(cellText=celltext, colLabels=collabels, loc='center')\n",
    "\n",
    "    #return fig\n",
    "    \n",
    "\n",
    "tname = 'RELIGION'\n",
    "draw_table_1way((tname,), tables[(tname,)], constraints_ind, personas_cat['Abasolo']);"
   ]
  },
  {
   "cell_type": "code",
   "execution_count": 103,
   "id": "4291c75e-5937-4d02-ba15-cb13f5d32cdf",
   "metadata": {
    "tags": []
   },
   "outputs": [
    {
     "data": {
      "image/png": "[encoded data removed]",
      "text/plain": [
       "<Figure size 2600x120 with 1 Axes>"
      ]
     },
     "metadata": {},
     "output_type": "display_data"
    }
   ],
   "source": [
    "def draw_table_2way(tabkey, table, constraints, df):\n",
    "    colname = tabkey[0]\n",
    "    rowname = tabkey[1]\n",
    "    columns = {c: i for i, c in enumerate(df[colname].cat.categories)}\n",
    "    rows = {c: i for i, c in enumerate(df[rowname].cat.categories)}\n",
    "    data = [['']*len(columns) for _ in range(len(rows))]\n",
    "    \n",
    "    for const in table:\n",
    "        for v1, v2 in product(constraints[const][rowname], constraints[const][colname]):\n",
    "            # create product of constarint values\n",
    "            data[rows[v1]][columns[v2]] += ' ' + const\n",
    "\n",
    "    collabels = list(columns.keys())\n",
    "    rowlabels = list(rows.keys())\n",
    "\n",
    "    fig, ax = plt.subplots(figsize=(2*len(columns), 2*len(rows)/10))     \n",
    "    ax.set_axis_off() \n",
    "    ptable = plt.table(cellText=data, colLabels=collabels, rowLabels=rowlabels, loc='center')\n",
    "\n",
    "    #return fig\n",
    "\n",
    "tname = ('EDAD', 'HLENGUA')\n",
    "draw_table_2way(tname, tables[tname], constraints_ind, personas_cat['Abasolo'])"
   ]
  },
  {
   "cell_type": "code",
   "execution_count": 102,
   "id": "ed0f24f8-24be-439a-92d0-73921efb13c5",
   "metadata": {
    "tags": []
   },
   "outputs": [
    {
     "data": {
      "image/png": "[encoded data removed]",
      "text/plain": [
       "<Figure size 2600x120 with 1 Axes>"
      ]
     },
     "metadata": {},
     "output_type": "display_data"
    }
   ],
   "source": [
    "def draw_table_3way(tabkey, table, constraints, df):\n",
    "    # Split 3way table into two 2way tables by SEXO\n",
    "    table_F = [v for v in table if v.endswith('F')]\n",
    "    table_M = [v for v in table if v.endswith('M')]\n",
    "    tabkey = [v for v in tabkey if v != 'SEXO']\n",
    "    assert len(tabkey) == 2\n",
    "    \n",
    "    draw_table_2way(tabkey, table_F, constraints, df)\n",
    "\n",
    "tname = ('EDAD', 'HLENGUA', 'SEXO')\n",
    "draw_table_3way(tname, tables[tname], constraints_ind, personas_cat['Abasolo'])"
   ]
  },
  {
   "cell_type": "code",
   "execution_count": 7,
   "id": "e81a316a-8d15-472c-9f5d-0da1a9aa7cae",
   "metadata": {
    "tags": []
   },
   "outputs": [],
   "source": [
    "def find_conflicts(W, C):\n",
    "    WC = W.copy()\n",
    "    WC['C'] = C\n",
    "    \n",
    "    # Find first conflicting vector\n",
    "    qw, rw = np.linalg.qr(W.T)\n",
    "    w_dependent = np.where(np.abs(np.diag(rw)) < 1e-10)[0]\n",
    "    \n",
    "    qwc, rwc = np.linalg.qr(WC.T)\n",
    "    wc_dependent = np.where(np.abs(np.diag(rwc)) < 1e-10)[0]\n",
    "    \n",
    "    # assert len(wc_dependent) == len(w_dependent) - 1, (len(wc_dependent), len(w_dependent))\n",
    "    \n",
    "    idx = [i for i in w_dependent if i not in wc_dependent][0]\n",
    "    wname = W.iloc[idx].name\n",
    "    \n",
    "    # Start with conflicting vector and add one by one until conflict occues\n",
    "    dep_list = [wname]\n",
    "\n",
    "    while np.linalg.matrix_rank(W.loc[dep_list]) == np.linalg.matrix_rank(WC.loc[dep_list]):\n",
    "        pool = list(W.index.drop(dep_list))\n",
    "        const = dep_list.copy()\n",
    "        \n",
    "        while pool:\n",
    "            const.append(pool.pop())\n",
    "            if np.linalg.matrix_rank(W.loc[const]) != np.linalg.matrix_rank(WC.loc[const]):\n",
    "                dep_list.append(const[-1])\n",
    "                break\n",
    "        \n",
    "        \n",
    "    return dep_list\n",
    "    "
   ]
  },
  {
   "cell_type": "code",
   "execution_count": 484,
   "id": "dd3f4b6c-f575-4380-8264-bbddfd376649",
   "metadata": {
    "tags": []
   },
   "outputs": [],
   "source": [
    "dups = {}\n",
    "for mun in conf_muns:\n",
    "    X = XWC_dict[mun]['X']\n",
    "    W = XWC_dict[mun]['W']\n",
    "    C = XWC_dict[mun]['C']\n",
    "    \n",
    "    WC = W.copy()\n",
    "    WC['C'] = C\n",
    "    \n",
    "    dups_l = []\n",
    "    \n",
    "    for n, g in W.reset_index().groupby(list(W.columns)):\n",
    "        if len(g) > 1:\n",
    "            dups_l.append(g['index'].values)\n",
    "    #cols = np.concatenate(dups_l)\n",
    "    dups[mun] = dups_l"
   ]
  },
  {
   "cell_type": "code",
   "execution_count": 485,
   "id": "300b1be4-4ffc-499a-8541-3f8ffa2750c2",
   "metadata": {
    "tags": []
   },
   "outputs": [
    {
     "data": {
      "text/plain": [
       "{'Cerralvo': [array(['P_UNK_F', 'P_UNK_M', 'P3HLINHE', 'P3HLINHE_F', 'P3HLINHE_M',\n",
       "         'P5_HLI_NHE', 'P3HLI_NE_F', 'P3HLI_NE_M', 'P5HLI_NE', 'P34HLI_NHE',\n",
       "         'P34HLI_NE', 'P12YM_BPP_NE', 'PRELIG_NE'], dtype=object),\n",
       "  array(['P3YM_HLI_F', 'P3HLI_HE_F', 'P34HLI_HE'], dtype=object),\n",
       "  array(['P3YM_HLI_M', 'P3HLI_HE_M', 'P5_HLI', 'P5_HLI_HE'], dtype=object),\n",
       "  array(['P3YM_HLI', 'P3HLI_HE'], dtype=object)],\n",
       " 'Ciénega de Flores': [array(['P3HLINHE_F', 'P34HLI_NHE'], dtype=object),\n",
       "  array(['P3HLINHE_M', 'P5_HLI_NHE'], dtype=object)],\n",
       " 'China': [array(['P_UNK_F', 'P_UNK_M', 'P3HLINHE', 'P3HLINHE_F', 'P3HLINHE_M',\n",
       "         'P5_HLI_NHE', 'P3HLI_NE_F', 'P3HLI_NE_M', 'P5HLI_NE', 'P34HLI_NHE',\n",
       "         'P34HLI_NE', 'P12YM_BPP_NE'], dtype=object),\n",
       "  array(['P3YM_HLI_F', 'P3HLI_HE_F', 'P5_HLI', 'P5_HLI_HE'], dtype=object),\n",
       "  array(['P3YM_HLI_M', 'P3HLI_HE_M', 'P34HLI_HE'], dtype=object),\n",
       "  array(['P3YM_HLI', 'P3HLI_HE'], dtype=object)],\n",
       " 'Guadalupe': [array(['P3HLINHE_M', 'P5_HLI_NHE'], dtype=object),\n",
       "  array(['P3HLINHE_F', 'P34HLI_NHE'], dtype=object)],\n",
       " 'Juárez': [array(['P3HLI_NE_F', 'P34HLI_NE'], dtype=object),\n",
       "  array(['P3HLI_NE_M', 'P5HLI_NE'], dtype=object)],\n",
       " 'Linares': [array(['P3HLI_NE_F', 'P3HLI_NE_M', 'P5HLI_NE', 'P34HLI_NE'], dtype=object),\n",
       "  array(['P3HLI_HE_F', 'P5_HLI_HE'], dtype=object),\n",
       "  array(['P3HLI_HE_M', 'P34HLI_HE'], dtype=object)],\n",
       " 'Marín': [array(['P_UNK_M', 'P3HLINHE', 'P3HLINHE_F', 'P3HLINHE_M', 'P5_HLI_NHE',\n",
       "         'P34HLI_HE', 'P34HLI_NHE', 'P12YM_BPP_NE'], dtype=object),\n",
       "  array(['P3HLI_NE_F', 'P34HLI_NE'], dtype=object),\n",
       "  array(['P3HLI_NE_M', 'P5HLI_NE'], dtype=object),\n",
       "  array(['P3HLI_HE', 'P5_HLI_HE'], dtype=object)],\n",
       " 'Pesquería': [array(['P3HLI_NE_F', 'P5HLI_NE'], dtype=object),\n",
       "  array(['P3HLINHE', 'P5_HLI_NHE'], dtype=object),\n",
       "  array(['P3HLI_NE_M', 'P34HLI_NE'], dtype=object)],\n",
       " 'Sabinas Hidalgo': [array(['P3HLINHE', 'P3HLINHE_F', 'P3HLINHE_M', 'P5_HLI_NHE', 'P34HLI_HE',\n",
       "         'P34HLI_NHE'], dtype=object),\n",
       "  array(['P3HLI_NE_F', 'P34HLI_NE'], dtype=object),\n",
       "  array(['P3HLI_HE', 'P5_HLI_HE'], dtype=object),\n",
       "  array(['P3HLI_NE_M', 'P5HLI_NE'], dtype=object)],\n",
       " 'Salinas Victoria': [array(['P3HLI_NE_F', 'P5HLI_NE'], dtype=object),\n",
       "  array(['P3HLI_NE_M', 'P34HLI_NE'], dtype=object)],\n",
       " 'Santiago': []}"
      ]
     },
     "execution_count": 485,
     "metadata": {},
     "output_type": "execute_result"
    }
   ],
   "source": [
    "dups"
   ]
  },
  {
   "cell_type": "code",
   "execution_count": 614,
   "id": "c47b7c30-ee17-4dfd-803a-5fb5aaf783c2",
   "metadata": {
    "tags": []
   },
   "outputs": [],
   "source": [
    "mun = 'Santiago'\n",
    "X = XWC_dict[mun]['X']\n",
    "W = XWC_dict[mun]['W']\n",
    "C = XWC_dict[mun]['C']"
   ]
  },
  {
   "cell_type": "code",
   "execution_count": 618,
   "id": "18db5ba9-436b-45c3-ae8a-64f467405f94",
   "metadata": {
    "tags": []
   },
   "outputs": [
    {
     "data": {
      "text/plain": [
       "POBTOT                 3573.0\n",
       "POBFEM                 1786.0\n",
       "POBMAS                 1787.0\n",
       "P_0A2                   137.0\n",
       "P_0A2_F                  66.0\n",
       "P_0A2_M                  71.0\n",
       "P_3YMAS                3433.0\n",
       "P_3YMAS_M              1715.0\n",
       "P_3YMAS_F              1718.0\n",
       "P_5YMAS                3330.0\n",
       "P_5YMAS_M              1666.0\n",
       "P_5YMAS_F              1664.0\n",
       "P_12YMAS               3008.0\n",
       "P_12YMAS_M             1481.0\n",
       "P_12YMAS_F             1527.0\n",
       "P_15YMAS               2839.0\n",
       "P_15YMAS_M             1396.0\n",
       "P_15YMAS_F             1443.0\n",
       "P_18YMAS               2667.0\n",
       "P_18YMAS_M             1319.0\n",
       "P_18YMAS_F             1348.0\n",
       "P_3A5                   154.0\n",
       "P_3A5_M                  82.0\n",
       "P_3A5_F                  72.0\n",
       "P_6A11                  271.0\n",
       "P_6A11_M                152.0\n",
       "P_6A11_F                119.0\n",
       "P_8A14                  347.0\n",
       "P_8A14_M                186.0\n",
       "P_8A14_F                161.0\n",
       "P_12A14                 169.0\n",
       "P_12A14_M                85.0\n",
       "P_12A14_F                84.0\n",
       "P_15A17                 172.0\n",
       "P_15A17_M                77.0\n",
       "P_15A17_F                95.0\n",
       "P_18A24                 336.0\n",
       "P_18A24_M               184.0\n",
       "P_18A24_F               152.0\n",
       "P_15A49_F               787.0\n",
       "P_60YMAS                833.0\n",
       "P_60YMAS_M              404.0\n",
       "P_60YMAS_F              429.0\n",
       "POB0_14                 731.0\n",
       "POB15_64               2227.0\n",
       "POB65_MAS               612.0\n",
       "P_UNK_F                   2.0\n",
       "P_UNK_M                   1.0\n",
       "PNACENT                3345.0\n",
       "PNACENT_F              1664.0\n",
       "PNACENT_M              1681.0\n",
       "PNACOE                  182.0\n",
       "PNACOE_F                 99.0\n",
       "PNACOE_M                 83.0\n",
       "PRES2015               3272.0\n",
       "PRES2015_F             1639.0\n",
       "PRES2015_M             1633.0\n",
       "PRESOE15                 40.0\n",
       "PRESOE15_F               18.0\n",
       "PRESOE15_M               22.0\n",
       "PNA_OP_BPP_NE_F          23.0\n",
       "PNA_OP_BPP_NE_M          23.0\n",
       "PRES15_OP_BPP_NE_F        7.0\n",
       "PRES15_OP_BPP_NE_M       11.0\n",
       "P3YM_HLI                  2.0\n",
       "P3YM_HLI_F                2.0\n",
       "P3YM_HLI_M                0.0\n",
       "P3HLINHE                  0.0\n",
       "P3HLINHE_F                0.0\n",
       "P3HLINHE_M                0.0\n",
       "P3HLI_HE                  1.0\n",
       "P3HLI_HE_F                1.0\n",
       "P3HLI_HE_M                0.0\n",
       "P5_HLI                    2.0\n",
       "P5_HLI_NHE                0.0\n",
       "P5_HLI_HE                 1.0\n",
       "POB_AFRO                 10.0\n",
       "POB_AFRO_F                5.0\n",
       "POB_AFRO_M                5.0\n",
       "POB_AFRO_NO_NE_F       1781.0\n",
       "POB_AFRO_NO_NE_M       1782.0\n",
       "P3_LI_NO_BPP_NE_F      1716.0\n",
       "P3_LI_NO_BPP_NE_M      1715.0\n",
       "P5_LI_NO_BPP_NE        3328.0\n",
       "P3HLI_NE_F                1.0\n",
       "P3HLI_NE_M                0.0\n",
       "P5HLI_NE                  1.0\n",
       "P34HLI_HE                 0.0\n",
       "P34HLI_NHE                0.0\n",
       "P34HLI_NE                 0.0\n",
       "PCON_DISC               279.0\n",
       "PCDISC_MOT              149.0\n",
       "PCDISC_VIS              118.0\n",
       "PCDISC_LENG              36.0\n",
       "PCDISC_AUD               72.0\n",
       "PCDISC_MOT2              54.0\n",
       "PCDISC_MEN               47.0\n",
       "PCON_LIMI               455.0\n",
       "PCLIM_CSB               168.0\n",
       "PCLIM_VIS               317.0\n",
       "PCLIM_HACO               26.0\n",
       "PCLIM_OAUD              109.0\n",
       "PCLIM_MOT2               24.0\n",
       "PCLIM_RE_CO              55.0\n",
       "PCLIM_PMEN               29.0\n",
       "PSIND_LIM              2823.0\n",
       "P3A5_NOA                 49.0\n",
       "P3A5_NOA_F               29.0\n",
       "P3A5_NOA_M               20.0\n",
       "P6A11_NOA                24.0\n",
       "P6A11_NOAF               17.0\n",
       "P6A11_NOAM                7.0\n",
       "P12A14NOA                13.0\n",
       "P12A14NOAF                8.0\n",
       "P12A14NOAM                5.0\n",
       "P15A17A                 116.0\n",
       "P15A17A_F                72.0\n",
       "P15A17A_M                44.0\n",
       "P18A24A                  98.0\n",
       "P18A24A_F                55.0\n",
       "P18A24A_M                43.0\n",
       "P3A5_A_NE_BPP_F          43.0\n",
       "P6A11_A_NE_BPP_F        102.0\n",
       "P12A14_A_NE_BPP_F        76.0\n",
       "P3A5_A_NE_BPP_M          62.0\n",
       "P6A11_A_NE_BPP_M        145.0\n",
       "P12A14_A_NE_BPP_M        80.0\n",
       "P15A17_NOA_NE_BPP_F      23.0\n",
       "P18A24_NOA_NE_BPP_F      97.0\n",
       "P15A17_NOA_NE_BPP_M      33.0\n",
       "P18A24_NOA_NE_BPP_M     141.0\n",
       "P8A14AN                   5.0\n",
       "P8A14AN_F                 2.0\n",
       "P8A14AN_M                 3.0\n",
       "P15YM_AN                 85.0\n",
       "P15YM_AN_F               47.0\n",
       "P15YM_AN_M               38.0\n",
       "P8A14AS_F               159.0\n",
       "P8A14AS_M               183.0\n",
       "P15YM_AS_F             1396.0\n",
       "P15YM_AS_M             1358.0\n",
       "P15YM_SE                 73.0\n",
       "P15YM_SE_F               43.0\n",
       "P15YM_SE_M               30.0\n",
       "P15PRI_IN               310.0\n",
       "P15PRI_INF              160.0\n",
       "P15PRI_INM              150.0\n",
       "P15PRI_CO               444.0\n",
       "P15PRI_COF              218.0\n",
       "P15PRI_COM              226.0\n",
       "P15SEC_IN                77.0\n",
       "P15SEC_INF               28.0\n",
       "P15SEC_INM               49.0\n",
       "P15SEC_CO               939.0\n",
       "P15SEC_COF              466.0\n",
       "P15SEC_COM              473.0\n",
       "P18YM_PB                842.0\n",
       "P18YM_PB_F              436.0\n",
       "P18YM_PB_M              406.0\n",
       "P15_POSBAS_BPP_NE_F     528.0\n",
       "P15_POSBAS_BPP_NE_M     468.0\n",
       "P18_BAS_BPP_NE_F        912.0\n",
       "P18_BAS_BPP_NE_M        913.0\n",
       "PEA                    1423.0\n",
       "PEA_F                   465.0\n",
       "PEA_M                   958.0\n",
       "PE_INAC                1581.0\n",
       "PE_INAC_F              1059.0\n",
       "PE_INAC_M               522.0\n",
       "POCUPADA               1380.0\n",
       "POCUPADA_F              462.0\n",
       "POCUPADA_M              918.0\n",
       "PDESOCUP                 43.0\n",
       "PDESOCUP_F                3.0\n",
       "PDESOCUP_M               40.0\n",
       "PE_BPP_NE_F               3.0\n",
       "PE_BPP_NE_M               1.0\n",
       "PSINDER                 265.0\n",
       "PDER_SS                3300.0\n",
       "PDER_NE                   8.0\n",
       "PDER_IMSS              1072.0\n",
       "PDER_ISTE               191.0\n",
       "PDER_ISTEE               61.0\n",
       "PAFIL_PDOM                1.0\n",
       "PDER_SEGP              1726.0\n",
       "PDER_IMSSB               10.0\n",
       "PAFIL_IPRIV              53.0\n",
       "PAFIL_OTRAI             204.0\n",
       "P12YM_SOLT              974.0\n",
       "P12YM_CASA             1591.0\n",
       "P12YM_SEPA              443.0\n",
       "P12YM_BPP_NE              0.0\n",
       "PCATOLICA              3132.0\n",
       "PRO_CRIEVA              251.0\n",
       "POTRAS_REL                0.0\n",
       "PSIN_RELIG              153.0\n",
       "PRELIG_NE                37.0\n",
       "Name: Villaldama, dtype: float64"
      ]
     },
     "execution_count": 618,
     "metadata": {},
     "output_type": "execute_result"
    }
   ],
   "source": [
    "C"
   ]
  },
  {
   "cell_type": "code",
   "execution_count": 593,
   "id": "f81cbe70-35bb-49b0-ac76-c3caccafd60c",
   "metadata": {
    "tags": []
   },
   "outputs": [],
   "source": [
    "from setup_lin_system import find_conf_const"
   ]
  },
  {
   "cell_type": "code",
   "execution_count": 615,
   "id": "808d09b1-e40c-4d8b-b824-3c52070c25ef",
   "metadata": {
    "tags": []
   },
   "outputs": [
    {
     "data": {
      "text/plain": [
       "[]"
      ]
     },
     "execution_count": 615,
     "metadata": {},
     "output_type": "execute_result"
    }
   ],
   "source": [
    "conf_const = find_conf_const(W, C)\n",
    "conf_const"
   ]
  },
  {
   "cell_type": "code",
   "execution_count": 597,
   "id": "bad62d30-e6cc-443b-aa28-fb7aee4c72c4",
   "metadata": {
    "tags": []
   },
   "outputs": [
    {
     "data": {
      "text/plain": [
       "P3YM_HLI      6589.0\n",
       "P3HLINHE        23.0\n",
       "P3HLI_HE      6494.0\n",
       "P3HLINHE_F      14.0\n",
       "P5HLI_NE        71.0\n",
       "P34HLI_HE       17.0\n",
       "P5_HLI        6571.0\n",
       "P3YM_HLI_F    3012.0\n",
       "P3HLI_HE_F    2960.0\n",
       "P34HLI_NE        1.0\n",
       "P5_HLI_HE     6477.0\n",
       "Name: Pesquería, dtype: float64"
      ]
     },
     "execution_count": 597,
     "metadata": {},
     "output_type": "execute_result"
    }
   ],
   "source": [
    "C_conf = C[conf_const]\n",
    "C_conf"
   ]
  },
  {
   "cell_type": "code",
   "execution_count": null,
   "id": "78ba83a3-b438-4319-9467-63e892a669e5",
   "metadata": {},
   "outputs": [],
   "source": [
    "# We need to fill above constraints and their associated independent vectors using positive least squares"
   ]
  },
  {
   "cell_type": "code",
   "execution_count": 598,
   "id": "61ac1b57-377f-49f0-8f31-4044af9e041d",
   "metadata": {
    "tags": []
   },
   "outputs": [],
   "source": [
    "X_f = fill_zero_nn(X, C_conf, constraints_ind)"
   ]
  },
  {
   "cell_type": "code",
   "execution_count": 599,
   "id": "93a92d8b-47b6-4272-80d6-f22e67bcc05b",
   "metadata": {
    "tags": []
   },
   "outputs": [],
   "source": [
    "W_f = get_W(X_f, constraints_ind)"
   ]
  },
  {
   "cell_type": "code",
   "execution_count": 600,
   "id": "dc9ce9a2-31c6-4a60-83ab-b11c11ca2c06",
   "metadata": {
    "tags": []
   },
   "outputs": [],
   "source": [
    "C_f = C[W_f.index]"
   ]
  },
  {
   "cell_type": "code",
   "execution_count": 616,
   "id": "d0037daf-04f3-4073-9c5a-a7390973abfc",
   "metadata": {
    "tags": []
   },
   "outputs": [
    {
     "data": {
      "text/plain": [
       "True"
      ]
     },
     "execution_count": 616,
     "metadata": {},
     "output_type": "execute_result"
    }
   ],
   "source": [
    "check_solvable(W_f, C_f)"
   ]
  },
  {
   "cell_type": "code",
   "execution_count": 602,
   "id": "9c6bfa0a-80d8-4b67-a965-be63960cbd3e",
   "metadata": {
    "tags": []
   },
   "outputs": [
    {
     "data": {
      "text/plain": [
       "6463"
      ]
     },
     "execution_count": 602,
     "metadata": {},
     "output_type": "execute_result"
    }
   ],
   "source": [
    "len(X_f)"
   ]
  },
  {
   "cell_type": "code",
   "execution_count": 604,
   "id": "5f0043c1-6090-45e6-9917-9a10360417d6",
   "metadata": {
    "tags": []
   },
   "outputs": [
    {
     "data": {
      "text/plain": [
       "6458"
      ]
     },
     "execution_count": 604,
     "metadata": {},
     "output_type": "execute_result"
    }
   ],
   "source": [
    "len(X)"
   ]
  },
  {
   "cell_type": "code",
   "execution_count": 613,
   "id": "8336ff51-9bb0-48f1-b255-70111b572a03",
   "metadata": {
    "tags": []
   },
   "outputs": [
    {
     "name": "stdout",
     "output_type": "stream",
     "text": [
      "Abasolo 2665\n",
      "Agualeguas 3037\n",
      "Los Aldamas 1275\n",
      "Allende 4314\n",
      "Anáhuac 4063\n",
      "Apodaca 15952\n",
      "Aramberri 3816\n",
      "Bustamante 3272\n",
      "Cadereyta Jiménez 5787\n",
      "El Carmen 12728\n",
      "Cerralvo 2880\n",
      "Ciénega de Flores 8157\n",
      "China 2824\n",
      "Doctor Arroyo 5370\n",
      "Doctor Coss 1219\n",
      "Doctor González 2951\n",
      "Galeana 5531\n",
      "García 16134\n",
      "San Pedro Garza García 4490\n",
      "General Bravo 2580\n",
      "General Escobedo 13851\n",
      "General Terán 4005\n",
      "General Treviño 1666\n",
      "General Zaragoza 2872\n",
      "General Zuazua 8138\n",
      "Guadalupe 15287\n",
      "Los Herreras 1785\n",
      "Higueras 1318\n",
      "Hualahuises 3071\n",
      "Iturbide 2743\n",
      "Juárez 21256\n",
      "Lampazos de Naranjo 2611\n",
      "Linares 6530\n",
      "Marín 2482\n",
      "Melchor Ocampo 1310\n",
      "Mier y Noriega 3200\n",
      "Mina 3006\n",
      "Montemorelos 4629\n",
      "Monterrey 16344\n",
      "Parás 847\n",
      "Pesquería 6458\n",
      "Los Ramones 2810\n",
      "Rayones 2102\n",
      "Sabinas Hidalgo 4611\n",
      "Salinas Victoria 5379\n",
      "San Nicolás de los Garza 15428\n",
      "Hidalgo 4161\n",
      "Santa Catarina 17857\n",
      "Santiago 4282\n",
      "Vallecillo 1450\n",
      "Villaldama 2263\n"
     ]
    }
   ],
   "source": [
    "for k, v in XWC_dict.items():\n",
    "    print(k, len(v['X']))"
   ]
  },
  {
   "cell_type": "code",
   "execution_count": null,
   "id": "e86abf4d-6f0a-4104-95e6-a7b7619c24ba",
   "metadata": {},
   "outputs": [],
   "source": [
    "XW"
   ]
  },
  {
   "cell_type": "code",
   "execution_count": 275,
   "id": "019b7e6a-2b09-4d70-8a80-0286ee8ac708",
   "metadata": {
    "tags": []
   },
   "outputs": [
    {
     "data": {
      "text/html": [
       "<div>\n",
       "<style scoped>\n",
       "    .dataframe tbody tr th:only-of-type {\n",
       "        vertical-align: middle;\n",
       "    }\n",
       "\n",
       "    .dataframe tbody tr th {\n",
       "        vertical-align: top;\n",
       "    }\n",
       "\n",
       "    .dataframe thead th {\n",
       "        text-align: right;\n",
       "    }\n",
       "</style>\n",
       "<table border=\"1\" class=\"dataframe\">\n",
       "  <thead>\n",
       "    <tr style=\"text-align: right;\">\n",
       "      <th></th>\n",
       "      <th>MUN</th>\n",
       "      <th>CLAVIVP</th>\n",
       "      <th>SEXO</th>\n",
       "      <th>EDAD</th>\n",
       "      <th>ENT_PAIS_NAC</th>\n",
       "      <th>PARENTESCO</th>\n",
       "      <th>NACIONALIDAD</th>\n",
       "      <th>SERSALUD</th>\n",
       "      <th>AFRODES</th>\n",
       "      <th>DHSERSAL</th>\n",
       "      <th>...</th>\n",
       "      <th>MED_TRASLADO_TRAB_Camión, autobús, combi, colectivo</th>\n",
       "      <th>MED_TRASLADO_TRAB_Metro, tren ligero, tren suburbano</th>\n",
       "      <th>MED_TRASLADO_TRAB_Metrobús (autobús en carril confinado)</th>\n",
       "      <th>MED_TRASLADO_TRAB_Motocicleta o motoneta</th>\n",
       "      <th>MED_TRASLADO_TRAB_No especificado</th>\n",
       "      <th>MED_TRASLADO_TRAB_Otro</th>\n",
       "      <th>MED_TRASLADO_TRAB_Taxi (App Internet)</th>\n",
       "      <th>MED_TRASLADO_TRAB_Taxi (sitio, calle, otro)</th>\n",
       "      <th>MED_TRASLADO_TRAB_Transporte escolar</th>\n",
       "      <th>FACTOR</th>\n",
       "    </tr>\n",
       "  </thead>\n",
       "  <tbody>\n",
       "    <tr>\n",
       "      <th>4282</th>\n",
       "      <td>Santiago</td>\n",
       "      <td>No especificado de vivienda particular</td>\n",
       "      <td>F</td>\n",
       "      <td>50-59</td>\n",
       "      <td>EstaEnt</td>\n",
       "      <td>Esposa(o)</td>\n",
       "      <td>Sí</td>\n",
       "      <td>IMSS</td>\n",
       "      <td>No</td>\n",
       "      <td>1000000000</td>\n",
       "      <td>...</td>\n",
       "      <td>0</td>\n",
       "      <td>0</td>\n",
       "      <td>0</td>\n",
       "      <td>0</td>\n",
       "      <td>0</td>\n",
       "      <td>0</td>\n",
       "      <td>0</td>\n",
       "      <td>0</td>\n",
       "      <td>0</td>\n",
       "      <td>10.0</td>\n",
       "    </tr>\n",
       "    <tr>\n",
       "      <th>4283</th>\n",
       "      <td>Santiago</td>\n",
       "      <td>No especificado de vivienda particular</td>\n",
       "      <td>F</td>\n",
       "      <td>60-64</td>\n",
       "      <td>EstaEnt</td>\n",
       "      <td>Esposa(o)</td>\n",
       "      <td>Sí</td>\n",
       "      <td>IMSS</td>\n",
       "      <td>No</td>\n",
       "      <td>1000000000</td>\n",
       "      <td>...</td>\n",
       "      <td>0</td>\n",
       "      <td>0</td>\n",
       "      <td>0</td>\n",
       "      <td>0</td>\n",
       "      <td>0</td>\n",
       "      <td>0</td>\n",
       "      <td>0</td>\n",
       "      <td>0</td>\n",
       "      <td>0</td>\n",
       "      <td>10.0</td>\n",
       "    </tr>\n",
       "    <tr>\n",
       "      <th>4284</th>\n",
       "      <td>Santiago</td>\n",
       "      <td>No especificado de vivienda particular</td>\n",
       "      <td>F</td>\n",
       "      <td>65-130</td>\n",
       "      <td>EstaEnt</td>\n",
       "      <td>Jefa(e)</td>\n",
       "      <td>Sí</td>\n",
       "      <td>IMSS</td>\n",
       "      <td>No</td>\n",
       "      <td>1000000000</td>\n",
       "      <td>...</td>\n",
       "      <td>0</td>\n",
       "      <td>0</td>\n",
       "      <td>0</td>\n",
       "      <td>0</td>\n",
       "      <td>0</td>\n",
       "      <td>0</td>\n",
       "      <td>0</td>\n",
       "      <td>0</td>\n",
       "      <td>0</td>\n",
       "      <td>10.0</td>\n",
       "    </tr>\n",
       "    <tr>\n",
       "      <th>4285</th>\n",
       "      <td>Santiago</td>\n",
       "      <td>No especificado de vivienda particular</td>\n",
       "      <td>F</td>\n",
       "      <td>65-130</td>\n",
       "      <td>EstaEnt</td>\n",
       "      <td>Jefa(e)</td>\n",
       "      <td>Sí</td>\n",
       "      <td>IMSS</td>\n",
       "      <td>No</td>\n",
       "      <td>1000000000</td>\n",
       "      <td>...</td>\n",
       "      <td>0</td>\n",
       "      <td>0</td>\n",
       "      <td>0</td>\n",
       "      <td>0</td>\n",
       "      <td>0</td>\n",
       "      <td>0</td>\n",
       "      <td>0</td>\n",
       "      <td>0</td>\n",
       "      <td>0</td>\n",
       "      <td>10.0</td>\n",
       "    </tr>\n",
       "  </tbody>\n",
       "</table>\n",
       "<p>4 rows × 67 columns</p>\n",
       "</div>"
      ],
      "text/plain": [
       "           MUN                                 CLAVIVP SEXO    EDAD  \\\n",
       "4282  Santiago  No especificado de vivienda particular    F   50-59   \n",
       "4283  Santiago  No especificado de vivienda particular    F   60-64   \n",
       "4284  Santiago  No especificado de vivienda particular    F  65-130   \n",
       "4285  Santiago  No especificado de vivienda particular    F  65-130   \n",
       "\n",
       "     ENT_PAIS_NAC PARENTESCO NACIONALIDAD SERSALUD AFRODES    DHSERSAL  ...  \\\n",
       "4282      EstaEnt  Esposa(o)           Sí     IMSS      No  1000000000  ...   \n",
       "4283      EstaEnt  Esposa(o)           Sí     IMSS      No  1000000000  ...   \n",
       "4284      EstaEnt    Jefa(e)           Sí     IMSS      No  1000000000  ...   \n",
       "4285      EstaEnt    Jefa(e)           Sí     IMSS      No  1000000000  ...   \n",
       "\n",
       "     MED_TRASLADO_TRAB_Camión, autobús, combi, colectivo  \\\n",
       "4282                                                  0    \n",
       "4283                                                  0    \n",
       "4284                                                  0    \n",
       "4285                                                  0    \n",
       "\n",
       "     MED_TRASLADO_TRAB_Metro, tren ligero, tren suburbano  \\\n",
       "4282                                                  0     \n",
       "4283                                                  0     \n",
       "4284                                                  0     \n",
       "4285                                                  0     \n",
       "\n",
       "     MED_TRASLADO_TRAB_Metrobús (autobús en carril confinado)  \\\n",
       "4282                                                  0         \n",
       "4283                                                  0         \n",
       "4284                                                  0         \n",
       "4285                                                  0         \n",
       "\n",
       "     MED_TRASLADO_TRAB_Motocicleta o motoneta  \\\n",
       "4282                                        0   \n",
       "4283                                        0   \n",
       "4284                                        0   \n",
       "4285                                        0   \n",
       "\n",
       "     MED_TRASLADO_TRAB_No especificado MED_TRASLADO_TRAB_Otro  \\\n",
       "4282                                 0                      0   \n",
       "4283                                 0                      0   \n",
       "4284                                 0                      0   \n",
       "4285                                 0                      0   \n",
       "\n",
       "     MED_TRASLADO_TRAB_Taxi (App Internet)  \\\n",
       "4282                                     0   \n",
       "4283                                     0   \n",
       "4284                                     0   \n",
       "4285                                     0   \n",
       "\n",
       "     MED_TRASLADO_TRAB_Taxi (sitio, calle, otro)  \\\n",
       "4282                                           0   \n",
       "4283                                           0   \n",
       "4284                                           0   \n",
       "4285                                           0   \n",
       "\n",
       "     MED_TRASLADO_TRAB_Transporte escolar FACTOR  \n",
       "4282                                    0   10.0  \n",
       "4283                                    0   10.0  \n",
       "4284                                    0   10.0  \n",
       "4285                                    0   10.0  \n",
       "\n",
       "[4 rows x 67 columns]"
      ]
     },
     "execution_count": 275,
     "metadata": {},
     "output_type": "execute_result"
    }
   ],
   "source": [
    "X_f.iloc[-4:]"
   ]
  },
  {
   "cell_type": "code",
   "execution_count": 262,
   "id": "bd5b75c9-6d96-4179-9309-2a94537d7463",
   "metadata": {
    "tags": []
   },
   "outputs": [
    {
     "name": "stdout",
     "output_type": "stream",
     "text": [
      "  EDAD        HLENGUA\n",
      "0    5  Sí/No español\n",
      "  EDAD        HLENGUA\n",
      "0    5  Sí/No español\n",
      "  SEXO   EDAD             HLENGUA\n",
      "0    F  18-24  Sí/No especificado\n",
      "1    F  25-49  Sí/No especificado\n",
      "    EDAD             HLENGUA\n",
      "0  18-24  Sí/No especificado\n",
      "1  25-49  Sí/No especificado\n",
      "  SEXO EDAD             HLENGUA\n",
      "0    M  3-4  Sí/No especificado\n",
      "  EDAD             HLENGUA\n",
      "0  3-4  Sí/No especificado\n"
     ]
    }
   ],
   "source": [
    "# 1. Find all attribute combinations not in X\n",
    "# Iterate over constraints\n",
    "for const_name in consts:\n",
    "    # Get the dictionary of col: valus for the constraint\n",
    "    const_dict = constraints_ind[const_name].copy()\n",
    "    \n",
    "    # Find all constrined attribute combinations\n",
    "    columns = list(const_dict.keys())\n",
    "    attr_combs = list(product(*const_dict.values()))\n",
    "    \n",
    "    # Filter those already in X\n",
    "    attr_new = []\n",
    "    attr_old = []\n",
    "    for attr in attr_combs:\n",
    "        qry_str = ' & '.join([f'{col} == \"{val}\"' for col, val in zip(columns, attr)])\n",
    "        if X.query(qry_str).empty:\n",
    "            attr_new.append(attr)\n",
    "        else:\n",
    "            attr_old.append(attr)\n",
    "    \n",
    "    print(pd.DataFrame(attr_old, columns=columns))"
   ]
  },
  {
   "cell_type": "code",
   "execution_count": null,
   "id": "9ad0f4a3-3efd-48c1-b038-1a2b077acbb9",
   "metadata": {},
   "outputs": [],
   "source": []
  },
  {
   "cell_type": "code",
   "execution_count": 32,
   "id": "d56de121-c12c-4119-8493-3564cdbb9875",
   "metadata": {
    "tags": []
   },
   "outputs": [],
   "source": [
    "import scipy.linalg as spl"
   ]
  },
  {
   "cell_type": "code",
   "execution_count": 56,
   "id": "e0fc2374-530c-4673-b1ce-84332106e959",
   "metadata": {
    "tags": []
   },
   "outputs": [],
   "source": [
    "W_inv = spl.pinv(W)\n",
    "X_sol = W_inv @ C.values"
   ]
  },
  {
   "cell_type": "code",
   "execution_count": 57,
   "id": "9d7766a4-7e21-435f-b1b7-c9210cb3159a",
   "metadata": {
    "tags": []
   },
   "outputs": [
    {
     "data": {
      "text/plain": [
       "array([0, 0, 0, 0, 0, 0, 0, 0, 0, 0, 0, 0, 0, 0, 0, 0, 0, 0, 0, 0, 0, 0,\n",
       "       0, 0, 0, 0, 0, 0, 0, 0, 0, 0, 0, 0, 0, 0, 0, 0, 0, 0, 0, 0, 0, 0,\n",
       "       0, 0, 0, 0, 0, 0, 0, 0, 0, 0, 0, 0, 0, 0, 0, 0, 0, 0, 0, 0, 0, 0,\n",
       "       0, 0, 0, 0, 0, 0, 0, 0, 0, 0, 0, 0, 0, 0, 0, 0, 0, 0, 0, 0, 0, 0,\n",
       "       0, 0, 0, 0, 0, 0, 0, 0, 0, 0, 0, 0, 0, 0, 0, 0, 0, 0, 0, 0, 0, 0,\n",
       "       0, 0, 0, 0, 0, 0, 0, 0, 0, 0, 0, 0, 0, 0, 0, 0, 0, 0, 0, 0, 0, 0,\n",
       "       0, 0, 0, 0, 0, 0, 0, 0, 0, 0, 0, 0, 0, 0, 0, 0, 0, 0, 0, 0, 0, 0,\n",
       "       0, 0, 0, 0, 0, 0, 0, 0, 0, 0, 0, 0, 0, 0, 0, 0, 0, 0, 0, 0, 0, 0,\n",
       "       0, 0, 0, 0, 0, 0, 0, 0, 0, 0, 0, 0, 0, 0, 0, 0, 0, 0, 0])"
      ]
     },
     "execution_count": 57,
     "metadata": {},
     "output_type": "execute_result"
    }
   ],
   "source": [
    "(W.values @ X_sol - C.values).astype(int)"
   ]
  },
  {
   "cell_type": "code",
   "execution_count": 58,
   "id": "b2084846-67c9-4fe0-90ca-64618498be59",
   "metadata": {
    "tags": []
   },
   "outputs": [
    {
     "data": {
      "text/plain": [
       "18513"
      ]
     },
     "execution_count": 58,
     "metadata": {},
     "output_type": "execute_result"
    }
   ],
   "source": [
    "len(personas_cat['Apodaca'])"
   ]
  },
  {
   "cell_type": "code",
   "execution_count": 59,
   "id": "2e234494-ef1d-4abe-a21f-7de831fb0211",
   "metadata": {
    "tags": []
   },
   "outputs": [
    {
     "data": {
      "text/plain": [
       "16423"
      ]
     },
     "execution_count": 59,
     "metadata": {},
     "output_type": "execute_result"
    }
   ],
   "source": [
    "len(X)"
   ]
  },
  {
   "cell_type": "markdown",
   "id": "e6258804-4189-4d7e-a82c-d49b05bfddf5",
   "metadata": {
    "jp-MarkdownHeadingCollapsed": true,
    "tags": []
   },
   "source": [
    "### OD Survey"
   ]
  },
  {
   "cell_type": "code",
   "execution_count": 96,
   "id": "cacdfaf6-c068-46c6-a1a1-d1e40649e71f",
   "metadata": {
    "tags": []
   },
   "outputs": [],
   "source": [
    "od_df = pd.read_csv('../data/OD_Survey/datos_limpios_tiempos.csv', low_memory=False)"
   ]
  },
  {
   "cell_type": "code",
   "execution_count": 101,
   "id": "fcd47bf1-6bef-4bb4-8a94-6bcc7f76963a",
   "metadata": {
    "tags": []
   },
   "outputs": [
    {
     "data": {
      "text/html": [
       "<div>\n",
       "<style scoped>\n",
       "    .dataframe tbody tr th:only-of-type {\n",
       "        vertical-align: middle;\n",
       "    }\n",
       "\n",
       "    .dataframe tbody tr th {\n",
       "        vertical-align: top;\n",
       "    }\n",
       "\n",
       "    .dataframe thead th {\n",
       "        text-align: right;\n",
       "    }\n",
       "</style>\n",
       "<table border=\"1\" class=\"dataframe\">\n",
       "  <thead>\n",
       "    <tr style=\"text-align: right;\">\n",
       "      <th></th>\n",
       "      <th>ID-HOGAR</th>\n",
       "      <th>H-P</th>\n",
       "      <th>H-P-V</th>\n",
       "      <th>Latitud</th>\n",
       "      <th>Longitud</th>\n",
       "      <th>FechaHoraEnc</th>\n",
       "      <th>NumVisita</th>\n",
       "      <th>TipoEnc</th>\n",
       "      <th>RealizoEnc</th>\n",
       "      <th>Encuestador</th>\n",
       "      <th>Supervisor</th>\n",
       "      <th>Cod_MunDomicilio</th>\n",
       "      <th>ColDom</th>\n",
       "      <th>CalleDom</th>\n",
       "      <th>NExtDom</th>\n",
       "      <th>NIntDom</th>\n",
       "      <th>RefDom</th>\n",
       "      <th>CPDom</th>\n",
       "      <th>Punto_zona</th>\n",
       "      <th>Cod_EdoDomicilio</th>\n",
       "      <th>LineaTelef</th>\n",
       "      <th>VHAuto</th>\n",
       "      <th>VHMoto</th>\n",
       "      <th>VHPickup</th>\n",
       "      <th>VHCamion</th>\n",
       "      <th>VHBici</th>\n",
       "      <th>VHPatineta</th>\n",
       "      <th>VHPatines</th>\n",
       "      <th>VHScooter</th>\n",
       "      <th>VHOtro</th>\n",
       "      <th>CHBaños</th>\n",
       "      <th>CHDormitorios</th>\n",
       "      <th>Internet</th>\n",
       "      <th>Hab14masTrabajo</th>\n",
       "      <th>HabitantesTotal</th>\n",
       "      <th>HbitantesMayor6</th>\n",
       "      <th>HbitantesMenor5</th>\n",
       "      <th>TodosEstan</th>\n",
       "      <th>NunHabitante</th>\n",
       "      <th>Género</th>\n",
       "      <th>Edad</th>\n",
       "      <th>RelaciónHogar</th>\n",
       "      <th>RelaciónHogar_O</th>\n",
       "      <th>Discapacidad</th>\n",
       "      <th>Discapacidad_O</th>\n",
       "      <th>Estudios</th>\n",
       "      <th>Estudios_O</th>\n",
       "      <th>Ocupacion</th>\n",
       "      <th>Ocupacion_O</th>\n",
       "      <th>SectorEconom</th>\n",
       "      <th>SectorEconom_O</th>\n",
       "      <th>ViajeAyer</th>\n",
       "      <th>Num_Viaje</th>\n",
       "      <th>Lugar_Or</th>\n",
       "      <th>Cod_MunOri</th>\n",
       "      <th>ColOri</th>\n",
       "      <th>RefOri</th>\n",
       "      <th>CalleOri</th>\n",
       "      <th>Esquina_Ori</th>\n",
       "      <th>Cruce_Ori</th>\n",
       "      <th>OtroEstadoOri</th>\n",
       "      <th>OtroEstadoOri_O</th>\n",
       "      <th>CodOri</th>\n",
       "      <th>Cod_EdoOri</th>\n",
       "      <th>Macrozona Origen</th>\n",
       "      <th>ZonaOri</th>\n",
       "      <th>Hora Inicio V</th>\n",
       "      <th>LugarDest</th>\n",
       "      <th>Cod_MunDest</th>\n",
       "      <th>ColDest</th>\n",
       "      <th>RefDest</th>\n",
       "      <th>CalleDest</th>\n",
       "      <th>Esquina_Dest</th>\n",
       "      <th>Cruce_Dest</th>\n",
       "      <th>OtroEstadoDest</th>\n",
       "      <th>OtroEstadoDest_O</th>\n",
       "      <th>CodDest</th>\n",
       "      <th>Cod_EdoDest</th>\n",
       "      <th>Macrozona Destino</th>\n",
       "      <th>ZonaDest</th>\n",
       "      <th>Hora Término Viaje</th>\n",
       "      <th>Cod_IDEdoDest</th>\n",
       "      <th>Cod_IDMunDest</th>\n",
       "      <th>Cod_IDLocDest</th>\n",
       "      <th>Cod_LocDest</th>\n",
       "      <th>Cod_IDColDest</th>\n",
       "      <th>Cod_ColDest</th>\n",
       "      <th>Cod_IDRefDest</th>\n",
       "      <th>Cod_RefDest</th>\n",
       "      <th>Tiempo Tot de Viaje</th>\n",
       "      <th>Motivo</th>\n",
       "      <th>Motivo_O</th>\n",
       "      <th>M1_TipoTransp</th>\n",
       "      <th>M1_Transp_O</th>\n",
       "      <th>M1Tpo_Caminata</th>\n",
       "      <th>M1N_Ruta</th>\n",
       "      <th>M1_HHTpoParada</th>\n",
       "      <th>M1_MMTpoParada</th>\n",
       "      <th>M1_HHTpoAbordo</th>\n",
       "      <th>M1_HHTpoAbordo_O</th>\n",
       "      <th>M1_MMTpoAbordo</th>\n",
       "      <th>M1_Pago</th>\n",
       "      <th>M2_Transp</th>\n",
       "      <th>M2_Transp_O</th>\n",
       "      <th>M2_TipoTransp</th>\n",
       "      <th>M2Tpo_Caminata</th>\n",
       "      <th>M2N_Ruta</th>\n",
       "      <th>M2_HHTpoParada</th>\n",
       "      <th>M2_MMTpoParada</th>\n",
       "      <th>M2_TpoTranspordo</th>\n",
       "      <th>M2_HHTpoAbordo</th>\n",
       "      <th>M2_HHTpoAbordo_O</th>\n",
       "      <th>M2_MMTpoAbordo</th>\n",
       "      <th>M2_Pago</th>\n",
       "      <th>M3_Transp</th>\n",
       "      <th>M3_Transp_O</th>\n",
       "      <th>M3_TipoTransp</th>\n",
       "      <th>M3Tpo_Caminata</th>\n",
       "      <th>M3N_Ruta</th>\n",
       "      <th>M3_HHTpoParada</th>\n",
       "      <th>M3_MMTpoParada</th>\n",
       "      <th>M3_TpoTranspordo</th>\n",
       "      <th>M3_HHTpoAbordo</th>\n",
       "      <th>M3_HHTpoAbordo_O</th>\n",
       "      <th>M3_MMTpoAbordo</th>\n",
       "      <th>M3_Pago</th>\n",
       "      <th>M4_Transp</th>\n",
       "      <th>M4_Transp_O</th>\n",
       "      <th>M4_TipoTransp</th>\n",
       "      <th>M4Tpo_Caminata</th>\n",
       "      <th>M4N_Ruta</th>\n",
       "      <th>M4_HHTpoParada</th>\n",
       "      <th>M4_MMTpoParada</th>\n",
       "      <th>M4_TpoTranspordo</th>\n",
       "      <th>M4_HHTpoAbordo</th>\n",
       "      <th>M4_HHTpoAbordo_O</th>\n",
       "      <th>M4_MMTpoAbordo</th>\n",
       "      <th>M4_Pago</th>\n",
       "      <th>M5_Transp</th>\n",
       "      <th>M5_Transp_O</th>\n",
       "      <th>M5_TipoTransp</th>\n",
       "      <th>M5Tpo_Caminata</th>\n",
       "      <th>M5N_Ruta</th>\n",
       "      <th>M5_HHTpoParada</th>\n",
       "      <th>M5_MMTpoParada</th>\n",
       "      <th>M5_TpoTranspordo</th>\n",
       "      <th>M5_HHTpoAbordo</th>\n",
       "      <th>M5_HHTpoAbordo_O</th>\n",
       "      <th>M5_MMTpoAbordo</th>\n",
       "      <th>M5_Pago</th>\n",
       "      <th>M6_Transp</th>\n",
       "      <th>M6_Transp_O</th>\n",
       "      <th>M6_TipoTransp</th>\n",
       "      <th>M6Tpo_Caminata</th>\n",
       "      <th>M6N_Ruta</th>\n",
       "      <th>M6_HHTpoParada</th>\n",
       "      <th>M6_MMTpoParada</th>\n",
       "      <th>M6_TpoTranspordo</th>\n",
       "      <th>M6_HHTpoAbordo</th>\n",
       "      <th>M6_HHTpoAbordo_O</th>\n",
       "      <th>M6_MMTpoAbordo</th>\n",
       "      <th>M6_Pago</th>\n",
       "      <th>M7_Transp</th>\n",
       "      <th>M7_Transp_O</th>\n",
       "      <th>M7_TipoTransp</th>\n",
       "      <th>M7Tpo_Caminata</th>\n",
       "      <th>M7N_Ruta</th>\n",
       "      <th>M7_HHTpoParada</th>\n",
       "      <th>M7_MMTpoParada</th>\n",
       "      <th>M7_TpoTranspordo</th>\n",
       "      <th>M7_HHTpoAbordo</th>\n",
       "      <th>M7_HHTpoAbordo_O</th>\n",
       "      <th>M7_MMTpoAbordo</th>\n",
       "      <th>M7_Pago</th>\n",
       "      <th>M8_Transp</th>\n",
       "      <th>M8_Transp_O</th>\n",
       "      <th>M8_TipoTransp</th>\n",
       "      <th>M8Tpo_Caminata</th>\n",
       "      <th>M8N_Ruta</th>\n",
       "      <th>M8_HHTpoParada</th>\n",
       "      <th>M8_MMTpoParada</th>\n",
       "      <th>M8_TpoTranspordo</th>\n",
       "      <th>M8_HHTpoAbordo</th>\n",
       "      <th>M8_HHTpoAbordo_O</th>\n",
       "      <th>M8_MMTpoAbordo</th>\n",
       "      <th>M8_Pago</th>\n",
       "      <th>TipoEstacionamiento</th>\n",
       "      <th>TpoBusqueda</th>\n",
       "      <th>TpoEstacionadoHH</th>\n",
       "      <th>TpoEstacionadoMM</th>\n",
       "      <th>CostoEstacionamiento</th>\n",
       "      <th>Obs_Encuestador</th>\n",
       "      <th>Obs_ENCUESTA</th>\n",
       "      <th>FE</th>\n",
       "      <th>Modo Agrupado</th>\n",
       "      <th>motivos</th>\n",
       "      <th>genero</th>\n",
       "      <th>estudios</th>\n",
       "      <th>disc</th>\n",
       "      <th>origen</th>\n",
       "      <th>Tiempo</th>\n",
       "      <th>tiempo_s</th>\n",
       "      <th>tiempo_m</th>\n",
       "      <th>tiempo_h</th>\n",
       "    </tr>\n",
       "  </thead>\n",
       "  <tbody>\n",
       "    <tr>\n",
       "      <th>0</th>\n",
       "      <td>23853a-20</td>\n",
       "      <td>23853a-20/2</td>\n",
       "      <td>23853a-20/2-2</td>\n",
       "      <td>25.765088</td>\n",
       "      <td>-100.406374</td>\n",
       "      <td>2019-09-24T00:00:00Z</td>\n",
       "      <td>Visita 1</td>\n",
       "      <td>HABITANTE</td>\n",
       "      <td>NaN</td>\n",
       "      <td>Lucia Hernández Mondragón</td>\n",
       "      <td>Patricia Baena</td>\n",
       "      <td>Monterrey</td>\n",
       "      <td>Barrio Estrella Elit</td>\n",
       "      <td>lucero</td>\n",
       "      <td>112</td>\n",
       "      <td>NaN</td>\n",
       "      <td>NaN</td>\n",
       "      <td>64102.0</td>\n",
       "      <td>86</td>\n",
       "      <td>Nuevo Leon</td>\n",
       "      <td>Si</td>\n",
       "      <td>2.0</td>\n",
       "      <td>NaN</td>\n",
       "      <td>NaN</td>\n",
       "      <td>NaN</td>\n",
       "      <td>NaN</td>\n",
       "      <td>NaN</td>\n",
       "      <td>NaN</td>\n",
       "      <td>NaN</td>\n",
       "      <td>NaN</td>\n",
       "      <td>1.0</td>\n",
       "      <td>2.0</td>\n",
       "      <td>Si</td>\n",
       "      <td>4.0</td>\n",
       "      <td>4.0</td>\n",
       "      <td>4.0</td>\n",
       "      <td>NaN</td>\n",
       "      <td>NaN</td>\n",
       "      <td>2</td>\n",
       "      <td>Mujer</td>\n",
       "      <td>40</td>\n",
       "      <td>Madre/Esposa</td>\n",
       "      <td>NaN</td>\n",
       "      <td>Ninguna</td>\n",
       "      <td>NaN</td>\n",
       "      <td>Sin Instrucción</td>\n",
       "      <td>NaN</td>\n",
       "      <td>Ama de casa</td>\n",
       "      <td>NaN</td>\n",
       "      <td>Otro</td>\n",
       "      <td>NaN</td>\n",
       "      <td>Sí</td>\n",
       "      <td>2</td>\n",
       "      <td>El DESTINO de viaje inmediato anterior</td>\n",
       "      <td>Monterrey</td>\n",
       "      <td>NaN</td>\n",
       "      <td>NaN</td>\n",
       "      <td>NaN</td>\n",
       "      <td>NaN</td>\n",
       "      <td>NaN</td>\n",
       "      <td>NaN</td>\n",
       "      <td>NaN</td>\n",
       "      <td>10358.0</td>\n",
       "      <td>Nuevo Leon</td>\n",
       "      <td>19.0</td>\n",
       "      <td>76</td>\n",
       "      <td>1899-12-31T18:50:00Z</td>\n",
       "      <td>El HOGAR</td>\n",
       "      <td>Monterrey</td>\n",
       "      <td>NaN</td>\n",
       "      <td>NaN</td>\n",
       "      <td>NaN</td>\n",
       "      <td>NaN</td>\n",
       "      <td>NaN</td>\n",
       "      <td>NaN</td>\n",
       "      <td>NaN</td>\n",
       "      <td>2249.0</td>\n",
       "      <td>Nuevo Leon</td>\n",
       "      <td>17.0</td>\n",
       "      <td>86</td>\n",
       "      <td>1899-12-31T19:00:00Z</td>\n",
       "      <td>19.0</td>\n",
       "      <td>39.0</td>\n",
       "      <td>NaN</td>\n",
       "      <td>NaN</td>\n",
       "      <td>34979</td>\n",
       "      <td>BARRIO ESTRELLA</td>\n",
       "      <td>NaN</td>\n",
       "      <td>NaN</td>\n",
       "      <td>1899-12-31T00:10:00Z</td>\n",
       "      <td>regreso a casa</td>\n",
       "      <td>NaN</td>\n",
       "      <td>Vehículo Particular</td>\n",
       "      <td>NaN</td>\n",
       "      <td>0.0</td>\n",
       "      <td>NaN</td>\n",
       "      <td>0.0</td>\n",
       "      <td>0</td>\n",
       "      <td>0</td>\n",
       "      <td>0.0</td>\n",
       "      <td>10</td>\n",
       "      <td>NaN</td>\n",
       "      <td>No utilizó otro medio de transporte</td>\n",
       "      <td>NaN</td>\n",
       "      <td>NaN</td>\n",
       "      <td>0.0</td>\n",
       "      <td>NaN</td>\n",
       "      <td>0.0</td>\n",
       "      <td>0.0</td>\n",
       "      <td>0.0</td>\n",
       "      <td>0.0</td>\n",
       "      <td>0.0</td>\n",
       "      <td>0.0</td>\n",
       "      <td>NaN</td>\n",
       "      <td>NaN</td>\n",
       "      <td>NaN</td>\n",
       "      <td>NaN</td>\n",
       "      <td>0.0</td>\n",
       "      <td>NaN</td>\n",
       "      <td>0.0</td>\n",
       "      <td>0.0</td>\n",
       "      <td>0.0</td>\n",
       "      <td>0.0</td>\n",
       "      <td>0.0</td>\n",
       "      <td>0.0</td>\n",
       "      <td>NaN</td>\n",
       "      <td>NaN</td>\n",
       "      <td>NaN</td>\n",
       "      <td>NaN</td>\n",
       "      <td>0.0</td>\n",
       "      <td>NaN</td>\n",
       "      <td>0.0</td>\n",
       "      <td>0.0</td>\n",
       "      <td>0.0</td>\n",
       "      <td>0.0</td>\n",
       "      <td>0.0</td>\n",
       "      <td>0.0</td>\n",
       "      <td>NaN</td>\n",
       "      <td>NaN</td>\n",
       "      <td>NaN</td>\n",
       "      <td>NaN</td>\n",
       "      <td>0.0</td>\n",
       "      <td>NaN</td>\n",
       "      <td>0.0</td>\n",
       "      <td>0.0</td>\n",
       "      <td>0.0</td>\n",
       "      <td>0.0</td>\n",
       "      <td>0.0</td>\n",
       "      <td>0.0</td>\n",
       "      <td>NaN</td>\n",
       "      <td>NaN</td>\n",
       "      <td>NaN</td>\n",
       "      <td>NaN</td>\n",
       "      <td>0.0</td>\n",
       "      <td>NaN</td>\n",
       "      <td>0.0</td>\n",
       "      <td>0.0</td>\n",
       "      <td>0.0</td>\n",
       "      <td>0.0</td>\n",
       "      <td>0.0</td>\n",
       "      <td>0.0</td>\n",
       "      <td>NaN</td>\n",
       "      <td>NaN</td>\n",
       "      <td>NaN</td>\n",
       "      <td>NaN</td>\n",
       "      <td>0.0</td>\n",
       "      <td>NaN</td>\n",
       "      <td>0.0</td>\n",
       "      <td>0.0</td>\n",
       "      <td>0.0</td>\n",
       "      <td>0.0</td>\n",
       "      <td>0.0</td>\n",
       "      <td>0.0</td>\n",
       "      <td>NaN</td>\n",
       "      <td>NaN</td>\n",
       "      <td>NaN</td>\n",
       "      <td>NaN</td>\n",
       "      <td>0.0</td>\n",
       "      <td>0.0</td>\n",
       "      <td>0.0</td>\n",
       "      <td>0.0</td>\n",
       "      <td>0.0</td>\n",
       "      <td>0.0</td>\n",
       "      <td>0.0</td>\n",
       "      <td>0.0</td>\n",
       "      <td>NaN</td>\n",
       "      <td>Propio (Casa, oficina)</td>\n",
       "      <td>NaN</td>\n",
       "      <td>11.0</td>\n",
       "      <td>NaN</td>\n",
       "      <td>NaN</td>\n",
       "      <td>NaN</td>\n",
       "      <td>NaN</td>\n",
       "      <td>1282.883061</td>\n",
       "      <td>automovil</td>\n",
       "      <td>3</td>\n",
       "      <td>F</td>\n",
       "      <td>Bajo</td>\n",
       "      <td>No</td>\n",
       "      <td>NA+NA</td>\n",
       "      <td>NaN</td>\n",
       "      <td>600</td>\n",
       "      <td>10</td>\n",
       "      <td>0.166667</td>\n",
       "    </tr>\n",
       "    <tr>\n",
       "      <th>1</th>\n",
       "      <td>23853a-20</td>\n",
       "      <td>23853a-20/4</td>\n",
       "      <td>23853a-20/4-2</td>\n",
       "      <td>25.765088</td>\n",
       "      <td>-100.406374</td>\n",
       "      <td>2019-09-24T00:00:00Z</td>\n",
       "      <td>Visita 1</td>\n",
       "      <td>VIAJE</td>\n",
       "      <td>NaN</td>\n",
       "      <td>Lucia Hernández Mondragón</td>\n",
       "      <td>Patricia Baena</td>\n",
       "      <td>Monterrey</td>\n",
       "      <td>Barrio Estrella Elit</td>\n",
       "      <td>lucero</td>\n",
       "      <td>112</td>\n",
       "      <td>NaN</td>\n",
       "      <td>NaN</td>\n",
       "      <td>64102.0</td>\n",
       "      <td>86</td>\n",
       "      <td>Nuevo Leon</td>\n",
       "      <td>Si</td>\n",
       "      <td>2.0</td>\n",
       "      <td>NaN</td>\n",
       "      <td>NaN</td>\n",
       "      <td>NaN</td>\n",
       "      <td>NaN</td>\n",
       "      <td>NaN</td>\n",
       "      <td>NaN</td>\n",
       "      <td>NaN</td>\n",
       "      <td>NaN</td>\n",
       "      <td>1.0</td>\n",
       "      <td>2.0</td>\n",
       "      <td>Si</td>\n",
       "      <td>4.0</td>\n",
       "      <td>4.0</td>\n",
       "      <td>4.0</td>\n",
       "      <td>NaN</td>\n",
       "      <td>NaN</td>\n",
       "      <td>4</td>\n",
       "      <td>Hombre</td>\n",
       "      <td>7</td>\n",
       "      <td>Hijo(a)</td>\n",
       "      <td>NaN</td>\n",
       "      <td>Ninguna</td>\n",
       "      <td>NaN</td>\n",
       "      <td>Primaria o Secundaria</td>\n",
       "      <td>NaN</td>\n",
       "      <td>Estudiante</td>\n",
       "      <td>NaN</td>\n",
       "      <td>Otro</td>\n",
       "      <td>NaN</td>\n",
       "      <td>Sí</td>\n",
       "      <td>2</td>\n",
       "      <td>El DESTINO de viaje inmediato anterior</td>\n",
       "      <td>Monterrey</td>\n",
       "      <td>NaN</td>\n",
       "      <td>NaN</td>\n",
       "      <td>NaN</td>\n",
       "      <td>NaN</td>\n",
       "      <td>NaN</td>\n",
       "      <td>NaN</td>\n",
       "      <td>NaN</td>\n",
       "      <td>10364.0</td>\n",
       "      <td>Nuevo Leon</td>\n",
       "      <td>17.0</td>\n",
       "      <td>86</td>\n",
       "      <td>1899-12-31T12:35:00Z</td>\n",
       "      <td>El HOGAR</td>\n",
       "      <td>Monterrey</td>\n",
       "      <td>NaN</td>\n",
       "      <td>NaN</td>\n",
       "      <td>NaN</td>\n",
       "      <td>NaN</td>\n",
       "      <td>NaN</td>\n",
       "      <td>NaN</td>\n",
       "      <td>NaN</td>\n",
       "      <td>2249.0</td>\n",
       "      <td>Nuevo Leon</td>\n",
       "      <td>17.0</td>\n",
       "      <td>86</td>\n",
       "      <td>1899-12-31T12:45:00Z</td>\n",
       "      <td>19.0</td>\n",
       "      <td>39.0</td>\n",
       "      <td>NaN</td>\n",
       "      <td>NaN</td>\n",
       "      <td>34979</td>\n",
       "      <td>BARRIO ESTRELLA</td>\n",
       "      <td>NaN</td>\n",
       "      <td>NaN</td>\n",
       "      <td>1899-12-31T00:10:00Z</td>\n",
       "      <td>regreso a casa</td>\n",
       "      <td>NaN</td>\n",
       "      <td>Otro Modo</td>\n",
       "      <td>NaN</td>\n",
       "      <td>0.0</td>\n",
       "      <td>NaN</td>\n",
       "      <td>0.0</td>\n",
       "      <td>0</td>\n",
       "      <td>0</td>\n",
       "      <td>0.0</td>\n",
       "      <td>10</td>\n",
       "      <td>NaN</td>\n",
       "      <td>No utilizó otro medio de transporte</td>\n",
       "      <td>NaN</td>\n",
       "      <td>NaN</td>\n",
       "      <td>0.0</td>\n",
       "      <td>NaN</td>\n",
       "      <td>0.0</td>\n",
       "      <td>0.0</td>\n",
       "      <td>0.0</td>\n",
       "      <td>0.0</td>\n",
       "      <td>0.0</td>\n",
       "      <td>0.0</td>\n",
       "      <td>NaN</td>\n",
       "      <td>NaN</td>\n",
       "      <td>NaN</td>\n",
       "      <td>NaN</td>\n",
       "      <td>0.0</td>\n",
       "      <td>NaN</td>\n",
       "      <td>0.0</td>\n",
       "      <td>0.0</td>\n",
       "      <td>0.0</td>\n",
       "      <td>0.0</td>\n",
       "      <td>0.0</td>\n",
       "      <td>0.0</td>\n",
       "      <td>NaN</td>\n",
       "      <td>NaN</td>\n",
       "      <td>NaN</td>\n",
       "      <td>NaN</td>\n",
       "      <td>0.0</td>\n",
       "      <td>NaN</td>\n",
       "      <td>0.0</td>\n",
       "      <td>0.0</td>\n",
       "      <td>0.0</td>\n",
       "      <td>0.0</td>\n",
       "      <td>0.0</td>\n",
       "      <td>0.0</td>\n",
       "      <td>NaN</td>\n",
       "      <td>NaN</td>\n",
       "      <td>NaN</td>\n",
       "      <td>NaN</td>\n",
       "      <td>0.0</td>\n",
       "      <td>NaN</td>\n",
       "      <td>0.0</td>\n",
       "      <td>0.0</td>\n",
       "      <td>0.0</td>\n",
       "      <td>0.0</td>\n",
       "      <td>0.0</td>\n",
       "      <td>0.0</td>\n",
       "      <td>NaN</td>\n",
       "      <td>NaN</td>\n",
       "      <td>NaN</td>\n",
       "      <td>NaN</td>\n",
       "      <td>0.0</td>\n",
       "      <td>NaN</td>\n",
       "      <td>0.0</td>\n",
       "      <td>0.0</td>\n",
       "      <td>0.0</td>\n",
       "      <td>0.0</td>\n",
       "      <td>0.0</td>\n",
       "      <td>0.0</td>\n",
       "      <td>NaN</td>\n",
       "      <td>NaN</td>\n",
       "      <td>NaN</td>\n",
       "      <td>NaN</td>\n",
       "      <td>0.0</td>\n",
       "      <td>NaN</td>\n",
       "      <td>0.0</td>\n",
       "      <td>0.0</td>\n",
       "      <td>0.0</td>\n",
       "      <td>0.0</td>\n",
       "      <td>0.0</td>\n",
       "      <td>0.0</td>\n",
       "      <td>NaN</td>\n",
       "      <td>NaN</td>\n",
       "      <td>NaN</td>\n",
       "      <td>NaN</td>\n",
       "      <td>0.0</td>\n",
       "      <td>0.0</td>\n",
       "      <td>0.0</td>\n",
       "      <td>0.0</td>\n",
       "      <td>0.0</td>\n",
       "      <td>0.0</td>\n",
       "      <td>0.0</td>\n",
       "      <td>0.0</td>\n",
       "      <td>NaN</td>\n",
       "      <td>NaN</td>\n",
       "      <td>NaN</td>\n",
       "      <td>NaN</td>\n",
       "      <td>NaN</td>\n",
       "      <td>NaN</td>\n",
       "      <td>NaN</td>\n",
       "      <td>NaN</td>\n",
       "      <td>1282.883061</td>\n",
       "      <td>automovil</td>\n",
       "      <td>3</td>\n",
       "      <td>H</td>\n",
       "      <td>Bajo</td>\n",
       "      <td>No</td>\n",
       "      <td>NA+NA</td>\n",
       "      <td>NaN</td>\n",
       "      <td>600</td>\n",
       "      <td>10</td>\n",
       "      <td>0.166667</td>\n",
       "    </tr>\n",
       "    <tr>\n",
       "      <th>2</th>\n",
       "      <td>23853a-20</td>\n",
       "      <td>23853a-20/4</td>\n",
       "      <td>23853a-20/4-1</td>\n",
       "      <td>25.765088</td>\n",
       "      <td>-100.406374</td>\n",
       "      <td>2019-09-24T00:00:00Z</td>\n",
       "      <td>Visita 1</td>\n",
       "      <td>VIAJE</td>\n",
       "      <td>NaN</td>\n",
       "      <td>Lucia Hernández Mondragón</td>\n",
       "      <td>Patricia Baena</td>\n",
       "      <td>Monterrey</td>\n",
       "      <td>Barrio Estrella Elit</td>\n",
       "      <td>lucero</td>\n",
       "      <td>112</td>\n",
       "      <td>NaN</td>\n",
       "      <td>NaN</td>\n",
       "      <td>64102.0</td>\n",
       "      <td>86</td>\n",
       "      <td>Nuevo Leon</td>\n",
       "      <td>Si</td>\n",
       "      <td>2.0</td>\n",
       "      <td>NaN</td>\n",
       "      <td>NaN</td>\n",
       "      <td>NaN</td>\n",
       "      <td>NaN</td>\n",
       "      <td>NaN</td>\n",
       "      <td>NaN</td>\n",
       "      <td>NaN</td>\n",
       "      <td>NaN</td>\n",
       "      <td>1.0</td>\n",
       "      <td>2.0</td>\n",
       "      <td>Si</td>\n",
       "      <td>4.0</td>\n",
       "      <td>4.0</td>\n",
       "      <td>4.0</td>\n",
       "      <td>NaN</td>\n",
       "      <td>NaN</td>\n",
       "      <td>4</td>\n",
       "      <td>Hombre</td>\n",
       "      <td>7</td>\n",
       "      <td>Hijo(a)</td>\n",
       "      <td>NaN</td>\n",
       "      <td>Ninguna</td>\n",
       "      <td>NaN</td>\n",
       "      <td>Primaria o Secundaria</td>\n",
       "      <td>NaN</td>\n",
       "      <td>Estudiante</td>\n",
       "      <td>NaN</td>\n",
       "      <td>Otro</td>\n",
       "      <td>NaN</td>\n",
       "      <td>Sí</td>\n",
       "      <td>1</td>\n",
       "      <td>El HOGAR</td>\n",
       "      <td>Monterrey</td>\n",
       "      <td>NaN</td>\n",
       "      <td>NaN</td>\n",
       "      <td>NaN</td>\n",
       "      <td>NaN</td>\n",
       "      <td>NaN</td>\n",
       "      <td>NaN</td>\n",
       "      <td>NaN</td>\n",
       "      <td>2249.0</td>\n",
       "      <td>Nuevo Leon</td>\n",
       "      <td>17.0</td>\n",
       "      <td>86</td>\n",
       "      <td>1899-12-31T07:40:00Z</td>\n",
       "      <td>En OTRO LUGAR</td>\n",
       "      <td>Monterrey</td>\n",
       "      <td>barrio estrella elite</td>\n",
       "      <td>esc Prim Guadalupe chapa</td>\n",
       "      <td>NaN</td>\n",
       "      <td>NaN</td>\n",
       "      <td>NaN</td>\n",
       "      <td>NaN</td>\n",
       "      <td>NaN</td>\n",
       "      <td>10364.0</td>\n",
       "      <td>Nuevo Leon</td>\n",
       "      <td>17.0</td>\n",
       "      <td>86</td>\n",
       "      <td>1899-12-31T07:50:00Z</td>\n",
       "      <td>19.0</td>\n",
       "      <td>39.0</td>\n",
       "      <td>NaN</td>\n",
       "      <td>NaN</td>\n",
       "      <td>NaN</td>\n",
       "      <td>BARRIO ESTRELLA</td>\n",
       "      <td>NaN</td>\n",
       "      <td>NaN</td>\n",
       "      <td>1899-12-31T00:10:00Z</td>\n",
       "      <td>estudio</td>\n",
       "      <td>NaN</td>\n",
       "      <td>Otro Modo</td>\n",
       "      <td>NaN</td>\n",
       "      <td>0.0</td>\n",
       "      <td>NaN</td>\n",
       "      <td>0.0</td>\n",
       "      <td>0</td>\n",
       "      <td>0</td>\n",
       "      <td>0.0</td>\n",
       "      <td>10</td>\n",
       "      <td>NaN</td>\n",
       "      <td>No utilizó otro medio de transporte</td>\n",
       "      <td>NaN</td>\n",
       "      <td>NaN</td>\n",
       "      <td>0.0</td>\n",
       "      <td>NaN</td>\n",
       "      <td>0.0</td>\n",
       "      <td>0.0</td>\n",
       "      <td>0.0</td>\n",
       "      <td>0.0</td>\n",
       "      <td>0.0</td>\n",
       "      <td>0.0</td>\n",
       "      <td>NaN</td>\n",
       "      <td>NaN</td>\n",
       "      <td>NaN</td>\n",
       "      <td>NaN</td>\n",
       "      <td>0.0</td>\n",
       "      <td>NaN</td>\n",
       "      <td>0.0</td>\n",
       "      <td>0.0</td>\n",
       "      <td>0.0</td>\n",
       "      <td>0.0</td>\n",
       "      <td>0.0</td>\n",
       "      <td>0.0</td>\n",
       "      <td>NaN</td>\n",
       "      <td>NaN</td>\n",
       "      <td>NaN</td>\n",
       "      <td>NaN</td>\n",
       "      <td>0.0</td>\n",
       "      <td>NaN</td>\n",
       "      <td>0.0</td>\n",
       "      <td>0.0</td>\n",
       "      <td>0.0</td>\n",
       "      <td>0.0</td>\n",
       "      <td>0.0</td>\n",
       "      <td>0.0</td>\n",
       "      <td>NaN</td>\n",
       "      <td>NaN</td>\n",
       "      <td>NaN</td>\n",
       "      <td>NaN</td>\n",
       "      <td>0.0</td>\n",
       "      <td>NaN</td>\n",
       "      <td>0.0</td>\n",
       "      <td>0.0</td>\n",
       "      <td>0.0</td>\n",
       "      <td>0.0</td>\n",
       "      <td>0.0</td>\n",
       "      <td>0.0</td>\n",
       "      <td>NaN</td>\n",
       "      <td>NaN</td>\n",
       "      <td>NaN</td>\n",
       "      <td>NaN</td>\n",
       "      <td>0.0</td>\n",
       "      <td>NaN</td>\n",
       "      <td>0.0</td>\n",
       "      <td>0.0</td>\n",
       "      <td>0.0</td>\n",
       "      <td>0.0</td>\n",
       "      <td>0.0</td>\n",
       "      <td>0.0</td>\n",
       "      <td>NaN</td>\n",
       "      <td>NaN</td>\n",
       "      <td>NaN</td>\n",
       "      <td>NaN</td>\n",
       "      <td>0.0</td>\n",
       "      <td>NaN</td>\n",
       "      <td>0.0</td>\n",
       "      <td>0.0</td>\n",
       "      <td>0.0</td>\n",
       "      <td>0.0</td>\n",
       "      <td>0.0</td>\n",
       "      <td>0.0</td>\n",
       "      <td>NaN</td>\n",
       "      <td>NaN</td>\n",
       "      <td>NaN</td>\n",
       "      <td>NaN</td>\n",
       "      <td>0.0</td>\n",
       "      <td>0.0</td>\n",
       "      <td>0.0</td>\n",
       "      <td>0.0</td>\n",
       "      <td>0.0</td>\n",
       "      <td>0.0</td>\n",
       "      <td>0.0</td>\n",
       "      <td>0.0</td>\n",
       "      <td>NaN</td>\n",
       "      <td>NaN</td>\n",
       "      <td>NaN</td>\n",
       "      <td>NaN</td>\n",
       "      <td>NaN</td>\n",
       "      <td>NaN</td>\n",
       "      <td>NaN</td>\n",
       "      <td>NaN</td>\n",
       "      <td>999.649138</td>\n",
       "      <td>automovil</td>\n",
       "      <td>2</td>\n",
       "      <td>H</td>\n",
       "      <td>Bajo</td>\n",
       "      <td>No</td>\n",
       "      <td>NA+NA</td>\n",
       "      <td>NaN</td>\n",
       "      <td>600</td>\n",
       "      <td>10</td>\n",
       "      <td>0.166667</td>\n",
       "    </tr>\n",
       "    <tr>\n",
       "      <th>3</th>\n",
       "      <td>23853a-20</td>\n",
       "      <td>23853a-20/3</td>\n",
       "      <td>23853a-20/3-2</td>\n",
       "      <td>25.765088</td>\n",
       "      <td>-100.406374</td>\n",
       "      <td>2019-09-24T00:00:00Z</td>\n",
       "      <td>Visita 1</td>\n",
       "      <td>VIAJE</td>\n",
       "      <td>NaN</td>\n",
       "      <td>Lucia Hernández Mondragón</td>\n",
       "      <td>Patricia Baena</td>\n",
       "      <td>Monterrey</td>\n",
       "      <td>Barrio Estrella Elit</td>\n",
       "      <td>lucero</td>\n",
       "      <td>112</td>\n",
       "      <td>NaN</td>\n",
       "      <td>NaN</td>\n",
       "      <td>64102.0</td>\n",
       "      <td>86</td>\n",
       "      <td>Nuevo Leon</td>\n",
       "      <td>Si</td>\n",
       "      <td>2.0</td>\n",
       "      <td>NaN</td>\n",
       "      <td>NaN</td>\n",
       "      <td>NaN</td>\n",
       "      <td>NaN</td>\n",
       "      <td>NaN</td>\n",
       "      <td>NaN</td>\n",
       "      <td>NaN</td>\n",
       "      <td>NaN</td>\n",
       "      <td>1.0</td>\n",
       "      <td>2.0</td>\n",
       "      <td>Si</td>\n",
       "      <td>4.0</td>\n",
       "      <td>4.0</td>\n",
       "      <td>4.0</td>\n",
       "      <td>NaN</td>\n",
       "      <td>NaN</td>\n",
       "      <td>3</td>\n",
       "      <td>Hombre</td>\n",
       "      <td>19</td>\n",
       "      <td>Hijo(a)</td>\n",
       "      <td>NaN</td>\n",
       "      <td>Ninguna</td>\n",
       "      <td>NaN</td>\n",
       "      <td>Licenciatura</td>\n",
       "      <td>NaN</td>\n",
       "      <td>Estudiante</td>\n",
       "      <td>NaN</td>\n",
       "      <td>Otro</td>\n",
       "      <td>NaN</td>\n",
       "      <td>Sí</td>\n",
       "      <td>2</td>\n",
       "      <td>El DESTINO de viaje inmediato anterior</td>\n",
       "      <td>Monterrey</td>\n",
       "      <td>NaN</td>\n",
       "      <td>NaN</td>\n",
       "      <td>NaN</td>\n",
       "      <td>NaN</td>\n",
       "      <td>NaN</td>\n",
       "      <td>NaN</td>\n",
       "      <td>NaN</td>\n",
       "      <td>2249.0</td>\n",
       "      <td>Nuevo Leon</td>\n",
       "      <td>17.0</td>\n",
       "      <td>86</td>\n",
       "      <td>1899-12-31T14:15:00Z</td>\n",
       "      <td>El HOGAR</td>\n",
       "      <td>Monterrey</td>\n",
       "      <td>NaN</td>\n",
       "      <td>NaN</td>\n",
       "      <td>NaN</td>\n",
       "      <td>NaN</td>\n",
       "      <td>NaN</td>\n",
       "      <td>NaN</td>\n",
       "      <td>NaN</td>\n",
       "      <td>2249.0</td>\n",
       "      <td>Nuevo Leon</td>\n",
       "      <td>17.0</td>\n",
       "      <td>86</td>\n",
       "      <td>1899-12-31T15:00:00Z</td>\n",
       "      <td>19.0</td>\n",
       "      <td>39.0</td>\n",
       "      <td>NaN</td>\n",
       "      <td>NaN</td>\n",
       "      <td>34979</td>\n",
       "      <td>BARRIO ESTRELLA</td>\n",
       "      <td>NaN</td>\n",
       "      <td>NaN</td>\n",
       "      <td>1899-12-31T00:45:00Z</td>\n",
       "      <td>regreso a casa</td>\n",
       "      <td>NaN</td>\n",
       "      <td>Otro Modo</td>\n",
       "      <td>NaN</td>\n",
       "      <td>0.0</td>\n",
       "      <td>NaN</td>\n",
       "      <td>0.0</td>\n",
       "      <td>0</td>\n",
       "      <td>0</td>\n",
       "      <td>0.0</td>\n",
       "      <td>45</td>\n",
       "      <td>NaN</td>\n",
       "      <td>No utilizó otro medio de transporte</td>\n",
       "      <td>NaN</td>\n",
       "      <td>NaN</td>\n",
       "      <td>0.0</td>\n",
       "      <td>NaN</td>\n",
       "      <td>0.0</td>\n",
       "      <td>0.0</td>\n",
       "      <td>0.0</td>\n",
       "      <td>0.0</td>\n",
       "      <td>0.0</td>\n",
       "      <td>0.0</td>\n",
       "      <td>NaN</td>\n",
       "      <td>NaN</td>\n",
       "      <td>NaN</td>\n",
       "      <td>NaN</td>\n",
       "      <td>0.0</td>\n",
       "      <td>NaN</td>\n",
       "      <td>0.0</td>\n",
       "      <td>0.0</td>\n",
       "      <td>0.0</td>\n",
       "      <td>0.0</td>\n",
       "      <td>0.0</td>\n",
       "      <td>0.0</td>\n",
       "      <td>NaN</td>\n",
       "      <td>NaN</td>\n",
       "      <td>NaN</td>\n",
       "      <td>NaN</td>\n",
       "      <td>0.0</td>\n",
       "      <td>NaN</td>\n",
       "      <td>0.0</td>\n",
       "      <td>0.0</td>\n",
       "      <td>0.0</td>\n",
       "      <td>0.0</td>\n",
       "      <td>0.0</td>\n",
       "      <td>0.0</td>\n",
       "      <td>NaN</td>\n",
       "      <td>NaN</td>\n",
       "      <td>NaN</td>\n",
       "      <td>NaN</td>\n",
       "      <td>0.0</td>\n",
       "      <td>NaN</td>\n",
       "      <td>0.0</td>\n",
       "      <td>0.0</td>\n",
       "      <td>0.0</td>\n",
       "      <td>0.0</td>\n",
       "      <td>0.0</td>\n",
       "      <td>0.0</td>\n",
       "      <td>NaN</td>\n",
       "      <td>NaN</td>\n",
       "      <td>NaN</td>\n",
       "      <td>NaN</td>\n",
       "      <td>0.0</td>\n",
       "      <td>NaN</td>\n",
       "      <td>0.0</td>\n",
       "      <td>0.0</td>\n",
       "      <td>0.0</td>\n",
       "      <td>0.0</td>\n",
       "      <td>0.0</td>\n",
       "      <td>0.0</td>\n",
       "      <td>NaN</td>\n",
       "      <td>NaN</td>\n",
       "      <td>NaN</td>\n",
       "      <td>NaN</td>\n",
       "      <td>0.0</td>\n",
       "      <td>NaN</td>\n",
       "      <td>0.0</td>\n",
       "      <td>0.0</td>\n",
       "      <td>0.0</td>\n",
       "      <td>0.0</td>\n",
       "      <td>0.0</td>\n",
       "      <td>0.0</td>\n",
       "      <td>NaN</td>\n",
       "      <td>NaN</td>\n",
       "      <td>NaN</td>\n",
       "      <td>NaN</td>\n",
       "      <td>0.0</td>\n",
       "      <td>0.0</td>\n",
       "      <td>0.0</td>\n",
       "      <td>0.0</td>\n",
       "      <td>0.0</td>\n",
       "      <td>0.0</td>\n",
       "      <td>0.0</td>\n",
       "      <td>0.0</td>\n",
       "      <td>NaN</td>\n",
       "      <td>NaN</td>\n",
       "      <td>NaN</td>\n",
       "      <td>NaN</td>\n",
       "      <td>NaN</td>\n",
       "      <td>NaN</td>\n",
       "      <td>NaN</td>\n",
       "      <td>NaN</td>\n",
       "      <td>1282.883061</td>\n",
       "      <td>automovil</td>\n",
       "      <td>3</td>\n",
       "      <td>H</td>\n",
       "      <td>Alto</td>\n",
       "      <td>No</td>\n",
       "      <td>NA+NA</td>\n",
       "      <td>NaN</td>\n",
       "      <td>2700</td>\n",
       "      <td>45</td>\n",
       "      <td>0.750000</td>\n",
       "    </tr>\n",
       "    <tr>\n",
       "      <th>4</th>\n",
       "      <td>23853a-20</td>\n",
       "      <td>23853a-20/3</td>\n",
       "      <td>23853a-20/3-1</td>\n",
       "      <td>25.765088</td>\n",
       "      <td>-100.406374</td>\n",
       "      <td>2019-09-24T00:00:00Z</td>\n",
       "      <td>Visita 1</td>\n",
       "      <td>VIAJE</td>\n",
       "      <td>NaN</td>\n",
       "      <td>Lucia Hernández Mondragón</td>\n",
       "      <td>Patricia Baena</td>\n",
       "      <td>Monterrey</td>\n",
       "      <td>Barrio Estrella Elit</td>\n",
       "      <td>lucero</td>\n",
       "      <td>112</td>\n",
       "      <td>NaN</td>\n",
       "      <td>NaN</td>\n",
       "      <td>64102.0</td>\n",
       "      <td>86</td>\n",
       "      <td>Nuevo Leon</td>\n",
       "      <td>Si</td>\n",
       "      <td>2.0</td>\n",
       "      <td>NaN</td>\n",
       "      <td>NaN</td>\n",
       "      <td>NaN</td>\n",
       "      <td>NaN</td>\n",
       "      <td>NaN</td>\n",
       "      <td>NaN</td>\n",
       "      <td>NaN</td>\n",
       "      <td>NaN</td>\n",
       "      <td>1.0</td>\n",
       "      <td>2.0</td>\n",
       "      <td>Si</td>\n",
       "      <td>4.0</td>\n",
       "      <td>4.0</td>\n",
       "      <td>4.0</td>\n",
       "      <td>NaN</td>\n",
       "      <td>NaN</td>\n",
       "      <td>3</td>\n",
       "      <td>Hombre</td>\n",
       "      <td>19</td>\n",
       "      <td>Hijo(a)</td>\n",
       "      <td>NaN</td>\n",
       "      <td>Ninguna</td>\n",
       "      <td>NaN</td>\n",
       "      <td>Licenciatura</td>\n",
       "      <td>NaN</td>\n",
       "      <td>Estudiante</td>\n",
       "      <td>NaN</td>\n",
       "      <td>Otro</td>\n",
       "      <td>NaN</td>\n",
       "      <td>Sí</td>\n",
       "      <td>1</td>\n",
       "      <td>El HOGAR</td>\n",
       "      <td>Monterrey</td>\n",
       "      <td>NaN</td>\n",
       "      <td>NaN</td>\n",
       "      <td>NaN</td>\n",
       "      <td>NaN</td>\n",
       "      <td>NaN</td>\n",
       "      <td>NaN</td>\n",
       "      <td>NaN</td>\n",
       "      <td>2249.0</td>\n",
       "      <td>Nuevo Leon</td>\n",
       "      <td>17.0</td>\n",
       "      <td>86</td>\n",
       "      <td>1899-12-31T10:15:00Z</td>\n",
       "      <td>En OTRO LUGAR</td>\n",
       "      <td>Monterrey</td>\n",
       "      <td>NaN</td>\n",
       "      <td>NaN</td>\n",
       "      <td>NaN</td>\n",
       "      <td>NaN</td>\n",
       "      <td>NaN</td>\n",
       "      <td>NaN</td>\n",
       "      <td>NaN</td>\n",
       "      <td>2249.0</td>\n",
       "      <td>Nuevo Leon</td>\n",
       "      <td>17.0</td>\n",
       "      <td>86</td>\n",
       "      <td>1899-12-31T11:00:00Z</td>\n",
       "      <td>19.0</td>\n",
       "      <td>39.0</td>\n",
       "      <td>NaN</td>\n",
       "      <td>NaN</td>\n",
       "      <td>34979</td>\n",
       "      <td>BARRIO ESTRELLA</td>\n",
       "      <td>NaN</td>\n",
       "      <td>NaN</td>\n",
       "      <td>1899-12-31T00:45:00Z</td>\n",
       "      <td>estudio</td>\n",
       "      <td>NaN</td>\n",
       "      <td>Otro Modo</td>\n",
       "      <td>NaN</td>\n",
       "      <td>0.0</td>\n",
       "      <td>NaN</td>\n",
       "      <td>0.0</td>\n",
       "      <td>0</td>\n",
       "      <td>0</td>\n",
       "      <td>0.0</td>\n",
       "      <td>45</td>\n",
       "      <td>NaN</td>\n",
       "      <td>No utilizó otro medio de transporte</td>\n",
       "      <td>NaN</td>\n",
       "      <td>NaN</td>\n",
       "      <td>0.0</td>\n",
       "      <td>NaN</td>\n",
       "      <td>0.0</td>\n",
       "      <td>0.0</td>\n",
       "      <td>0.0</td>\n",
       "      <td>0.0</td>\n",
       "      <td>0.0</td>\n",
       "      <td>0.0</td>\n",
       "      <td>NaN</td>\n",
       "      <td>NaN</td>\n",
       "      <td>NaN</td>\n",
       "      <td>NaN</td>\n",
       "      <td>0.0</td>\n",
       "      <td>NaN</td>\n",
       "      <td>0.0</td>\n",
       "      <td>0.0</td>\n",
       "      <td>0.0</td>\n",
       "      <td>0.0</td>\n",
       "      <td>0.0</td>\n",
       "      <td>0.0</td>\n",
       "      <td>NaN</td>\n",
       "      <td>NaN</td>\n",
       "      <td>NaN</td>\n",
       "      <td>NaN</td>\n",
       "      <td>0.0</td>\n",
       "      <td>NaN</td>\n",
       "      <td>0.0</td>\n",
       "      <td>0.0</td>\n",
       "      <td>0.0</td>\n",
       "      <td>0.0</td>\n",
       "      <td>0.0</td>\n",
       "      <td>0.0</td>\n",
       "      <td>NaN</td>\n",
       "      <td>NaN</td>\n",
       "      <td>NaN</td>\n",
       "      <td>NaN</td>\n",
       "      <td>0.0</td>\n",
       "      <td>NaN</td>\n",
       "      <td>0.0</td>\n",
       "      <td>0.0</td>\n",
       "      <td>0.0</td>\n",
       "      <td>0.0</td>\n",
       "      <td>0.0</td>\n",
       "      <td>0.0</td>\n",
       "      <td>NaN</td>\n",
       "      <td>NaN</td>\n",
       "      <td>NaN</td>\n",
       "      <td>NaN</td>\n",
       "      <td>0.0</td>\n",
       "      <td>NaN</td>\n",
       "      <td>0.0</td>\n",
       "      <td>0.0</td>\n",
       "      <td>0.0</td>\n",
       "      <td>0.0</td>\n",
       "      <td>0.0</td>\n",
       "      <td>0.0</td>\n",
       "      <td>NaN</td>\n",
       "      <td>NaN</td>\n",
       "      <td>NaN</td>\n",
       "      <td>NaN</td>\n",
       "      <td>0.0</td>\n",
       "      <td>NaN</td>\n",
       "      <td>0.0</td>\n",
       "      <td>0.0</td>\n",
       "      <td>0.0</td>\n",
       "      <td>0.0</td>\n",
       "      <td>0.0</td>\n",
       "      <td>0.0</td>\n",
       "      <td>NaN</td>\n",
       "      <td>NaN</td>\n",
       "      <td>NaN</td>\n",
       "      <td>NaN</td>\n",
       "      <td>0.0</td>\n",
       "      <td>0.0</td>\n",
       "      <td>0.0</td>\n",
       "      <td>0.0</td>\n",
       "      <td>0.0</td>\n",
       "      <td>0.0</td>\n",
       "      <td>0.0</td>\n",
       "      <td>0.0</td>\n",
       "      <td>NaN</td>\n",
       "      <td>Propio (Casa, oficina)</td>\n",
       "      <td>NaN</td>\n",
       "      <td>11.0</td>\n",
       "      <td>NaN</td>\n",
       "      <td>NaN</td>\n",
       "      <td>Pasan por el un amigo</td>\n",
       "      <td>NaN</td>\n",
       "      <td>1282.883061</td>\n",
       "      <td>automovil</td>\n",
       "      <td>2</td>\n",
       "      <td>H</td>\n",
       "      <td>Alto</td>\n",
       "      <td>No</td>\n",
       "      <td>NA+NA</td>\n",
       "      <td>NaN</td>\n",
       "      <td>2700</td>\n",
       "      <td>45</td>\n",
       "      <td>0.750000</td>\n",
       "    </tr>\n",
       "  </tbody>\n",
       "</table>\n",
       "</div>"
      ],
      "text/plain": [
       "    ID-HOGAR          H-P          H-P-V    Latitud    Longitud  \\\n",
       "0  23853a-20  23853a-20/2  23853a-20/2-2  25.765088 -100.406374   \n",
       "1  23853a-20  23853a-20/4  23853a-20/4-2  25.765088 -100.406374   \n",
       "2  23853a-20  23853a-20/4  23853a-20/4-1  25.765088 -100.406374   \n",
       "3  23853a-20  23853a-20/3  23853a-20/3-2  25.765088 -100.406374   \n",
       "4  23853a-20  23853a-20/3  23853a-20/3-1  25.765088 -100.406374   \n",
       "\n",
       "           FechaHoraEnc NumVisita    TipoEnc RealizoEnc  \\\n",
       "0  2019-09-24T00:00:00Z  Visita 1  HABITANTE        NaN   \n",
       "1  2019-09-24T00:00:00Z  Visita 1      VIAJE        NaN   \n",
       "2  2019-09-24T00:00:00Z  Visita 1      VIAJE        NaN   \n",
       "3  2019-09-24T00:00:00Z  Visita 1      VIAJE        NaN   \n",
       "4  2019-09-24T00:00:00Z  Visita 1      VIAJE        NaN   \n",
       "\n",
       "                 Encuestador      Supervisor Cod_MunDomicilio  \\\n",
       "0  Lucia Hernández Mondragón  Patricia Baena        Monterrey   \n",
       "1  Lucia Hernández Mondragón  Patricia Baena        Monterrey   \n",
       "2  Lucia Hernández Mondragón  Patricia Baena        Monterrey   \n",
       "3  Lucia Hernández Mondragón  Patricia Baena        Monterrey   \n",
       "4  Lucia Hernández Mondragón  Patricia Baena        Monterrey   \n",
       "\n",
       "                 ColDom CalleDom NExtDom NIntDom RefDom    CPDom  Punto_zona  \\\n",
       "0  Barrio Estrella Elit   lucero     112     NaN    NaN  64102.0          86   \n",
       "1  Barrio Estrella Elit   lucero     112     NaN    NaN  64102.0          86   \n",
       "2  Barrio Estrella Elit   lucero     112     NaN    NaN  64102.0          86   \n",
       "3  Barrio Estrella Elit   lucero     112     NaN    NaN  64102.0          86   \n",
       "4  Barrio Estrella Elit   lucero     112     NaN    NaN  64102.0          86   \n",
       "\n",
       "  Cod_EdoDomicilio LineaTelef  VHAuto  VHMoto  VHPickup VHCamion  VHBici  \\\n",
       "0       Nuevo Leon         Si     2.0     NaN       NaN      NaN     NaN   \n",
       "1       Nuevo Leon         Si     2.0     NaN       NaN      NaN     NaN   \n",
       "2       Nuevo Leon         Si     2.0     NaN       NaN      NaN     NaN   \n",
       "3       Nuevo Leon         Si     2.0     NaN       NaN      NaN     NaN   \n",
       "4       Nuevo Leon         Si     2.0     NaN       NaN      NaN     NaN   \n",
       "\n",
       "   VHPatineta  VHPatines  VHScooter VHOtro  CHBaños  CHDormitorios Internet  \\\n",
       "0         NaN        NaN        NaN    NaN      1.0            2.0       Si   \n",
       "1         NaN        NaN        NaN    NaN      1.0            2.0       Si   \n",
       "2         NaN        NaN        NaN    NaN      1.0            2.0       Si   \n",
       "3         NaN        NaN        NaN    NaN      1.0            2.0       Si   \n",
       "4         NaN        NaN        NaN    NaN      1.0            2.0       Si   \n",
       "\n",
       "   Hab14masTrabajo  HabitantesTotal  HbitantesMayor6  HbitantesMenor5  \\\n",
       "0              4.0              4.0              4.0              NaN   \n",
       "1              4.0              4.0              4.0              NaN   \n",
       "2              4.0              4.0              4.0              NaN   \n",
       "3              4.0              4.0              4.0              NaN   \n",
       "4              4.0              4.0              4.0              NaN   \n",
       "\n",
       "  TodosEstan  NunHabitante  Género  Edad RelaciónHogar RelaciónHogar_O  \\\n",
       "0        NaN             2   Mujer    40  Madre/Esposa             NaN   \n",
       "1        NaN             4  Hombre     7       Hijo(a)             NaN   \n",
       "2        NaN             4  Hombre     7       Hijo(a)             NaN   \n",
       "3        NaN             3  Hombre    19       Hijo(a)             NaN   \n",
       "4        NaN             3  Hombre    19       Hijo(a)             NaN   \n",
       "\n",
       "  Discapacidad  Discapacidad_O               Estudios  Estudios_O  \\\n",
       "0      Ninguna             NaN        Sin Instrucción         NaN   \n",
       "1      Ninguna             NaN  Primaria o Secundaria         NaN   \n",
       "2      Ninguna             NaN  Primaria o Secundaria         NaN   \n",
       "3      Ninguna             NaN           Licenciatura         NaN   \n",
       "4      Ninguna             NaN           Licenciatura         NaN   \n",
       "\n",
       "     Ocupacion Ocupacion_O SectorEconom SectorEconom_O ViajeAyer  Num_Viaje  \\\n",
       "0  Ama de casa         NaN         Otro            NaN        Sí          2   \n",
       "1   Estudiante         NaN         Otro            NaN        Sí          2   \n",
       "2   Estudiante         NaN         Otro            NaN        Sí          1   \n",
       "3   Estudiante         NaN         Otro            NaN        Sí          2   \n",
       "4   Estudiante         NaN         Otro            NaN        Sí          1   \n",
       "\n",
       "                                 Lugar_Or Cod_MunOri  ColOri  RefOri  \\\n",
       "0  El DESTINO de viaje inmediato anterior  Monterrey     NaN     NaN   \n",
       "1  El DESTINO de viaje inmediato anterior  Monterrey     NaN     NaN   \n",
       "2                                El HOGAR  Monterrey     NaN     NaN   \n",
       "3  El DESTINO de viaje inmediato anterior  Monterrey     NaN     NaN   \n",
       "4                                El HOGAR  Monterrey     NaN     NaN   \n",
       "\n",
       "   CalleOri  Esquina_Ori  Cruce_Ori  OtroEstadoOri  OtroEstadoOri_O   CodOri  \\\n",
       "0       NaN          NaN        NaN            NaN              NaN  10358.0   \n",
       "1       NaN          NaN        NaN            NaN              NaN  10364.0   \n",
       "2       NaN          NaN        NaN            NaN              NaN   2249.0   \n",
       "3       NaN          NaN        NaN            NaN              NaN   2249.0   \n",
       "4       NaN          NaN        NaN            NaN              NaN   2249.0   \n",
       "\n",
       "   Cod_EdoOri  Macrozona Origen  ZonaOri         Hora Inicio V      LugarDest  \\\n",
       "0  Nuevo Leon              19.0       76  1899-12-31T18:50:00Z       El HOGAR   \n",
       "1  Nuevo Leon              17.0       86  1899-12-31T12:35:00Z       El HOGAR   \n",
       "2  Nuevo Leon              17.0       86  1899-12-31T07:40:00Z  En OTRO LUGAR   \n",
       "3  Nuevo Leon              17.0       86  1899-12-31T14:15:00Z       El HOGAR   \n",
       "4  Nuevo Leon              17.0       86  1899-12-31T10:15:00Z  En OTRO LUGAR   \n",
       "\n",
       "  Cod_MunDest                ColDest                   RefDest CalleDest  \\\n",
       "0   Monterrey                    NaN                       NaN       NaN   \n",
       "1   Monterrey                    NaN                       NaN       NaN   \n",
       "2   Monterrey  barrio estrella elite  esc Prim Guadalupe chapa       NaN   \n",
       "3   Monterrey                    NaN                       NaN       NaN   \n",
       "4   Monterrey                    NaN                       NaN       NaN   \n",
       "\n",
       "  Esquina_Dest Cruce_Dest  OtroEstadoDest OtroEstadoDest_O  CodDest  \\\n",
       "0          NaN        NaN             NaN              NaN   2249.0   \n",
       "1          NaN        NaN             NaN              NaN   2249.0   \n",
       "2          NaN        NaN             NaN              NaN  10364.0   \n",
       "3          NaN        NaN             NaN              NaN   2249.0   \n",
       "4          NaN        NaN             NaN              NaN   2249.0   \n",
       "\n",
       "  Cod_EdoDest  Macrozona Destino  ZonaDest    Hora Término Viaje  \\\n",
       "0  Nuevo Leon               17.0        86  1899-12-31T19:00:00Z   \n",
       "1  Nuevo Leon               17.0        86  1899-12-31T12:45:00Z   \n",
       "2  Nuevo Leon               17.0        86  1899-12-31T07:50:00Z   \n",
       "3  Nuevo Leon               17.0        86  1899-12-31T15:00:00Z   \n",
       "4  Nuevo Leon               17.0        86  1899-12-31T11:00:00Z   \n",
       "\n",
       "   Cod_IDEdoDest  Cod_IDMunDest Cod_IDLocDest Cod_LocDest Cod_IDColDest  \\\n",
       "0           19.0           39.0           NaN         NaN         34979   \n",
       "1           19.0           39.0           NaN         NaN         34979   \n",
       "2           19.0           39.0           NaN         NaN           NaN   \n",
       "3           19.0           39.0           NaN         NaN         34979   \n",
       "4           19.0           39.0           NaN         NaN         34979   \n",
       "\n",
       "       Cod_ColDest Cod_IDRefDest  Cod_RefDest   Tiempo Tot de Viaje  \\\n",
       "0  BARRIO ESTRELLA           NaN          NaN  1899-12-31T00:10:00Z   \n",
       "1  BARRIO ESTRELLA           NaN          NaN  1899-12-31T00:10:00Z   \n",
       "2  BARRIO ESTRELLA           NaN          NaN  1899-12-31T00:10:00Z   \n",
       "3  BARRIO ESTRELLA           NaN          NaN  1899-12-31T00:45:00Z   \n",
       "4  BARRIO ESTRELLA           NaN          NaN  1899-12-31T00:45:00Z   \n",
       "\n",
       "           Motivo Motivo_O        M1_TipoTransp M1_Transp_O  M1Tpo_Caminata  \\\n",
       "0  regreso a casa      NaN  Vehículo Particular         NaN             0.0   \n",
       "1  regreso a casa      NaN            Otro Modo         NaN             0.0   \n",
       "2         estudio      NaN            Otro Modo         NaN             0.0   \n",
       "3  regreso a casa      NaN            Otro Modo         NaN             0.0   \n",
       "4         estudio      NaN            Otro Modo         NaN             0.0   \n",
       "\n",
       "  M1N_Ruta  M1_HHTpoParada  M1_MMTpoParada  M1_HHTpoAbordo  M1_HHTpoAbordo_O  \\\n",
       "0      NaN             0.0               0               0               0.0   \n",
       "1      NaN             0.0               0               0               0.0   \n",
       "2      NaN             0.0               0               0               0.0   \n",
       "3      NaN             0.0               0               0               0.0   \n",
       "4      NaN             0.0               0               0               0.0   \n",
       "\n",
       "   M1_MMTpoAbordo  M1_Pago                            M2_Transp  M2_Transp_O  \\\n",
       "0              10      NaN  No utilizó otro medio de transporte          NaN   \n",
       "1              10      NaN  No utilizó otro medio de transporte          NaN   \n",
       "2              10      NaN  No utilizó otro medio de transporte          NaN   \n",
       "3              45      NaN  No utilizó otro medio de transporte          NaN   \n",
       "4              45      NaN  No utilizó otro medio de transporte          NaN   \n",
       "\n",
       "  M2_TipoTransp  M2Tpo_Caminata M2N_Ruta  M2_HHTpoParada  M2_MMTpoParada  \\\n",
       "0           NaN             0.0      NaN             0.0             0.0   \n",
       "1           NaN             0.0      NaN             0.0             0.0   \n",
       "2           NaN             0.0      NaN             0.0             0.0   \n",
       "3           NaN             0.0      NaN             0.0             0.0   \n",
       "4           NaN             0.0      NaN             0.0             0.0   \n",
       "\n",
       "   M2_TpoTranspordo  M2_HHTpoAbordo  M2_HHTpoAbordo_O  M2_MMTpoAbordo  \\\n",
       "0               0.0             0.0               0.0             0.0   \n",
       "1               0.0             0.0               0.0             0.0   \n",
       "2               0.0             0.0               0.0             0.0   \n",
       "3               0.0             0.0               0.0             0.0   \n",
       "4               0.0             0.0               0.0             0.0   \n",
       "\n",
       "   M2_Pago M3_Transp M3_Transp_O M3_TipoTransp  M3Tpo_Caminata M3N_Ruta  \\\n",
       "0      NaN       NaN         NaN           NaN             0.0      NaN   \n",
       "1      NaN       NaN         NaN           NaN             0.0      NaN   \n",
       "2      NaN       NaN         NaN           NaN             0.0      NaN   \n",
       "3      NaN       NaN         NaN           NaN             0.0      NaN   \n",
       "4      NaN       NaN         NaN           NaN             0.0      NaN   \n",
       "\n",
       "   M3_HHTpoParada  M3_MMTpoParada  M3_TpoTranspordo  M3_HHTpoAbordo  \\\n",
       "0             0.0             0.0               0.0             0.0   \n",
       "1             0.0             0.0               0.0             0.0   \n",
       "2             0.0             0.0               0.0             0.0   \n",
       "3             0.0             0.0               0.0             0.0   \n",
       "4             0.0             0.0               0.0             0.0   \n",
       "\n",
       "   M3_HHTpoAbordo_O  M3_MMTpoAbordo  M3_Pago M4_Transp M4_Transp_O  \\\n",
       "0               0.0             0.0      NaN       NaN         NaN   \n",
       "1               0.0             0.0      NaN       NaN         NaN   \n",
       "2               0.0             0.0      NaN       NaN         NaN   \n",
       "3               0.0             0.0      NaN       NaN         NaN   \n",
       "4               0.0             0.0      NaN       NaN         NaN   \n",
       "\n",
       "  M4_TipoTransp  M4Tpo_Caminata  M4N_Ruta  M4_HHTpoParada  M4_MMTpoParada  \\\n",
       "0           NaN             0.0       NaN             0.0             0.0   \n",
       "1           NaN             0.0       NaN             0.0             0.0   \n",
       "2           NaN             0.0       NaN             0.0             0.0   \n",
       "3           NaN             0.0       NaN             0.0             0.0   \n",
       "4           NaN             0.0       NaN             0.0             0.0   \n",
       "\n",
       "   M4_TpoTranspordo  M4_HHTpoAbordo  M4_HHTpoAbordo_O  M4_MMTpoAbordo  \\\n",
       "0               0.0             0.0               0.0             0.0   \n",
       "1               0.0             0.0               0.0             0.0   \n",
       "2               0.0             0.0               0.0             0.0   \n",
       "3               0.0             0.0               0.0             0.0   \n",
       "4               0.0             0.0               0.0             0.0   \n",
       "\n",
       "   M4_Pago M5_Transp M5_Transp_O M5_TipoTransp  M5Tpo_Caminata M5N_Ruta  \\\n",
       "0      NaN       NaN         NaN           NaN             0.0      NaN   \n",
       "1      NaN       NaN         NaN           NaN             0.0      NaN   \n",
       "2      NaN       NaN         NaN           NaN             0.0      NaN   \n",
       "3      NaN       NaN         NaN           NaN             0.0      NaN   \n",
       "4      NaN       NaN         NaN           NaN             0.0      NaN   \n",
       "\n",
       "   M5_HHTpoParada  M5_MMTpoParada  M5_TpoTranspordo  M5_HHTpoAbordo  \\\n",
       "0             0.0             0.0               0.0             0.0   \n",
       "1             0.0             0.0               0.0             0.0   \n",
       "2             0.0             0.0               0.0             0.0   \n",
       "3             0.0             0.0               0.0             0.0   \n",
       "4             0.0             0.0               0.0             0.0   \n",
       "\n",
       "   M5_HHTpoAbordo_O  M5_MMTpoAbordo M5_Pago M6_Transp M6_Transp_O  \\\n",
       "0               0.0             0.0     NaN       NaN         NaN   \n",
       "1               0.0             0.0     NaN       NaN         NaN   \n",
       "2               0.0             0.0     NaN       NaN         NaN   \n",
       "3               0.0             0.0     NaN       NaN         NaN   \n",
       "4               0.0             0.0     NaN       NaN         NaN   \n",
       "\n",
       "  M6_TipoTransp  M6Tpo_Caminata M6N_Ruta  M6_HHTpoParada  M6_MMTpoParada  \\\n",
       "0           NaN             0.0      NaN             0.0             0.0   \n",
       "1           NaN             0.0      NaN             0.0             0.0   \n",
       "2           NaN             0.0      NaN             0.0             0.0   \n",
       "3           NaN             0.0      NaN             0.0             0.0   \n",
       "4           NaN             0.0      NaN             0.0             0.0   \n",
       "\n",
       "   M6_TpoTranspordo  M6_HHTpoAbordo  M6_HHTpoAbordo_O  M6_MMTpoAbordo M6_Pago  \\\n",
       "0               0.0             0.0               0.0             0.0     NaN   \n",
       "1               0.0             0.0               0.0             0.0     NaN   \n",
       "2               0.0             0.0               0.0             0.0     NaN   \n",
       "3               0.0             0.0               0.0             0.0     NaN   \n",
       "4               0.0             0.0               0.0             0.0     NaN   \n",
       "\n",
       "  M7_Transp M7_Transp_O M7_TipoTransp  M7Tpo_Caminata  M7N_Ruta  \\\n",
       "0       NaN         NaN           NaN             0.0       NaN   \n",
       "1       NaN         NaN           NaN             0.0       NaN   \n",
       "2       NaN         NaN           NaN             0.0       NaN   \n",
       "3       NaN         NaN           NaN             0.0       NaN   \n",
       "4       NaN         NaN           NaN             0.0       NaN   \n",
       "\n",
       "   M7_HHTpoParada  M7_MMTpoParada  M7_TpoTranspordo  M7_HHTpoAbordo  \\\n",
       "0             0.0             0.0               0.0             0.0   \n",
       "1             0.0             0.0               0.0             0.0   \n",
       "2             0.0             0.0               0.0             0.0   \n",
       "3             0.0             0.0               0.0             0.0   \n",
       "4             0.0             0.0               0.0             0.0   \n",
       "\n",
       "   M7_HHTpoAbordo_O  M7_MMTpoAbordo M7_Pago M8_Transp M8_Transp_O  \\\n",
       "0               0.0             0.0     NaN       NaN         NaN   \n",
       "1               0.0             0.0     NaN       NaN         NaN   \n",
       "2               0.0             0.0     NaN       NaN         NaN   \n",
       "3               0.0             0.0     NaN       NaN         NaN   \n",
       "4               0.0             0.0     NaN       NaN         NaN   \n",
       "\n",
       "  M8_TipoTransp  M8Tpo_Caminata  M8N_Ruta  M8_HHTpoParada  M8_MMTpoParada  \\\n",
       "0           NaN             0.0       0.0             0.0             0.0   \n",
       "1           NaN             0.0       0.0             0.0             0.0   \n",
       "2           NaN             0.0       0.0             0.0             0.0   \n",
       "3           NaN             0.0       0.0             0.0             0.0   \n",
       "4           NaN             0.0       0.0             0.0             0.0   \n",
       "\n",
       "   M8_TpoTranspordo  M8_HHTpoAbordo  M8_HHTpoAbordo_O  M8_MMTpoAbordo M8_Pago  \\\n",
       "0               0.0             0.0               0.0             0.0     NaN   \n",
       "1               0.0             0.0               0.0             0.0     NaN   \n",
       "2               0.0             0.0               0.0             0.0     NaN   \n",
       "3               0.0             0.0               0.0             0.0     NaN   \n",
       "4               0.0             0.0               0.0             0.0     NaN   \n",
       "\n",
       "      TipoEstacionamiento  TpoBusqueda  TpoEstacionadoHH  TpoEstacionadoMM  \\\n",
       "0  Propio (Casa, oficina)          NaN              11.0               NaN   \n",
       "1                     NaN          NaN               NaN               NaN   \n",
       "2                     NaN          NaN               NaN               NaN   \n",
       "3                     NaN          NaN               NaN               NaN   \n",
       "4  Propio (Casa, oficina)          NaN              11.0               NaN   \n",
       "\n",
       "   CostoEstacionamiento        Obs_Encuestador Obs_ENCUESTA           FE  \\\n",
       "0                   NaN                    NaN          NaN  1282.883061   \n",
       "1                   NaN                    NaN          NaN  1282.883061   \n",
       "2                   NaN                    NaN          NaN   999.649138   \n",
       "3                   NaN                    NaN          NaN  1282.883061   \n",
       "4                   NaN  Pasan por el un amigo          NaN  1282.883061   \n",
       "\n",
       "  Modo Agrupado  motivos genero estudios disc origen  Tiempo  tiempo_s  \\\n",
       "0     automovil        3      F     Bajo   No  NA+NA     NaN       600   \n",
       "1     automovil        3      H     Bajo   No  NA+NA     NaN       600   \n",
       "2     automovil        2      H     Bajo   No  NA+NA     NaN       600   \n",
       "3     automovil        3      H     Alto   No  NA+NA     NaN      2700   \n",
       "4     automovil        2      H     Alto   No  NA+NA     NaN      2700   \n",
       "\n",
       "   tiempo_m  tiempo_h  \n",
       "0        10  0.166667  \n",
       "1        10  0.166667  \n",
       "2        10  0.166667  \n",
       "3        45  0.750000  \n",
       "4        45  0.750000  "
      ]
     },
     "execution_count": 101,
     "metadata": {},
     "output_type": "execute_result"
    }
   ],
   "source": [
    "od_df.head()"
   ]
  },
  {
   "cell_type": "markdown",
   "id": "44d8c785-fed6-4d8a-b2b0-44f7694deb5e",
   "metadata": {
    "jp-MarkdownHeadingCollapsed": true,
    "tags": []
   },
   "source": [
    "### Determining household structure"
   ]
  },
  {
   "cell_type": "code",
   "execution_count": 147,
   "id": "722992b9-eb94-425e-b8da-e6cf1fc0939a",
   "metadata": {
    "tags": []
   },
   "outputs": [],
   "source": [
    "# Map people to households\n",
    "viv_per_dict = {}\n",
    "for id_viv, group in personas.groupby('ID_VIV'):\n",
    "    viv_per_dict[id_viv] = group[['ID_PERSONA', 'NUMPER', 'SEXO', 'EDAD', 'PARENTESCO', 'IDENT_MADRE', 'IDENT_PADRE']]"
   ]
  },
  {
   "cell_type": "code",
   "execution_count": 148,
   "id": "b89384b4-5e44-46bd-b2e4-ec7aa766ee89",
   "metadata": {},
   "outputs": [
    {
     "data": {
      "text/html": [
       "<div>\n",
       "<style scoped>\n",
       "    .dataframe tbody tr th:only-of-type {\n",
       "        vertical-align: middle;\n",
       "    }\n",
       "\n",
       "    .dataframe tbody tr th {\n",
       "        vertical-align: top;\n",
       "    }\n",
       "\n",
       "    .dataframe thead th {\n",
       "        text-align: right;\n",
       "    }\n",
       "</style>\n",
       "<table border=\"1\" class=\"dataframe\">\n",
       "  <thead>\n",
       "    <tr style=\"text-align: right;\">\n",
       "      <th></th>\n",
       "      <th>ID_PERSONA</th>\n",
       "      <th>NUMPER</th>\n",
       "      <th>SEXO</th>\n",
       "      <th>EDAD</th>\n",
       "      <th>PARENTESCO</th>\n",
       "      <th>IDENT_MADRE</th>\n",
       "      <th>IDENT_PADRE</th>\n",
       "    </tr>\n",
       "  </thead>\n",
       "  <tbody>\n",
       "    <tr>\n",
       "      <th>4</th>\n",
       "      <td>19001000000100005</td>\n",
       "      <td>1</td>\n",
       "      <td>3</td>\n",
       "      <td>30</td>\n",
       "      <td>101</td>\n",
       "      <td>96</td>\n",
       "      <td>96</td>\n",
       "    </tr>\n",
       "    <tr>\n",
       "      <th>1</th>\n",
       "      <td>19001000000100002</td>\n",
       "      <td>2</td>\n",
       "      <td>1</td>\n",
       "      <td>36</td>\n",
       "      <td>201</td>\n",
       "      <td>96</td>\n",
       "      <td>96</td>\n",
       "    </tr>\n",
       "    <tr>\n",
       "      <th>0</th>\n",
       "      <td>19001000000100001</td>\n",
       "      <td>3</td>\n",
       "      <td>3</td>\n",
       "      <td>9</td>\n",
       "      <td>301</td>\n",
       "      <td>1</td>\n",
       "      <td>96</td>\n",
       "    </tr>\n",
       "    <tr>\n",
       "      <th>3</th>\n",
       "      <td>19001000000100004</td>\n",
       "      <td>4</td>\n",
       "      <td>3</td>\n",
       "      <td>6</td>\n",
       "      <td>301</td>\n",
       "      <td>1</td>\n",
       "      <td>96</td>\n",
       "    </tr>\n",
       "    <tr>\n",
       "      <th>2</th>\n",
       "      <td>19001000000100003</td>\n",
       "      <td>5</td>\n",
       "      <td>1</td>\n",
       "      <td>1</td>\n",
       "      <td>301</td>\n",
       "      <td>1</td>\n",
       "      <td>2</td>\n",
       "    </tr>\n",
       "  </tbody>\n",
       "</table>\n",
       "</div>"
      ],
      "text/plain": [
       "          ID_PERSONA  NUMPER  SEXO  EDAD  PARENTESCO  IDENT_MADRE  IDENT_PADRE\n",
       "4  19001000000100005       1     3    30         101           96           96\n",
       "1  19001000000100002       2     1    36         201           96           96\n",
       "0  19001000000100001       3     3     9         301            1           96\n",
       "3  19001000000100004       4     3     6         301            1           96\n",
       "2  19001000000100003       5     1     1         301            1            2"
      ]
     },
     "execution_count": 148,
     "metadata": {},
     "output_type": "execute_result"
    }
   ],
   "source": [
    "viv_per_dict[190010000001].sort_values('NUMPER')"
   ]
  },
  {
   "cell_type": "markdown",
   "id": "0d6a5e58-22f8-4646-aeaa-7b70dc8482ea",
   "metadata": {
    "jp-MarkdownHeadingCollapsed": true,
    "tags": []
   },
   "source": [
    "### Seed from group counts"
   ]
  },
  {
   "cell_type": "code",
   "execution_count": null,
   "id": "6f6f941a-56a5-4a92-be25-bde62dc3b0ec",
   "metadata": {},
   "outputs": [],
   "source": [
    "# Seed for whole met area"
   ]
  },
  {
   "cell_type": "code",
   "execution_count": null,
   "id": "0e07e3e8-1f8c-46d5-8ff8-6e5c6452f0cd",
   "metadata": {},
   "outputs": [],
   "source": [
    "# Seed per municipality"
   ]
  },
  {
   "cell_type": "code",
   "execution_count": null,
   "id": "75a3a8bf-d1c9-4456-97fe-c7d7fd7743e4",
   "metadata": {},
   "outputs": [],
   "source": [
    "# Comparing seeds from municipality and whole area"
   ]
  },
  {
   "cell_type": "markdown",
   "id": "96656c01-cf9a-4313-b3b5-d288e753e282",
   "metadata": {
    "jp-MarkdownHeadingCollapsed": true,
    "tags": []
   },
   "source": [
    "### Seed using bayesian networks"
   ]
  },
  {
   "cell_type": "code",
   "execution_count": null,
   "id": "232927bf-060d-454b-bfa7-ef6b2b5258a4",
   "metadata": {},
   "outputs": [],
   "source": []
  },
  {
   "cell_type": "markdown",
   "id": "fbfe1ded-1501-4c62-a1fc-3ecf0714b0c0",
   "metadata": {
    "jp-MarkdownHeadingCollapsed": true,
    "tags": []
   },
   "source": [
    "### Comparing both seeds"
   ]
  },
  {
   "cell_type": "markdown",
   "id": "c9e8aba1-b082-442a-aafb-d9ef529c9bb5",
   "metadata": {},
   "source": []
  },
  {
   "cell_type": "markdown",
   "id": "d7369620-9acf-4e09-b70e-9e7b77e9bcfe",
   "metadata": {
    "jp-MarkdownHeadingCollapsed": true,
    "tags": []
   },
   "source": [
    "# Reconstrucción de microdatos para el censo 2020, nivel AGEB"
   ]
  },
  {
   "cell_type": "markdown",
   "id": "4670c5e9-a140-4005-8f01-4fef9571e0be",
   "metadata": {},
   "source": [
    "El objetivo es obtener una base de microdatos para cada AGEB del censo 2020 consistente con los tabulados oficiales.\n",
    "Para tal efecto, vamos a probar diferentes metodologías, comenzando con una estrategia de reconstrucción utilizando métodos de programación lineal."
   ]
  },
  {
   "cell_type": "markdown",
   "id": "ee0df689-a0e5-4270-a78a-56add92bcdd1",
   "metadata": {},
   "source": [
    "Para tener una idea clara de la implementación, tomemos una AGEB específica de la zona metropolitana de Monterrey.\n",
    "\n",
    "A nivel municipio o demarcación territorial, localidad y AGEB, cualquier indicador con menos de tres unidades aparece con asterisco\n",
    "a excepción de las variables Población total (POBTOT), Total de viviendas (VIVTOT) y Total de viviendas habitadas (TVIVHAB)."
   ]
  },
  {
   "cell_type": "markdown",
   "id": "4a9088e1-72cb-4bcc-9b12-66b992298e2a",
   "metadata": {},
   "source": [
    "Para comenzar vamos a restringir nuestro objetivos a dos variables: edad y sexo. Usemos una AGEB sin datos faltantes, más adelante ajustaremos la implementación para contemplar los datos redactados (*).\n",
    "\n",
    "Porbaremos con dos AGEBs,  una será la de menor población con datos columnos para las columnas que se refieren a población y sexo, la segunda la de mayor población."
   ]
  },
  {
   "cell_type": "markdown",
   "id": "6d4c8047-462d-4c92-870a-9c3c60611546",
   "metadata": {},
   "source": [
    "Las columnas de población en la tabla de microdatos serán discretizadas en el menor número intervalos compatibles con las categorías del censo que puedan aprovechar las restricciones.\n",
    "La ventaja de no usar una única columna de edad con valor entero es la disminución de tamaño del espacio de soluciones.\n",
    "Imputar una edad específica puede hacerse en una etapa de procesamiento posterior.\n",
    "Para no contar dos veces soluciones que unicamente difieren en el ordenamiento de las filas, agregaremos restricciones de ordenamiento para los valores de edad.\n",
    "\n",
    "Las categorias posibles de obtener del censo son las siguientes y las codificamos como enteros:\n",
    "- 0-2: 0\n",
    "- 3-4: 1\n",
    "- 5: 2\n",
    "- 6-7: 3\n",
    "- 8-11: 4\n",
    "- 12-14: 5\n",
    "- 15-17: 6\n",
    "- 18-24: 7\n",
    "- 25-59: 8\n",
    "- 60-64: 9\n",
    "- 65-130: 10\n",
    "\n",
    "Tener esta codificación en mente es importante al momento de definir las restricciones."
   ]
  },
  {
   "cell_type": "markdown",
   "id": "652ae9fb-4c2d-4e63-9fb5-1d8eeb96b588",
   "metadata": {},
   "source": [
    "Al momento de crear los objetivos, usaremos un arreglo de variables en 2D, la tabla de microdatos.\n",
    "Esto debe ser compatible con OR-Tools, por lo que será implementado como una lista de listas.\n",
    "Es este problema restringido a edad y sexo, necesitamos dos columnas: SEXO y EDAD."
   ]
  },
  {
   "cell_type": "code",
   "execution_count": 40,
   "id": "6e7db4e1-fcd4-48de-bf56-c16c7d9e480a",
   "metadata": {
    "tags": []
   },
   "outputs": [],
   "source": [
    "def series_to_dict(series):\n",
    "    d = series.to_dict()\n",
    "    keys = d.keys()\n",
    "    \n",
    "    vals = d.values()\n",
    "    vals = [int(v) \n",
    "            if isinstance(v, float) and not np.isnan(v)\n",
    "            else v for v in d.values() ]\n",
    "    \n",
    "    d = {k: v for k,v in zip(keys, vals)}\n",
    "    \n",
    "    return d"
   ]
  },
  {
   "cell_type": "markdown",
   "id": "3bcd7bd6-f205-4afb-9b55-6bcd7e6a4bde",
   "metadata": {},
   "source": [
    "## Codificando directamente la tabla de contingencia"
   ]
  },
  {
   "cell_type": "code",
   "execution_count": 43,
   "id": "6c80a319-5366-4bc7-9360-bddf136e7421",
   "metadata": {
    "tags": []
   },
   "outputs": [],
   "source": [
    "from ortools.sat.python import cp_model\n",
    "from itertools import product"
   ]
  },
  {
   "cell_type": "code",
   "execution_count": 44,
   "id": "b50d472b-8303-44ac-91a0-f538274a881d",
   "metadata": {
    "tags": []
   },
   "outputs": [],
   "source": [
    "class VarArraySolutionPrinter(cp_model.CpSolverSolutionCallback):\n",
    "    \"\"\"Print intermediate solutions.\"\"\"\n",
    "\n",
    "    def __init__(self, variables):\n",
    "        cp_model.CpSolverSolutionCallback.__init__(self)\n",
    "        self.__variables = variables\n",
    "        self.__solution_count = 0\n",
    "\n",
    "    def on_solution_callback(self):\n",
    "        self.__solution_count += 1\n",
    "        #for v in self.__variables:\n",
    "        #    print('%s=%i' % (v, self.Value(v)), end=' ')\n",
    "        #print()\n",
    "\n",
    "    def solution_count(self):\n",
    "        return self.__solution_count"
   ]
  },
  {
   "cell_type": "code",
   "execution_count": 171,
   "id": "09fe18e1-8b24-45c5-93ab-fd1d61ec2823",
   "metadata": {
    "tags": []
   },
   "outputs": [],
   "source": [
    "def create_variables(model, dimensions, N):\n",
    "    x = {}\n",
    "    for var_id in product(*dimensions.values()):\n",
    "        x[var_id] = model.NewIntVar(0, N, f'{var_id}')\n",
    "\n",
    "    return x"
   ]
  },
  {
   "cell_type": "code",
   "execution_count": 173,
   "id": "81cd073e-3c60-46e4-9624-4bcdec500710",
   "metadata": {
    "tags": []
   },
   "outputs": [],
   "source": [
    "def add_constraint(model, ageb, dimensions, variables, c_name, c_dict, verbose=False):\n",
    "    assert c_name in ageb.keys()\n",
    "    \n",
    "    for k, v in c_dict.items():\n",
    "        assert k in dimensions.keys()\n",
    "        for vv in v:\n",
    "            assert vv in dimensions[k]\n",
    "    \n",
    "    # Replace classes with classes involved in the constraint only\n",
    "    c_dims = dimensions.copy()\n",
    "    for d in c_dims.keys():\n",
    "        if d in c_dict.keys():\n",
    "            c_dims[d] = c_dict[d]\n",
    "    \n",
    "    # Find all variables involved in the constraints\n",
    "    c_vars = []\n",
    "    for var_id in product(*c_dims.values()):\n",
    "        c_vars.append(variables[var_id])\n",
    "    \n",
    "    if verbose:\n",
    "        print(' + '.join([v.Name() for v in c_vars]) + f' = {c_name}')\n",
    "    \n",
    "    model.Add(sum(c_vars) == ageb[c_name])"
   ]
  },
  {
   "cell_type": "code",
   "execution_count": 174,
   "id": "89040dd5-634f-41a2-aa2a-0994f116721d",
   "metadata": {
    "tags": []
   },
   "outputs": [
    {
     "name": "stdout",
     "output_type": "stream",
     "text": [
      "Found 613872 solutions. Status: 4\n"
     ]
    }
   ],
   "source": [
    "model = cp_model.CpModel()\n",
    "\n",
    "variables = create_variables(model, dimensions, ageb['POBTOT'])\n",
    "\n",
    "for c_name, c_dict in constraints.items():\n",
    "    add_constraint(model, ageb, dimensions, variables, c_name, c_dict, verbose=False)\n",
    "    \n",
    "solver = cp_model.CpSolver()\n",
    "solution_printer = VarArraySolutionPrinter(list(x.values()))\n",
    "solver.parameters.enumerate_all_solutions = True\n",
    "\n",
    "status = solver.Solve(model, solution_printer)\n",
    "print(f'Found {solution_printer.solution_count()} solutions. Status: {status}')"
   ]
  },
  {
   "cell_type": "code",
   "execution_count": null,
   "id": "2f0064a8-ccc0-48b0-b9d2-cf0334908dfa",
   "metadata": {},
   "outputs": [],
   "source": []
  }
 ],
 "metadata": {
  "kernelspec": {
   "display_name": "Python 3 (ipykernel)",
   "language": "python",
   "name": "python3"
  },
  "language_info": {
   "codemirror_mode": {
    "name": "ipython",
    "version": 3
   },
   "file_extension": ".py",
   "mimetype": "text/x-python",
   "name": "python",
   "nbconvert_exporter": "python",
   "pygments_lexer": "ipython3",
   "version": "3.11.0"
  }
 },
 "nbformat": 4,
 "nbformat_minor": 5
}
