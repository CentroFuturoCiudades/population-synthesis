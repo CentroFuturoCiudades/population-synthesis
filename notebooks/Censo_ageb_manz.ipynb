{
 "cells": [
  {
   "cell_type": "code",
   "execution_count": null,
   "id": "0ae5f2a5-9364-4068-984d-72c3c4ba685c",
   "metadata": {
    "tags": []
   },
   "outputs": [],
   "source": [
    "personas_full.NIVACAD.value_counts()"
   ]
  },
  {
   "cell_type": "code",
   "execution_count": 1,
   "id": "04a3961e-a5e7-42a1-9b08-301efd798e90",
   "metadata": {
    "tags": []
   },
   "outputs": [],
   "source": [
    "%load_ext autoreload\n",
    "%autoreload 2\n",
    "\n",
    "import numpy as np\n",
    "import pandas as pd\n",
    "import scipy\n",
    "import geopandas as gpd\n",
    "import xarray as xr\n",
    "import sparse\n",
    "from itertools import product, combinations\n",
    "from pathlib import Path\n",
    "from pprint import pprint\n",
    "import matplotlib.pyplot as plt\n",
    "import matplotlib\n",
    "from collections import defaultdict\n",
    "\n",
    "pd.options.display.max_rows = 500\n",
    "#pd.options.display.max_columns = 4000\n",
    "\n",
    "import sys\n",
    "sys.path.append('../src/')\n",
    "\n",
    "# import categories as cats\n",
    "# import constraints"
   ]
  },
  {
   "cell_type": "code",
   "execution_count": 2,
   "id": "a4af8413-b622-46a4-9d6b-6657d80ed325",
   "metadata": {
    "tags": []
   },
   "outputs": [],
   "source": [
    "from extended_survey import process_people_df, process_places_df, nivacad_posmap\n",
    "from census import process_census\n",
    "from constraints import get_ind_const, get_viv_const\n",
    "\n",
    "from setup_lin_system import setup_ls, check_solvable, find_conf_const, get_W, find_zero_nozero_const, find_nonzero_zero_const\n",
    "from setup_lin_system import make_init_system, fix_zero_cell_all, fix_confs_mun\n",
    "from census import locate_collective"
   ]
  },
  {
   "cell_type": "code",
   "execution_count": 3,
   "id": "03657b4a-7bc4-44c7-95e2-0b3ad9c74ea1",
   "metadata": {
    "tags": []
   },
   "outputs": [],
   "source": [
    "survey_dir = Path('../data/cuestionario_ampliado/Censo2020_CA_nl_csv/')\n",
    "personas_path = Path('../data/cuestionario_ampliado/Censo2020_CA_nl_csv/Personas19.CSV')\n",
    "viviendas_path = Path('../data/cuestionario_ampliado/Censo2020_CA_nl_csv/Viviendas19.CSV')\n",
    "census_iter_path = Path('../data/census_loc/ITER_19CSV20.csv')\n",
    "census_resageburb_path = Path('../data/census_ageb_manz/RESAGEBURB_19CSV20.csv')\n",
    "output_path = Path('../output/')"
   ]
  },
  {
   "cell_type": "code",
   "execution_count": 313,
   "id": "849ada0d-9d75-4366-97ae-75021f754af7",
   "metadata": {
    "tags": []
   },
   "outputs": [],
   "source": [
    "personas_census_controlled = [\n",
    "    'SEXO', 'EDAD', 'DHSERSAL', 'RELIGION',\n",
    "    'ASISTEN', 'NIVACAD', 'ALFABET', 'SITUA_CONYUGAL',\n",
    "    'CONACT',\n",
    "    \n",
    "    # Ignored (droped)\n",
    "    'ENT_PAIS_NAC', 'ENT_PAIS_RES_5A', 'AFRODES', 'DIS',\n",
    "\n",
    "    # Simplified\n",
    "    'HLENGUA',\n",
    "]\n",
    "\n",
    "personas_to_drop = [\n",
    "    # Misc\n",
    "    'NACIONALIDAD', 'SERSALUD', 'ELENGUA', 'PERTE_INDIGENA', 'MUN_RES_5A',\n",
    "]\n",
    "\n",
    "personas_extra = [\n",
    "    # Household related\n",
    "    'CLAVIVP', 'PARENTESCO',\n",
    "    \n",
    "    # Work related   \n",
    "    'INGTRMEN', 'OCUPACION_C', 'SITTRA', 'HORTRA', 'ACTIVIDADES_C',\n",
    "    'AGUINALDO', 'VACACIONES', 'SERVICIO_MEDICO', 'UTILIDADES', 'INCAP_SUELDO', 'SAR_AFORE', 'CREDITO_VIVIENDA',\n",
    "\n",
    "    # Transport related\n",
    "    'ENT_PAIS_ASI',\n",
    "    'MED_TRASLADO_ESC_Automóvil o camioneta',\n",
    "    'MED_TRASLADO_ESC_Bicicleta',\n",
    "    'MED_TRASLADO_ESC_Blanco por pase',\n",
    "    'MED_TRASLADO_ESC_Caminando',\n",
    "    'MED_TRASLADO_ESC_Camión, autobús, combi, colectivo',\n",
    "    'MED_TRASLADO_ESC_Metro, tren ligero, tren suburbano',\n",
    "    'MED_TRASLADO_ESC_Metrobús (autobús en carril confinado)',\n",
    "    'MED_TRASLADO_ESC_Motocicleta o motoneta',\n",
    "    'MED_TRASLADO_ESC_No especificado',\n",
    "    'MED_TRASLADO_ESC_Otro',\n",
    "    'MED_TRASLADO_ESC_Taxi (App Internet)',\n",
    "    'MED_TRASLADO_ESC_Taxi (sitio, calle, otro)',\n",
    "    'MED_TRASLADO_ESC_Transporte escolar',\n",
    "    \n",
    "    'ENT_PAIS_TRAB',\n",
    "    'MED_TRASLADO_TRAB_Automóvil o camioneta',\n",
    "    'MED_TRASLADO_TRAB_Bicicleta',\n",
    "    'MED_TRASLADO_TRAB_Blanco por pase',\n",
    "    'MED_TRASLADO_TRAB_Caminando',\n",
    "    'MED_TRASLADO_TRAB_Camión, autobús, combi, colectivo',\n",
    "    'MED_TRASLADO_TRAB_Metro, tren ligero, tren suburbano',\n",
    "    'MED_TRASLADO_TRAB_Metrobús (autobús en carril confinado)',\n",
    "    'MED_TRASLADO_TRAB_Motocicleta o motoneta',\n",
    "    'MED_TRASLADO_TRAB_No especificado',\n",
    "    'MED_TRASLADO_TRAB_Otro',\n",
    "    'MED_TRASLADO_TRAB_Taxi (App Internet)',\n",
    "    'MED_TRASLADO_TRAB_Taxi (sitio, calle, otro)',\n",
    "    'MED_TRASLADO_TRAB_Transporte escolar',\n",
    "]\n",
    "\n",
    "# This should change when cloning across municipalities\n",
    "spatial_cols_per = [\n",
    "    'MUN_ASI',\n",
    "    'TIE_TRASLADO_ESCU',\n",
    "\n",
    "    'MUN_TRAB',\n",
    "    'TIE_TRASLADO_TRAB',\n",
    "    \n",
    "    'MUN',\n",
    "]\n",
    "\n",
    "viviendas_census_controlled = [\n",
    "    'PISOS', 'ELECTRICIDAD', 'AGUA_ENTUBADA', 'ABA_AGUA_ENTU',\n",
    "    'TINACO', 'CISTERNA', 'SERSAN', 'CONAGUA', 'DRENAJE',\n",
    "    \n",
    "    'REFRIGERADOR', 'LAVADORA', 'HORNO',\n",
    "    'RADIO', 'TELEVISOR', 'COMPUTADORA', 'TELEFONO', 'CELULAR',\n",
    "    'INTERNET', 'SERV_TV_PAGA', 'SERV_PEL_PAGA', 'CON_VJUEGOS',\n",
    "    \n",
    "    'AUTOPROP', 'MOTOCICLETA', 'BICICLETA',\n",
    "    \n",
    "    'CUADORM', 'TOTCUART',\n",
    "    \n",
    "    'JEFE_SEXO'\n",
    "]\n",
    "\n",
    "viviendas_extra = [\n",
    "    'CLAVIVP', 'NUMPERS', 'TIPOHOG', 'JEFE_EDAD',\n",
    "    'INGTRHOG'\n",
    "]\n",
    "\n",
    "viviendas_to_drop = [\n",
    "    'PAREDES', 'TECHOS', 'COCINA', 'LUG_COC', 'COMBUSTIBLE',\n",
    "    'ESTUFA', 'FOCOS', 'FOCOS_AHORRA', 'ABA_AGUA_NO_ENTU', 'BOMBA_AGUA',\n",
    "    'REGADERA', 'BOILER', 'CALENTADOR_SOLAR', 'AIRE_ACON', 'PANEL_SOLAR',\n",
    "    'USOEXC', 'SEPARACION1', 'SEPARACION2', 'SEPARACION3', 'SEPARACION4', \n",
    "    'DESTINO_BAS', 'TENENCIA', 'ESCRITURAS', 'FORMA_ADQUI', \n",
    "    \n",
    "    'FINANCIAMIENTO1', 'FINANCIAMIENTO2', 'FINANCIAMIENTO3', 'DEUDA',\n",
    "    \n",
    "    'MCONMIG', 'MNUMPERS',\n",
    "    \n",
    "    'INGR_PEROTROPAIS', 'INGR_PERDENTPAIS', 'INGR_AYUGOB', 'INGR_JUBPEN',\n",
    "    \n",
    "    'ALIMENTACION', 'ALIM_ADL1', 'ALIM_ADL2',\n",
    "    'ING_ALIM_ADL1', 'ING_ALIM_ADL2', 'ING_ALIM_ADL3'\n",
    "]\n",
    "\n",
    "# This should change when cloning across municipalities\n",
    "spatial_cols_viv = [\n",
    "    'MUN'\n",
    "]"
   ]
  },
  {
   "cell_type": "code",
   "execution_count": 228,
   "id": "3afcff5a-ac10-4d87-aa56-b387193fc2dd",
   "metadata": {
    "tags": []
   },
   "outputs": [
    {
     "name": "stdout",
     "output_type": "stream",
     "text": [
      "CPU times: user 21 s, sys: 1.42 s, total: 22.4 s\n",
      "Wall time: 22.5 s\n"
     ]
    }
   ],
   "source": [
    "%%time\n",
    "constraints_ind = get_ind_const()\n",
    "constraints_viv = get_viv_const()\n",
    "\n",
    "viviendas_cat = process_places_df(viviendas_path, to_drop=viviendas_to_drop)\n",
    "viviendas_full = pd.concat(viviendas_cat.values())\n",
    "\n",
    "personas_cat = process_people_df(personas_path)\n",
    "personas_full = pd.concat(personas_cat.values())\n",
    "\n",
    "(\n",
    "    df_mun, df_mun_min, df_mun_max,\n",
    "    df_loc, df_loc_min, df_loc_max,\n",
    "    df_agebs, df_agebs_min, df_agebs_max\n",
    ") = process_census(census_iter_path, census_resageburb_path)\n",
    "\n",
    "met_zone = [\n",
    "    \"Monterrey\",\n",
    "    \"Guadalupe\",\n",
    "    \"Apodaca\",\n",
    "    \"San Nicolás de los Garza\",\n",
    "    \"General Escobedo\",\n",
    "    \"Santa Catarina\",\n",
    "    \"Juárez\",\n",
    "    \"García\",\n",
    "    \"Pesquería\",\n",
    "    \"San Pedro Garza García\",\n",
    "    \"Cadereyta Jiménez\",\n",
    "    \"Santiago\",\n",
    "    \"Salinas Victoria\",\n",
    "    \"Hidalgo\",\n",
    "    \"General Zuazua\",\n",
    "    \"Ciénega de Flores\",\n",
    "    \"El Carmen\",\n",
    "    \"Abasolo\",\n",
    "]"
   ]
  },
  {
   "cell_type": "code",
   "execution_count": 229,
   "id": "b2a4f2de-61a2-4010-babc-b16e4b970a6b",
   "metadata": {
    "tags": []
   },
   "outputs": [
    {
     "name": "stdout",
     "output_type": "stream",
     "text": [
      "CPU times: user 14.3 s, sys: 200 ms, total: 14.5 s\n",
      "Wall time: 14.5 s\n"
     ]
    }
   ],
   "source": [
    "%%time\n",
    "personas, viviendas, W, X, I, J, L, U, C, Y, Uh, Up = make_init_system(personas_full, viviendas_full, constraints_ind, constraints_viv, df_mun)"
   ]
  },
  {
   "cell_type": "code",
   "execution_count": 142,
   "id": "9deea0db-e915-44a7-8dbf-6158cc2e4ed3",
   "metadata": {
    "tags": []
   },
   "outputs": [
    {
     "data": {
      "text/plain": [
       "(51, 209)"
      ]
     },
     "execution_count": 142,
     "metadata": {},
     "output_type": "execute_result"
    }
   ],
   "source": [
    "C.shape"
   ]
  },
  {
   "cell_type": "code",
   "execution_count": 230,
   "id": "32aca483-036e-4641-bb27-216dce3c0cb1",
   "metadata": {
    "tags": []
   },
   "outputs": [
    {
     "name": "stdout",
     "output_type": "stream",
     "text": [
      "Abasolo\n",
      "P_UNK_F        1.0\n",
      "P_UNK_M        1.0\n",
      "PE_BPP_NE_F    3.0\n",
      "Name: Abasolo, dtype: float64\n",
      "###############\n",
      "Allende\n",
      "P_UNK_F         6.0\n",
      "P_UNK_M         7.0\n",
      "PE_BPP_NE_F    30.0\n",
      "Name: Allende, dtype: float64\n",
      "###############\n",
      "Bustamante\n",
      "P_UNK_F    3.0\n",
      "P_UNK_M    2.0\n",
      "Name: Bustamante, dtype: float64\n",
      "###############\n",
      "Cadereyta Jiménez\n",
      "P_UNK_F    43.0\n",
      "P_UNK_M    42.0\n",
      "Name: Cadereyta Jiménez, dtype: float64\n",
      "###############\n",
      "Ciénega de Flores\n",
      "VPH_NE_ELEC    12.0\n",
      "VPH_AGUANE     16.0\n",
      "P_UNK_F         2.0\n",
      "P_UNK_M         6.0\n",
      "Name: Ciénega de Flores, dtype: float64\n",
      "###############\n",
      "China\n",
      "VPH_NE_ELEC    2.0\n",
      "VPH_AGUANE     2.0\n",
      "VPH_NEDREN     2.0\n",
      "Name: China, dtype: float64\n",
      "###############\n",
      "Doctor Arroyo\n",
      "P_UNK_F       43.0\n",
      "P_UNK_M       42.0\n",
      "PAFIL_PDOM     8.0\n",
      "Name: Doctor Arroyo, dtype: float64\n",
      "###############\n",
      "Galeana\n",
      "P_UNK_F    1.0\n",
      "P_UNK_M    1.0\n",
      "Name: Galeana, dtype: float64\n",
      "###############\n",
      "García\n",
      "P_UNK_M    72.0\n",
      "Name: García, dtype: float64\n",
      "###############\n",
      "San Pedro Garza García\n",
      "VPH_LETR    1.0\n",
      "Name: San Pedro Garza García, dtype: float64\n",
      "###############\n",
      "General Bravo\n",
      "VPH_NE_ELEC    7.0\n",
      "VPH_AGUANE     7.0\n",
      "VPH_NEDREN     7.0\n",
      "P_UNK_F        5.0\n",
      "P_UNK_M        4.0\n",
      "Name: General Bravo, dtype: float64\n",
      "###############\n",
      "General Escobedo\n",
      "VPH_NE_ELEC    176.0\n",
      "P_UNK_M        138.0\n",
      "Name: General Escobedo, dtype: float64\n",
      "###############\n",
      "General Zaragoza\n",
      "PE_BPP_NE_F    1.0\n",
      "Name: General Zaragoza, dtype: float64\n",
      "###############\n",
      "General Zuazua\n",
      "VPH_NODREN    32.0\n",
      "P_UNK_F       16.0\n",
      "P_UNK_M       13.0\n",
      "Name: General Zuazua, dtype: float64\n",
      "###############\n",
      "Guadalupe\n",
      "P_UNK_F    42.0\n",
      "P_UNK_M    43.0\n",
      "Name: Guadalupe, dtype: float64\n",
      "###############\n",
      "Los Herreras\n",
      "P_UNK_F    1.0\n",
      "PDER_NE    1.0\n",
      "Name: Los Herreras, dtype: float64\n",
      "###############\n",
      "Hualahuises\n",
      "P_UNK_M    1.0\n",
      "Name: Hualahuises, dtype: float64\n",
      "###############\n",
      "Juárez\n",
      "P_UNK_F    239.0\n",
      "P_UNK_M    238.0\n",
      "Name: Juárez, dtype: float64\n",
      "###############\n",
      "Linares\n",
      "P_UNK_F         6.0\n",
      "P_UNK_M         6.0\n",
      "PDER_IMSSB    105.0\n",
      "Name: Linares, dtype: float64\n",
      "###############\n",
      "Marín\n",
      "P_UNK_F        1.0\n",
      "PE_BPP_NE_F    3.0\n",
      "Name: Marín, dtype: float64\n",
      "###############\n",
      "Mier y Noriega\n",
      "PDER_NE    3.0\n",
      "Name: Mier y Noriega, dtype: float64\n",
      "###############\n",
      "Montemorelos\n",
      "P_UNK_F    107.0\n",
      "P_UNK_M    106.0\n",
      "PDER_NE    254.0\n",
      "Name: Montemorelos, dtype: float64\n",
      "###############\n",
      "Monterrey\n",
      "P_UNK_M    4184.0\n",
      "Name: Monterrey, dtype: float64\n",
      "###############\n",
      "Pesquería\n",
      "P_UNK_M    5.0\n",
      "Name: Pesquería, dtype: float64\n",
      "###############\n",
      "Los Ramones\n",
      "PDER_IMSSB    12.0\n",
      "Name: Los Ramones, dtype: float64\n",
      "###############\n",
      "Sabinas Hidalgo\n",
      "P_UNK_F    9.0\n",
      "Name: Sabinas Hidalgo, dtype: float64\n",
      "###############\n",
      "Salinas Victoria\n",
      "P_UNK_F    37.0\n",
      "Name: Salinas Victoria, dtype: float64\n",
      "###############\n",
      "San Nicolás de los Garza\n",
      "VPH_S_ELEC    44.0\n",
      "P_UNK_M       33.0\n",
      "Name: San Nicolás de los Garza, dtype: float64\n",
      "###############\n",
      "Hidalgo\n",
      "PAFIL_PDOM    5.0\n",
      "Name: Hidalgo, dtype: float64\n",
      "###############\n",
      "Santiago\n",
      "P_UNK_F    245.0\n",
      "P_UNK_M    241.0\n",
      "Name: Santiago, dtype: float64\n",
      "###############\n",
      "Villaldama\n",
      "P_UNK_F    2.0\n",
      "P_UNK_M    1.0\n",
      "Name: Villaldama, dtype: float64\n",
      "###############\n",
      "CPU times: user 458 ms, sys: 84.8 ms, total: 542 ms\n",
      "Wall time: 541 ms\n"
     ]
    }
   ],
   "source": [
    "%%time\n",
    "Y_fix = fix_zero_cell_all(Y, U, C)"
   ]
  },
  {
   "cell_type": "code",
   "execution_count": 143,
   "id": "f5bec6c9-47b4-4d2d-a305-f204aecd9bd3",
   "metadata": {
    "tags": []
   },
   "outputs": [
    {
     "name": "stdout",
     "output_type": "stream",
     "text": [
      "CPU times: user 49.4 ms, sys: 76.7 ms, total: 126 ms\n",
      "Wall time: 125 ms\n"
     ]
    }
   ],
   "source": [
    "%%time\n",
    "mun_list = [m for m in Y.MUN.unique() if m != 'IMPUTED']\n",
    "nfactor = Y['Survey'].max()\n",
    "fill_factor = 0.1\n",
    "Y_fill = Y.copy()\n",
    "for mun in mun_list:\n",
    "    to_add = (1 - Y_fill[mun].astype(bool))*fill_factor\n",
    "    Y_fill[mun] = to_add + Y_fill[mun]"
   ]
  },
  {
   "cell_type": "code",
   "execution_count": 125,
   "id": "5b25077f-e140-4a23-9d4a-973b9c0c898b",
   "metadata": {
    "tags": []
   },
   "outputs": [],
   "source": [
    "from ipf import ipf_classic_numba, ipf_classic"
   ]
  },
  {
   "cell_type": "code",
   "execution_count": 210,
   "id": "46f64934-dda1-4f5e-99f7-9c1cf8790935",
   "metadata": {
    "tags": []
   },
   "outputs": [
    {
     "name": "stdout",
     "output_type": "stream",
     "text": [
      "Warning: Max iterations reached.\n"
     ]
    },
    {
     "data": {
      "text/plain": [
       "1454.9094513794494"
      ]
     },
     "execution_count": 210,
     "metadata": {},
     "output_type": "execute_result"
    }
   ],
   "source": [
    "mun = 'Abasolo'\n",
    "x = Y_fill[mun].values.astype(float)\n",
    "u = U.astype(float).values\n",
    "c = C.loc[mun].values\n",
    "\n",
    "yhat, err = ipf_classic_numba(x, u, c, max_iters=200, tol=0.1)\n",
    "err"
   ]
  },
  {
   "cell_type": "code",
   "execution_count": 226,
   "id": "1ffd28cf-64fe-42af-a3a8-0887fc2e8df3",
   "metadata": {
    "tags": []
   },
   "outputs": [
    {
     "name": "stdout",
     "output_type": "stream",
     "text": [
      "Warning: Max iterations reached.\n"
     ]
    },
    {
     "data": {
      "text/plain": [
       "69.08248743212066"
      ]
     },
     "execution_count": 226,
     "metadata": {},
     "output_type": "execute_result"
    }
   ],
   "source": [
    "mun = 'Abasolo'\n",
    "mask = Y_ext[mun] > 0\n",
    "x = Y_ext.loc[mask, mun].values.astype(float)\n",
    "u = U.loc[:, mask].astype(float).values\n",
    "c = C.loc[mun].values\n",
    "\n",
    "yhat, err = ipf_classic_numba(x, u, c, max_iters=40, tol=0.1)\n",
    "err"
   ]
  },
  {
   "cell_type": "code",
   "execution_count": 227,
   "id": "06b34cdb-57ef-4e23-9897-bdc5e295491e",
   "metadata": {
    "tags": []
   },
   "outputs": [
    {
     "data": {
      "text/plain": [
       "595.6539999999959"
      ]
     },
     "execution_count": 227,
     "metadata": {},
     "output_type": "execute_result"
    }
   ],
   "source": [
    "np.abs(u @ x - c).sum()"
   ]
  },
  {
   "cell_type": "code",
   "execution_count": 166,
   "id": "f2c14a91-6d6c-4593-b1df-a820c60a6727",
   "metadata": {
    "tags": []
   },
   "outputs": [
    {
     "data": {
      "text/plain": [
       "795"
      ]
     },
     "execution_count": 166,
     "metadata": {},
     "output_type": "execute_result"
    }
   ],
   "source": [
    "mask = Y_fix[mun] > 0\n",
    "mask.sum()"
   ]
  },
  {
   "cell_type": "code",
   "execution_count": 165,
   "id": "467ff593-01b7-432d-ac89-b5ac49ed495a",
   "metadata": {
    "tags": []
   },
   "outputs": [],
   "source": [
    "mun = 'Abasolo'\n",
    "mask = Y_fix[mun] > 0\n",
    "x = Y_fix.loc[mask, mun].values.astype(float)\n",
    "u = U.loc[:, mask].astype(float).values\n",
    "c = C.loc[mun].values"
   ]
  },
  {
   "cell_type": "code",
   "execution_count": 145,
   "id": "884d397c-1504-4225-b246-e8da5c97ceb9",
   "metadata": {
    "tags": []
   },
   "outputs": [],
   "source": [
    "mun = 'Abasolo'\n",
    "x = Y_fill.loc[:, mun].values.astype(float)\n",
    "u = U.astype(float).values\n",
    "c = C.loc[mun].values"
   ]
  },
  {
   "cell_type": "code",
   "execution_count": 65,
   "id": "38cc5b0d-3ad4-4215-abab-5fe5eaa12445",
   "metadata": {
    "tags": []
   },
   "outputs": [
    {
     "name": "stdout",
     "output_type": "stream",
     "text": [
      "5.611828514373181e-13\n"
     ]
    },
    {
     "data": {
      "text/plain": [
       "1.349620415425079e-11"
      ]
     },
     "execution_count": 65,
     "metadata": {},
     "output_type": "execute_result"
    }
   ],
   "source": [
    "x_nnls, err = scipy.optimize.nnls(u, c)\n",
    "print(err)\n",
    "np.abs(u @ x_nnls - c).sum()"
   ]
  },
  {
   "cell_type": "code",
   "execution_count": 86,
   "id": "2ddcc477-6840-446a-b5d7-4aca38982e3e",
   "metadata": {
    "tags": []
   },
   "outputs": [
    {
     "data": {
      "text/plain": [
       "65.00000000000016"
      ]
     },
     "execution_count": 86,
     "metadata": {},
     "output_type": "execute_result"
    }
   ],
   "source": [
    "x_nnls.max()"
   ]
  },
  {
   "cell_type": "code",
   "execution_count": 160,
   "id": "8ef04e98-e1ed-49d5-ad5f-ddc0fcf0b26a",
   "metadata": {
    "tags": []
   },
   "outputs": [
    {
     "name": "stdout",
     "output_type": "stream",
     "text": [
      "157.67172000777046\n"
     ]
    },
    {
     "data": {
      "text/plain": [
       "71.8629029501784"
      ]
     },
     "execution_count": 160,
     "metadata": {},
     "output_type": "execute_result"
    }
   ],
   "source": [
    "bounds = np.zeros((len(Y_fill), 2), dtype=float)\n",
    "bounds[:, 1] = np.inf\n",
    "bounds[Y_fill.MUN.values == mun, 0] = 1.0\n",
    "res = scipy.optimize.lsq_linear(u, c, bounds.T, method='bvls')\n",
    "print(res.cost)\n",
    "np.abs(u @ res.x - c).sum()"
   ]
  },
  {
   "cell_type": "code",
   "execution_count": 119,
   "id": "9f521a33-182a-408d-ab28-ff6c6174e2fe",
   "metadata": {
    "tags": []
   },
   "outputs": [
    {
     "data": {
      "text/plain": [
       "1.0"
      ]
     },
     "execution_count": 119,
     "metadata": {},
     "output_type": "execute_result"
    }
   ],
   "source": [
    "res.x.max()"
   ]
  },
  {
   "cell_type": "code",
   "execution_count": 117,
   "id": "46cb3704-28ef-45ce-8091-62652593d967",
   "metadata": {
    "tags": []
   },
   "outputs": [
    {
     "data": {
      "text/plain": [
       "0.0"
      ]
     },
     "execution_count": 117,
     "metadata": {},
     "output_type": "execute_result"
    }
   ],
   "source": [
    "res.x.min()"
   ]
  },
  {
   "cell_type": "code",
   "execution_count": 95,
   "id": "eb8af094-27f2-469d-af56-de76f7e60f5c",
   "metadata": {
    "tags": []
   },
   "outputs": [
    {
     "data": {
      "text/plain": [
       "1.0"
      ]
     },
     "execution_count": 95,
     "metadata": {},
     "output_type": "execute_result"
    }
   ],
   "source": [
    "bounds.T[0].max()"
   ]
  },
  {
   "cell_type": "code",
   "execution_count": 243,
   "id": "c57ccbe7-a345-41be-a3a9-0a69db1e3405",
   "metadata": {
    "tags": []
   },
   "outputs": [],
   "source": [
    "from calibration import grake, get_J"
   ]
  },
  {
   "cell_type": "code",
   "execution_count": 239,
   "id": "39a1e301-e4a1-4af3-a837-697020965d26",
   "metadata": {
    "tags": []
   },
   "outputs": [],
   "source": [
    "mun = 'Abasolo'\n",
    "mask = Y_ext[mun] > 0\n",
    "x = Y_ext.loc[mask, mun].values.astype(float)\n",
    "u = U.loc[:, mask].astype(float).values\n",
    "c = C.loc[mun].values"
   ]
  },
  {
   "cell_type": "code",
   "execution_count": 248,
   "id": "0e8f985f-9622-48a9-9e06-bdc3d8b78c39",
   "metadata": {
    "tags": []
   },
   "outputs": [
    {
     "data": {
      "text/plain": [
       "array([1.0e+00, 1.0e+00, 1.0e+00, 1.0e+00, 1.0e+00, 1.0e+00, 1.0e+00,\n",
       "       1.0e+00, 1.0e+00, 1.0e+00, 1.0e+00, 1.0e+00, 1.0e+00, 1.0e+00,\n",
       "       1.0e+00, 1.0e+00, 1.0e+00, 1.0e+00, 1.0e+00, 1.0e+00, 1.0e+00,\n",
       "       1.0e+00, 1.0e+00, 1.0e+00, 1.0e+00, 1.0e+00, 1.0e+00, 1.0e+00,\n",
       "       1.0e+00, 1.0e+00, 1.0e+00, 1.0e+00, 1.0e+00, 1.0e+00, 1.0e+00,\n",
       "       1.0e+00, 1.0e+00, 1.0e+00, 1.0e+00, 1.0e+00, 1.0e+00, 1.0e+00,\n",
       "       1.0e+00, 1.0e+00, 1.0e+00, 1.0e+00, 1.0e+00, 1.0e+00, 1.0e+00,\n",
       "       1.0e+00, 1.0e+00, 1.0e+00, 1.0e+00, 1.0e+00, 1.0e+00, 1.0e+00,\n",
       "       1.0e+00, 1.0e+00, 1.0e+00, 1.0e+00, 1.0e+00, 1.0e+00, 1.0e+00,\n",
       "       1.0e+00, 1.0e+00, 1.0e+00, 1.0e+00, 1.0e+00, 1.0e+00, 1.0e+00,\n",
       "       1.0e+00, 1.0e+00, 1.0e+00, 1.0e+00, 1.0e+00, 1.0e+00, 1.0e+00,\n",
       "       1.0e+00, 1.0e+00, 1.0e+00, 1.0e+00, 1.0e+00, 1.0e+00, 1.0e+00,\n",
       "       1.0e+00, 1.0e+00, 1.0e+00, 1.0e+00, 1.0e+00, 1.0e+00, 1.0e+00,\n",
       "       1.0e+00, 1.0e+00, 1.0e+00, 1.0e+00, 1.0e+00, 1.0e+00, 1.0e+00,\n",
       "       1.0e+00, 1.0e+00, 1.0e+00, 1.0e+00, 1.0e+00, 1.0e+00, 1.0e+00,\n",
       "       1.0e+00, 1.0e+00, 1.0e+00, 1.0e+00, 1.0e+00, 1.0e+00, 1.0e+00,\n",
       "       1.0e+00, 1.0e+00, 1.0e+00, 1.0e+00, 1.0e+00, 1.0e+00, 1.0e+00,\n",
       "       1.0e+00, 1.0e+00, 1.0e+00, 1.0e+00, 1.0e+00, 1.0e+00, 1.0e+00,\n",
       "       1.0e+00, 1.0e+00, 1.0e+00, 1.0e+00, 1.0e+00, 1.0e+00, 1.0e+00,\n",
       "       1.0e+00, 1.0e+00, 1.0e+00, 1.0e+00, 1.0e+00, 1.0e+00, 1.0e+00,\n",
       "       1.0e+00, 1.0e+00, 1.0e+00, 1.0e+00, 1.0e+00, 1.0e+00, 1.0e+00,\n",
       "       1.0e+00, 1.0e+00, 1.0e+00, 1.0e+00, 1.0e+00, 1.0e+00, 1.0e+00,\n",
       "       1.0e+00, 1.0e+00, 1.0e+00, 1.0e+00, 1.0e+00, 1.0e+00, 1.0e+00,\n",
       "       1.0e+00, 1.0e+00, 1.0e+00, 1.0e+00, 1.0e+00, 1.0e+00, 1.0e+00,\n",
       "       1.0e+00, 1.0e+00, 1.0e+00, 1.0e+00, 1.0e+00, 1.0e+00, 1.0e+00,\n",
       "       1.0e+00, 1.0e+00, 1.0e+00, 1.0e+00, 1.0e+00, 1.0e+00, 1.0e+00,\n",
       "       1.0e+00, 1.0e+00, 1.0e+00, 1.0e+00, 1.0e+00, 1.0e+00, 1.0e+00,\n",
       "       2.0e+00, 1.0e+00, 1.0e+00, 1.0e+00, 1.0e+00, 1.0e+00, 1.0e+00,\n",
       "       1.0e+00, 1.0e+00, 1.0e+00, 1.0e+00, 1.0e+00, 1.0e+00, 1.0e+00,\n",
       "       1.0e+00, 1.0e+00, 1.0e+00, 1.0e+00, 1.0e+00, 1.0e+00, 1.0e+00,\n",
       "       1.0e+00, 1.0e+00, 1.0e+00, 1.0e+00, 1.0e+00, 1.0e+00, 1.0e+00,\n",
       "       1.0e+00, 1.0e+00, 1.0e+00, 1.0e+00, 2.0e+00, 1.0e+00, 1.0e+00,\n",
       "       1.0e+00, 1.0e+00, 2.0e+00, 2.0e+00, 2.0e+00, 2.0e+00, 1.0e+00,\n",
       "       1.0e+00, 1.0e+00, 1.0e+00, 1.0e+00, 1.0e+00, 1.0e+00, 1.0e+00,\n",
       "       1.0e+00, 1.0e+00, 1.0e+00, 1.0e+00, 1.0e+00, 1.0e+00, 1.0e+00,\n",
       "       1.0e+00, 1.0e+00, 1.0e+00, 1.0e+00, 1.0e+00, 1.0e+00, 1.0e+00,\n",
       "       1.0e+00, 1.0e+00, 1.0e+00, 1.0e+00, 1.0e+00, 1.0e+00, 1.0e+00,\n",
       "       1.0e+00, 1.0e+00, 1.0e+00, 1.0e+00, 1.0e+00, 1.0e+00, 1.0e+00,\n",
       "       1.0e+00, 1.0e+00, 1.0e+00, 1.0e+00, 1.0e+00, 1.0e+00, 1.0e+00,\n",
       "       1.0e+00, 1.0e+00, 1.0e+00, 1.0e+00, 1.0e+00, 1.0e+00, 1.0e+00,\n",
       "       1.0e+00, 1.0e+00, 1.0e+00, 1.0e+00, 1.0e+00, 1.0e+00, 1.0e+00,\n",
       "       1.0e+00, 1.0e+00, 1.0e+00, 1.0e+00, 1.0e+00, 1.0e+00, 1.0e+00,\n",
       "       1.0e+00, 1.0e+00, 1.0e+00, 1.0e+00, 1.0e+00, 1.0e+00, 1.0e+00,\n",
       "       1.0e+00, 1.0e+00, 1.0e+00, 1.0e+00, 1.0e+00, 1.0e+00, 1.0e+00,\n",
       "       1.0e+00, 1.0e+00, 1.0e+00, 1.0e+00, 1.0e+00, 1.0e+00, 1.0e+00,\n",
       "       1.0e+00, 1.0e+00, 1.0e+00, 1.0e+00, 1.0e+00, 1.0e+00, 1.0e+00,\n",
       "       1.0e+00, 1.0e+00, 1.0e+00, 1.0e+00, 1.0e+00, 1.0e+00, 1.0e+00,\n",
       "       1.0e+00, 1.0e+00, 1.0e+00, 1.0e+00, 1.0e+00, 1.0e+00, 1.0e+00,\n",
       "       1.0e+00, 1.0e+00, 1.0e+00, 1.0e+00, 1.0e+00, 1.0e+00, 1.0e+00,\n",
       "       1.0e+00, 1.0e+00, 1.0e+00, 1.0e+00, 1.0e+00, 1.0e+00, 1.0e+00,\n",
       "       1.0e+00, 1.0e+00, 1.0e+00, 1.0e+00, 1.0e+00, 1.0e+00, 1.0e+00,\n",
       "       1.0e+00, 1.0e+00, 1.0e+00, 1.0e+00, 1.0e+00, 1.0e+00, 1.0e+00,\n",
       "       1.0e+00, 1.0e+00, 1.0e+00, 1.0e+00, 1.0e+00, 1.0e+00, 1.0e+00,\n",
       "       1.0e+00, 1.0e+00, 1.0e+00, 1.0e+00, 1.0e+00, 1.0e+00, 1.0e+00,\n",
       "       1.0e+00, 1.0e+00, 1.0e+00, 1.0e+00, 1.0e+00, 1.0e+00, 1.0e+00,\n",
       "       1.0e+00, 1.0e+00, 1.0e+00, 1.0e+00, 1.0e+00, 1.0e+00, 1.0e+00,\n",
       "       1.0e+00, 1.0e+00, 1.0e+00, 1.0e+00, 1.0e+00, 1.0e+00, 1.0e+00,\n",
       "       1.0e+00, 1.0e+00, 1.0e+00, 1.0e+00, 1.0e+00, 1.0e+00, 1.0e+00,\n",
       "       1.0e+00, 1.0e+00, 1.0e+00, 1.0e+00, 1.0e+00, 1.0e+00, 1.0e+00,\n",
       "       1.0e+00, 1.0e+00, 1.0e+00, 1.0e+00, 1.0e+00, 1.0e+00, 1.0e+00,\n",
       "       1.0e+00, 1.0e+00, 1.0e+00, 1.0e+00, 1.0e+00, 1.0e+00, 1.0e+00,\n",
       "       1.0e+00, 1.0e+00, 1.0e+00, 1.0e+00, 1.0e+00, 1.0e+00, 1.0e+00,\n",
       "       1.0e+00, 1.0e+00, 1.0e+00, 1.0e+00, 1.0e+00, 1.0e+00, 1.0e+00,\n",
       "       1.0e+00, 1.0e+00, 1.0e+00, 1.0e+00, 1.0e+00, 1.0e+00, 1.0e+00,\n",
       "       1.0e+00, 1.0e+00, 1.0e+00, 1.0e+00, 1.0e+00, 1.0e+00, 1.0e+00,\n",
       "       1.0e+00, 1.0e+00, 1.0e+00, 1.0e+00, 1.0e+00, 1.0e+00, 1.0e+00,\n",
       "       1.0e+00, 1.0e+00, 1.0e+00, 1.0e+00, 1.0e+00, 1.0e+00, 1.0e+00,\n",
       "       1.0e+00, 1.0e+00, 1.0e+00, 1.0e+00, 1.0e+00, 1.0e+00, 1.0e+00,\n",
       "       1.0e+00, 1.0e+00, 1.0e+00, 1.0e+00, 1.0e+00, 1.0e+00, 1.0e+00,\n",
       "       2.0e+00, 2.0e+00, 2.0e+00, 2.0e+00, 2.0e+00, 1.0e+00, 1.0e+00,\n",
       "       1.0e+00, 1.0e+00, 1.0e+00, 1.0e+00, 1.0e+00, 1.0e+00, 1.0e+00,\n",
       "       1.0e+00, 1.0e+00, 1.0e+00, 1.0e+00, 1.0e+00, 1.0e+00, 1.0e+00,\n",
       "       1.0e+00, 1.0e+00, 1.0e+00, 1.0e+00, 1.0e+00, 1.0e+00, 1.0e+00,\n",
       "       1.0e+00, 1.0e+00, 1.0e+00, 1.0e+00, 1.0e+00, 1.0e+00, 1.0e+00,\n",
       "       1.0e+00, 1.0e+00, 1.0e+00, 1.0e+00, 1.0e+00, 1.0e+00, 1.0e+00,\n",
       "       1.0e+00, 1.0e+00, 1.0e+00, 1.0e+00, 1.0e+00, 1.0e+00, 1.0e+00,\n",
       "       1.0e+00, 2.0e+00, 1.0e+00, 1.0e+00, 1.0e+00, 1.0e+00, 1.0e+00,\n",
       "       1.0e+00, 1.0e+00, 1.0e+00, 1.0e+00, 1.0e+00, 1.0e+00, 1.0e+00,\n",
       "       1.0e+00, 1.0e+00, 1.0e+00, 1.0e+00, 1.0e+00, 1.0e+00, 1.0e+00,\n",
       "       1.0e+00, 1.0e+00, 1.0e+00, 1.0e+00, 1.0e+00, 1.0e+00, 1.0e+00,\n",
       "       1.0e+00, 1.0e+00, 1.0e+00, 1.0e+00, 1.0e+00, 1.0e+00, 1.0e+00,\n",
       "       1.0e+00, 1.0e+00, 1.0e+00, 1.0e+00, 1.0e+00, 1.0e+00, 1.0e+00,\n",
       "       1.0e+00, 1.0e+00, 1.0e+00, 1.0e+00, 1.0e+00, 1.0e+00, 1.0e+00,\n",
       "       1.0e+00, 1.0e+00, 1.0e+00, 1.0e+00, 1.0e+00, 1.0e+00, 1.0e+00,\n",
       "       1.0e+00, 1.0e+00, 1.0e+00, 1.0e+00, 1.0e+00, 1.0e+00, 1.0e+00,\n",
       "       1.0e+00, 1.0e+00, 1.0e+00, 1.0e+00, 1.0e+00, 1.0e+00, 1.0e+00,\n",
       "       1.0e+00, 1.0e+00, 1.0e+00, 1.0e+00, 1.0e+00, 1.0e+00, 1.0e+00,\n",
       "       1.0e+00, 1.0e+00, 1.0e+00, 1.0e+00, 1.0e+00, 1.0e+00, 1.0e+00,\n",
       "       1.0e+00, 1.0e+00, 1.0e+00, 1.0e+00, 1.0e+00, 1.0e+00, 1.0e+00,\n",
       "       1.0e+00, 1.0e+00, 1.0e+00, 1.0e+00, 1.0e+00, 1.0e+00, 1.0e+00,\n",
       "       1.0e+00, 1.0e+00, 1.0e+00, 1.0e+00, 1.0e+00, 1.0e+00, 1.0e+00,\n",
       "       1.0e+00, 1.0e+00, 1.0e+00, 1.0e+00, 1.0e+00, 1.0e+00, 1.0e+00,\n",
       "       1.0e+00, 1.0e+00, 1.0e+00, 1.0e+00, 1.0e+00, 1.0e+00, 1.0e+00,\n",
       "       1.0e+00, 1.0e+00, 1.0e+00, 1.0e+00, 1.0e+00, 1.0e+00, 1.0e+00,\n",
       "       1.0e+00, 1.0e+00, 1.0e+00, 1.0e+00, 1.0e+00, 1.0e+00, 1.0e+00,\n",
       "       1.0e+00, 1.0e+00, 1.0e+00, 1.0e+00, 1.0e+00, 1.0e+00, 1.0e+00,\n",
       "       1.0e+00, 1.0e+00, 1.0e+00, 1.0e+00, 1.0e+00, 1.0e+00, 1.0e+00,\n",
       "       1.0e+00, 1.0e+00, 1.0e+00, 1.0e+00, 1.0e+00, 1.0e+00, 1.0e+00,\n",
       "       1.0e+00, 1.0e+00, 1.0e+00, 1.0e+00, 1.0e+00, 1.0e+00, 1.0e+00,\n",
       "       1.0e+00, 1.0e+00, 1.0e+00, 1.0e+00, 1.0e+00, 1.0e+00, 1.0e+00,\n",
       "       1.0e+00, 1.0e+00, 1.0e+00, 1.0e+00, 1.0e+00, 1.0e+00, 1.0e+00,\n",
       "       1.0e+00, 1.0e+00, 1.0e+00, 1.0e+00, 1.0e+00, 1.0e+00, 1.0e+00,\n",
       "       1.0e+00, 1.0e+00, 1.0e+00, 1.0e+00, 1.0e+00, 1.0e+00, 1.0e+00,\n",
       "       1.0e+00, 1.0e+00, 1.0e+00, 1.0e+00, 1.0e+00, 1.0e+00, 1.0e+00,\n",
       "       1.0e+00, 1.0e+00, 1.0e+00, 1.0e+00, 1.0e+00, 1.0e+00, 1.0e+00,\n",
       "       1.0e+00, 1.0e+00, 1.0e+00, 1.0e+00, 1.0e+00, 1.0e+00, 1.0e+00,\n",
       "       1.0e+00, 1.0e+00, 1.0e+00, 1.0e+00, 1.0e+00, 1.0e+00, 1.0e+00,\n",
       "       1.0e+00, 1.0e+00, 1.0e+00, 1.0e+00, 1.0e+00, 1.0e+00, 1.0e+00,\n",
       "       1.0e+00, 1.0e+00, 1.0e+00, 1.0e+00, 1.0e+00, 1.0e+00, 1.0e+00,\n",
       "       1.0e+00, 1.0e+00, 1.0e+00, 1.0e+00, 1.0e+00, 1.0e+00, 1.0e+00,\n",
       "       1.0e+00, 1.0e+00, 1.0e+00, 1.0e+00, 1.0e+00, 1.0e+00, 1.0e+00,\n",
       "       1.0e+00, 1.0e+00, 1.0e+00, 1.0e+00, 1.0e+00, 1.0e+00, 1.0e+00,\n",
       "       1.0e+00, 1.0e+00, 1.0e+00, 1.0e+00, 1.0e+00, 1.0e+00, 1.0e+00,\n",
       "       2.5e-01, 2.5e-01, 1.0e-03, 6.0e-01, 1.0e-03, 1.0e-03])"
      ]
     },
     "execution_count": 248,
     "metadata": {},
     "output_type": "execute_result"
    }
   ],
   "source": [
    "x"
   ]
  },
  {
   "cell_type": "code",
   "execution_count": 253,
   "id": "b9643d07-45d0-4119-b945-050ba4dbd63e",
   "metadata": {
    "tags": []
   },
   "outputs": [
    {
     "data": {
      "text/plain": [
       "0.000    97518\n",
       "1.000      779\n",
       "2.000       12\n",
       "0.001        3\n",
       "0.250        1\n",
       "0.250        1\n",
       "0.600        1\n",
       "Name: Abasolo, dtype: int64"
      ]
     },
     "execution_count": 253,
     "metadata": {},
     "output_type": "execute_result"
    }
   ],
   "source": [
    "Y_ext[mun].value_counts()"
   ]
  },
  {
   "cell_type": "code",
   "execution_count": 244,
   "id": "b9f0a73a-2d94-45cb-9d89-ba46fbad0d2e",
   "metadata": {
    "tags": []
   },
   "outputs": [
    {
     "name": "stdout",
     "output_type": "stream",
     "text": [
      "CPU times: user 547 ms, sys: 41.3 ms, total: 588 ms\n",
      "Wall time: 329 ms\n"
     ]
    }
   ],
   "source": [
    "%%time\n",
    "wgr = grake(x, u.T, c)"
   ]
  },
  {
   "cell_type": "code",
   "execution_count": 245,
   "id": "54de1955-cf49-4c7d-a570-821f225fcee0",
   "metadata": {
    "tags": []
   },
   "outputs": [
    {
     "name": "stderr",
     "output_type": "stream",
     "text": [
      "/var/folders/r6/x8mqvvjd1tl0ypf4y_3z17j80000gq/T/ipykernel_98157/3608620872.py:1: RuntimeWarning: invalid value encountered in matmul\n",
      "  np.abs(u @ wgr - c).sum()\n"
     ]
    },
    {
     "data": {
      "text/plain": [
       "nan"
      ]
     },
     "execution_count": 245,
     "metadata": {},
     "output_type": "execute_result"
    }
   ],
   "source": [
    "np.abs(u @ wgr - c).sum()"
   ]
  },
  {
   "cell_type": "code",
   "execution_count": 246,
   "id": "4d363a33-51be-4051-99b6-2a6a7db29a89",
   "metadata": {
    "tags": []
   },
   "outputs": [
    {
     "data": {
      "text/plain": [
       "inf"
      ]
     },
     "execution_count": 246,
     "metadata": {},
     "output_type": "execute_result"
    }
   ],
   "source": [
    "wgr.max()"
   ]
  },
  {
   "cell_type": "code",
   "execution_count": 247,
   "id": "bfbf6a1a-17db-4099-bff6-b99ea38be2ca",
   "metadata": {
    "tags": []
   },
   "outputs": [
    {
     "data": {
      "text/plain": [
       "0.24999999926151925"
      ]
     },
     "execution_count": 247,
     "metadata": {},
     "output_type": "execute_result"
    }
   ],
   "source": [
    "wgr.min()"
   ]
  },
  {
   "cell_type": "code",
   "execution_count": 196,
   "id": "e2b3e611-c138-4160-a925-642cafc21595",
   "metadata": {
    "tags": []
   },
   "outputs": [
    {
     "data": {
      "text/plain": [
       "368"
      ]
     },
     "execution_count": 196,
     "metadata": {},
     "output_type": "execute_result"
    }
   ],
   "source": [
    "(wgr > 1).sum()"
   ]
  },
  {
   "cell_type": "code",
   "execution_count": 197,
   "id": "7c0af23f-0785-4d71-9213-f76fe5ee875e",
   "metadata": {
    "tags": []
   },
   "outputs": [
    {
     "data": {
      "image/png": "[encoded data removed]",
      "text/plain": [
       "<Figure size 640x480 with 1 Axes>"
      ]
     },
     "metadata": {},
     "output_type": "display_data"
    }
   ],
   "source": [
    "plt.plot(wgr, 'o');"
   ]
  },
  {
   "cell_type": "code",
   "execution_count": null,
   "id": "46c0c360-d7eb-4c6a-b2e6-22f77cd00a77",
   "metadata": {
    "tags": []
   },
   "outputs": [],
   "source": [
    "%%time\n",
    "const_dict = constraints_ind | constraints_viv\n",
    "\n",
    "Y_ext = Y_fix.copy()\n",
    "\n",
    "mun_list = [m for m in Y.MUN.unique() if m != 'IMPUTED']\n",
    "for mun in mun_list:\n",
    "    print(mun)\n",
    "    fix_confs_mun(mun, Y_ext, personas, viviendas, U, C, L, const_dict)"
   ]
  },
  {
   "cell_type": "markdown",
   "id": "54a8e841-49d5-4e12-8fe5-8a2ede0cdd21",
   "metadata": {
    "tags": []
   },
   "source": [
    "## Collective"
   ]
  },
  {
   "cell_type": "code",
   "execution_count": 11,
   "id": "0e03ff68-34db-435b-b3ed-2d21c12be859",
   "metadata": {
    "tags": []
   },
   "outputs": [],
   "source": [
    "df_mun_loc = locate_collective(df_mun, df_loc)"
   ]
  },
  {
   "cell_type": "code",
   "execution_count": 12,
   "id": "a631a2a8-0c2a-42d5-9b2f-d9da92f565ef",
   "metadata": {
    "tags": []
   },
   "outputs": [
    {
     "name": "stdout",
     "output_type": "stream",
     "text": [
      "7 8.0 1.0 [ 29 216 219 221 269 344]\n",
      "9 1873.0 1.0 [620]\n",
      "31 10.0 1.0 [160 298]\n",
      "49 4.0 1.0 [ 22  57  58  67  77 127 128 138 139 149 180 196 197 206 209 233 236 254\n",
      " 272 278 289 295 296]\n"
     ]
    }
   ],
   "source": [
    "for mun, n_p, n_v, df in df_mun_loc:\n",
    "    print(mun, n_p, n_v, df.index.values)"
   ]
  },
  {
   "cell_type": "markdown",
   "id": "4d5e5460-d6aa-4ca7-a3d6-80b0a27b734c",
   "metadata": {
    "tags": []
   },
   "source": [
    "## Different type of solutions"
   ]
  },
  {
   "cell_type": "code",
   "execution_count": 16,
   "id": "d56de121-c12c-4119-8493-3564cdbb9875",
   "metadata": {
    "tags": []
   },
   "outputs": [],
   "source": [
    "import scipy.linalg as spl\n",
    "from scipy.optimize import nnls"
   ]
  },
  {
   "cell_type": "code",
   "execution_count": 11,
   "id": "c47b7c30-ee17-4dfd-803a-5fb5aaf783c2",
   "metadata": {
    "tags": []
   },
   "outputs": [
    {
     "data": {
      "text/plain": [
       "True"
      ]
     },
     "execution_count": 11,
     "metadata": {},
     "output_type": "execute_result"
    }
   ],
   "source": [
    "mun = 'Cerralvo'\n",
    "X2 = XWC_dict[mun]['X']\n",
    "W2 = XWC_dict[mun]['W']\n",
    "C2 = XWC_dict[mun]['C']\n",
    "\n",
    "check_solvable(W2, C2)"
   ]
  },
  {
   "cell_type": "code",
   "execution_count": 106,
   "id": "02472cec-5a80-4236-933a-3b5f1c349a60",
   "metadata": {
    "tags": []
   },
   "outputs": [
    {
     "data": {
      "text/plain": [
       "((97, 2882), (183, 2882))"
      ]
     },
     "execution_count": 106,
     "metadata": {},
     "output_type": "execute_result"
    }
   ],
   "source": [
    "W.shape, W2.shape"
   ]
  },
  {
   "cell_type": "code",
   "execution_count": 90,
   "id": "490732da-5fb1-4332-87d6-fba3d03cd809",
   "metadata": {
    "tags": []
   },
   "outputs": [
    {
     "data": {
      "text/plain": [
       "(6.67119692820961e-11, 1280.5252064123974)"
      ]
     },
     "execution_count": 90,
     "metadata": {},
     "output_type": "execute_result"
    }
   ],
   "source": [
    "# Non negative least squares solution\n",
    "\n",
    "X_sol_nn, err = nnls(W, C)\n",
    "np.linalg.norm(W.values @ X_sol_nn - C.values, ord=1), np.linalg.norm(X_sol_nn)"
   ]
  },
  {
   "cell_type": "code",
   "execution_count": 91,
   "id": "d4ea0a3e-e428-40ba-810c-7655b3ee932d",
   "metadata": {
    "tags": []
   },
   "outputs": [
    {
     "data": {
      "text/plain": [
       "(9.615463980594541e-11, 1091.7601945594413)"
      ]
     },
     "execution_count": 91,
     "metadata": {},
     "output_type": "execute_result"
    }
   ],
   "source": [
    "X_sol_nn2, err = nnls(W2, C2)\n",
    "np.linalg.norm(W2.values @ X_sol_nn2 - C2.values, ord=1), np.linalg.norm(X_sol_nn2)"
   ]
  },
  {
   "cell_type": "code",
   "execution_count": 100,
   "id": "e0fc2374-530c-4673-b1ce-84332106e959",
   "metadata": {
    "tags": []
   },
   "outputs": [
    {
     "data": {
      "text/plain": [
       "(2.957613265408554e-09, 174.80568107488986)"
      ]
     },
     "execution_count": 100,
     "metadata": {},
     "output_type": "execute_result"
    }
   ],
   "source": [
    "# Least squares solution\n",
    "\n",
    "W_inv = spl.pinv(W)\n",
    "X_sol = W_inv @ C.values\n",
    "np.linalg.norm(W.values @ X_sol - C.values, ord=1), np.linalg.norm(X_sol)"
   ]
  },
  {
   "cell_type": "code",
   "execution_count": 104,
   "id": "35639c42-e6bf-4a73-81bb-f745798f6e83",
   "metadata": {
    "tags": []
   },
   "outputs": [
    {
     "data": {
      "text/plain": [
       "(1.2072849386868256e-09, 174.805681074888)"
      ]
     },
     "execution_count": 104,
     "metadata": {},
     "output_type": "execute_result"
    }
   ],
   "source": [
    "# Least squares solution\n",
    "\n",
    "W_inv = spl.pinv(W2)\n",
    "X_sol2 = W_inv @ C2.values\n",
    "np.linalg.norm(W2.values @ X_sol2 - C2.values, ord=1), np.linalg.norm(X_sol2)"
   ]
  },
  {
   "cell_type": "code",
   "execution_count": 105,
   "id": "4d614fc1-ebbb-414a-99c5-d1d7b388ea50",
   "metadata": {
    "tags": []
   },
   "outputs": [
    {
     "data": {
      "text/plain": [
       "5.845229258204539e-10"
      ]
     },
     "execution_count": 105,
     "metadata": {},
     "output_type": "execute_result"
    }
   ],
   "source": [
    "np.linalg.norm(X_sol2 - X_sol)"
   ]
  },
  {
   "cell_type": "code",
   "execution_count": 518,
   "id": "788eae71-5b5f-491f-98f7-f7c4f707be25",
   "metadata": {
    "tags": []
   },
   "outputs": [],
   "source": [
    "from ipf import ipf_classic_numba"
   ]
  },
  {
   "cell_type": "code",
   "execution_count": 107,
   "id": "9a01324f-2013-4c15-b7eb-0679fc9aded2",
   "metadata": {
    "tags": []
   },
   "outputs": [
    {
     "name": "stdout",
     "output_type": "stream",
     "text": [
      "Warning: Max iterations reached.\n",
      "CPU times: user 7.97 s, sys: 791 ms, total: 8.76 s\n",
      "Wall time: 6.36 s\n"
     ]
    },
    {
     "data": {
      "text/plain": [
       "(44.4800477607044, 205.72287053844428)"
      ]
     },
     "execution_count": 107,
     "metadata": {},
     "output_type": "execute_result"
    }
   ],
   "source": [
    "%%time\n",
    "# The IPF solution\n",
    "x = X.FACTOR.values.astype(float)\n",
    "x_ipf, err = ipf_classic_numba(x, W.values.astype(float), C.values, tol=1e-1, max_iters=1e4)\n",
    "err, np.linalg.norm(x_ipf)"
   ]
  },
  {
   "cell_type": "code",
   "execution_count": 115,
   "id": "e65b56f4-d243-4e03-8b20-4b6bf0f12fe3",
   "metadata": {
    "tags": []
   },
   "outputs": [
    {
     "name": "stdout",
     "output_type": "stream",
     "text": [
      "CPU times: user 1.21 s, sys: 200 ms, total: 1.41 s\n",
      "Wall time: 1.15 s\n"
     ]
    },
    {
     "data": {
      "text/plain": [
       "(0.0009983262271617832, 206.0888458338842)"
      ]
     },
     "execution_count": 115,
     "metadata": {},
     "output_type": "execute_result"
    }
   ],
   "source": [
    "%%time\n",
    "# The IPF solution\n",
    "x = X2.FACTOR.values.astype(float)\n",
    "x_ipf2, err = ipf_classic_numba(x, W2.values.astype(float), C2.values, tol=1e-3, max_iters=1e4)\n",
    "err, np.linalg.norm(x_ipf2)"
   ]
  },
  {
   "cell_type": "code",
   "execution_count": 681,
   "id": "54043a0a-f17d-4fac-b7e2-41c8a389cfc5",
   "metadata": {
    "tags": []
   },
   "outputs": [],
   "source": [
    "# The max ent solution"
   ]
  },
  {
   "cell_type": "markdown",
   "id": "0d6a5e58-22f8-4646-aeaa-7b70dc8482ea",
   "metadata": {
    "jp-MarkdownHeadingCollapsed": true,
    "tags": []
   },
   "source": [
    "### Seed from group counts"
   ]
  },
  {
   "cell_type": "code",
   "execution_count": null,
   "id": "6f6f941a-56a5-4a92-be25-bde62dc3b0ec",
   "metadata": {},
   "outputs": [],
   "source": [
    "# Seed for whole met area"
   ]
  },
  {
   "cell_type": "code",
   "execution_count": null,
   "id": "0e07e3e8-1f8c-46d5-8ff8-6e5c6452f0cd",
   "metadata": {},
   "outputs": [],
   "source": [
    "# Seed per municipality"
   ]
  },
  {
   "cell_type": "code",
   "execution_count": null,
   "id": "75a3a8bf-d1c9-4456-97fe-c7d7fd7743e4",
   "metadata": {},
   "outputs": [],
   "source": [
    "# Comparing seeds from municipality and whole area"
   ]
  },
  {
   "cell_type": "markdown",
   "id": "96656c01-cf9a-4313-b3b5-d288e753e282",
   "metadata": {
    "jp-MarkdownHeadingCollapsed": true,
    "tags": []
   },
   "source": [
    "### Seed using bayesian networks"
   ]
  },
  {
   "cell_type": "code",
   "execution_count": null,
   "id": "232927bf-060d-454b-bfa7-ef6b2b5258a4",
   "metadata": {},
   "outputs": [],
   "source": []
  },
  {
   "cell_type": "markdown",
   "id": "fbfe1ded-1501-4c62-a1fc-3ecf0714b0c0",
   "metadata": {
    "jp-MarkdownHeadingCollapsed": true,
    "tags": []
   },
   "source": [
    "### Comparing both seeds"
   ]
  },
  {
   "cell_type": "markdown",
   "id": "c9e8aba1-b082-442a-aafb-d9ef529c9bb5",
   "metadata": {},
   "source": []
  },
  {
   "cell_type": "markdown",
   "id": "d7369620-9acf-4e09-b70e-9e7b77e9bcfe",
   "metadata": {
    "tags": []
   },
   "source": [
    "# Reconstrucción de microdatos para el censo 2020, nivel AGEB"
   ]
  },
  {
   "cell_type": "markdown",
   "id": "4670c5e9-a140-4005-8f01-4fef9571e0be",
   "metadata": {},
   "source": [
    "El objetivo es obtener una base de microdatos para cada AGEB del censo 2020 consistente con los tabulados oficiales.\n",
    "Para tal efecto, vamos a probar diferentes metodologías, comenzando con una estrategia de reconstrucción utilizando métodos de programación lineal."
   ]
  },
  {
   "cell_type": "markdown",
   "id": "ee0df689-a0e5-4270-a78a-56add92bcdd1",
   "metadata": {},
   "source": [
    "Para tener una idea clara de la implementación, tomemos una AGEB específica de la zona metropolitana de Monterrey.\n",
    "\n",
    "A nivel municipio o demarcación territorial, localidad y AGEB, cualquier indicador con menos de tres unidades aparece con asterisco\n",
    "a excepción de las variables Población total (POBTOT), Total de viviendas (VIVTOT) y Total de viviendas habitadas (TVIVHAB)."
   ]
  },
  {
   "cell_type": "markdown",
   "id": "4a9088e1-72cb-4bcc-9b12-66b992298e2a",
   "metadata": {},
   "source": [
    "Para comenzar vamos a restringir nuestro objetivos a dos variables: edad y sexo. Usemos una AGEB sin datos faltantes, más adelante ajustaremos la implementación para contemplar los datos redactados (*).\n",
    "\n",
    "Porbaremos con dos AGEBs,  una será la de menor población con datos columnos para las columnas que se refieren a población y sexo, la segunda la de mayor población."
   ]
  },
  {
   "cell_type": "markdown",
   "id": "6d4c8047-462d-4c92-870a-9c3c60611546",
   "metadata": {},
   "source": [
    "Las columnas de población en la tabla de microdatos serán discretizadas en el menor número intervalos compatibles con las categorías del censo que puedan aprovechar las restricciones.\n",
    "La ventaja de no usar una única columna de edad con valor entero es la disminución de tamaño del espacio de soluciones.\n",
    "Imputar una edad específica puede hacerse en una etapa de procesamiento posterior.\n",
    "Para no contar dos veces soluciones que unicamente difieren en el ordenamiento de las filas, agregaremos restricciones de ordenamiento para los valores de edad.\n",
    "\n",
    "Las categorias posibles de obtener del censo son las siguientes y las codificamos como enteros:\n",
    "- 0-2: 0\n",
    "- 3-4: 1\n",
    "- 5: 2\n",
    "- 6-7: 3\n",
    "- 8-11: 4\n",
    "- 12-14: 5\n",
    "- 15-17: 6\n",
    "- 18-24: 7\n",
    "- 25-59: 8\n",
    "- 60-64: 9\n",
    "- 65-130: 10\n",
    "\n",
    "Tener esta codificación en mente es importante al momento de definir las restricciones."
   ]
  },
  {
   "cell_type": "markdown",
   "id": "652ae9fb-4c2d-4e63-9fb5-1d8eeb96b588",
   "metadata": {},
   "source": [
    "Al momento de crear los objetivos, usaremos un arreglo de variables en 2D, la tabla de microdatos.\n",
    "Esto debe ser compatible con OR-Tools, por lo que será implementado como una lista de listas.\n",
    "Es este problema restringido a edad y sexo, necesitamos dos columnas: SEXO y EDAD."
   ]
  },
  {
   "cell_type": "code",
   "execution_count": 40,
   "id": "6e7db4e1-fcd4-48de-bf56-c16c7d9e480a",
   "metadata": {
    "tags": []
   },
   "outputs": [],
   "source": [
    "def series_to_dict(series):\n",
    "    d = series.to_dict()\n",
    "    keys = d.keys()\n",
    "    \n",
    "    vals = d.values()\n",
    "    vals = [int(v) \n",
    "            if isinstance(v, float) and not np.isnan(v)\n",
    "            else v for v in d.values() ]\n",
    "    \n",
    "    d = {k: v for k,v in zip(keys, vals)}\n",
    "    \n",
    "    return d"
   ]
  },
  {
   "cell_type": "markdown",
   "id": "3bcd7bd6-f205-4afb-9b55-6bcd7e6a4bde",
   "metadata": {},
   "source": [
    "## Codificando directamente la tabla de contingencia"
   ]
  },
  {
   "cell_type": "code",
   "execution_count": 43,
   "id": "6c80a319-5366-4bc7-9360-bddf136e7421",
   "metadata": {
    "tags": []
   },
   "outputs": [],
   "source": [
    "from ortools.sat.python import cp_model\n",
    "from itertools import product"
   ]
  },
  {
   "cell_type": "code",
   "execution_count": 44,
   "id": "b50d472b-8303-44ac-91a0-f538274a881d",
   "metadata": {
    "tags": []
   },
   "outputs": [],
   "source": [
    "class VarArraySolutionPrinter(cp_model.CpSolverSolutionCallback):\n",
    "    \"\"\"Print intermediate solutions.\"\"\"\n",
    "\n",
    "    def __init__(self, variables):\n",
    "        cp_model.CpSolverSolutionCallback.__init__(self)\n",
    "        self.__variables = variables\n",
    "        self.__solution_count = 0\n",
    "\n",
    "    def on_solution_callback(self):\n",
    "        self.__solution_count += 1\n",
    "        #for v in self.__variables:\n",
    "        #    print('%s=%i' % (v, self.Value(v)), end=' ')\n",
    "        #print()\n",
    "\n",
    "    def solution_count(self):\n",
    "        return self.__solution_count"
   ]
  },
  {
   "cell_type": "code",
   "execution_count": 171,
   "id": "09fe18e1-8b24-45c5-93ab-fd1d61ec2823",
   "metadata": {
    "tags": []
   },
   "outputs": [],
   "source": [
    "def create_variables(model, dimensions, N):\n",
    "    x = {}\n",
    "    for var_id in product(*dimensions.values()):\n",
    "        x[var_id] = model.NewIntVar(0, N, f'{var_id}')\n",
    "\n",
    "    return x"
   ]
  },
  {
   "cell_type": "code",
   "execution_count": 173,
   "id": "81cd073e-3c60-46e4-9624-4bcdec500710",
   "metadata": {
    "tags": []
   },
   "outputs": [],
   "source": [
    "def add_constraint(model, ageb, dimensions, variables, c_name, c_dict, verbose=False):\n",
    "    assert c_name in ageb.keys()\n",
    "    \n",
    "    for k, v in c_dict.items():\n",
    "        assert k in dimensions.keys()\n",
    "        for vv in v:\n",
    "            assert vv in dimensions[k]\n",
    "    \n",
    "    # Replace classes with classes involved in the constraint only\n",
    "    c_dims = dimensions.copy()\n",
    "    for d in c_dims.keys():\n",
    "        if d in c_dict.keys():\n",
    "            c_dims[d] = c_dict[d]\n",
    "    \n",
    "    # Find all variables involved in the constraints\n",
    "    c_vars = []\n",
    "    for var_id in product(*c_dims.values()):\n",
    "        c_vars.append(variables[var_id])\n",
    "    \n",
    "    if verbose:\n",
    "        print(' + '.join([v.Name() for v in c_vars]) + f' = {c_name}')\n",
    "    \n",
    "    model.Add(sum(c_vars) == ageb[c_name])"
   ]
  },
  {
   "cell_type": "code",
   "execution_count": 174,
   "id": "89040dd5-634f-41a2-aa2a-0994f116721d",
   "metadata": {
    "tags": []
   },
   "outputs": [
    {
     "name": "stdout",
     "output_type": "stream",
     "text": [
      "Found 613872 solutions. Status: 4\n"
     ]
    }
   ],
   "source": [
    "model = cp_model.CpModel()\n",
    "\n",
    "variables = create_variables(model, dimensions, ageb['POBTOT'])\n",
    "\n",
    "for c_name, c_dict in constraints.items():\n",
    "    add_constraint(model, ageb, dimensions, variables, c_name, c_dict, verbose=False)\n",
    "    \n",
    "solver = cp_model.CpSolver()\n",
    "solution_printer = VarArraySolutionPrinter(list(x.values()))\n",
    "solver.parameters.enumerate_all_solutions = True\n",
    "\n",
    "status = solver.Solve(model, solution_printer)\n",
    "print(f'Found {solution_printer.solution_count()} solutions. Status: {status}')"
   ]
  },
  {
   "cell_type": "code",
   "execution_count": null,
   "id": "2f0064a8-ccc0-48b0-b9d2-cf0334908dfa",
   "metadata": {},
   "outputs": [],
   "source": []
  }
 ],
 "metadata": {
  "kernelspec": {
   "display_name": "Python 3 (ipykernel)",
   "language": "python",
   "name": "python3"
  },
  "language_info": {
   "codemirror_mode": {
    "name": "ipython",
    "version": 3
   },
   "file_extension": ".py",
   "mimetype": "text/x-python",
   "name": "python",
   "nbconvert_exporter": "python",
   "pygments_lexer": "ipython3",
   "version": "3.11.10"
  }
 },
 "nbformat": 4,
 "nbformat_minor": 5
}
