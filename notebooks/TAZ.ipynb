{
 "cells": [
  {
   "cell_type": "code",
   "execution_count": 3,
   "id": "9961e4ed-7d5a-4228-8a83-ec9c9c718410",
   "metadata": {
    "tags": []
   },
   "outputs": [
    {
     "name": "stdout",
     "output_type": "stream",
     "text": [
      "The autoreload extension is already loaded. To reload it, use:\n",
      "  %reload_ext autoreload\n"
     ]
    }
   ],
   "source": [
    "%load_ext autoreload\n",
    "%autoreload 2\n",
    "\n",
    "import numpy as np\n",
    "import pandas as pd\n",
    "import scipy\n",
    "import geopandas as gpd\n",
    "import xarray as xr\n",
    "import sparse\n",
    "from itertools import product, combinations\n",
    "from pathlib import Path\n",
    "from pprint import pprint\n",
    "import matplotlib.pyplot as plt\n",
    "import matplotlib\n",
    "from collections import defaultdict\n",
    "from ortools.sat.python import cp_model\n",
    "\n",
    "pd.options.display.max_rows = 500\n",
    "#pd.options.display.max_columns = 4000\n",
    "\n",
    "import sys\n",
    "sys.path.append('../src/')\n",
    "\n",
    "from extended_survey import process_people_df, process_places_df, categorize_p, categorize_v\n",
    "from census import process_census, merge_loc_agebs\n",
    "from constraints import get_ind_const, get_viv_const\n",
    "from misc import mun_dict, met_zone\n",
    "from taz import load_marco_geo, merge_mg_taz, plot_taz_mg, plot_taz_mg_unass, plot_taz_empty_mg, plot_taz_codes, plot_chull\n",
    "\n",
    "survey_dir = Path('../data/cuestionario_ampliado/Censo2020_CA_nl_csv/')\n",
    "personas_path = Path('../data/cuestionario_ampliado/Censo2020_CA_nl_csv/Personas19.CSV')\n",
    "viviendas_path = Path('../data/cuestionario_ampliado/Censo2020_CA_nl_csv/Viviendas19.CSV')\n",
    "census_iter_path = Path('../data/census_loc/ITER_19CSV20.csv')\n",
    "census_resageburb_path = Path('../data/census_ageb_manz/RESAGEBURB_19CSV20.csv')\n",
    "output_path = Path('../output/')"
   ]
  },
  {
   "cell_type": "code",
   "execution_count": 4,
   "id": "c34a5cd1-b32a-4cab-8028-8fcd04c93772",
   "metadata": {
    "tags": []
   },
   "outputs": [],
   "source": [
    "(\n",
    "    df_mun, df_loc,\n",
    "    df_agebs\n",
    ") = process_census(census_iter_path, census_resageburb_path)\n",
    "\n",
    "df_loc_agebs = merge_loc_agebs(df_mun, df_loc, df_agebs, impute=True)"
   ]
  },
  {
   "cell_type": "code",
   "execution_count": 5,
   "id": "3181dff1-a1d7-47ee-b8ff-f9c8d7423eff",
   "metadata": {
    "tags": []
   },
   "outputs": [],
   "source": [
    "marco_geo_path = Path('../data/19_nuevoleon.gpkg')\n",
    "mg = load_marco_geo(marco_geo_path, df_mun, df_loc_agebs)\n",
    "\n",
    "taz = gpd.read_file('/Users/gperaza/Downloads/TAZ/Zonas.shp').to_crs(mg.crs).drop(columns='ESTADO')\n",
    "mtaz = gpd.read_file('/Users/gperaza/Downloads/TAZ/Macrozonas.shp').to_crs(mg.crs)"
   ]
  },
  {
   "cell_type": "code",
   "execution_count": 6,
   "id": "a0c7b9c5-eb01-4bac-95e7-40ba14d5defd",
   "metadata": {
    "tags": []
   },
   "outputs": [],
   "source": [
    "from matplotlib.backends.backend_pdf import PdfPages\n",
    "import warnings"
   ]
  },
  {
   "cell_type": "code",
   "execution_count": 9,
   "id": "23967620-a3ea-4a79-bb24-0067cd6cb9cd",
   "metadata": {
    "tags": []
   },
   "outputs": [],
   "source": [
    "overlay_dict = {}\n",
    "taz_dict = {}\n",
    "with warnings.catch_warnings():\n",
    "    warnings.simplefilter('ignore')\n",
    "    with PdfPages('multipage_pdf.pdf') as pdf:\n",
    "        for mun in met_zone:\n",
    "            taz_mun = taz[taz.MUNICIPIO == mun].copy()\n",
    "            taz_dict[mun] = taz_mun.set_index('ZONA').sort_index()\n",
    "            overlay = merge_mg_taz(mun, taz, mg)\n",
    "            overlay_dict[mun] = overlay\n",
    "            \n",
    "            fig, ax = plt.subplots(2, 2, figsize=(20, 20))\n",
    "\n",
    "            plot_taz_mg(overlay, taz_mun, title=mun, ax=ax[0, 0])\n",
    "            plot_taz_mg_unass(overlay, taz_mun, title='Unassigned AGEBS', ax=ax[0, 1])\n",
    "            plot_taz_empty_mg(overlay, taz_mun, title='Empty TAZs', ax=ax[1, 0])\n",
    "            plot_chull(taz_mun, title='Multipol TAZs', ax=ax[1, 1])\n",
    "\n",
    "            pdf.savefig()\n",
    "\n",
    "            plt.close()"
   ]
  },
  {
   "cell_type": "code",
   "execution_count": 10,
   "id": "8a1e2630-9097-4d0b-bb19-d2a0d97d39ac",
   "metadata": {
    "tags": []
   },
   "outputs": [],
   "source": [
    "for mun, ovr in overlay_dict.items():\n",
    "    taz_dict[mun] = taz_dict[mun].join(overlay_dict[mun].groupby('ZONA')[df_agebs.columns].sum().astype(int), how='outer')\n",
    "    assert taz_dict[mun].index.is_unique\n",
    "assert(pd.concat(taz_dict.values()).drop(-10).shape[0] == taz.dropna().shape[0]) "
   ]
  },
  {
   "cell_type": "code",
   "execution_count": 11,
   "id": "ab100a8f-974f-4bf1-bd73-ee733a3e06ab",
   "metadata": {
    "tags": []
   },
   "outputs": [],
   "source": [
    "for mun, gdf in taz_dict.items():\n",
    "    gdf.to_file(\"taz_census.gpkg\", layer=mun, driver=\"GPKG\") "
   ]
  },
  {
   "cell_type": "code",
   "execution_count": null,
   "id": "3f39f890-2274-478b-ab08-b727141741fb",
   "metadata": {},
   "outputs": [],
   "source": []
  }
 ],
 "metadata": {
  "kernelspec": {
   "display_name": "Python 3 (ipykernel)",
   "language": "python",
   "name": "python3"
  },
  "language_info": {
   "codemirror_mode": {
    "name": "ipython",
    "version": 3
   },
   "file_extension": ".py",
   "mimetype": "text/x-python",
   "name": "python",
   "nbconvert_exporter": "python",
   "pygments_lexer": "ipython3",
   "version": "3.11.0"
  }
 },
 "nbformat": 4,
 "nbformat_minor": 5
}
