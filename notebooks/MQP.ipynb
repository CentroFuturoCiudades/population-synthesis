{
 "cells": [
  {
   "cell_type": "code",
   "execution_count": 176,
   "id": "169e1241-3c06-43b8-a22f-75c68f3d09ba",
   "metadata": {
    "tags": []
   },
   "outputs": [
    {
     "name": "stdout",
     "output_type": "stream",
     "text": [
      "The autoreload extension is already loaded. To reload it, use:\n",
      "  %reload_ext autoreload\n"
     ]
    }
   ],
   "source": [
    "%load_ext autoreload\n",
    "%autoreload 2\n",
    "\n",
    "import gurobipy as gp\n",
    "from gurobipy import GRB\n",
    "import numpy as np\n",
    "import scipy.sparse as sp\n",
    "from pathlib import Path\n",
    "import pandas as pd\n",
    "import geopandas as gpd\n",
    "import matplotlib.pyplot as plt\n",
    "\n",
    "import sys\n",
    "sys.path.append('../src/')"
   ]
  },
  {
   "cell_type": "code",
   "execution_count": 2,
   "id": "86c44597-d44c-40bd-9071-9196acbb2a86",
   "metadata": {
    "tags": []
   },
   "outputs": [
    {
     "name": "stdout",
     "output_type": "stream",
     "text": [
      "We keep 95.276327279856% and 95.79107969282408 of the people and household datasets respectively.\n"
     ]
    }
   ],
   "source": [
    "from extended_survey import process_people_df, process_places_df, categorize_p, categorize_v\n",
    "\n",
    "# Define data paths\n",
    "personas_path = Path('../data/cuestionario_ampliado/Censo2020_CA_nl_csv/Personas19.CSV')\n",
    "viviendas_path = Path('../data/cuestionario_ampliado/Censo2020_CA_nl_csv/Viviendas19.CSV')\n",
    "\n",
    "# Load survey data\n",
    "personas = process_people_df(personas_path)\n",
    "viviendas = process_places_df(viviendas_path)\n",
    "\n",
    "# Select subset of categorical columns to control for\n",
    "# Seleting them before dropping nan from survey\n",
    "# Alternative is to impute NAN (e.g. use missforest)\n",
    "pcat = personas[[\n",
    "    'ID_PERSONA', 'ID_VIV', 'FACTOR', 'MUN',\n",
    "    'SEXO', 'EDAD',\n",
    "    # 'ENT_PAIS_NAC',\n",
    "    # 'AFRODES',\n",
    "    'DHSERSAL1', 'DHSERSAL2', 'RELIGION',\n",
    "    # 'DIS_VER', 'DIS_OIR', 'DIS_CAMINAR', 'DIS',\n",
    "    # 'DIS_RECORDAR', 'DIS_BANARSE', 'DIS_HABLAR', 'DIS_MENTAL',\n",
    "    # 'HLENGUA',\n",
    "    # 'HESPANOL',  # Global seed zero problem \n",
    "    'ASISTEN', 'NIVACAD', 'ESCOLARI', 'ALFABET',\n",
    "    # 'ENT_PAIS_RES_5A',\n",
    "    'SITUA_CONYUGAL', 'CONACT',\n",
    "    'INGTRMEN', 'HORTRA'\n",
    "]].copy()\n",
    "vcat = viviendas.copy()\n",
    "\n",
    "# Drop NA values on both surveys\n",
    "\n",
    "# Look for viviendas with NA values in people and household constraints\n",
    "na_vivs_v = vcat.ID_VIV[vcat.isna().T.sum() > 0].to_list()\n",
    "na_vivs_p = pcat.ID_VIV[pcat.isna().T.sum() > 0].to_list()\n",
    "na_vivs = set(na_vivs_v + na_vivs_p)\n",
    "\n",
    "# Drop NA before categorizing\n",
    "pcat = pcat[~pcat.ID_VIV.isin(na_vivs)].reset_index(drop=True)\n",
    "vcat = vcat[~vcat.ID_VIV.isin(na_vivs)].reset_index(drop=True)\n",
    "\n",
    "# Categorize columns\n",
    "pcat = categorize_p(pcat)\n",
    "vcat = categorize_v(vcat)\n",
    "\n",
    "assert pcat.isna().sum().sum() == 0\n",
    "assert vcat.isna().sum().sum() == 0\n",
    "\n",
    "# Leave only categorized columns\n",
    "pcat = pcat.drop(columns=[\n",
    "    'DHSERSAL1', 'DHSERSAL2',\n",
    "    'NIVACAD', 'ESCOLARI',\n",
    "    'INGTRMEN', 'HORTRA',\n",
    "    'DHSERSAL_IMSS', 'DHSERSAL_ISSSTE', 'DHSERSAL_ISSSTE_E',\n",
    "    'DHSERSAL_P_D_M', 'DHSERSAL_Popular_NGenración_SBienestar',\n",
    "    'DHSERSAL_IMSS_Prospera/Bienestar'\n",
    "])\n",
    "\n",
    "vcat = vcat[[\n",
    "    'ID_VIV', 'FACTOR', 'MUN', 'NUMPERS',\n",
    "    'CLAVIVP',\n",
    "    # 'PISOS',\n",
    "    'CUADORM', 'TOTCUART',\n",
    "    # 'ELECTRICIDAD', 'AGUA_ENTUBADA',\n",
    "    # 'ABA_AGUA_ENTU',\n",
    "    # 'TINACO', 'CISTERNA',\n",
    "    # 'SERSAN',\n",
    "    # 'CONAGUA',\n",
    "    # 'DRENAJE',\n",
    "    'REFRIGERADOR', 'LAVADORA', 'HORNO',\n",
    "    'AUTOPROP', 'MOTOCICLETA', 'BICICLETA', 'RADIO', 'TELEVISOR',\n",
    "    'COMPUTADORA', 'TELEFONO', 'CELULAR', 'INTERNET', 'SERV_TV_PAGA',\n",
    "    'SERV_PEL_PAGA', 'CON_VJUEGOS',\n",
    "    'JEFE_SEXO'\n",
    "]]\n",
    "\n",
    "print(f'We keep {pcat.shape[0]/personas.shape[0]*100}% and {vcat.shape[0]/viviendas.shape[0]*100} of the people and household datasets respectively.')"
   ]
  },
  {
   "cell_type": "code",
   "execution_count": 3,
   "id": "32bb5ce3-85cf-43c5-b795-4bce91a6ac28",
   "metadata": {
    "tags": []
   },
   "outputs": [
    {
     "name": "stdout",
     "output_type": "stream",
     "text": [
      "We have a total of 58 people level constraints and 5 of household level constraints.\n"
     ]
    }
   ],
   "source": [
    "from constraints import get_ind_const, get_viv_const\n",
    "\n",
    "# Load constraints\n",
    "constraints_ind = get_ind_const()\n",
    "constraints_viv = get_viv_const()\n",
    "\n",
    "print(f'We have a total of {len(constraints_ind)} people level constraints and {len(constraints_viv)} of household level constraints.')"
   ]
  },
  {
   "cell_type": "code",
   "execution_count": 4,
   "id": "50cc8608-c5af-44df-8d1e-b14a467a14ed",
   "metadata": {
    "tags": []
   },
   "outputs": [],
   "source": [
    "from census import process_census\n",
    "\n",
    "# Load census\n",
    "census_iter_path = Path('../data/census_loc/ITER_19CSV20.csv')\n",
    "census_resageburb_path = Path('../data/census_ageb_manz/RESAGEBURB_19CSV20.csv')\n",
    "(\n",
    "    df_mun, df_loc, df_agebs\n",
    ") = process_census(census_iter_path, census_resageburb_path)"
   ]
  },
  {
   "cell_type": "code",
   "execution_count": 5,
   "id": "47af3013-6d6c-4d8c-a8ef-41fd01030882",
   "metadata": {
    "tags": []
   },
   "outputs": [],
   "source": [
    "# Build population matrices\n",
    "from setup_lin_system import make_init_system, get_W\n",
    "\n",
    "X, I, J, L, Up, Uh, U, Yp, Yh, Y, C = make_init_system(pcat, vcat, constraints_ind, constraints_viv, df_mun)\n",
    "\n",
    "mun_list = X.MUN.unique()\n",
    "const_zeroprob_list = []\n",
    "for mun in mun_list:\n",
    "    mun_mask = Y.MUN == mun\n",
    "    U_mun = U.loc[:, mun_mask]\n",
    "    const_zeroprob_list.extend(U_mun.index[U_mun.T.sum() == 0].to_list())\n",
    "assert len(set(const_zeroprob_list)) == 0, set(const_zeroprob_list)"
   ]
  },
  {
   "cell_type": "code",
   "execution_count": 6,
   "id": "86e94984-d9af-46a7-ae75-4da90d51ca5a",
   "metadata": {
    "tags": []
   },
   "outputs": [],
   "source": [
    "from taz import load_taz\n",
    "\n",
    "# Import TAZ data\n",
    "taz_path='taz_census.gpkg'\n",
    "taz_dict = load_taz(taz_path, mun_list)"
   ]
  },
  {
   "cell_type": "code",
   "execution_count": 7,
   "id": "c1fbf071-e4ba-4fdd-8d06-217e51ae1e3f",
   "metadata": {
    "tags": []
   },
   "outputs": [],
   "source": [
    "for df in taz_dict.values():\n",
    "    df = df.dropna()\n",
    "    assert np.all(df.POBTOT == df.POBHOG + df.POBCOL)\n",
    "    assert np.all(df.TVIVHAB == df.TOTHOG + df.TOTCOL)    "
   ]
  },
  {
   "cell_type": "code",
   "execution_count": 108,
   "id": "d3ae2111-58a5-46e6-90cc-41bb74f6c2c0",
   "metadata": {
    "tags": []
   },
   "outputs": [],
   "source": [
    "from miqp import solve_gurobi_taz, relax_model, solve_gb"
   ]
  },
  {
   "cell_type": "code",
   "execution_count": 9,
   "id": "3e6189eb-4247-477f-a165-2c8cfeb9747e",
   "metadata": {
    "tags": []
   },
   "outputs": [],
   "source": [
    "import tqdm.notebook as tqdm"
   ]
  },
  {
   "cell_type": "code",
   "execution_count": null,
   "id": "da99c2f6-c2df-45c0-a825-807db66f87e3",
   "metadata": {
    "tags": []
   },
   "outputs": [
    {
     "data": {
      "application/vnd.jupyter.widget-view+json": {
       "model_id": "16fdc5d173ac4568ba5d399ff29a189d",
       "version_major": 2,
       "version_minor": 0
      },
      "text/plain": [
       "MUN:   0%|          | 0/18 [00:00<?, ?it/s]"
      ]
     },
     "metadata": {},
     "output_type": "display_data"
    },
    {
     "data": {
      "application/vnd.jupyter.widget-view+json": {
       "model_id": "",
       "version_major": 2,
       "version_minor": 0
      },
      "text/plain": [
       "TAZ:   0%|          | 0/4 [00:00<?, ?it/s]"
      ]
     },
     "metadata": {},
     "output_type": "display_data"
    },
    {
     "data": {
      "application/vnd.jupyter.widget-view+json": {
       "model_id": "",
       "version_major": 2,
       "version_minor": 0
      },
      "text/plain": [
       "TAZ:   0%|          | 0/123 [00:00<?, ?it/s]"
      ]
     },
     "metadata": {},
     "output_type": "display_data"
    },
    {
     "data": {
      "application/vnd.jupyter.widget-view+json": {
       "model_id": "",
       "version_major": 2,
       "version_minor": 0
      },
      "text/plain": [
       "TAZ:   0%|          | 0/35 [00:00<?, ?it/s]"
      ]
     },
     "metadata": {},
     "output_type": "display_data"
    },
    {
     "data": {
      "application/vnd.jupyter.widget-view+json": {
       "model_id": "",
       "version_major": 2,
       "version_minor": 0
      },
      "text/plain": [
       "TAZ:   0%|          | 0/16 [00:00<?, ?it/s]"
      ]
     },
     "metadata": {},
     "output_type": "display_data"
    },
    {
     "data": {
      "application/vnd.jupyter.widget-view+json": {
       "model_id": "",
       "version_major": 2,
       "version_minor": 0
      },
      "text/plain": [
       "TAZ:   0%|          | 0/12 [00:00<?, ?it/s]"
      ]
     },
     "metadata": {},
     "output_type": "display_data"
    },
    {
     "data": {
      "application/vnd.jupyter.widget-view+json": {
       "model_id": "",
       "version_major": 2,
       "version_minor": 0
      },
      "text/plain": [
       "TAZ:   0%|          | 0/51 [00:00<?, ?it/s]"
      ]
     },
     "metadata": {},
     "output_type": "display_data"
    },
    {
     "data": {
      "application/vnd.jupyter.widget-view+json": {
       "model_id": "",
       "version_major": 2,
       "version_minor": 0
      },
      "text/plain": [
       "TAZ:   0%|          | 0/22 [00:00<?, ?it/s]"
      ]
     },
     "metadata": {},
     "output_type": "display_data"
    },
    {
     "data": {
      "application/vnd.jupyter.widget-view+json": {
       "model_id": "",
       "version_major": 2,
       "version_minor": 0
      },
      "text/plain": [
       "TAZ:   0%|          | 0/79 [00:00<?, ?it/s]"
      ]
     },
     "metadata": {},
     "output_type": "display_data"
    },
    {
     "data": {
      "application/vnd.jupyter.widget-view+json": {
       "model_id": "",
       "version_major": 2,
       "version_minor": 0
      },
      "text/plain": [
       "TAZ:   0%|          | 0/20 [00:00<?, ?it/s]"
      ]
     },
     "metadata": {},
     "output_type": "display_data"
    },
    {
     "data": {
      "application/vnd.jupyter.widget-view+json": {
       "model_id": "7854a433f1bf465d96e07cdb27bec6dd",
       "version_major": 2,
       "version_minor": 0
      },
      "text/plain": [
       "TAZ:   0%|          | 0/82 [00:00<?, ?it/s]"
      ]
     },
     "metadata": {},
     "output_type": "display_data"
    }
   ],
   "source": [
    "%%time\n",
    "\n",
    "r_list = []\n",
    "for mun in tqdm.tqdm(taz_dict.keys(), desc='MUN', position=0):\n",
    "    for taz in tqdm.tqdm(taz_dict[mun].ZONA, desc='TAZ', position=1, leave=False):\n",
    "        sol_df, model = solve_gb(mun, taz, taz_dict, Y, U, C, obj_type='L2', save=True)\n",
    "        if model is None:\n",
    "            continue\n",
    "        r_list.append((mun, taz, model.Status, model.Runtime, model.SolCount,\n",
    "                       taz_dict[mun].query(f'ZONA=={taz}').POBTOT.item(),\n",
    "                       taz_dict[mun].query(f'ZONA=={taz}').POBHOG.item(),\n",
    "                       taz_dict[mun].query(f'ZONA=={taz}').POBCOL.item(),\n",
    "                       taz_dict[mun].query(f'ZONA=={taz}').TOTHOG.item()\n",
    "                      ))\n",
    "        model.dispose()"
   ]
  },
  {
   "cell_type": "code",
   "execution_count": null,
   "id": "01d53ce9-9802-4356-9596-0c3a57b1f90f",
   "metadata": {},
   "outputs": [],
   "source": []
  },
  {
   "cell_type": "markdown",
   "id": "247cc0ff-100b-409d-abee-7d6f478db80c",
   "metadata": {},
   "source": [
    "Wall time: 10h 3min 24s"
   ]
  },
  {
   "cell_type": "code",
   "execution_count": 156,
   "id": "e7d26cc2-b81c-48dd-99a4-70114ff3dd8b",
   "metadata": {
    "tags": []
   },
   "outputs": [],
   "source": [
    "for rr in r_list:\n",
    "    rr[-1].dispose()"
   ]
  },
  {
   "cell_type": "code",
   "execution_count": 157,
   "id": "0d2492df-b844-4a39-b1d2-2f21e385ee89",
   "metadata": {
    "tags": []
   },
   "outputs": [],
   "source": [
    "s_list = [rr[2] for rr in r_list]\n",
    "n_list = [rr[4] for rr in r_list]"
   ]
  },
  {
   "cell_type": "code",
   "execution_count": 172,
   "id": "e7c0eb3a-24a4-4880-90f6-f11152b208ae",
   "metadata": {
    "tags": []
   },
   "outputs": [
    {
     "name": "stderr",
     "output_type": "stream",
     "text": [
      "/var/folders/r6/x8mqvvjd1tl0ypf4y_3z17j80000gq/T/ipykernel_5581/2018728856.py:1: FutureWarning: pandas.value_counts is deprecated and will be removed in a future version. Use pd.Series(obj).value_counts() instead.\n",
      "  pd.value_counts(s_list)\n",
      "/var/folders/r6/x8mqvvjd1tl0ypf4y_3z17j80000gq/T/ipykernel_5581/2018728856.py:1: FutureWarning: value_counts with argument that is not not a Series, Index, ExtensionArray, or np.ndarray is deprecated and will raise in a future version.\n",
      "  pd.value_counts(s_list)\n"
     ]
    },
    {
     "data": {
      "text/plain": [
       "9    415\n",
       "2      7\n",
       "Name: count, dtype: int64"
      ]
     },
     "execution_count": 172,
     "metadata": {},
     "output_type": "execute_result"
    }
   ],
   "source": [
    "pd.value_counts(s_list)"
   ]
  },
  {
   "cell_type": "code",
   "execution_count": 184,
   "id": "74212c8f-2b9e-4475-8256-3c2d4382dc27",
   "metadata": {
    "tags": []
   },
   "outputs": [
    {
     "name": "stdout",
     "output_type": "stream",
     "text": [
      "\n",
      "Interrupt request received\n"
     ]
    }
   ],
   "source": [
    "sol_df, model = solve_gb('Monterrey', 88, taz_dict, Y, U, C, obj_type=0, save=False)"
   ]
  },
  {
   "cell_type": "code",
   "execution_count": 186,
   "id": "a49e1d7a-0149-4c99-b8a7-94ea9f4cb5ba",
   "metadata": {
    "tags": []
   },
   "outputs": [
    {
     "data": {
      "text/plain": [
       "0"
      ]
     },
     "execution_count": 186,
     "metadata": {},
     "output_type": "execute_result"
    }
   ],
   "source": [
    "model.Params.JSONSolDetail"
   ]
  },
  {
   "cell_type": "code",
   "execution_count": null,
   "id": "325444bf-f185-4b2a-bcf2-d03a38356e4f",
   "metadata": {},
   "outputs": [],
   "source": []
  },
  {
   "cell_type": "code",
   "execution_count": null,
   "id": "90658b74-c6ac-41fb-9d7a-3c8b162a45f7",
   "metadata": {},
   "outputs": [],
   "source": []
  },
  {
   "cell_type": "code",
   "execution_count": null,
   "id": "53bb0e9c-a0cd-46a1-aba7-90279f560518",
   "metadata": {},
   "outputs": [],
   "source": []
  },
  {
   "cell_type": "code",
   "execution_count": null,
   "id": "a58f076c-e31b-4fc5-b519-c6d8a387044d",
   "metadata": {},
   "outputs": [],
   "source": []
  },
  {
   "cell_type": "code",
   "execution_count": null,
   "id": "9312fc8b-822e-4a87-8866-c295d548a465",
   "metadata": {
    "tags": []
   },
   "outputs": [],
   "source": [
    "# Create mun df from best solutions\n",
    "Y_taz = pd.DataFrame(Y_mun)\n",
    "Y_taz[taz_gdf.ZONA.values.tolist()] = 0\n",
    "\n",
    "for taz in C_taz_all.index:\n",
    "    if C_taz_all.loc[taz].TVIVHAB < 1:\n",
    "        continue\n",
    "    sol_df = pd.read_pickle(f'MUN_{mun}_TAZ_{taz}_gsols.pkl')\n",
    "    Y_taz.loc[:, taz] = sol_df.iloc[0].drop('obj_val').values"
   ]
  },
  {
   "cell_type": "code",
   "execution_count": null,
   "id": "e767f467-0426-4653-a6c1-98a40ca87a91",
   "metadata": {},
   "outputs": [],
   "source": [
    "# Create data frame for mun\n",
    "idx = []\n",
    "[idx.extend(l) for l in h_to_y.loc[Y_taz.index].ID_VIV]\n",
    "idx = pd.Index(sorted(idx))\n",
    "\n",
    "Y_exp = pd.DataFrame(np.zeros((len(idx), Y_taz.shape[1] -), dtype=int))"
   ]
  },
  {
   "cell_type": "code",
   "execution_count": null,
   "id": "dbef78eb-5f41-41b6-aa57-3090cc9100d4",
   "metadata": {
    "tags": []
   },
   "outputs": [],
   "source": [
    "id_viv = h_to_y.loc[Y_taz.index].loc[53259].ID_VIV\n",
    "weights = h_to_y.loc[Y_taz.index].loc[53259].Survey\n",
    "id_viv, weights"
   ]
  },
  {
   "cell_type": "code",
   "execution_count": null,
   "id": "b883f8d9-2d39-45eb-90f9-fb3b5031c3d2",
   "metadata": {
    "tags": []
   },
   "outputs": [],
   "source": [
    "idx = []\n",
    "[idx.extend(l) for l in h_to_y.loc[Y_taz.index].ID_VIV]\n",
    "idx = pd.Index(sorted(idx))\n",
    "idx"
   ]
  },
  {
   "cell_type": "code",
   "execution_count": null,
   "id": "b5f3e940-36f1-4dd6-8006-f86d740b58cb",
   "metadata": {
    "tags": []
   },
   "outputs": [],
   "source": [
    "# Recover people list using household ids\n",
    "Y.loc[[190390003574, 190390004400]].Survey"
   ]
  }
 ],
 "metadata": {
  "kernelspec": {
   "display_name": "Python 3 (ipykernel)",
   "language": "python",
   "name": "python3"
  },
  "language_info": {
   "codemirror_mode": {
    "name": "ipython",
    "version": 3
   },
   "file_extension": ".py",
   "mimetype": "text/x-python",
   "name": "python",
   "nbconvert_exporter": "python",
   "pygments_lexer": "ipython3",
   "version": "3.11.0"
  }
 },
 "nbformat": 4,
 "nbformat_minor": 5
}
