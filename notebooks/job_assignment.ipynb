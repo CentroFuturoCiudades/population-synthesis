{
 "cells": [
  {
   "cell_type": "code",
   "execution_count": 3,
   "id": "a35907cb-4025-418e-a1a7-8241f1f5b7b8",
   "metadata": {},
   "outputs": [],
   "source": [
    "%load_ext autoreload\n",
    "%autoreload 2\n",
    "\n",
    "import numpy as np\n",
    "import pandas as pd\n",
    "import geopandas as gpd\n",
    "from pathlib import Path\n",
    "import matplotlib.pyplot as plt\n",
    "import contextily as cx\n",
    "from scipy import stats\n",
    "\n",
    "pd.options.display.max_rows = 500\n",
    "pd.options.display.max_columns = 200\n",
    "\n",
    "import sys\n",
    "sys.path.append('../src/')\n"
   ]
  },
  {
   "cell_type": "markdown",
   "id": "97679f8c-57a5-4b9a-94d3-9a1842bdfef3",
   "metadata": {},
   "source": [
    "## Load input data"
   ]
  },
  {
   "cell_type": "markdown",
   "id": "343095af-56cf-451e-b556-ee20193999a6",
   "metadata": {},
   "source": [
    "### Marco geoestadístico"
   ]
  },
  {
   "cell_type": "code",
   "execution_count": 2,
   "id": "c2f5fff4-a650-46d6-8574-c04989bdfbdf",
   "metadata": {},
   "outputs": [],
   "source": [
    "marco_geo_ent = gpd.read_file('../data/19_nuevoleon.gpkg', layer='19ent')\n",
    "marco_geo_mun = gpd.read_file('../data/19_nuevoleon.gpkg', layer='19mun')\n",
    "marco_geo_loc = gpd.read_file('../data/19_nuevoleon.gpkg', layer='19l')"
   ]
  },
  {
   "cell_type": "markdown",
   "id": "91e757e5-19f4-4287-b3f6-7901c685b8e5",
   "metadata": {},
   "source": [
    "### DENUE\n",
    "\n",
    "Here we load the DENUE dataset. DENUE reports firms location and includes NAICS code and estimated number of employees in non regular intervals (bins). We keep NAICS code level 2 further aggregated into higher level classes that can be identified in the OD survey, which does not follow the NAICS classification.\n",
    "\n",
    "We extract the employee counts intervals upper and lower bounds into new columns and verify firm locations lie within the reported municipality boundaries. Firms outside boundaries are assumed to be erroneous and dropped."
   ]
  },
  {
   "cell_type": "code",
   "execution_count": 3,
   "id": "d63c319a-eae3-461c-a14d-a8114015399d",
   "metadata": {
    "tags": []
   },
   "outputs": [],
   "source": [
    "denue = pd.read_csv('../data/DENUE/denue_19_1119_csv/conjunto_de_datos/denue_inegi_19_.csv', encoding='ISO-8859-1', low_memory=False)\n",
    "denue['NAICS_2'] = (denue.codigo_act/10000).astype(int)\n",
    "denue['geometry'] = gpd.points_from_xy(denue.longitud, denue.latitud, crs=\"EPSG:4326\")\n",
    "denue = gpd.GeoDataFrame(denue).to_crs(marco_geo_ent.crs)#.loc[:, ['NAICS_2', 'per_ocu', 'geometry', 'latitud', 'longitud']]\n",
    "denue['per_ocu_2'] = denue.per_ocu.replace('251 y más personas', '251 a 20000 personas')\n",
    "denue[['lower', 'upper']] = denue.per_ocu_2.str.extract(\"^(\\d+) a (\\d+|inf) personas\").astype(float)\n",
    "denue['in_mun'] = False\n",
    "denue['sector'] = denue.NAICS_2.map(\n",
    "    {\n",
    "        11: \"Agricultura y ganadería\", # 1 Agricultura, ganadería, aprovechamiento forestal, pesca y caza\n",
    "        21: \"Minería\", # 2 Minería\n",
    "        22: \"Otro\", # 3 Generación y distribución de electricidad, suministro de agua y gas\n",
    "        23: \"Construcción\", # 4 Construcción\n",
    "        31: \"Industria manufacturera\", # 5 Industrias manufactureras\n",
    "        32: \"Industria manufacturera\", # 5 Industrias manufactureras\n",
    "        33: \"Industria manufacturera\", # 5 Industrias manufactureras\n",
    "        43: \"Comercio\", # 6 Comercio al por mayor\n",
    "        46: \"Comercio\", # 7 Comercio al por menor\n",
    "        48: \"Transporte y comunicaciones\", # 8 Transportes, correos y almacenamiento\n",
    "        49: \"Transporte y comunicaciones\", # 8 Transportes, correos y almacenamiento\n",
    "        51: \"Otro\", # 9 Información en medios masivos\n",
    "        52: \"Servicios\", # 10 Servicios financieros y de seguros\n",
    "        53: \"Servicios\", # 11 Servicios inmobiliarios y de alquiler de bienes\n",
    "        54: \"Servicios\", # 12 Servicios profesionales, científicos y técnicos\n",
    "        55: \"Servicios\", # 13 Corporativos\n",
    "        56: \"Servicios\", # 14 Servicios de apoyo a los negocios y manejo de deshechos\n",
    "        61: \"Servicios\", # 15 Servicios educativos\n",
    "        62: \"Servicios\", # 16 Servicios de salud y de asistencia social\n",
    "        71: \"Servicios\", # 17 Servicios de esparcimiento, culturales y deportivos\n",
    "        72: \"Servicios\", # 18 Servicios de hospedaje y de preparación de alimentos y bebidas\n",
    "        81: \"Servicios\", # 19 Otros servicios, excepto actividades gubernamentales\n",
    "        93: \"Gobierno\", # 20 Actividades gubernamentales y de organismos internacionales\n",
    "    }\n",
    ")"
   ]
  },
  {
   "cell_type": "code",
   "execution_count": 4,
   "id": "865e830d-7d57-41ce-be20-061b990c08ef",
   "metadata": {},
   "outputs": [
    {
     "data": {
      "text/plain": [
       "12"
      ]
     },
     "execution_count": 4,
     "metadata": {},
     "output_type": "execute_result"
    }
   ],
   "source": [
    "# There are 12 points outside state boundaries\n",
    "in_ent = denue.within(marco_geo_ent.unary_union)\n",
    "(~in_ent).sum()"
   ]
  },
  {
   "cell_type": "code",
   "execution_count": 5,
   "id": "f0ade6b6-d873-4f4b-b885-47b3a91c8ee9",
   "metadata": {},
   "outputs": [
    {
     "name": "stdout",
     "output_type": "stream",
     "text": [
      "128\n"
     ]
    }
   ],
   "source": [
    "# There are 128 points outside their stated municipality\n",
    "for mun in marco_geo_mun.CVE_MUN.values:\n",
    "    denue_mun = denue.query(f'cve_mun == {int(mun)}')\n",
    "    in_mun = denue_mun.within(marco_geo_mun.query('CVE_MUN == @mun').geometry.item())\n",
    "    denue.loc[denue_mun.index, 'in_mun'] = in_mun\n",
    "print(np.sum(~denue.in_mun.values))\n",
    "# 116 of these are on municipality borders (as ploted on a map), the other 12 are the ones outside state borders\n",
    "# We keep the 116 slighly displaced points and remove the 12 clearly misplaced ones"
   ]
  },
  {
   "cell_type": "code",
   "execution_count": 6,
   "id": "bb9337c3-1b91-4113-9720-3ff7d015ba02",
   "metadata": {},
   "outputs": [],
   "source": [
    "# Filter only relevan columns to avoid clutter\n",
    "denue = denue[in_ent][[\n",
    "    'codigo_act', 'per_ocu', 'cve_mun', 'municipio', 'cve_loc', 'localidad',\n",
    "    'ageb', 'manzana', 'tipoUniEco',\n",
    "    # 'latitud', 'longitud', 'fecha_alta',\n",
    "    'NAICS_2', 'geometry', 'lower', 'upper', 'in_mun', 'sector'\n",
    "]]"
   ]
  },
  {
   "cell_type": "markdown",
   "id": "13cb8ef9-8413-42d7-91b9-bf87c2b4ece8",
   "metadata": {},
   "source": [
    "### TAZ\n",
    "\n",
    "Here we load the traffic analysis zones geometries, we want to locate firms into this zones."
   ]
  },
  {
   "cell_type": "code",
   "execution_count": 7,
   "id": "788e604d-787e-429c-87f5-bb7f0ec9c584",
   "metadata": {},
   "outputs": [],
   "source": [
    "taz = gpd.read_file('../data/TAZ/Zonas.shp').to_crs(denue.crs).drop(columns='ESTADO')"
   ]
  },
  {
   "cell_type": "markdown",
   "id": "386f6aec-e5f9-473e-86c7-c0eeb7428834",
   "metadata": {},
   "source": [
    "### DENUE + TAZ\n",
    "\n",
    "We join DENUE with TAZ to obtain each firm TAZ code dropping firmas not located in any TAZ.\n",
    "One assumption we make is to take fix firmas as formal employment providers, so we drop non-fixed firms."
   ]
  },
  {
   "cell_type": "code",
   "execution_count": 9,
   "id": "83dc52cc-f15a-40d0-afb4-9dd1d5673f78",
   "metadata": {},
   "outputs": [],
   "source": [
    "denue_taz = (\n",
    "    denue.sjoin(taz[['ZONA', 'MACROZONA', 'geometry']], how='inner')[['ZONA', 'sector', 'tipoUniEco', 'lower', 'upper']]\n",
    "    .reset_index(drop=True)\n",
    "    .sort_values(['ZONA', 'sector', 'tipoUniEco', 'lower'])\n",
    "    .query(\"tipoUniEco == 'Fijo'\")\n",
    "    .drop(columns='tipoUniEco')\n",
    "    .copy()\n",
    ")"
   ]
  },
  {
   "cell_type": "code",
   "execution_count": 10,
   "id": "25275104-67af-4654-845d-24f6e6e0e7c9",
   "metadata": {},
   "outputs": [
    {
     "data": {
      "text/html": [
       "<div>\n",
       "<style scoped>\n",
       "    .dataframe tbody tr th:only-of-type {\n",
       "        vertical-align: middle;\n",
       "    }\n",
       "\n",
       "    .dataframe tbody tr th {\n",
       "        vertical-align: top;\n",
       "    }\n",
       "\n",
       "    .dataframe thead th {\n",
       "        text-align: right;\n",
       "    }\n",
       "</style>\n",
       "<table border=\"1\" class=\"dataframe\">\n",
       "  <thead>\n",
       "    <tr style=\"text-align: right;\">\n",
       "      <th></th>\n",
       "      <th>ZONA</th>\n",
       "      <th>sector</th>\n",
       "      <th>lower</th>\n",
       "      <th>upper</th>\n",
       "    </tr>\n",
       "  </thead>\n",
       "  <tbody>\n",
       "    <tr>\n",
       "      <th>25565</th>\n",
       "      <td>1</td>\n",
       "      <td>Comercio</td>\n",
       "      <td>0.0</td>\n",
       "      <td>5.0</td>\n",
       "    </tr>\n",
       "    <tr>\n",
       "      <th>25566</th>\n",
       "      <td>1</td>\n",
       "      <td>Comercio</td>\n",
       "      <td>0.0</td>\n",
       "      <td>5.0</td>\n",
       "    </tr>\n",
       "    <tr>\n",
       "      <th>25567</th>\n",
       "      <td>1</td>\n",
       "      <td>Comercio</td>\n",
       "      <td>0.0</td>\n",
       "      <td>5.0</td>\n",
       "    </tr>\n",
       "    <tr>\n",
       "      <th>25568</th>\n",
       "      <td>1</td>\n",
       "      <td>Comercio</td>\n",
       "      <td>0.0</td>\n",
       "      <td>5.0</td>\n",
       "    </tr>\n",
       "    <tr>\n",
       "      <th>25570</th>\n",
       "      <td>1</td>\n",
       "      <td>Comercio</td>\n",
       "      <td>0.0</td>\n",
       "      <td>5.0</td>\n",
       "    </tr>\n",
       "  </tbody>\n",
       "</table>\n",
       "</div>"
      ],
      "text/plain": [
       "       ZONA    sector  lower  upper\n",
       "25565     1  Comercio    0.0    5.0\n",
       "25566     1  Comercio    0.0    5.0\n",
       "25567     1  Comercio    0.0    5.0\n",
       "25568     1  Comercio    0.0    5.0\n",
       "25570     1  Comercio    0.0    5.0"
      ]
     },
     "execution_count": 10,
     "metadata": {},
     "output_type": "execute_result"
    }
   ],
   "source": [
    "denue_taz.head()"
   ]
  },
  {
   "cell_type": "code",
   "execution_count": 11,
   "id": "70ab6479-06cf-451e-8cd4-e60dde59b332",
   "metadata": {},
   "outputs": [
    {
     "data": {
      "text/plain": [
       "(157934, 4)"
      ]
     },
     "execution_count": 11,
     "metadata": {},
     "output_type": "execute_result"
    }
   ],
   "source": [
    "denue_taz.shape"
   ]
  },
  {
   "cell_type": "markdown",
   "id": "9e29fa44-6851-4e64-bd2e-33f0b66b96e7",
   "metadata": {},
   "source": [
    "### ENOE"
   ]
  },
  {
   "cell_type": "markdown",
   "id": "4f8796a6-f68e-454e-b2a2-f58e1eaa77e8",
   "metadata": {},
   "source": [
    "This ENOE databased is already preprocessed by the enoe.py script that cleans the database to train the informal job classifier.\n",
    "It is the train set for the formal informa classifier, and thus we use to compare distributions.\n",
    "The ENOE is representative at STATE level, so comparisons should be done at that level."
   ]
  },
  {
   "cell_type": "code",
   "execution_count": 4,
   "id": "b3831fd0-da8c-4eba-9648-8d6dd23b0b9d",
   "metadata": {},
   "outputs": [],
   "source": [
    "enoe = pd.read_csv('../data/ENOE/enoe_clean.csv', index_col=0)"
   ]
  },
  {
   "cell_type": "markdown",
   "id": "a272808b-e052-43bc-8a48-969a27927e48",
   "metadata": {},
   "source": [
    "### OD survey\n",
    "\n",
    "Here we load the OD survey obtained as output from the formal/informal job classifier.\n",
    "\n",
    "NOTE: This survey differs from the one used to obtain household, people, and trips tables for estimating choice models, since the latter was much more strictly preprocessed."
   ]
  },
  {
   "cell_type": "code",
   "execution_count": 37,
   "id": "88d99982-1141-4905-8b24-e6d5b0eb1b07",
   "metadata": {},
   "outputs": [],
   "source": [
    "# TODO: load OD."
   ]
  },
  {
   "cell_type": "markdown",
   "id": "baed3489-8c9d-444d-afdf-f18eb88f1c41",
   "metadata": {},
   "source": [
    "## Fitting a distribution to DENUE censored data\n",
    "\n",
    "The first step of the job location pipeline is to obtain integer count jobs per TAZ per Sector for forma jobs.\n",
    "Formal jobs are obtained from the DENUE fixed firm locations.\n",
    "DENUE report job counts in intervals, from which we must estimate counts.\n",
    "To do so, we fit a model to the binned dataset and use the model to generate expeted counts per bracket.\n",
    "This model is fitted at the state level to minized sampling noise when fitting.\n",
    "\n",
    "Firm size is known te be heavy tailed. Proposed models for heavy tail firm size distributions are:\n",
    "- pareto or power law\n",
    "- log normal\n",
    "- exponential\n",
    "- truncated pareto\n",
    "- power law with exponential cutoff\n",
    "- stretched exponential or Weibull\n",
    "\n",
    "Not all this distributions are implemented in SciPy, so we leverage Matlab code to fit them.\n",
    "This code uses continuous distributions. In reality, firm size is an integer variable, and a discrete distribution should be used.\n",
    "Still, approximating firm size using continuous distributions and rounding to the nearest integer is a common procedure and greatly simplifies fitting, since there is no available code to fitted discrete binned data available.\n",
    "Relevant references warn agains this and need to be further explored.\n",
    "Discrete distributions that should be explored are:\n",
    "- power law\n",
    "- Yule\n",
    "- Exponential\n",
    "- Poisson\n",
    "\n",
    "Ther error induced by using continuous distributions seem less relevant for binned data given the following considerations.\n",
    "Consider a generative model that samples a real number from a continuous distribution, rounds it to the neasres integer, and finally assigns it to a bin. The binned data would be indistinguishable from a model that samples directly from a discrete distribution and then bins the data. Of course the adjusted parameters may differ between continuous and discrete version of the same distribution.\n",
    "But if the modeling objective is to estimate the original data, then either model serves equally well.\n",
    "In fact, one should use the one that results in the best fit.\n",
    "\n",
    "Relevant references for this section are:\n",
    "- Clauset, A., Shalizi, C. R., & Newman, M. E. (2009). Power-law distributions in empirical data. SIAM review, 51(4), 661-703.\n",
    "- Virkar, Y., & Clauset, A. (2014). Power-law distributions in binned empirical data. The Annals of Applied Statistics, 8(1), 89."
   ]
  },
  {
   "cell_type": "markdown",
   "id": "ab9085bc-6919-4043-b563-96dc193be3ea",
   "metadata": {},
   "source": [
    "Currently, a truncated pareto model seems to fit well, but hypothesis testing is pending.\n",
    "An issue when fitting all models, is the unrealistic open ended last bin.\n",
    "Without contraining the maximum allowed value of the last bin, tails of the distributions become inflated during MLE estimation.\n",
    "By taking all the tail into account, when maximizing the likelihood, a high prbability mass in the tail is favored and the whole tail contributes to the likelihood.\n",
    "On the other hand, is the last bin is constrained to a maximum, than contrinution of the tail to lieklihood is restricted and heavy tails are favored less during optimization.\n",
    "The upper bound could potentially be estimated during the fitting process, may not during optimization.\n",
    "I'm unsure how MLE would behave is the upper bound is allowed to change.\n",
    "This upper bound is differet from the bound, but the mismihaviour of the truncated pareto hints that this would not be a good idea, as the upper bound of the distriution is inflated."
   ]
  },
  {
   "cell_type": "code",
   "execution_count": 10,
   "id": "0e79503d-a5d1-40a4-a8ba-b2aec7c40c50",
   "metadata": {},
   "outputs": [],
   "source": [
    "from distributions import binned_ll, ks_distance, fit_score_p"
   ]
  },
  {
   "cell_type": "code",
   "execution_count": 11,
   "id": "b6dfb0c1-9b2e-4a95-88e3-23acbc09975d",
   "metadata": {},
   "outputs": [],
   "source": [
    "from scipy import stats\n",
    "import matlab.engine\n",
    "\n",
    "# here we load the Matlab engine to use matlab code in Python\n",
    "mat_eng = matlab.engine.start_matlab()\n",
    "mat_eng.cd(r'../plbinnedcode/', nargout=0)"
   ]
  },
  {
   "cell_type": "code",
   "execution_count": 17,
   "id": "f44d6b77-0f06-49d8-8c64-b5d080ad7c6e",
   "metadata": {},
   "outputs": [],
   "source": [
    "# Data setup for fitting distributions\n",
    "# We create the binned data structures needed for fitting in Scipy and Matlab\n",
    "# We extend the bin intervals to cover the whole real line so that the\n",
    "# continuous approximation is valid.\n",
    "# Since minimum firm size is taken to be 1, the lowest bin interval is 1\n",
    "# NOTE: Maybe we should try to find xmin in the interval (0 - 1],\n",
    "# it may improve the fit of some functions.\n",
    "# For xmin = 0 (almost 0) some distributions are simpler\n",
    "# NOTE: \n",
    "# The highest interval is infinity, upper truncated distributions will restrict the domain.\n",
    "\n",
    "# Adjusted continuous bins\n",
    "denue_low, denue_up = (\n",
    "    denue_taz.lower.replace(0, 1.5).values - 0.5,\n",
    "    denue_taz.upper.values + 0.5\n",
    ")\n",
    "\n",
    "# censored data structure for scipy\n",
    "# denue_censored = stats.CensoredData().interval_censored(denue_low, denue_up)\n",
    "\n",
    "# The empirical CDF, which has heavy tail behaivoir in log log space\n",
    "denue_cdf = (\n",
    "    # pd.Series(denue_up).value_counts().sort_index().cumsum()/len(denue_taz)\n",
    "    pd.concat(\n",
    "        [\n",
    "            pd.Series([0], index=[1]),\n",
    "            pd.Series(denue_up).value_counts().sort_index()\n",
    "        ]\n",
    "    ).rename('count').cumsum()/len(denue_taz)\n",
    "\n",
    ").to_frame().reset_index()\n",
    "denue_sf = denue_cdf.copy()\n",
    "denue_sf['count'] = 1 - denue_sf['count']\n",
    "\n",
    "# The binned data array for Matlab\n",
    "# boundary values and counts\n",
    "boundaries = np.ones(len(denue_cdf))\n",
    "boundaries = denue_cdf['index'].values\n",
    "h = pd.Series(denue_up).value_counts().sort_index().values"
   ]
  },
  {
   "cell_type": "markdown",
   "id": "617f8ad5-ab35-4cf1-b9e8-dec371275f88",
   "metadata": {},
   "source": [
    "The simples fit to a power law is a line fit on log-log scale. This estiamtor have bad properties as discussed in the relevant literature, but serves as a baseline and as starting point for likelihood based optimization.\n",
    "Scipy and Matlab implementations of the distributions are equivalent but differ in their parametrization.\n",
    "We discuss differences for each distribution when fitting them."
   ]
  },
  {
   "cell_type": "markdown",
   "id": "9f78cfcd-c52a-4156-a4e2-1467a4a37eb6",
   "metadata": {},
   "source": [
    "Scipy uses a custom paramerization among all its distributions, which always include loc and scale parameters, so that $x \\rightarrow (x-l)/s$. Loc and scale sometimes match standard forms of the distributions, but often not, and are only general parametrs of location and scale. Other parameres are called shape parameters. Scipy docs provide f(x), with domain [x1, x2]. The fully parametrized density is\n",
    "\n",
    "$$\n",
    "p(x) = \\frac{1}{s}f(\\frac{x-l}{s}); \\quad \\left[s x_1 + l, s x_2 + l\\right]\n",
    "$$"
   ]
  },
  {
   "cell_type": "markdown",
   "id": "21a970f1-084a-46aa-b533-885d33f47e4a",
   "metadata": {},
   "source": [
    "### Linear fit and power law truncated from below\n",
    "\n",
    "A simple OLS fit is done for the log(x), log(CDF(x)), the slope is the approximated exponent of the power law.\n",
    "\n",
    "For the power law or Pareto distribution:\n",
    "In Matlab, the power law density and survival function S is \n",
    "\n",
    "$$\n",
    "p(x) = \\frac{\\alpha-1}{x_{min}} \\left( \\frac{x}{x_{min}} \\right)^{-\\alpha}\n",
    "$$\n",
    "\n",
    "$$\n",
    "S(x) = \\left( \\frac{x}{x_{min}} \\right)^{1 - \\alpha}\n",
    "$$\n",
    "\n",
    "subjet to \n",
    "$$ x_{min} \\leq x \\leq \\infty; \\quad \\alpha > 1$$\n",
    "\n",
    "In Scipy, with $loc=0$ and $scale=s$, we have\n",
    "\n",
    "$$\n",
    "p(x) = \\frac{1}{s}\\frac{b}{(x/s)^{b+1}} = \\frac{b}{s}\\left(\\frac{x}{s}\\right)^{-b-1}\n",
    "$$\n",
    "\n",
    "subjet to \n",
    "$$ s \\leq x \\leq \\infty; \\quad b > 0$$\n",
    "\n",
    "which means\n",
    "\n",
    "$$\n",
    "\\alpha = b + 1; \\quad x_{min} = s\n",
    "$$\n",
    "\n"
   ]
  },
  {
   "cell_type": "code",
   "execution_count": 15,
   "id": "03156564-ae23-403a-b56a-790f1eeb9d1a",
   "metadata": {},
   "outputs": [
    {
     "name": "stdout",
     "output_type": "stream",
     "text": [
      "alpha0 = 1.909416489883184\n"
     ]
    }
   ],
   "source": [
    "# A OLS linear regression on log log axes on the CDF.\n",
    "# This just provides an initial guess of the exponent.\n",
    "# This is b parameter in scipy, alpha = b + 1\n",
    "lr = stats.linregress(np.log(denue_sf['index'].values[:-1]), np.log(denue_sf['count'].values[:-1]))\n",
    "def res_line(x):\n",
    "    return np.exp(lr.slope*np.log(x) + lr.intercept)\n",
    "b0 = -lr.slope\n",
    "alpha0 = b0 + 1\n",
    "print(f\"alpha0 = {alpha0}\")"
   ]
  },
  {
   "cell_type": "markdown",
   "id": "2b88fd85-e5e0-47d6-80a9-584476f724db",
   "metadata": {},
   "source": [
    "For our application, this exponent is problematic, since the mean of the pareto distriution diverges for $\\alpha \\leq 2$. This makes imposible to find an expected number of jobs for the upper bracket, which was the motivation of this whole enterprise in the first place. We need to estimate a distribution with finite moments. We still fit the power law to compare the fit with alternative distributions.\n",
    "\n",
    "The pareto distribution truncated form below is implemented in both scipy and matlab, as discussed above.\n",
    "Scale sets $x_{min}$ in Scipy."
   ]
  },
  {
   "cell_type": "markdown",
   "id": "88ab02ee-fb4b-4eb4-842c-90f079178bab",
   "metadata": {},
   "source": [
    "The power law is not a good fit in the whole domain, the p-value is 0 as the model must be rejected. This is similar for other alternative distributions, namely, lognormal and the truncated pareto distribution.\n",
    "If we estimate bmin as well, the algorithm chooses 100.5 as bmin, which leaves just two bins in the rail.\n",
    "This is, a powerlaw fits the last two bins almost perfectly, which makes sense since the sample size is not really small.\n",
    "The question is, is it useful to have a power law just in last part of the distribution?\n",
    "Namely, for counts above 100?"
   ]
  },
  {
   "cell_type": "code",
   "execution_count": 18,
   "id": "92166ce2-1800-42f5-9bd4-80526f0de241",
   "metadata": {},
   "outputs": [],
   "source": [
    "# We need a wrapper function that takes the data to fit and returns a scipy fitted dist\n",
    "def fit_pareto(mat_eng, boundaries, h, bmax=None, verbose=False):\n",
    "    # Fit a powelaw using matlab\n",
    "    if bmax is None:\n",
    "        # Bmin is unrestricted\n",
    "        alpha, bmin, L = mat_eng.bplfit(h.astype(float), boundaries, nargout=3)\n",
    "    else:\n",
    "        # bmin must be estimated below provided value\n",
    "        alpha, bmin, L = mat_eng.bplfit(h.astype(float), boundaries, 'limit', bmax, nargout=3)\n",
    "    if verbose:\n",
    "        print(alpha, bmin, L)\n",
    "    dist = stats.pareto(alpha - 1, loc=0, scale=bmin)\n",
    "    return dist"
   ]
  },
  {
   "cell_type": "code",
   "execution_count": 19,
   "id": "d7632e41-e2cf-4e2a-8197-9542421b47c8",
   "metadata": {},
   "outputs": [
    {
     "name": "stdout",
     "output_type": "stream",
     "text": [
      "1.9337890625000023 5.5 -47508.92206387673\n"
     ]
    }
   ],
   "source": [
    "# an unrstricted search chooses the last two bins\n",
    "pareto_fit = fit_pareto(mat_eng, boundaries, h, bmax=None, verbose=True)"
   ]
  },
  {
   "cell_type": "code",
   "execution_count": 29,
   "id": "af5c29c5-40e7-42a1-b4fa-ad2cf7c815c1",
   "metadata": {},
   "outputs": [
    {
     "data": {
      "text/plain": [
       "0.352"
      ]
     },
     "execution_count": 29,
     "metadata": {},
     "output_type": "execute_result"
    }
   ],
   "source": [
    "# An unrestricted search\n",
    "p, d, D = mat_eng.bplpva(h.astype(float), boundaries, 5.5, 'silent', 'reps', 1000.0, nargout=3)\n",
    "d = np.array(d)\n",
    "p"
   ]
  },
  {
   "cell_type": "markdown",
   "id": "d245f593-bc4c-4417-9629-63ab61f2e0b2",
   "metadata": {},
   "source": [
    "So the powerlaw for bmin=5.5 but is a valid model."
   ]
  },
  {
   "cell_type": "markdown",
   "id": "f3442c3e-b170-47b4-86e0-6596b10b6a28",
   "metadata": {},
   "source": [
    "### Lognormal distribution fit\n",
    "\n",
    "Scipy is missing most truncated distributions, to avoid reimplementing the methods we use the matlab implementation.\n",
    "\n",
    "To obtains the truncated dsitribution, we can normalize the scipy distribution by 1 / (F(xmax) - F(xmin)).\n",
    "\n",
    "The standard lognormal is given by\n",
    "\n",
    "$$\n",
    "p(x) = \\frac{1}{\\sqrt{2 \\pi \\sigma^2}}\\frac{1}{x}\\exp\\left( -\\frac{\\left( \\ln{x} - \\mu \\right)^2}{2\\sigma^2}  \\right)\n",
    "$$\n",
    "\n",
    "$$\n",
    "S(x) = \\frac{1}{2}\\left( 1 + erf\\left( \\frac{\\ln{x} - \\mu}{\\sqrt{2}\\sigma} \\right)\\right)\n",
    "$$\n",
    "\n",
    "subjet to \n",
    "$$ 0 < x < \\infty; \\quad \\sigma > 0$$\n",
    "\n",
    "So that by scaling we obtain the Matlab parametrization for the lower truncated lognormal.\n",
    "\n",
    "$$\n",
    "p_t(x) = \\frac{p(x)}{F(\\infty) - F(x_{min})} \n",
    "= \\frac{2}{erfc\\left( \\frac{\\ln{x} - \\mu}{\\sqrt{2}\\sigma} \\right)} p(x)\n",
    "= \\frac{1}{erfc\\left( \\frac{\\ln{x} - \\mu}{\\sqrt{2}\\sigma} \\right)}\n",
    "\\sqrt{\\frac{2}{\\pi \\sigma^2}}\\frac{1}{x}\\exp\\left( -\\frac{\\left( \\ln{x} - \\mu \\right)^2}{2\\sigma^2}  \\right)\n",
    "$$\n",
    "\n",
    "subjet to \n",
    "$$ x_{min} < x < \\infty; \\quad \\sigma > 0$$\n",
    "\n",
    "In Scipy, $loc=0$, $scale=e^\\mu$, and $s=\\sigma$, we have\n",
    "\n",
    "$$\n",
    "p(x) = \n",
    "$$\n",
    "\n",
    "subjet to \n",
    "$$ s \\leq x \\leq \\infty; \\quad b > 0$$\n",
    "\n",
    "which means\n",
    "\n",
    "$$\n",
    "\\alpha = b + 1; \\quad x_{min} = s\n",
    "$$\n"
   ]
  },
  {
   "cell_type": "code",
   "execution_count": 30,
   "id": "6816816d-9cb2-49a4-95d9-86af30d34ca8",
   "metadata": {},
   "outputs": [],
   "source": [
    "# We need a wrapper function that takes the data to fit and returns a scipy fitted dist\n",
    "def fit_lognorm(mat_eng, boundaries, h, bmin, verbose=False):\n",
    "    # Fit a powelaw using matlab, bmin must be chosen\n",
    "    # comparison to other models must be made when fitted to the same bins.\n",
    "    mu, sigma, L = mat_eng.blgnormfit(\n",
    "        h.astype(float), boundaries, [], [], 'bmin', bmin, nargout=3\n",
    "    )\n",
    "    if verbose:\n",
    "        print(mu, sigma, L)\n",
    "    dist = stats.lognorm(s=sigma, loc=0, scale=np.exp(mu))\n",
    "    return dist"
   ]
  },
  {
   "cell_type": "code",
   "execution_count": 31,
   "id": "2f2c445d-bce2-404b-989b-06ee1abfd1cb",
   "metadata": {},
   "outputs": [
    {
     "name": "stdout",
     "output_type": "stream",
     "text": [
      "-52.9 7.800000000000002 -47510.47180713275\n"
     ]
    }
   ],
   "source": [
    "lognorm_fit = fit_lognorm(mat_eng, boundaries, h, bmin=5.5, verbose=True)"
   ]
  },
  {
   "cell_type": "markdown",
   "id": "ee01a19d-928f-469b-8f18-9ec49cbaab90",
   "metadata": {},
   "source": [
    "Looking at the likelihood, models seem equivalent.\n",
    "The main reason to choose lognormal is that the moments are finite."
   ]
  },
  {
   "cell_type": "code",
   "execution_count": 32,
   "id": "99f4a9bc-3c6a-4278-a5c4-b5d76a2b3bd2",
   "metadata": {},
   "outputs": [
    {
     "name": "stdout",
     "output_type": "stream",
     "text": [
      "5.5 0.003\n"
     ]
    }
   ],
   "source": [
    "for bmin in [5.5]:\n",
    "    lognorm_fit = fit_lognorm(mat_eng, boundaries, h, bmin=bmin, verbose=False)\n",
    "    p, d, D = fit_score_p(boundaries, h, lognorm_fit, fit_lognorm, mat_eng,\n",
    "               bmin=bmin, reps=1000, \n",
    "               inv_samp=True)\n",
    "    print(bmin, p)"
   ]
  },
  {
   "cell_type": "code",
   "execution_count": 27,
   "id": "bae5cbde-b5bb-426a-a95b-7a72eaa0449e",
   "metadata": {},
   "outputs": [
    {
     "data": {
      "text/plain": [
       "110198.96308981767"
      ]
     },
     "execution_count": 27,
     "metadata": {},
     "output_type": "execute_result"
    }
   ],
   "source": [
    "# The negative log likelihood needs the renormalization constant\n",
    "# TODO: contrain domain\n",
    "C_ln = lognorm_fit.cdf(np.inf) - lognorm_fit.cdf(5.5)\n",
    "binned_ll(boundaries, h, lognorm_fit, C_ln)"
   ]
  },
  {
   "cell_type": "markdown",
   "id": "eceb8969-02ed-4638-876b-87bebea8290f",
   "metadata": {},
   "source": [
    "### Exponential distribution"
   ]
  },
  {
   "cell_type": "code",
   "execution_count": 33,
   "id": "51dd1716-9e28-4200-8a9d-9d95a9fe7b5a",
   "metadata": {},
   "outputs": [
    {
     "data": {
      "text/plain": [
       "(0.041257812500000046, 62089.84867256257)"
      ]
     },
     "execution_count": 33,
     "metadata": {},
     "output_type": "execute_result"
    }
   ],
   "source": [
    "l, L = mat_eng.bexpnfit(h.astype(float), boundaries, 'bmin', 5.5, nargout=2)\n",
    "l, L"
   ]
  },
  {
   "cell_type": "markdown",
   "id": "e2f416c1-4442-4d8b-a29b-b45f6695148d",
   "metadata": {},
   "source": [
    "### Power law with cutoff\n",
    "\n",
    "This one is not available in Scipy so we cannot generate random variates until we implement the distribution."
   ]
  },
  {
   "cell_type": "code",
   "execution_count": 34,
   "id": "3f6ba7e9-2529-4caf-8cc0-fb93e35d5e37",
   "metadata": {},
   "outputs": [
    {
     "name": "stdout",
     "output_type": "stream",
     "text": [
      "Power law with cut off distribution, parameter calculation\n",
      "    Copyright 2012 Yogesh Virkar\n",
      "    Warning: This can be a slow calculation; please be patient.\n"
     ]
    },
    {
     "data": {
      "text/plain": [
       "(1.9243369462456839, 4.940022241470976e-05, 47497.658366214375)"
      ]
     },
     "execution_count": 34,
     "metadata": {},
     "output_type": "execute_result"
    }
   ],
   "source": [
    "a, l, L = mat_eng.bplcutfit(h.astype(float), boundaries, 'bmin', 5.5, nargout=3)\n",
    "a, l, L"
   ]
  },
  {
   "cell_type": "markdown",
   "id": "f60a0c23-ea8d-4054-a37e-7d83d35929ec",
   "metadata": {},
   "source": [
    "### Stretched exponential or Weibull"
   ]
  },
  {
   "cell_type": "code",
   "execution_count": 35,
   "id": "25c1f970-4f4f-443b-8c57-391c16930099",
   "metadata": {},
   "outputs": [
    {
     "data": {
      "text/plain": [
       "(205.18208431331865, 0.00449528061124127, 47508.63532411172)"
      ]
     },
     "execution_count": 35,
     "metadata": {},
     "output_type": "execute_result"
    }
   ],
   "source": [
    "l, b, L = mat_eng.bstexpfit(h.astype(float), boundaries, 'bmin', 5.5, nargout=3)\n",
    "l, b, L"
   ]
  },
  {
   "cell_type": "markdown",
   "id": "a75d01b7-7589-4a48-8327-cf85343b2888",
   "metadata": {},
   "source": [
    "Ok, so all models seem equally valid, given that only two bins are fitted, all fits seem good enough.\n",
    "From the literature, we most likely expect either a power law or a lognormal.\n",
    "So we use the log normal to sample from the upper two bins."
   ]
  },
  {
   "cell_type": "markdown",
   "id": "c67e5efd-2e6b-4c46-8292-c471fc30562a",
   "metadata": {},
   "source": [
    "### Truncated pareto distribution\n",
    "\n",
    "This is fitted in scipy.\n"
   ]
  },
  {
   "cell_type": "code",
   "execution_count": 18,
   "id": "346f4876-b837-4281-9f1c-aac2f8206cfc",
   "metadata": {},
   "outputs": [],
   "source": [
    "N = h.sum()"
   ]
  },
  {
   "cell_type": "code",
   "execution_count": 19,
   "id": "0465a783-75e0-474d-b0f4-be34ce42ef1b",
   "metadata": {},
   "outputs": [],
   "source": [
    "boundaries[-1]=5000"
   ]
  },
  {
   "cell_type": "code",
   "execution_count": 20,
   "id": "27a2d268-6725-4ef2-8a10-2565631cdc84",
   "metadata": {},
   "outputs": [],
   "source": [
    "def build_censored(h, boundaries, bmin):\n",
    "    bmin_idx = np.where(boundaries==bmin)[0][0]\n",
    "    h = h[bmin_idx:]\n",
    "    boundaries = boundaries[bmin_idx:]\n",
    "    \n",
    "    N = h.sum()\n",
    "    hh = h.cumsum()\n",
    "    \n",
    "    low = np.zeros(N)\n",
    "    high = np.zeros(N)\n",
    "    \n",
    "    low[:hh[0]] = boundaries[0]\n",
    "    high[:hh[0]] = boundaries[1]\n",
    "    for i in range(len(hh)-1):\n",
    "        low[hh[i]:hh[i+1]] = boundaries[i+1]\n",
    "        high[hh[i]:hh[i+1]] = boundaries[i+2]\n",
    "    censored = stats.CensoredData().interval_censored(low, high)\n",
    "    return censored"
   ]
  },
  {
   "cell_type": "code",
   "execution_count": 380,
   "id": "c75e68b4-b71d-4829-b26c-ed15ad9a3107",
   "metadata": {},
   "outputs": [
    {
     "data": {
      "text/plain": [
       "(0.8755383195329098, 2269.952186164651, 0, 1, 2269.952186164651)"
      ]
     },
     "execution_count": 380,
     "metadata": {},
     "output_type": "execute_result"
    }
   ],
   "source": [
    "bmin=1\n",
    "denue_censored = build_censored(h, boundaries, bmin=bmin)\n",
    "p1, p2, p3, p4 = stats.truncpareto.fit(denue_censored, 1, 200000 ,floc=0, fscale=bmin)\n",
    "truncpareto = stats.truncpareto(p1, p2, p3, p4)\n",
    "p1, p2, p3, p4, p2*p4"
   ]
  },
  {
   "cell_type": "code",
   "execution_count": 23,
   "id": "02671bd5-e99f-42e7-8fe0-44aabfad9436",
   "metadata": {},
   "outputs": [
    {
     "data": {
      "text/plain": [
       "(0.9256662550653376, 909.0908675035765, 0, 5.5, 4999.999771269671)"
      ]
     },
     "execution_count": 23,
     "metadata": {},
     "output_type": "execute_result"
    }
   ],
   "source": [
    "bmin=5.5\n",
    "denue_censored = build_censored(h, boundaries, bmin=bmin)\n",
    "p1, p2, p3, p4 = stats.truncpareto.fit(denue_censored, 1, 10000 ,floc=0, fscale=bmin)\n",
    "truncpareto = stats.truncpareto(p1, p2, p3, p4)\n",
    "p1, p2, p3, p4, p2*p4"
   ]
  },
  {
   "cell_type": "code",
   "execution_count": 24,
   "id": "9b5ee1c3-38a2-4e6f-b5f0-609e66b8b2d2",
   "metadata": {},
   "outputs": [
    {
     "data": {
      "text/plain": [
       "1998308.6844514937"
      ]
     },
     "execution_count": 24,
     "metadata": {},
     "output_type": "execute_result"
    }
   ],
   "source": [
    "Nbmin = h[1:].sum()\n",
    "truncpareto.mean()*Nbmin + 121841*3 "
   ]
  },
  {
   "cell_type": "code",
   "execution_count": 30,
   "id": "eccaaeac-b67f-4609-a6d7-fdb336965bee",
   "metadata": {},
   "outputs": [
    {
     "data": {
      "text/plain": [
       "4987.99468305726"
      ]
     },
     "execution_count": 30,
     "metadata": {},
     "output_type": "execute_result"
    }
   ],
   "source": [
    "truncpareto.rvs(size=N).max()"
   ]
  },
  {
   "cell_type": "code",
   "execution_count": 31,
   "id": "40482a78-719d-45df-89e9-c0c2612fc31a",
   "metadata": {},
   "outputs": [
    {
     "ename": "NameError",
     "evalue": "name 'binned_ll' is not defined",
     "output_type": "error",
     "traceback": [
      "\u001b[0;31m---------------------------------------------------------------------------\u001b[0m",
      "\u001b[0;31mNameError\u001b[0m                                 Traceback (most recent call last)",
      "Cell \u001b[0;32mIn[31], line 1\u001b[0m\n\u001b[0;32m----> 1\u001b[0m \u001b[43mbinned_ll\u001b[49m(boundaries[\u001b[38;5;241m1\u001b[39m:], h[\u001b[38;5;241m1\u001b[39m:], truncpareto)\n",
      "\u001b[0;31mNameError\u001b[0m: name 'binned_ll' is not defined"
     ]
    }
   ],
   "source": [
    "binned_ll(boundaries[1:], h[1:], truncpareto)"
   ]
  },
  {
   "cell_type": "code",
   "execution_count": 378,
   "id": "1860ccb8-670a-4bac-ab7d-fd85c093d11b",
   "metadata": {},
   "outputs": [
    {
     "data": {
      "text/plain": [
       "829398.2897422237"
      ]
     },
     "execution_count": 378,
     "metadata": {},
     "output_type": "execute_result"
    }
   ],
   "source": [
    "truncpareto.expect(lambda x: x, lb=250.5, ub=5000, conditional=True)*1000"
   ]
  },
  {
   "cell_type": "code",
   "execution_count": 141,
   "id": "37ac3a81-0836-4583-97a2-1ddde144d780",
   "metadata": {},
   "outputs": [
    {
     "data": {
      "text/plain": [
       "(0.9307035684204885, 3138.2399699056978, 0, 5.5, 17260.31983448134)"
      ]
     },
     "execution_count": 141,
     "metadata": {},
     "output_type": "execute_result"
    }
   ],
   "source": [
    "bs_sample = truncpareto.rvs(size=(Nbmin))\n",
    "bs_h = np.histogram(bs_sample, bins=boundaries)[0]\n",
    "bs_censored = build_censored(bs_h, boundaries, 5.5)\n",
    "p1, p2, p3, p4 = stats.truncpareto.fit(bs_censored, 1, 20000 ,floc=0, fscale=5.5)\n",
    "truncpareto_bs = stats.truncpareto(p1, p2, p3, p4)\n",
    "p1, p2, p3, p4, p2*p4"
   ]
  },
  {
   "cell_type": "code",
   "execution_count": 275,
   "id": "140ed4c5-cfd4-40a9-ab97-dd5ab22def13",
   "metadata": {},
   "outputs": [
    {
     "data": {
      "text/html": [
       "<div>\n",
       "<style scoped>\n",
       "    .dataframe tbody tr th:only-of-type {\n",
       "        vertical-align: middle;\n",
       "    }\n",
       "\n",
       "    .dataframe tbody tr th {\n",
       "        vertical-align: top;\n",
       "    }\n",
       "\n",
       "    .dataframe thead th {\n",
       "        text-align: right;\n",
       "    }\n",
       "</style>\n",
       "<table border=\"1\" class=\"dataframe\">\n",
       "  <thead>\n",
       "    <tr style=\"text-align: right;\">\n",
       "      <th></th>\n",
       "      <th>index</th>\n",
       "      <th>count</th>\n",
       "    </tr>\n",
       "  </thead>\n",
       "  <tbody>\n",
       "    <tr>\n",
       "      <th>0</th>\n",
       "      <td>1.0</td>\n",
       "      <td>1.000000</td>\n",
       "    </tr>\n",
       "    <tr>\n",
       "      <th>1</th>\n",
       "      <td>5.5</td>\n",
       "      <td>0.228532</td>\n",
       "    </tr>\n",
       "    <tr>\n",
       "      <th>2</th>\n",
       "      <td>10.5</td>\n",
       "      <td>0.124799</td>\n",
       "    </tr>\n",
       "    <tr>\n",
       "      <th>3</th>\n",
       "      <td>30.5</td>\n",
       "      <td>0.046165</td>\n",
       "    </tr>\n",
       "    <tr>\n",
       "      <th>4</th>\n",
       "      <td>50.5</td>\n",
       "      <td>0.028322</td>\n",
       "    </tr>\n",
       "    <tr>\n",
       "      <th>5</th>\n",
       "      <td>100.5</td>\n",
       "      <td>0.015639</td>\n",
       "    </tr>\n",
       "    <tr>\n",
       "      <th>6</th>\n",
       "      <td>250.5</td>\n",
       "      <td>0.006794</td>\n",
       "    </tr>\n",
       "    <tr>\n",
       "      <th>7</th>\n",
       "      <td>20000.5</td>\n",
       "      <td>0.000000</td>\n",
       "    </tr>\n",
       "  </tbody>\n",
       "</table>\n",
       "</div>"
      ],
      "text/plain": [
       "     index     count\n",
       "0      1.0  1.000000\n",
       "1      5.5  0.228532\n",
       "2     10.5  0.124799\n",
       "3     30.5  0.046165\n",
       "4     50.5  0.028322\n",
       "5    100.5  0.015639\n",
       "6    250.5  0.006794\n",
       "7  20000.5  0.000000"
      ]
     },
     "execution_count": 275,
     "metadata": {},
     "output_type": "execute_result"
    }
   ],
   "source": [
    "denue_sf"
   ]
  },
  {
   "cell_type": "code",
   "execution_count": 280,
   "id": "e4ba450e-1648-4e2b-9428-504be84612ed",
   "metadata": {},
   "outputs": [
    {
     "data": {
      "text/plain": [
       "[<matplotlib.lines.Line2D at 0x32e9b3410>]"
      ]
     },
     "execution_count": 280,
     "metadata": {},
     "output_type": "execute_result"
    },
    {
     "data": {
      "image/png": "[encoded data removed]",
      "text/plain": [
       "<Figure size 640x480 with 1 Axes>"
      ]
     },
     "metadata": {},
     "output_type": "display_data"
    }
   ],
   "source": [
    "plt.loglog(denue_sf['index'], denue_sf['count']+.0001, 'o-')"
   ]
  },
  {
   "cell_type": "markdown",
   "id": "e6fc6867-8a27-4482-9353-ccfd6cd68c0f",
   "metadata": {},
   "source": [
    "### Calculating the likelihood ratio"
   ]
  },
  {
   "cell_type": "code",
   "execution_count": 594,
   "id": "20f41d6d-422a-4270-a9ad-f669234c1044",
   "metadata": {},
   "outputs": [
    {
     "data": {
      "text/plain": [
       "(1.912890625000002, 100.5, -1690.7619696722359)"
      ]
     },
     "execution_count": 594,
     "metadata": {},
     "output_type": "execute_result"
    }
   ],
   "source": [
    "alpha, bmin, L = mat_eng.bplfit(h.astype(float), boundaries, nargout=3)\n",
    "p1 = mat_eng.getPDF(boundaries, bmin, 'pl', alpha)\n",
    "p1 = np.array(p1)\n",
    "alpha, bmin, L"
   ]
  },
  {
   "cell_type": "code",
   "execution_count": 596,
   "id": "ea02b156-2407-4a8e-bb7b-0a4d0d9817f9",
   "metadata": {},
   "outputs": [],
   "source": [
    "mu, sigma, L = mat_eng.blgnormfit(\n",
    "        h.astype(float), boundaries, [], [], 'bmin', bmin, nargout=3\n",
    "    )\n",
    "p2 = mat_eng.getPDF(boundaries, bmin, 'lgnorm', mu, sigma)\n",
    "p2 = np.array(p2)"
   ]
  },
  {
   "cell_type": "code",
   "execution_count": 601,
   "id": "f7914ac8-813a-4825-a77f-a28575ae982f",
   "metadata": {},
   "outputs": [],
   "source": [
    "# This can't be done with just two bins.\n",
    "#mat_eng.blrtest(p1, p2, h, boundaries, bmin, 0, nargout=2)"
   ]
  },
  {
   "cell_type": "markdown",
   "id": "13f81671-3cb5-4615-ac4f-663c17128ad8",
   "metadata": {},
   "source": [
    "### Finding expected counts and standard deviations per bin"
   ]
  },
  {
   "cell_type": "code",
   "execution_count": 13,
   "id": "366a5888-4b06-4bad-807c-134abaa8924d",
   "metadata": {},
   "outputs": [],
   "source": [
    "formal_jobs = denue_taz.groupby(['ZONA', 'sector', 'lower', 'upper']).size().rename('h').reset_index()"
   ]
  },
  {
   "cell_type": "code",
   "execution_count": 14,
   "id": "9958ee5b-1003-4834-86e5-5ea7de5c8a3c",
   "metadata": {},
   "outputs": [],
   "source": [
    "formal_jobs = formal_jobs.assign(\n",
    "    lower=formal_jobs.lower.astype(int),\n",
    "    upper=formal_jobs.upper.astype(int)\n",
    ")"
   ]
  },
  {
   "cell_type": "code",
   "execution_count": 432,
   "id": "2e486b87-518a-4ecc-a5e6-88b2523d6c09",
   "metadata": {},
   "outputs": [],
   "source": [
    "la = np.sort(formal_jobs.lower.unique())[1:]\n",
    "ua = np.sort(formal_jobs.upper.unique())[1:]\n",
    "edict = {}\n",
    "stddict = {}\n",
    "for l, u in zip(la, ua):\n",
    "    e = truncpareto.expect(lambda x: x, lb=l-0.5, ub=u+0.5, conditional=True)\n",
    "    edict[(l,u)] = e\n",
    "    var = truncpareto.expect(lambda x: (x-e)**2, lb=l-0.5, ub=u+0.5, conditional=True)\n",
    "    stddict[(l,u)] = np.sqrt(var)"
   ]
  },
  {
   "cell_type": "code",
   "execution_count": 15,
   "id": "2075feb5-a756-4357-8548-b96963bbd88a",
   "metadata": {},
   "outputs": [],
   "source": [
    "def get_expected_std(r, bmin=5.5):\n",
    "    l = r.lower\n",
    "    if l < 1:\n",
    "        l = 1\n",
    "    u = r.upper\n",
    "    h = r.h\n",
    "    if l < bmin:\n",
    "        e = h*(l+u)/2\n",
    "        std = np.sqrt(h*((u - l + 1)**2 - 1)/12)\n",
    "        \n",
    "        return pd.Series([e, std, h*l, h*u], index=['E', 'STD', 'min', 'max'])\n",
    "    else:\n",
    "        e = edict[(l,u)]\n",
    "        std = stddict[(l,u)]\n",
    "        return pd.Series([h*e, np.sqrt(h)*std, h*l, h*u], index=['E', 'STD', 'min', 'max'])"
   ]
  },
  {
   "cell_type": "code",
   "execution_count": 449,
   "id": "ed9877f3-5f39-47de-a2df-fd071ba0d1df",
   "metadata": {},
   "outputs": [],
   "source": [
    "formal_jobs[['E', 'STD', 'min', 'max']] = formal_jobs.apply(get_expected_std, axis=1, result_type='expand')\n",
    "formal_jobs['VAR'] = formal_jobs.STD**2"
   ]
  },
  {
   "cell_type": "code",
   "execution_count": 443,
   "id": "32d813c2-e09d-49e7-92b6-35e57085edaa",
   "metadata": {},
   "outputs": [],
   "source": [
    "formal_jobs.to_csv('../output/denue_by_taz_estimated.csv', index=False)"
   ]
  },
  {
   "cell_type": "code",
   "execution_count": 450,
   "id": "107078ab-e979-45ab-917e-19b083b8be59",
   "metadata": {},
   "outputs": [
    {
     "data": {
      "text/html": [
       "<div>\n",
       "<style scoped>\n",
       "    .dataframe tbody tr th:only-of-type {\n",
       "        vertical-align: middle;\n",
       "    }\n",
       "\n",
       "    .dataframe tbody tr th {\n",
       "        vertical-align: top;\n",
       "    }\n",
       "\n",
       "    .dataframe thead th {\n",
       "        text-align: right;\n",
       "    }\n",
       "</style>\n",
       "<table border=\"1\" class=\"dataframe\">\n",
       "  <thead>\n",
       "    <tr style=\"text-align: right;\">\n",
       "      <th></th>\n",
       "      <th>ZONA</th>\n",
       "      <th>sector</th>\n",
       "      <th>lower</th>\n",
       "      <th>upper</th>\n",
       "      <th>h</th>\n",
       "      <th>E</th>\n",
       "      <th>STD</th>\n",
       "      <th>min</th>\n",
       "      <th>max</th>\n",
       "      <th>VAR</th>\n",
       "    </tr>\n",
       "  </thead>\n",
       "  <tbody>\n",
       "    <tr>\n",
       "      <th>0</th>\n",
       "      <td>1</td>\n",
       "      <td>Comercio</td>\n",
       "      <td>0</td>\n",
       "      <td>5</td>\n",
       "      <td>1601</td>\n",
       "      <td>4803.000000</td>\n",
       "      <td>56.586217</td>\n",
       "      <td>1601.0</td>\n",
       "      <td>8005.0</td>\n",
       "      <td>3202.000000</td>\n",
       "    </tr>\n",
       "    <tr>\n",
       "      <th>1</th>\n",
       "      <td>1</td>\n",
       "      <td>Comercio</td>\n",
       "      <td>6</td>\n",
       "      <td>10</td>\n",
       "      <td>229</td>\n",
       "      <td>1714.704645</td>\n",
       "      <td>21.297945</td>\n",
       "      <td>1374.0</td>\n",
       "      <td>2290.0</td>\n",
       "      <td>453.602477</td>\n",
       "    </tr>\n",
       "    <tr>\n",
       "      <th>2</th>\n",
       "      <td>1</td>\n",
       "      <td>Comercio</td>\n",
       "      <td>11</td>\n",
       "      <td>30</td>\n",
       "      <td>74</td>\n",
       "      <td>1272.329890</td>\n",
       "      <td>46.394458</td>\n",
       "      <td>814.0</td>\n",
       "      <td>2220.0</td>\n",
       "      <td>2152.445698</td>\n",
       "    </tr>\n",
       "    <tr>\n",
       "      <th>3</th>\n",
       "      <td>1</td>\n",
       "      <td>Comercio</td>\n",
       "      <td>31</td>\n",
       "      <td>50</td>\n",
       "      <td>8</td>\n",
       "      <td>311.154213</td>\n",
       "      <td>16.080842</td>\n",
       "      <td>248.0</td>\n",
       "      <td>400.0</td>\n",
       "      <td>258.593477</td>\n",
       "    </tr>\n",
       "    <tr>\n",
       "      <th>4</th>\n",
       "      <td>1</td>\n",
       "      <td>Comercio</td>\n",
       "      <td>51</td>\n",
       "      <td>100</td>\n",
       "      <td>14</td>\n",
       "      <td>980.811338</td>\n",
       "      <td>52.485221</td>\n",
       "      <td>714.0</td>\n",
       "      <td>1400.0</td>\n",
       "      <td>2754.698454</td>\n",
       "    </tr>\n",
       "  </tbody>\n",
       "</table>\n",
       "</div>"
      ],
      "text/plain": [
       "   ZONA    sector  lower  upper     h            E        STD     min     max  \\\n",
       "0     1  Comercio      0      5  1601  4803.000000  56.586217  1601.0  8005.0   \n",
       "1     1  Comercio      6     10   229  1714.704645  21.297945  1374.0  2290.0   \n",
       "2     1  Comercio     11     30    74  1272.329890  46.394458   814.0  2220.0   \n",
       "3     1  Comercio     31     50     8   311.154213  16.080842   248.0   400.0   \n",
       "4     1  Comercio     51    100    14   980.811338  52.485221   714.0  1400.0   \n",
       "\n",
       "           VAR  \n",
       "0  3202.000000  \n",
       "1   453.602477  \n",
       "2  2152.445698  \n",
       "3   258.593477  \n",
       "4  2754.698454  "
      ]
     },
     "execution_count": 450,
     "metadata": {},
     "output_type": "execute_result"
    }
   ],
   "source": [
    "formal_jobs.head()"
   ]
  },
  {
   "cell_type": "code",
   "execution_count": 452,
   "id": "a732ed35-3e73-442d-8467-b34acbf11655",
   "metadata": {},
   "outputs": [],
   "source": [
    "formal_jobs_agg = formal_jobs.groupby(['ZONA', 'sector'])[['h', 'E', 'min', 'max', 'VAR']].sum().reset_index()"
   ]
  },
  {
   "cell_type": "code",
   "execution_count": 454,
   "id": "061fed5b-6927-4ef3-a5cb-4fcccf150cf3",
   "metadata": {},
   "outputs": [],
   "source": [
    "formal_jobs_agg['STD'] = np.sqrt(formal_jobs.VAR)"
   ]
  },
  {
   "cell_type": "code",
   "execution_count": 456,
   "id": "ed7175b1-47b8-4c3c-8958-4bc5a5135df0",
   "metadata": {},
   "outputs": [],
   "source": [
    "formal_jobs_agg.to_csv('../output/denue_by_taz_estimated.csv', index=False)"
   ]
  },
  {
   "cell_type": "code",
   "execution_count": 472,
   "id": "60797c80-070a-4e2a-9e3b-be6f02d6fb5b",
   "metadata": {},
   "outputs": [
    {
     "data": {
      "text/plain": [
       "sector\n",
       "Agricultura y ganadería         0.015341\n",
       "Comercio                       24.829872\n",
       "Construcción                    2.755845\n",
       "Gobierno                        3.531437\n",
       "Industria manufacturera        22.481255\n",
       "Minería                         0.027626\n",
       "Otro                            0.909130\n",
       "Servicios                      41.053431\n",
       "Transporte y comunicaciones     4.396062\n",
       "Name: E, dtype: float64"
      ]
     },
     "execution_count": 472,
     "metadata": {},
     "output_type": "execute_result"
    }
   ],
   "source": [
    "formal_jobs_agg.groupby('sector').E.sum()/formal_jobs_agg.groupby('sector').E.sum().sum()*100"
   ]
  },
  {
   "cell_type": "code",
   "execution_count": 460,
   "id": "3d8f0713-d289-429f-86b9-eda1ec22b5a9",
   "metadata": {},
   "outputs": [],
   "source": [
    "# Comprar con la dsitribución de la ENOE"
   ]
  },
  {
   "cell_type": "code",
   "execution_count": 473,
   "id": "838245db-cdf9-47e8-801e-f19d08394c1e",
   "metadata": {},
   "outputs": [
    {
     "data": {
      "text/plain": [
       "sector\n",
       "Agricultura y ganadería         2.707830\n",
       "Comercio                       17.954467\n",
       "Construcción                    7.916523\n",
       "Gobierno                        2.880304\n",
       "Industria manufacturera        23.094170\n",
       "Minería                         0.103484\n",
       "Otro                            1.535012\n",
       "Servicios                      37.219731\n",
       "Transporte y comunicaciones     6.588479\n",
       "dtype: float64"
      ]
     },
     "execution_count": 473,
     "metadata": {},
     "output_type": "execute_result"
    }
   ],
   "source": [
    "enoe.groupby('sector').size()/len(enoe)*100"
   ]
  },
  {
   "cell_type": "code",
   "execution_count": 477,
   "id": "d7fcbde0-7878-46da-927a-1c79b15ee9f3",
   "metadata": {},
   "outputs": [
    {
     "data": {
      "text/plain": [
       "sector\n",
       "Agricultura y ganadería         0.939486\n",
       "Comercio                       15.473888\n",
       "Construcción                    4.752694\n",
       "Gobierno                        3.619784\n",
       "Industria manufacturera        32.467532\n",
       "Minería                         0.165792\n",
       "Otro                            2.017132\n",
       "Servicios                      33.683338\n",
       "Transporte y comunicaciones     6.880354\n",
       "dtype: float64"
      ]
     },
     "execution_count": 477,
     "metadata": {},
     "output_type": "execute_result"
    }
   ],
   "source": [
    "enoe.query(\"informal==0\").groupby('sector').size()/len(enoe.query(\"informal==0\"))*100"
   ]
  },
  {
   "cell_type": "code",
   "execution_count": 476,
   "id": "62ecb73d-42bc-41c6-850c-043a3006276b",
   "metadata": {},
   "outputs": [
    {
     "data": {
      "text/html": [
       "<div>\n",
       "<style scoped>\n",
       "    .dataframe tbody tr th:only-of-type {\n",
       "        vertical-align: middle;\n",
       "    }\n",
       "\n",
       "    .dataframe tbody tr th {\n",
       "        vertical-align: top;\n",
       "    }\n",
       "\n",
       "    .dataframe thead th {\n",
       "        text-align: right;\n",
       "    }\n",
       "</style>\n",
       "<table border=\"1\" class=\"dataframe\">\n",
       "  <thead>\n",
       "    <tr style=\"text-align: right;\">\n",
       "      <th></th>\n",
       "      <th>SCIAN</th>\n",
       "      <th>MUN</th>\n",
       "      <th>genero</th>\n",
       "      <th>ocupacion</th>\n",
       "      <th>edad_num</th>\n",
       "      <th>edad_cat</th>\n",
       "      <th>sector</th>\n",
       "      <th>escolaridad</th>\n",
       "      <th>informal</th>\n",
       "      <th>municipio</th>\n",
       "    </tr>\n",
       "  </thead>\n",
       "  <tbody>\n",
       "    <tr>\n",
       "      <th>0</th>\n",
       "      <td>19</td>\n",
       "      <td>6</td>\n",
       "      <td>F</td>\n",
       "      <td>independiente</td>\n",
       "      <td>28</td>\n",
       "      <td>[25, 50)</td>\n",
       "      <td>Servicios</td>\n",
       "      <td>Primaria o Secundaria</td>\n",
       "      <td>1</td>\n",
       "      <td>apodaca</td>\n",
       "    </tr>\n",
       "    <tr>\n",
       "      <th>1</th>\n",
       "      <td>4</td>\n",
       "      <td>6</td>\n",
       "      <td>H</td>\n",
       "      <td>independiente</td>\n",
       "      <td>32</td>\n",
       "      <td>[25, 50)</td>\n",
       "      <td>Construcción</td>\n",
       "      <td>Primaria o Secundaria</td>\n",
       "      <td>1</td>\n",
       "      <td>apodaca</td>\n",
       "    </tr>\n",
       "    <tr>\n",
       "      <th>2</th>\n",
       "      <td>5</td>\n",
       "      <td>6</td>\n",
       "      <td>F</td>\n",
       "      <td>trabajador</td>\n",
       "      <td>25</td>\n",
       "      <td>[25, 50)</td>\n",
       "      <td>Industria manufacturera</td>\n",
       "      <td>Carrera técnica o preparatoria</td>\n",
       "      <td>0</td>\n",
       "      <td>apodaca</td>\n",
       "    </tr>\n",
       "    <tr>\n",
       "      <th>3</th>\n",
       "      <td>5</td>\n",
       "      <td>6</td>\n",
       "      <td>F</td>\n",
       "      <td>trabajador</td>\n",
       "      <td>33</td>\n",
       "      <td>[25, 50)</td>\n",
       "      <td>Industria manufacturera</td>\n",
       "      <td>Carrera técnica o preparatoria</td>\n",
       "      <td>1</td>\n",
       "      <td>apodaca</td>\n",
       "    </tr>\n",
       "    <tr>\n",
       "      <th>4</th>\n",
       "      <td>5</td>\n",
       "      <td>6</td>\n",
       "      <td>F</td>\n",
       "      <td>trabajador</td>\n",
       "      <td>52</td>\n",
       "      <td>[50, 60)</td>\n",
       "      <td>Industria manufacturera</td>\n",
       "      <td>Carrera técnica o preparatoria</td>\n",
       "      <td>0</td>\n",
       "      <td>apodaca</td>\n",
       "    </tr>\n",
       "    <tr>\n",
       "      <th>...</th>\n",
       "      <td>...</td>\n",
       "      <td>...</td>\n",
       "      <td>...</td>\n",
       "      <td>...</td>\n",
       "      <td>...</td>\n",
       "      <td>...</td>\n",
       "      <td>...</td>\n",
       "      <td>...</td>\n",
       "      <td>...</td>\n",
       "      <td>...</td>\n",
       "    </tr>\n",
       "    <tr>\n",
       "      <th>5793</th>\n",
       "      <td>1</td>\n",
       "      <td>9</td>\n",
       "      <td>H</td>\n",
       "      <td>trabajador</td>\n",
       "      <td>64</td>\n",
       "      <td>[60, 65)</td>\n",
       "      <td>Agricultura y ganadería</td>\n",
       "      <td>Primaria o Secundaria</td>\n",
       "      <td>1</td>\n",
       "      <td>cadereyta</td>\n",
       "    </tr>\n",
       "    <tr>\n",
       "      <th>5794</th>\n",
       "      <td>19</td>\n",
       "      <td>9</td>\n",
       "      <td>F</td>\n",
       "      <td>trabajador</td>\n",
       "      <td>56</td>\n",
       "      <td>[50, 60)</td>\n",
       "      <td>Servicios</td>\n",
       "      <td>Primaria o Secundaria</td>\n",
       "      <td>1</td>\n",
       "      <td>cadereyta</td>\n",
       "    </tr>\n",
       "    <tr>\n",
       "      <th>5795</th>\n",
       "      <td>19</td>\n",
       "      <td>9</td>\n",
       "      <td>H</td>\n",
       "      <td>trabajador</td>\n",
       "      <td>56</td>\n",
       "      <td>[50, 60)</td>\n",
       "      <td>Servicios</td>\n",
       "      <td>Primaria o Secundaria</td>\n",
       "      <td>0</td>\n",
       "      <td>cadereyta</td>\n",
       "    </tr>\n",
       "    <tr>\n",
       "      <th>5796</th>\n",
       "      <td>4</td>\n",
       "      <td>9</td>\n",
       "      <td>H</td>\n",
       "      <td>trabajador</td>\n",
       "      <td>50</td>\n",
       "      <td>[50, 60)</td>\n",
       "      <td>Construcción</td>\n",
       "      <td>Primaria o Secundaria</td>\n",
       "      <td>1</td>\n",
       "      <td>cadereyta</td>\n",
       "    </tr>\n",
       "    <tr>\n",
       "      <th>5797</th>\n",
       "      <td>1</td>\n",
       "      <td>9</td>\n",
       "      <td>H</td>\n",
       "      <td>independiente</td>\n",
       "      <td>76</td>\n",
       "      <td>[65, 131)</td>\n",
       "      <td>Agricultura y ganadería</td>\n",
       "      <td>Sin Instrucción</td>\n",
       "      <td>1</td>\n",
       "      <td>cadereyta</td>\n",
       "    </tr>\n",
       "  </tbody>\n",
       "</table>\n",
       "<p>5798 rows × 10 columns</p>\n",
       "</div>"
      ],
      "text/plain": [
       "      SCIAN  MUN genero      ocupacion  edad_num   edad_cat  \\\n",
       "0        19    6      F  independiente        28   [25, 50)   \n",
       "1         4    6      H  independiente        32   [25, 50)   \n",
       "2         5    6      F     trabajador        25   [25, 50)   \n",
       "3         5    6      F     trabajador        33   [25, 50)   \n",
       "4         5    6      F     trabajador        52   [50, 60)   \n",
       "...     ...  ...    ...            ...       ...        ...   \n",
       "5793      1    9      H     trabajador        64   [60, 65)   \n",
       "5794     19    9      F     trabajador        56   [50, 60)   \n",
       "5795     19    9      H     trabajador        56   [50, 60)   \n",
       "5796      4    9      H     trabajador        50   [50, 60)   \n",
       "5797      1    9      H  independiente        76  [65, 131)   \n",
       "\n",
       "                       sector                     escolaridad  informal  \\\n",
       "0                   Servicios           Primaria o Secundaria         1   \n",
       "1                Construcción           Primaria o Secundaria         1   \n",
       "2     Industria manufacturera  Carrera técnica o preparatoria         0   \n",
       "3     Industria manufacturera  Carrera técnica o preparatoria         1   \n",
       "4     Industria manufacturera  Carrera técnica o preparatoria         0   \n",
       "...                       ...                             ...       ...   \n",
       "5793  Agricultura y ganadería           Primaria o Secundaria         1   \n",
       "5794                Servicios           Primaria o Secundaria         1   \n",
       "5795                Servicios           Primaria o Secundaria         0   \n",
       "5796             Construcción           Primaria o Secundaria         1   \n",
       "5797  Agricultura y ganadería                 Sin Instrucción         1   \n",
       "\n",
       "      municipio  \n",
       "0       apodaca  \n",
       "1       apodaca  \n",
       "2       apodaca  \n",
       "3       apodaca  \n",
       "4       apodaca  \n",
       "...         ...  \n",
       "5793  cadereyta  \n",
       "5794  cadereyta  \n",
       "5795  cadereyta  \n",
       "5796  cadereyta  \n",
       "5797  cadereyta  \n",
       "\n",
       "[5798 rows x 10 columns]"
      ]
     },
     "execution_count": 476,
     "metadata": {},
     "output_type": "execute_result"
    }
   ],
   "source": [
    "enoe"
   ]
  },
  {
   "cell_type": "code",
   "execution_count": null,
   "id": "ccc87a88-58af-4c62-96f8-a9c93c654b8c",
   "metadata": {},
   "outputs": [],
   "source": []
  }
 ],
 "metadata": {
  "kernelspec": {
   "display_name": "Python 3 (ipykernel)",
   "language": "python",
   "name": "python3"
  },
  "language_info": {
   "codemirror_mode": {
    "name": "ipython",
    "version": 3
   },
   "file_extension": ".py",
   "mimetype": "text/x-python",
   "name": "python",
   "nbconvert_exporter": "python",
   "pygments_lexer": "ipython3",
   "version": "3.11.11"
  }
 },
 "nbformat": 4,
 "nbformat_minor": 5
}
