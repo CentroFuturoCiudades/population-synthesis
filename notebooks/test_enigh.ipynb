{
 "cells": [
  {
   "cell_type": "code",
   "execution_count": 5,
   "metadata": {},
   "outputs": [
    {
     "name": "stdout",
     "output_type": "stream",
     "text": [
      "Archive:  ../data/ENIGH/2018/enigh.zip\n",
      "  inflating: ../data/ENIGH/2018/agro.csv  \n",
      "  inflating: ../data/ENIGH/2018/__MACOSX/._agro.csv  \n",
      "  inflating: ../data/ENIGH/2018/concentradohogar.csv  \n",
      "  inflating: ../data/ENIGH/2018/erogaciones.csv  \n",
      "  inflating: ../data/ENIGH/2018/__MACOSX/._erogaciones.csv  \n",
      "  inflating: ../data/ENIGH/2018/gastoshogar.csv  \n",
      "  inflating: ../data/ENIGH/2018/__MACOSX/._gastoshogar.csv  \n",
      "  inflating: ../data/ENIGH/2018/gastospersona.csv  \n",
      "  inflating: ../data/ENIGH/2018/__MACOSX/._gastospersona.csv  \n",
      "  inflating: ../data/ENIGH/2018/gastotarjetas.csv  \n",
      "  inflating: ../data/ENIGH/2018/__MACOSX/._gastotarjetas.csv  \n",
      "  inflating: ../data/ENIGH/2018/hogares.csv  \n",
      "  inflating: ../data/ENIGH/2018/__MACOSX/._hogares.csv  \n",
      "  inflating: ../data/ENIGH/2018/ingresos.csv  \n",
      "  inflating: ../data/ENIGH/2018/__MACOSX/._ingresos.csv  \n",
      "  inflating: ../data/ENIGH/2018/noagro.csv  \n",
      "  inflating: ../data/ENIGH/2018/__MACOSX/._noagro.csv  \n",
      "  inflating: ../data/ENIGH/2018/poblacion.csv  \n",
      "  inflating: ../data/ENIGH/2018/__MACOSX/._poblacion.csv  \n",
      "  inflating: ../data/ENIGH/2018/trabajos.csv  \n",
      "  inflating: ../data/ENIGH/2018/__MACOSX/._trabajos.csv  \n",
      "  inflating: ../data/ENIGH/2018/viviendas.csv  \n"
     ]
    }
   ],
   "source": [
    "! unzip ../data/ENIGH/2018/enigh.zip -d ../data/ENIGH/2018/"
   ]
  },
  {
   "cell_type": "code",
   "execution_count": 6,
   "metadata": {},
   "outputs": [
    {
     "name": "stderr",
     "output_type": "stream",
     "text": [
      "/Users/l03542515/Documents/population-synthesis/src/enigh.py:42: DtypeWarning: Columns (6,15,16,17,18,19) have mixed types. Specify dtype option on import or set low_memory=False.\n",
      "  df = pd.read_csv(k)\n",
      "/Users/l03542515/Documents/population-synthesis/src/enigh.py:63: RuntimeWarning: All-NaN slice encountered\n",
      "  digs = len(str(int(np.nanmax(pd.to_numeric(column_values, errors='coerce')))))\n",
      "/Users/l03542515/Documents/population-synthesis/src/enigh.py:63: RuntimeWarning: All-NaN slice encountered\n",
      "  digs = len(str(int(np.nanmax(pd.to_numeric(column_values, errors='coerce')))))\n",
      "/Users/l03542515/Documents/population-synthesis/src/enigh.py:42: DtypeWarning: Columns (10,80,81,162) have mixed types. Specify dtype option on import or set low_memory=False.\n",
      "  df = pd.read_csv(k)\n",
      "/Users/l03542515/Documents/population-synthesis/src/enigh.py:63: RuntimeWarning: All-NaN slice encountered\n",
      "  digs = len(str(int(np.nanmax(pd.to_numeric(column_values, errors='coerce')))))\n",
      "/Users/l03542515/Documents/population-synthesis/src/enigh.py:42: DtypeWarning: Columns (4,5,6,7,8,10,11,12,13,14,15) have mixed types. Specify dtype option on import or set low_memory=False.\n",
      "  df = pd.read_csv(k)\n",
      "/Users/l03542515/Documents/population-synthesis/src/enigh.py:63: RuntimeWarning: All-NaN slice encountered\n",
      "  digs = len(str(int(np.nanmax(pd.to_numeric(column_values, errors='coerce')))))\n",
      "/Users/l03542515/Documents/population-synthesis/src/enigh.py:63: RuntimeWarning: All-NaN slice encountered\n",
      "  digs = len(str(int(np.nanmax(pd.to_numeric(column_values, errors='coerce')))))\n",
      "/Users/l03542515/Documents/population-synthesis/src/enigh.py:42: DtypeWarning: Columns (13,14,16,20,21,22,23,24,25) have mixed types. Specify dtype option on import or set low_memory=False.\n",
      "  df = pd.read_csv(k)\n",
      "/Users/l03542515/Documents/population-synthesis/src/enigh.py:63: RuntimeWarning: All-NaN slice encountered\n",
      "  digs = len(str(int(np.nanmax(pd.to_numeric(column_values, errors='coerce')))))\n",
      "/Users/l03542515/Documents/population-synthesis/src/enigh.py:42: DtypeWarning: Columns (57,63,71,77,79,81,83,87) have mixed types. Specify dtype option on import or set low_memory=False.\n",
      "  df = pd.read_csv(k)\n",
      "/Users/l03542515/Documents/population-synthesis/src/enigh.py:42: DtypeWarning: Columns (4,24) have mixed types. Specify dtype option on import or set low_memory=False.\n",
      "  df = pd.read_csv(k)\n",
      "/Users/l03542515/Documents/population-synthesis/src/enigh.py:63: RuntimeWarning: All-NaN slice encountered\n",
      "  digs = len(str(int(np.nanmax(pd.to_numeric(column_values, errors='coerce')))))\n"
     ]
    }
   ],
   "source": [
    "from enigh import Enigh\n",
    "\n",
    "enigh = Enigh()\n",
    "enigh.tansformData()"
   ]
  }
 ],
 "metadata": {
  "kernelspec": {
   "display_name": "Python 3",
   "language": "python",
   "name": "python3"
  },
  "language_info": {
   "codemirror_mode": {
    "name": "ipython",
    "version": 3
   },
   "file_extension": ".py",
   "mimetype": "text/x-python",
   "name": "python",
   "nbconvert_exporter": "python",
   "pygments_lexer": "ipython3",
   "version": "3.9.13"
  }
 },
 "nbformat": 4,
 "nbformat_minor": 2
}
